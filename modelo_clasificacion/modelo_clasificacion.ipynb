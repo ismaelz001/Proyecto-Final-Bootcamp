{
 "cells": [
  {
   "cell_type": "markdown",
   "metadata": {},
   "source": [
    "# 🚀 Modelo de Clasificación – Sprint II\n",
    "\n",
    "En esta fase del proyecto, desarrollamos un modelo de clasificación cuyo objetivo es **predecir el grupo (cluster) al que pertenece cada portátil** según sus características técnicas y la percepción de los clientes.\n",
    "\n",
    "Esto permitirá identificar a qué segmento pertenece un nuevo portátil y entender mejor su posición dentro del mercado.\n",
    "\n",
    "---\n",
    "\n",
    "## ✅ Pasos realizados:\n",
    "\n",
    "### 1️⃣ Importación de librerías y carga de datos\n",
    "Se cargó el dataset final que incluye la columna `cluster` generada en la fase de clustering.\n",
    "\n",
    "### 2️⃣ Definición de variables\n",
    "Seleccionamos como variables predictoras (`X`) las siguientes características clave:\n",
    "- `precio` 💰\n",
    "- `opiniones` 🗣️\n",
    "- `rating` ⭐\n",
    "- `Processor Cores` 🧠\n",
    "- `Processor Speed` ⚡\n",
    "- `RAM Gbs` 💾\n",
    "- `Storage Gbs` 💽\n",
    "- `marca_encoded` 🏷️\n",
    "\n",
    "La variable objetivo (`y`) es:\n",
    "- `cluster` (grupo al que pertenece el portátil).\n",
    "\n",
    "### 3️⃣ División en entrenamiento y test\n",
    "Dividimos el dataset en un **80% entrenamiento** y **20% test**, para evaluar el rendimiento del modelo.\n",
    "\n",
    "### 4️⃣ Escalado de datos\n",
    "Utilizamos `StandardScaler` para normalizar las variables numéricas y evitar sesgos por diferentes escalas.\n",
    "\n",
    "### 5️⃣ Entrenamiento del modelo\n",
    "Entrenamos un **RandomForestClassifier**, por su buen rendimiento con datasets de características mixtas y sin necesidad de un gran ajuste de parámetros.\n",
    "\n",
    "### 6️⃣ Evaluación\n",
    "Analizamos la calidad del modelo mediante:\n",
    "- **Reporte de clasificación**.\n",
    "- **Matriz de confusión**.\n",
    "\n",
    "### 7️⃣ Guardado del modelo y el escalador\n",
    "Exportamos el modelo entrenado y el escalador con `pickle` para integrarlos fácilmente en la app de Streamlit y en producción.\n",
    "\n",
    "---\n",
    "\n",
    "## 🏆 Resultado esperado:\n",
    "- Tener un modelo capaz de predecir a qué cluster pertenece cualquier portátil nuevo.\n",
    "- Utilizar este modelo para mejorar las recomendaciones y segmentación dentro del proyecto.\n",
    "\n"
   ]
  },
  {
   "cell_type": "code",
   "execution_count": 2,
   "metadata": {},
   "outputs": [],
   "source": [
    "# 📌 Importar librerías necesarias\n",
    "import pandas as pd\n",
    "import numpy as np\n",
    "from sklearn.model_selection import train_test_split\n",
    "from sklearn.preprocessing import StandardScaler\n",
    "from sklearn.ensemble import RandomForestClassifier\n",
    "from sklearn.metrics import classification_report, confusion_matrix\n",
    "import pickle\n"
   ]
  },
  {
   "cell_type": "code",
   "execution_count": 3,
   "metadata": {},
   "outputs": [
    {
     "data": {
      "text/html": [
       "<div>\n",
       "<style scoped>\n",
       "    .dataframe tbody tr th:only-of-type {\n",
       "        vertical-align: middle;\n",
       "    }\n",
       "\n",
       "    .dataframe tbody tr th {\n",
       "        vertical-align: top;\n",
       "    }\n",
       "\n",
       "    .dataframe thead th {\n",
       "        text-align: right;\n",
       "    }\n",
       "</style>\n",
       "<table border=\"1\" class=\"dataframe\">\n",
       "  <thead>\n",
       "    <tr style=\"text-align: right;\">\n",
       "      <th></th>\n",
       "      <th>producto_id</th>\n",
       "      <th>precio</th>\n",
       "      <th>opiniones</th>\n",
       "      <th>rating</th>\n",
       "      <th>Processor Cores</th>\n",
       "      <th>Processor Speed</th>\n",
       "      <th>RAM Gbs</th>\n",
       "      <th>Storage Gbs</th>\n",
       "      <th>marca</th>\n",
       "      <th>marca_encoded</th>\n",
       "      <th>cluster</th>\n",
       "    </tr>\n",
       "  </thead>\n",
       "  <tbody>\n",
       "    <tr>\n",
       "      <th>0</th>\n",
       "      <td>2</td>\n",
       "      <td>728.79</td>\n",
       "      <td>271</td>\n",
       "      <td>3.800000</td>\n",
       "      <td>8.0</td>\n",
       "      <td>2.6</td>\n",
       "      <td>16.0</td>\n",
       "      <td>512.0</td>\n",
       "      <td>Acer</td>\n",
       "      <td>1</td>\n",
       "      <td>0</td>\n",
       "    </tr>\n",
       "    <tr>\n",
       "      <th>1</th>\n",
       "      <td>3</td>\n",
       "      <td>912.04</td>\n",
       "      <td>7386</td>\n",
       "      <td>4.700000</td>\n",
       "      <td>10.0</td>\n",
       "      <td>4.7</td>\n",
       "      <td>16.0</td>\n",
       "      <td>512.0</td>\n",
       "      <td>Acer</td>\n",
       "      <td>1</td>\n",
       "      <td>2</td>\n",
       "    </tr>\n",
       "    <tr>\n",
       "      <th>2</th>\n",
       "      <td>4</td>\n",
       "      <td>769.60</td>\n",
       "      <td>271</td>\n",
       "      <td>3.800000</td>\n",
       "      <td>16.0</td>\n",
       "      <td>3.0</td>\n",
       "      <td>64.0</td>\n",
       "      <td>512.0</td>\n",
       "      <td>Acer</td>\n",
       "      <td>1</td>\n",
       "      <td>1</td>\n",
       "    </tr>\n",
       "    <tr>\n",
       "      <th>3</th>\n",
       "      <td>6</td>\n",
       "      <td>885.38</td>\n",
       "      <td>10350</td>\n",
       "      <td>4.400000</td>\n",
       "      <td>10.0</td>\n",
       "      <td>5.0</td>\n",
       "      <td>16.0</td>\n",
       "      <td>512.0</td>\n",
       "      <td>Acer</td>\n",
       "      <td>1</td>\n",
       "      <td>2</td>\n",
       "    </tr>\n",
       "    <tr>\n",
       "      <th>4</th>\n",
       "      <td>7</td>\n",
       "      <td>1039.00</td>\n",
       "      <td>0</td>\n",
       "      <td>4.362676</td>\n",
       "      <td>10.0</td>\n",
       "      <td>5.0</td>\n",
       "      <td>16.0</td>\n",
       "      <td>512.0</td>\n",
       "      <td>Acer</td>\n",
       "      <td>1</td>\n",
       "      <td>1</td>\n",
       "    </tr>\n",
       "  </tbody>\n",
       "</table>\n",
       "</div>"
      ],
      "text/plain": [
       "   producto_id   precio  opiniones    rating  Processor Cores  \\\n",
       "0            2   728.79        271  3.800000              8.0   \n",
       "1            3   912.04       7386  4.700000             10.0   \n",
       "2            4   769.60        271  3.800000             16.0   \n",
       "3            6   885.38      10350  4.400000             10.0   \n",
       "4            7  1039.00          0  4.362676             10.0   \n",
       "\n",
       "   Processor Speed  RAM Gbs  Storage Gbs marca  marca_encoded  cluster  \n",
       "0              2.6     16.0        512.0  Acer              1        0  \n",
       "1              4.7     16.0        512.0  Acer              1        2  \n",
       "2              3.0     64.0        512.0  Acer              1        1  \n",
       "3              5.0     16.0        512.0  Acer              1        2  \n",
       "4              5.0     16.0        512.0  Acer              1        1  "
      ]
     },
     "execution_count": 3,
     "metadata": {},
     "output_type": "execute_result"
    }
   ],
   "source": [
    "# 📌 Cargar el dataset final con los clusters ya añadidos\n",
    "df = pd.read_csv(\"../data/portatiles_clustering_final.csv\")\n",
    "\n",
    "# Verificamos que esté todo correcto\n",
    "df.head()\n"
   ]
  },
  {
   "cell_type": "code",
   "execution_count": 4,
   "metadata": {},
   "outputs": [],
   "source": [
    "# 📌 Variables predictoras\n",
    "X = df[[\n",
    "    \"precio\",\n",
    "    \"opiniones\",\n",
    "    \"rating\",\n",
    "    \"Processor Cores\",\n",
    "    \"Processor Speed\",\n",
    "    \"RAM Gbs\",\n",
    "    \"Storage Gbs\",\n",
    "    \"marca_encoded\"\n",
    "]]\n",
    "\n",
    "# 📌 Variable objetivo\n",
    "y = df[\"cluster\"]\n"
   ]
  },
  {
   "cell_type": "code",
   "execution_count": 5,
   "metadata": {},
   "outputs": [],
   "source": [
    "# Dividimos en entrenamiento y prueba\n",
    "X_train, X_test, y_train, y_test = train_test_split(X, y, test_size=0.2, random_state=42)\n",
    "\n",
    "# Escalamos los datos\n",
    "scaler = StandardScaler()\n",
    "X_train_scaled = scaler.fit_transform(X_train)\n",
    "X_test_scaled = scaler.transform(X_test)\n"
   ]
  },
  {
   "cell_type": "code",
   "execution_count": 6,
   "metadata": {},
   "outputs": [
    {
     "data": {
      "text/html": [
       "<style>#sk-container-id-1 {color: black;background-color: white;}#sk-container-id-1 pre{padding: 0;}#sk-container-id-1 div.sk-toggleable {background-color: white;}#sk-container-id-1 label.sk-toggleable__label {cursor: pointer;display: block;width: 100%;margin-bottom: 0;padding: 0.3em;box-sizing: border-box;text-align: center;}#sk-container-id-1 label.sk-toggleable__label-arrow:before {content: \"▸\";float: left;margin-right: 0.25em;color: #696969;}#sk-container-id-1 label.sk-toggleable__label-arrow:hover:before {color: black;}#sk-container-id-1 div.sk-estimator:hover label.sk-toggleable__label-arrow:before {color: black;}#sk-container-id-1 div.sk-toggleable__content {max-height: 0;max-width: 0;overflow: hidden;text-align: left;background-color: #f0f8ff;}#sk-container-id-1 div.sk-toggleable__content pre {margin: 0.2em;color: black;border-radius: 0.25em;background-color: #f0f8ff;}#sk-container-id-1 input.sk-toggleable__control:checked~div.sk-toggleable__content {max-height: 200px;max-width: 100%;overflow: auto;}#sk-container-id-1 input.sk-toggleable__control:checked~label.sk-toggleable__label-arrow:before {content: \"▾\";}#sk-container-id-1 div.sk-estimator input.sk-toggleable__control:checked~label.sk-toggleable__label {background-color: #d4ebff;}#sk-container-id-1 div.sk-label input.sk-toggleable__control:checked~label.sk-toggleable__label {background-color: #d4ebff;}#sk-container-id-1 input.sk-hidden--visually {border: 0;clip: rect(1px 1px 1px 1px);clip: rect(1px, 1px, 1px, 1px);height: 1px;margin: -1px;overflow: hidden;padding: 0;position: absolute;width: 1px;}#sk-container-id-1 div.sk-estimator {font-family: monospace;background-color: #f0f8ff;border: 1px dotted black;border-radius: 0.25em;box-sizing: border-box;margin-bottom: 0.5em;}#sk-container-id-1 div.sk-estimator:hover {background-color: #d4ebff;}#sk-container-id-1 div.sk-parallel-item::after {content: \"\";width: 100%;border-bottom: 1px solid gray;flex-grow: 1;}#sk-container-id-1 div.sk-label:hover label.sk-toggleable__label {background-color: #d4ebff;}#sk-container-id-1 div.sk-serial::before {content: \"\";position: absolute;border-left: 1px solid gray;box-sizing: border-box;top: 0;bottom: 0;left: 50%;z-index: 0;}#sk-container-id-1 div.sk-serial {display: flex;flex-direction: column;align-items: center;background-color: white;padding-right: 0.2em;padding-left: 0.2em;position: relative;}#sk-container-id-1 div.sk-item {position: relative;z-index: 1;}#sk-container-id-1 div.sk-parallel {display: flex;align-items: stretch;justify-content: center;background-color: white;position: relative;}#sk-container-id-1 div.sk-item::before, #sk-container-id-1 div.sk-parallel-item::before {content: \"\";position: absolute;border-left: 1px solid gray;box-sizing: border-box;top: 0;bottom: 0;left: 50%;z-index: -1;}#sk-container-id-1 div.sk-parallel-item {display: flex;flex-direction: column;z-index: 1;position: relative;background-color: white;}#sk-container-id-1 div.sk-parallel-item:first-child::after {align-self: flex-end;width: 50%;}#sk-container-id-1 div.sk-parallel-item:last-child::after {align-self: flex-start;width: 50%;}#sk-container-id-1 div.sk-parallel-item:only-child::after {width: 0;}#sk-container-id-1 div.sk-dashed-wrapped {border: 1px dashed gray;margin: 0 0.4em 0.5em 0.4em;box-sizing: border-box;padding-bottom: 0.4em;background-color: white;}#sk-container-id-1 div.sk-label label {font-family: monospace;font-weight: bold;display: inline-block;line-height: 1.2em;}#sk-container-id-1 div.sk-label-container {text-align: center;}#sk-container-id-1 div.sk-container {/* jupyter's `normalize.less` sets `[hidden] { display: none; }` but bootstrap.min.css set `[hidden] { display: none !important; }` so we also need the `!important` here to be able to override the default hidden behavior on the sphinx rendered scikit-learn.org. See: https://github.com/scikit-learn/scikit-learn/issues/21755 */display: inline-block !important;position: relative;}#sk-container-id-1 div.sk-text-repr-fallback {display: none;}</style><div id=\"sk-container-id-1\" class=\"sk-top-container\"><div class=\"sk-text-repr-fallback\"><pre>RandomForestClassifier(random_state=42)</pre><b>In a Jupyter environment, please rerun this cell to show the HTML representation or trust the notebook. <br />On GitHub, the HTML representation is unable to render, please try loading this page with nbviewer.org.</b></div><div class=\"sk-container\" hidden><div class=\"sk-item\"><div class=\"sk-estimator sk-toggleable\"><input class=\"sk-toggleable__control sk-hidden--visually\" id=\"sk-estimator-id-1\" type=\"checkbox\" checked><label for=\"sk-estimator-id-1\" class=\"sk-toggleable__label sk-toggleable__label-arrow\">RandomForestClassifier</label><div class=\"sk-toggleable__content\"><pre>RandomForestClassifier(random_state=42)</pre></div></div></div></div></div>"
      ],
      "text/plain": [
       "RandomForestClassifier(random_state=42)"
      ]
     },
     "execution_count": 6,
     "metadata": {},
     "output_type": "execute_result"
    }
   ],
   "source": [
    "# Creamos y entrenamos el modelo\n",
    "modelo = RandomForestClassifier(n_estimators=100, random_state=42)\n",
    "modelo.fit(X_train_scaled, y_train)\n"
   ]
  },
  {
   "cell_type": "code",
   "execution_count": 7,
   "metadata": {},
   "outputs": [
    {
     "name": "stdout",
     "output_type": "stream",
     "text": [
      "🔍 Classification Report:\n",
      "              precision    recall  f1-score   support\n",
      "\n",
      "           0       0.96      0.99      0.97        74\n",
      "           1       0.94      0.85      0.89        20\n",
      "           2       1.00      1.00      1.00        11\n",
      "\n",
      "    accuracy                           0.96       105\n",
      "   macro avg       0.97      0.95      0.96       105\n",
      "weighted avg       0.96      0.96      0.96       105\n",
      "\n"
     ]
    },
    {
     "name": "stderr",
     "output_type": "stream",
     "text": [
      "d:\\pythonBIGDATA\\Nueva carpeta\\Lib\\site-packages\\IPython\\core\\pylabtools.py:152: UserWarning: Glyph 128313 (\\N{SMALL BLUE DIAMOND}) missing from font(s) DejaVu Sans.\n",
      "  fig.canvas.print_figure(bytes_io, **kw)\n"
     ]
    },
    {
     "data": {
      "image/png": "[encoded data removed]",
      "text/plain": [
       "<Figure size 640x480 with 2 Axes>"
      ]
     },
     "metadata": {},
     "output_type": "display_data"
    }
   ],
   "source": [
    "# Predicciones\n",
    "y_pred = modelo.predict(X_test_scaled)\n",
    "\n",
    "# Reporte de clasificación\n",
    "print(\"🔍 Classification Report:\")\n",
    "print(classification_report(y_test, y_pred))\n",
    "\n",
    "# Matriz de confusión\n",
    "import seaborn as sns\n",
    "import matplotlib.pyplot as plt\n",
    "\n",
    "conf_matrix = confusion_matrix(y_test, y_pred)\n",
    "sns.heatmap(conf_matrix, annot=True, fmt=\"d\", cmap=\"Blues\")\n",
    "plt.title(\"🔹 Matriz de Confusión\")\n",
    "plt.xlabel(\"Predicción\")\n",
    "plt.ylabel(\"Real\")\n",
    "plt.show()\n"
   ]
  },
  {
   "cell_type": "code",
   "execution_count": 9,
   "metadata": {},
   "outputs": [
    {
     "name": "stdout",
     "output_type": "stream",
     "text": [
      "✅ Modelo y escalador guardados correctamente.\n"
     ]
    }
   ],
   "source": [
    "# Guardar modelo\n",
    "with open(\"modelo_clasificacion.pkl\", \"wb\") as f:\n",
    "    pickle.dump(modelo, f)\n",
    "\n",
    "# Guardar escalador\n",
    "with open(\"escalador.pkl\", \"wb\") as f:\n",
    "    pickle.dump(scaler, f)\n",
    "\n",
    "print(\"✅ Modelo y escalador guardados correctamente.\")\n"
   ]
  },
  {
   "cell_type": "code",
   "execution_count": 10,
   "metadata": {},
   "outputs": [
    {
     "name": "stdout",
     "output_type": "stream",
     "text": [
      "RandomForest: 🔹 Accuracy = 0.9619\n",
      "Logistic Regression: 🔹 Accuracy = 1.0000\n",
      "KNN: 🔹 Accuracy = 0.9238\n",
      "Decision Tree: 🔹 Accuracy = 0.9048\n",
      "Gradient Boosting: 🔹 Accuracy = 0.9619\n"
     ]
    }
   ],
   "source": [
    "from sklearn.linear_model import LogisticRegression\n",
    "from sklearn.neighbors import KNeighborsClassifier\n",
    "from sklearn.tree import DecisionTreeClassifier\n",
    "from sklearn.ensemble import GradientBoostingClassifier\n",
    "\n",
    "modelos = {\n",
    "    \"RandomForest\": RandomForestClassifier(n_estimators=100, random_state=42),\n",
    "    \"Logistic Regression\": LogisticRegression(max_iter=1000, random_state=42),\n",
    "    \"KNN\": KNeighborsClassifier(n_neighbors=5),\n",
    "    \"Decision Tree\": DecisionTreeClassifier(random_state=42),\n",
    "    \"Gradient Boosting\": GradientBoostingClassifier(random_state=42)\n",
    "}\n",
    "\n",
    "resultados = {}\n",
    "\n",
    "for nombre, modelo in modelos.items():\n",
    "    modelo.fit(X_train_scaled, y_train)\n",
    "    score = modelo.score(X_test_scaled, y_test)\n",
    "    resultados[nombre] = score\n",
    "    print(f\"{nombre}: 🔹 Accuracy = {score:.4f}\")\n"
   ]
  },
  {
   "cell_type": "markdown",
   "metadata": {},
   "source": [
    "## ✅ Selección del modelo final\n",
    "\n",
    "Tras comparar diferentes algoritmos de clasificación, observamos los siguientes resultados:\n",
    "\n",
    "| Modelo                | Accuracy |\n",
    "|-----------------------|----------|\n",
    "| RandomForest         | 96.19%   |\n",
    "| Logistic Regression  | 100.00%  |\n",
    "| KNN                  | 92.38%   |\n",
    "| Decision Tree        | 90.48%   |\n",
    "| Gradient Boosting    | 96.19%   |\n",
    "\n",
    "### 🧠 Conclusión:\n",
    "Aunque la **Logistic Regression** obtuvo un 100% de precisión, optamos por utilizar **RandomForestClassifier** como modelo final, ya que:\n",
    "- Ofrece una precisión muy alta (96.19%).\n",
    "- Es más robusto frente a sobreajustes.\n",
    "- Maneja mejor datos complejos y no lineales.\n",
    "- Permite interpretar la importancia de las variables fácilmente.\n",
    "\n",
    "Con esta elección, aseguramos un equilibrio entre precisión, estabilidad y fiabilidad del modelo en producción.\n",
    "\n",
    "### ✅ Resultado final:\n",
    "- Modelo: **RandomForestClassifier**\n",
    "- Accuracy: **96.19%**\n"
   ]
  },
  {
   "cell_type": "markdown",
   "metadata": {},
   "source": []
  },
  {
   "cell_type": "code",
   "execution_count": 13,
   "metadata": {},
   "outputs": [
    {
     "name": "stdout",
     "output_type": "stream",
     "text": [
      "🔍 El portátil con ID 811 pertenece al cluster 0.\n"
     ]
    }
   ],
   "source": [
    "import pandas as pd\n",
    "import pickle\n",
    "\n",
    "# 1️⃣ Cargar el modelo y el escalador\n",
    "with open(\"modelo_clasificacion.pkl\", \"rb\") as f:\n",
    "    modelo = pickle.load(f)\n",
    "\n",
    "with open(\"escalador.pkl\", \"rb\") as f:\n",
    "    scaler = pickle.load(f)\n",
    "\n",
    "# 2️⃣ Cargar el dataset completo (el que tiene todos los portátiles)\n",
    "df = pd.read_csv(\"../data/portatiles_clustering_final.csv\")\n",
    "\n",
    "# 3️⃣ Seleccionar el portátil concreto\n",
    "producto_id = 811\n",
    "portatil = df[df[\"producto_id\"] == producto_id]\n",
    "\n",
    "# 4️⃣ Preparamos sus variables como el modelo espera\n",
    "X_portatil = portatil[[\n",
    "    \"precio\",\n",
    "    \"opiniones\",\n",
    "    \"rating\",\n",
    "    \"Processor Cores\",\n",
    "    \"Processor Speed\",\n",
    "    \"RAM Gbs\",\n",
    "    \"Storage Gbs\",\n",
    "    \"marca_encoded\"\n",
    "]]\n",
    "\n",
    "# 5️⃣ Escalar los datos\n",
    "X_portatil_scaled = scaler.transform(X_portatil)\n",
    "\n",
    "# 6️⃣ Predecir el cluster\n",
    "cluster_predicho = modelo.predict(X_portatil_scaled)\n",
    "\n",
    "print(f\"🔍 El portátil con ID {producto_id} pertenece al cluster {cluster_predicho[0]}.\")\n"
   ]
  },
  {
   "cell_type": "markdown",
   "metadata": {},
   "source": [
    "# 🔍 Predicción individual de cluster\n",
    "\n",
    "Para validar nuestro modelo de clasificación, probamos a predecir a qué cluster pertenece un portátil específico del catálogo.\n",
    "\n",
    "### Ejemplo:\n",
    "- **producto_id = 811**\n",
    "- **Cluster predicho: 0**\n",
    "\n",
    "Este flujo es clave para integrarlo posteriormente en la app de Streamlit, donde los usuarios podrán seleccionar uno o varios portátiles y obtener la predicción del grupo al que pertenecen, ayudando así a identificar rápidamente qué productos son los más adecuados para cada perfil de usuario.\n",
    "\n",
    "\n"
   ]
  },
  {
   "cell_type": "markdown",
   "metadata": {},
   "source": []
  }
 ],
 "metadata": {
  "kernelspec": {
   "display_name": "base",
   "language": "python",
   "name": "python3"
  },
  "language_info": {
   "codemirror_mode": {
    "name": "ipython",
    "version": 3
   },
   "file_extension": ".py",
   "mimetype": "text/x-python",
   "name": "python",
   "nbconvert_exporter": "python",
   "pygments_lexer": "ipython3",
   "version": "3.11.7"
  }
 },
 "nbformat": 4,
 "nbformat_minor": 2
}
