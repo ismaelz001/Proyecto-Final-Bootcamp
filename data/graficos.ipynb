{
 "cells": [
  {
   "cell_type": "code",
   "execution_count": 73,
   "metadata": {},
   "outputs": [
    {
     "name": "stdout",
     "output_type": "stream",
     "text": [
      "Requirement already satisfied: nbformat in c:\\users\\luis\\appdata\\local\\programs\\python\\python313\\lib\\site-packages (5.10.4)\n",
      "Requirement already satisfied: fastjsonschema>=2.15 in c:\\users\\luis\\appdata\\local\\programs\\python\\python313\\lib\\site-packages (from nbformat) (2.21.1)\n",
      "Requirement already satisfied: jsonschema>=2.6 in c:\\users\\luis\\appdata\\local\\programs\\python\\python313\\lib\\site-packages (from nbformat) (4.23.0)\n",
      "Requirement already satisfied: jupyter-core!=5.0.*,>=4.12 in c:\\users\\luis\\appdata\\roaming\\python\\python313\\site-packages (from nbformat) (5.7.2)\n",
      "Requirement already satisfied: traitlets>=5.1 in c:\\users\\luis\\appdata\\roaming\\python\\python313\\site-packages (from nbformat) (5.14.3)\n",
      "Requirement already satisfied: attrs>=22.2.0 in c:\\users\\luis\\appdata\\local\\programs\\python\\python313\\lib\\site-packages (from jsonschema>=2.6->nbformat) (25.1.0)\n",
      "Requirement already satisfied: jsonschema-specifications>=2023.03.6 in c:\\users\\luis\\appdata\\local\\programs\\python\\python313\\lib\\site-packages (from jsonschema>=2.6->nbformat) (2024.10.1)\n",
      "Requirement already satisfied: referencing>=0.28.4 in c:\\users\\luis\\appdata\\local\\programs\\python\\python313\\lib\\site-packages (from jsonschema>=2.6->nbformat) (0.36.2)\n",
      "Requirement already satisfied: rpds-py>=0.7.1 in c:\\users\\luis\\appdata\\local\\programs\\python\\python313\\lib\\site-packages (from jsonschema>=2.6->nbformat) (0.22.3)\n",
      "Requirement already satisfied: platformdirs>=2.5 in c:\\users\\luis\\appdata\\local\\programs\\python\\python313\\lib\\site-packages (from jupyter-core!=5.0.*,>=4.12->nbformat) (4.3.6)\n",
      "Requirement already satisfied: pywin32>=300 in c:\\users\\luis\\appdata\\roaming\\python\\python313\\site-packages (from jupyter-core!=5.0.*,>=4.12->nbformat) (308)\n",
      "Note: you may need to restart the kernel to use updated packages.\n"
     ]
    }
   ],
   "source": [
    "\n",
    "pip install nbformat --upgrade"
   ]
  },
  {
   "cell_type": "code",
   "execution_count": 74,
   "metadata": {},
   "outputs": [
    {
     "name": "stdout",
     "output_type": "stream",
     "text": [
      "5.10.4\n"
     ]
    }
   ],
   "source": [
    "import nbformat\n",
    "print(nbformat.__version__)"
   ]
  },
  {
   "cell_type": "code",
   "execution_count": 75,
   "metadata": {},
   "outputs": [],
   "source": [
    "import numpy as np\n",
    "import pandas as pd\n",
    "\n",
    "import plotly\n",
    "import plotly.express as px\n",
    "import plotly.graph_objects as go\n",
    "import seaborn as sns\n",
    "import matplotlib.pyplot as plt"
   ]
  },
  {
   "cell_type": "code",
   "execution_count": 76,
   "metadata": {},
   "outputs": [
    {
     "data": {
      "text/html": [
       "<div>\n",
       "<style scoped>\n",
       "    .dataframe tbody tr th:only-of-type {\n",
       "        vertical-align: middle;\n",
       "    }\n",
       "\n",
       "    .dataframe tbody tr th {\n",
       "        vertical-align: top;\n",
       "    }\n",
       "\n",
       "    .dataframe thead th {\n",
       "        text-align: right;\n",
       "    }\n",
       "</style>\n",
       "<table border=\"1\" class=\"dataframe\">\n",
       "  <thead>\n",
       "    <tr style=\"text-align: right;\">\n",
       "      <th></th>\n",
       "      <th>producto_id</th>\n",
       "      <th>timestamp</th>\n",
       "      <th>nombre</th>\n",
       "      <th>url</th>\n",
       "      <th>precio</th>\n",
       "      <th>precio_tachado</th>\n",
       "      <th>rating</th>\n",
       "      <th>opiniones</th>\n",
       "      <th>categoria</th>\n",
       "    </tr>\n",
       "  </thead>\n",
       "  <tbody>\n",
       "    <tr>\n",
       "      <th>0</th>\n",
       "      <td>1</td>\n",
       "      <td>2025-02-21 17:19:06</td>\n",
       "      <td>Apple MacBook Pro Apple M4 Pro 14 Núcleos/24GB...</td>\n",
       "      <td>https://www.pccomponentes.com/portatil-apple-m...</td>\n",
       "      <td>2688.0</td>\n",
       "      <td>2949.0</td>\n",
       "      <td>4.9</td>\n",
       "      <td>23</td>\n",
       "      <td>Portátiles con inteligencia artificial</td>\n",
       "    </tr>\n",
       "    <tr>\n",
       "      <th>1</th>\n",
       "      <td>2</td>\n",
       "      <td>2025-02-21 17:19:06</td>\n",
       "      <td>Acer Chromebook Plus 514 CB514-3H-R81B AMD Ryz...</td>\n",
       "      <td>https://www.pccomponentes.com/acer-chromebook-...</td>\n",
       "      <td>369.0</td>\n",
       "      <td>499.0</td>\n",
       "      <td>4.6</td>\n",
       "      <td>106</td>\n",
       "      <td>Portátiles con inteligencia artificial</td>\n",
       "    </tr>\n",
       "    <tr>\n",
       "      <th>2</th>\n",
       "      <td>3</td>\n",
       "      <td>2025-02-21 17:19:06</td>\n",
       "      <td>Apple MacBook Air Apple M3 8 Núcleos/16GB/256G...</td>\n",
       "      <td>https://www.pccomponentes.com/portatil-apple-m...</td>\n",
       "      <td>1489.0</td>\n",
       "      <td>1599.0</td>\n",
       "      <td>4.7</td>\n",
       "      <td>3</td>\n",
       "      <td>Portátiles con inteligencia artificial</td>\n",
       "    </tr>\n",
       "    <tr>\n",
       "      <th>3</th>\n",
       "      <td>4</td>\n",
       "      <td>2025-02-21 17:19:06</td>\n",
       "      <td>Apple MacBook Air Apple M3 8 Núcleos/24GB/512G...</td>\n",
       "      <td>https://www.pccomponentes.com/portatil-apple-m...</td>\n",
       "      <td>1599.0</td>\n",
       "      <td>1759.0</td>\n",
       "      <td>4.8</td>\n",
       "      <td>350</td>\n",
       "      <td>Portátiles con inteligencia artificial</td>\n",
       "    </tr>\n",
       "    <tr>\n",
       "      <th>4</th>\n",
       "      <td>5</td>\n",
       "      <td>2025-02-21 17:19:06</td>\n",
       "      <td>Apple MacBook Air Apple M3 8 Núcleos/16GB/256G...</td>\n",
       "      <td>https://www.pccomponentes.com/portatil-apple-m...</td>\n",
       "      <td>1429.0</td>\n",
       "      <td>1599.0</td>\n",
       "      <td>4.5</td>\n",
       "      <td>1</td>\n",
       "      <td>Portátiles con inteligencia artificial</td>\n",
       "    </tr>\n",
       "  </tbody>\n",
       "</table>\n",
       "</div>"
      ],
      "text/plain": [
       "   producto_id            timestamp  \\\n",
       "0            1  2025-02-21 17:19:06   \n",
       "1            2  2025-02-21 17:19:06   \n",
       "2            3  2025-02-21 17:19:06   \n",
       "3            4  2025-02-21 17:19:06   \n",
       "4            5  2025-02-21 17:19:06   \n",
       "\n",
       "                                              nombre  \\\n",
       "0  Apple MacBook Pro Apple M4 Pro 14 Núcleos/24GB...   \n",
       "1  Acer Chromebook Plus 514 CB514-3H-R81B AMD Ryz...   \n",
       "2  Apple MacBook Air Apple M3 8 Núcleos/16GB/256G...   \n",
       "3  Apple MacBook Air Apple M3 8 Núcleos/24GB/512G...   \n",
       "4  Apple MacBook Air Apple M3 8 Núcleos/16GB/256G...   \n",
       "\n",
       "                                                 url  precio  precio_tachado  \\\n",
       "0  https://www.pccomponentes.com/portatil-apple-m...  2688.0          2949.0   \n",
       "1  https://www.pccomponentes.com/acer-chromebook-...   369.0           499.0   \n",
       "2  https://www.pccomponentes.com/portatil-apple-m...  1489.0          1599.0   \n",
       "3  https://www.pccomponentes.com/portatil-apple-m...  1599.0          1759.0   \n",
       "4  https://www.pccomponentes.com/portatil-apple-m...  1429.0          1599.0   \n",
       "\n",
       "   rating  opiniones                               categoria  \n",
       "0     4.9         23  Portátiles con inteligencia artificial  \n",
       "1     4.6        106  Portátiles con inteligencia artificial  \n",
       "2     4.7          3  Portátiles con inteligencia artificial  \n",
       "3     4.8        350  Portátiles con inteligencia artificial  \n",
       "4     4.5          1  Portátiles con inteligencia artificial  "
      ]
     },
     "execution_count": 76,
     "metadata": {},
     "output_type": "execute_result"
    }
   ],
   "source": [
    "#Graficas de los Portatiles\n",
    "df_portatiles = pd.read_csv('productosPortatil-limpio.csv')\n",
    "df_portatiles.head()"
   ]
  },
  {
   "cell_type": "code",
   "execution_count": 77,
   "metadata": {},
   "outputs": [
    {
     "data": {
      "text/plain": [
       "array(['Portátiles con inteligencia artificial', 'Estaciones de energía',\n",
       "       'Altavoces portátiles', 'Lenovo', 'Repuestos', 'Alurin', 'HP',\n",
       "       'Portátiles con Windows', 'ASUS', 'Monitor portátil',\n",
       "       'Cocinas portátiles', 'MSI', 'Portátiles 2 en 1 convertibles',\n",
       "       'Neveras portátiles', 'Portátiles'], dtype=object)"
      ]
     },
     "execution_count": 77,
     "metadata": {},
     "output_type": "execute_result"
    }
   ],
   "source": [
    "df_portatiles['categoria'].unique()"
   ]
  },
  {
   "cell_type": "code",
   "execution_count": 78,
   "metadata": {},
   "outputs": [
    {
     "data": {
      "text/html": [
       "<div>\n",
       "<style scoped>\n",
       "    .dataframe tbody tr th:only-of-type {\n",
       "        vertical-align: middle;\n",
       "    }\n",
       "\n",
       "    .dataframe tbody tr th {\n",
       "        vertical-align: top;\n",
       "    }\n",
       "\n",
       "    .dataframe thead th {\n",
       "        text-align: right;\n",
       "    }\n",
       "</style>\n",
       "<table border=\"1\" class=\"dataframe\">\n",
       "  <thead>\n",
       "    <tr style=\"text-align: right;\">\n",
       "      <th></th>\n",
       "      <th>producto_id</th>\n",
       "      <th>precio</th>\n",
       "      <th>precio_tachado</th>\n",
       "      <th>rating</th>\n",
       "      <th>opiniones</th>\n",
       "    </tr>\n",
       "  </thead>\n",
       "  <tbody>\n",
       "    <tr>\n",
       "      <th>count</th>\n",
       "      <td>494.000000</td>\n",
       "      <td>494.000000</td>\n",
       "      <td>272.000000</td>\n",
       "      <td>382.000000</td>\n",
       "      <td>494.000000</td>\n",
       "    </tr>\n",
       "    <tr>\n",
       "      <th>mean</th>\n",
       "      <td>247.500000</td>\n",
       "      <td>675.205445</td>\n",
       "      <td>914.785772</td>\n",
       "      <td>4.433246</td>\n",
       "      <td>122.107287</td>\n",
       "    </tr>\n",
       "    <tr>\n",
       "      <th>std</th>\n",
       "      <td>142.749781</td>\n",
       "      <td>718.823264</td>\n",
       "      <td>698.909843</td>\n",
       "      <td>0.560436</td>\n",
       "      <td>244.390832</td>\n",
       "    </tr>\n",
       "    <tr>\n",
       "      <th>min</th>\n",
       "      <td>1.000000</td>\n",
       "      <td>2.580000</td>\n",
       "      <td>24.680000</td>\n",
       "      <td>0.500000</td>\n",
       "      <td>0.000000</td>\n",
       "    </tr>\n",
       "    <tr>\n",
       "      <th>25%</th>\n",
       "      <td>124.250000</td>\n",
       "      <td>94.655000</td>\n",
       "      <td>426.497500</td>\n",
       "      <td>4.225000</td>\n",
       "      <td>1.000000</td>\n",
       "    </tr>\n",
       "    <tr>\n",
       "      <th>50%</th>\n",
       "      <td>247.500000</td>\n",
       "      <td>474.495000</td>\n",
       "      <td>759.000000</td>\n",
       "      <td>4.500000</td>\n",
       "      <td>15.500000</td>\n",
       "    </tr>\n",
       "    <tr>\n",
       "      <th>75%</th>\n",
       "      <td>370.750000</td>\n",
       "      <td>999.965000</td>\n",
       "      <td>1303.942500</td>\n",
       "      <td>4.700000</td>\n",
       "      <td>122.000000</td>\n",
       "    </tr>\n",
       "    <tr>\n",
       "      <th>max</th>\n",
       "      <td>494.000000</td>\n",
       "      <td>5198.990000</td>\n",
       "      <td>3849.000000</td>\n",
       "      <td>5.000000</td>\n",
       "      <td>1503.000000</td>\n",
       "    </tr>\n",
       "  </tbody>\n",
       "</table>\n",
       "</div>"
      ],
      "text/plain": [
       "       producto_id       precio  precio_tachado      rating    opiniones\n",
       "count   494.000000   494.000000      272.000000  382.000000   494.000000\n",
       "mean    247.500000   675.205445      914.785772    4.433246   122.107287\n",
       "std     142.749781   718.823264      698.909843    0.560436   244.390832\n",
       "min       1.000000     2.580000       24.680000    0.500000     0.000000\n",
       "25%     124.250000    94.655000      426.497500    4.225000     1.000000\n",
       "50%     247.500000   474.495000      759.000000    4.500000    15.500000\n",
       "75%     370.750000   999.965000     1303.942500    4.700000   122.000000\n",
       "max     494.000000  5198.990000     3849.000000    5.000000  1503.000000"
      ]
     },
     "execution_count": 78,
     "metadata": {},
     "output_type": "execute_result"
    }
   ],
   "source": [
    "df_portatiles.describe()"
   ]
  },
  {
   "cell_type": "code",
   "execution_count": 79,
   "metadata": {},
   "outputs": [
    {
     "name": "stdout",
     "output_type": "stream",
     "text": [
      "<class 'pandas.core.frame.DataFrame'>\n",
      "RangeIndex: 494 entries, 0 to 493\n",
      "Data columns (total 9 columns):\n",
      " #   Column          Non-Null Count  Dtype  \n",
      "---  ------          --------------  -----  \n",
      " 0   producto_id     494 non-null    int64  \n",
      " 1   timestamp       494 non-null    object \n",
      " 2   nombre          494 non-null    object \n",
      " 3   url             494 non-null    object \n",
      " 4   precio          494 non-null    float64\n",
      " 5   precio_tachado  272 non-null    float64\n",
      " 6   rating          382 non-null    float64\n",
      " 7   opiniones       494 non-null    int64  \n",
      " 8   categoria       494 non-null    object \n",
      "dtypes: float64(3), int64(2), object(4)\n",
      "memory usage: 34.9+ KB\n"
     ]
    }
   ],
   "source": [
    "df_portatiles.info()"
   ]
  },
  {
   "cell_type": "code",
   "execution_count": 80,
   "metadata": {},
   "outputs": [],
   "source": [
    "df_portatiles['timestamp'] = pd.to_datetime(df['timestamp'])"
   ]
  },
  {
   "cell_type": "code",
   "execution_count": 81,
   "metadata": {},
   "outputs": [
    {
     "data": {
      "image/png": "[encoded data removed]",
      "text/plain": [
       "<Figure size 640x480 with 2 Axes>"
      ]
     },
     "metadata": {},
     "output_type": "display_data"
    }
   ],
   "source": [
    "df_numerico = df_portatiles.select_dtypes(include=['number'])\n",
    "\n",
    "sns.heatmap(df_numerico.corr(), annot=True, cmap='coolwarm')\n",
    "plt.title('Mapa de Calor de Correlación')\n",
    "plt.show()"
   ]
  },
  {
   "cell_type": "code",
   "execution_count": 82,
   "metadata": {},
   "outputs": [
    {
     "data": {
      "application/vnd.plotly.v1+json": {
       "config": {
        "plotlyServerURL": "https://plot.ly"
       },
       "data": [
        {
         "bingroup": "x",
         "hovertemplate": "precio=%{x}<br>count=%{y}<extra></extra>",
         "legendgroup": "",
         "marker": {
          "color": "#636efa",
          "pattern": {
           "shape": ""
          }
         },
         "name": "",
         "nbinsx": 40,
         "orientation": "v",
         "showlegend": false,
         "type": "histogram",
         "x": {
          "bdata": "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",
          "dtype": "f8"
         },
         "xaxis": "x",
         "yaxis": "y"
        }
       ],
       "layout": {
        "barmode": "relative",
        "legend": {
         "tracegroupgap": 0
        },
        "margin": {
         "t": 60
        },
        "template": {
         "data": {
          "bar": [
           {
            "error_x": {
             "color": "#2a3f5f"
            },
            "error_y": {
             "color": "#2a3f5f"
            },
            "marker": {
             "line": {
              "color": "#E5ECF6",
              "width": 0.5
             },
             "pattern": {
              "fillmode": "overlay",
              "size": 10,
              "solidity": 0.2
             }
            },
            "type": "bar"
           }
          ],
          "barpolar": [
           {
            "marker": {
             "line": {
              "color": "#E5ECF6",
              "width": 0.5
             },
             "pattern": {
              "fillmode": "overlay",
              "size": 10,
              "solidity": 0.2
             }
            },
            "type": "barpolar"
           }
          ],
          "carpet": [
           {
            "aaxis": {
             "endlinecolor": "#2a3f5f",
             "gridcolor": "white",
             "linecolor": "white",
             "minorgridcolor": "white",
             "startlinecolor": "#2a3f5f"
            },
            "baxis": {
             "endlinecolor": "#2a3f5f",
             "gridcolor": "white",
             "linecolor": "white",
             "minorgridcolor": "white",
             "startlinecolor": "#2a3f5f"
            },
            "type": "carpet"
           }
          ],
          "choropleth": [
           {
            "colorbar": {
             "outlinewidth": 0,
             "ticks": ""
            },
            "type": "choropleth"
           }
          ],
          "contour": [
           {
            "colorbar": {
             "outlinewidth": 0,
             "ticks": ""
            },
            "colorscale": [
             [
              0,
              "#0d0887"
             ],
             [
              0.1111111111111111,
              "#46039f"
             ],
             [
              0.2222222222222222,
              "#7201a8"
             ],
             [
              0.3333333333333333,
              "#9c179e"
             ],
             [
              0.4444444444444444,
              "#bd3786"
             ],
             [
              0.5555555555555556,
              "#d8576b"
             ],
             [
              0.6666666666666666,
              "#ed7953"
             ],
             [
              0.7777777777777778,
              "#fb9f3a"
             ],
             [
              0.8888888888888888,
              "#fdca26"
             ],
             [
              1,
              "#f0f921"
             ]
            ],
            "type": "contour"
           }
          ],
          "contourcarpet": [
           {
            "colorbar": {
             "outlinewidth": 0,
             "ticks": ""
            },
            "type": "contourcarpet"
           }
          ],
          "heatmap": [
           {
            "colorbar": {
             "outlinewidth": 0,
             "ticks": ""
            },
            "colorscale": [
             [
              0,
              "#0d0887"
             ],
             [
              0.1111111111111111,
              "#46039f"
             ],
             [
              0.2222222222222222,
              "#7201a8"
             ],
             [
              0.3333333333333333,
              "#9c179e"
             ],
             [
              0.4444444444444444,
              "#bd3786"
             ],
             [
              0.5555555555555556,
              "#d8576b"
             ],
             [
              0.6666666666666666,
              "#ed7953"
             ],
             [
              0.7777777777777778,
              "#fb9f3a"
             ],
             [
              0.8888888888888888,
              "#fdca26"
             ],
             [
              1,
              "#f0f921"
             ]
            ],
            "type": "heatmap"
           }
          ],
          "histogram": [
           {
            "marker": {
             "pattern": {
              "fillmode": "overlay",
              "size": 10,
              "solidity": 0.2
             }
            },
            "type": "histogram"
           }
          ],
          "histogram2d": [
           {
            "colorbar": {
             "outlinewidth": 0,
             "ticks": ""
            },
            "colorscale": [
             [
              0,
              "#0d0887"
             ],
             [
              0.1111111111111111,
              "#46039f"
             ],
             [
              0.2222222222222222,
              "#7201a8"
             ],
             [
              0.3333333333333333,
              "#9c179e"
             ],
             [
              0.4444444444444444,
              "#bd3786"
             ],
             [
              0.5555555555555556,
              "#d8576b"
             ],
             [
              0.6666666666666666,
              "#ed7953"
             ],
             [
              0.7777777777777778,
              "#fb9f3a"
             ],
             [
              0.8888888888888888,
              "#fdca26"
             ],
             [
              1,
              "#f0f921"
             ]
            ],
            "type": "histogram2d"
           }
          ],
          "histogram2dcontour": [
           {
            "colorbar": {
             "outlinewidth": 0,
             "ticks": ""
            },
            "colorscale": [
             [
              0,
              "#0d0887"
             ],
             [
              0.1111111111111111,
              "#46039f"
             ],
             [
              0.2222222222222222,
              "#7201a8"
             ],
             [
              0.3333333333333333,
              "#9c179e"
             ],
             [
              0.4444444444444444,
              "#bd3786"
             ],
             [
              0.5555555555555556,
              "#d8576b"
             ],
             [
              0.6666666666666666,
              "#ed7953"
             ],
             [
              0.7777777777777778,
              "#fb9f3a"
             ],
             [
              0.8888888888888888,
              "#fdca26"
             ],
             [
              1,
              "#f0f921"
             ]
            ],
            "type": "histogram2dcontour"
           }
          ],
          "mesh3d": [
           {
            "colorbar": {
             "outlinewidth": 0,
             "ticks": ""
            },
            "type": "mesh3d"
           }
          ],
          "parcoords": [
           {
            "line": {
             "colorbar": {
              "outlinewidth": 0,
              "ticks": ""
             }
            },
            "type": "parcoords"
           }
          ],
          "pie": [
           {
            "automargin": true,
            "type": "pie"
           }
          ],
          "scatter": [
           {
            "fillpattern": {
             "fillmode": "overlay",
             "size": 10,
             "solidity": 0.2
            },
            "type": "scatter"
           }
          ],
          "scatter3d": [
           {
            "line": {
             "colorbar": {
              "outlinewidth": 0,
              "ticks": ""
             }
            },
            "marker": {
             "colorbar": {
              "outlinewidth": 0,
              "ticks": ""
             }
            },
            "type": "scatter3d"
           }
          ],
          "scattercarpet": [
           {
            "marker": {
             "colorbar": {
              "outlinewidth": 0,
              "ticks": ""
             }
            },
            "type": "scattercarpet"
           }
          ],
          "scattergeo": [
           {
            "marker": {
             "colorbar": {
              "outlinewidth": 0,
              "ticks": ""
             }
            },
            "type": "scattergeo"
           }
          ],
          "scattergl": [
           {
            "marker": {
             "colorbar": {
              "outlinewidth": 0,
              "ticks": ""
             }
            },
            "type": "scattergl"
           }
          ],
          "scattermap": [
           {
            "marker": {
             "colorbar": {
              "outlinewidth": 0,
              "ticks": ""
             }
            },
            "type": "scattermap"
           }
          ],
          "scattermapbox": [
           {
            "marker": {
             "colorbar": {
              "outlinewidth": 0,
              "ticks": ""
             }
            },
            "type": "scattermapbox"
           }
          ],
          "scatterpolar": [
           {
            "marker": {
             "colorbar": {
              "outlinewidth": 0,
              "ticks": ""
             }
            },
            "type": "scatterpolar"
           }
          ],
          "scatterpolargl": [
           {
            "marker": {
             "colorbar": {
              "outlinewidth": 0,
              "ticks": ""
             }
            },
            "type": "scatterpolargl"
           }
          ],
          "scatterternary": [
           {
            "marker": {
             "colorbar": {
              "outlinewidth": 0,
              "ticks": ""
             }
            },
            "type": "scatterternary"
           }
          ],
          "surface": [
           {
            "colorbar": {
             "outlinewidth": 0,
             "ticks": ""
            },
            "colorscale": [
             [
              0,
              "#0d0887"
             ],
             [
              0.1111111111111111,
              "#46039f"
             ],
             [
              0.2222222222222222,
              "#7201a8"
             ],
             [
              0.3333333333333333,
              "#9c179e"
             ],
             [
              0.4444444444444444,
              "#bd3786"
             ],
             [
              0.5555555555555556,
              "#d8576b"
             ],
             [
              0.6666666666666666,
              "#ed7953"
             ],
             [
              0.7777777777777778,
              "#fb9f3a"
             ],
             [
              0.8888888888888888,
              "#fdca26"
             ],
             [
              1,
              "#f0f921"
             ]
            ],
            "type": "surface"
           }
          ],
          "table": [
           {
            "cells": {
             "fill": {
              "color": "#EBF0F8"
             },
             "line": {
              "color": "white"
             }
            },
            "header": {
             "fill": {
              "color": "#C8D4E3"
             },
             "line": {
              "color": "white"
             }
            },
            "type": "table"
           }
          ]
         },
         "layout": {
          "annotationdefaults": {
           "arrowcolor": "#2a3f5f",
           "arrowhead": 0,
           "arrowwidth": 1
          },
          "autotypenumbers": "strict",
          "coloraxis": {
           "colorbar": {
            "outlinewidth": 0,
            "ticks": ""
           }
          },
          "colorscale": {
           "diverging": [
            [
             0,
             "#8e0152"
            ],
            [
             0.1,
             "#c51b7d"
            ],
            [
             0.2,
             "#de77ae"
            ],
            [
             0.3,
             "#f1b6da"
            ],
            [
             0.4,
             "#fde0ef"
            ],
            [
             0.5,
             "#f7f7f7"
            ],
            [
             0.6,
             "#e6f5d0"
            ],
            [
             0.7,
             "#b8e186"
            ],
            [
             0.8,
             "#7fbc41"
            ],
            [
             0.9,
             "#4d9221"
            ],
            [
             1,
             "#276419"
            ]
           ],
           "sequential": [
            [
             0,
             "#0d0887"
            ],
            [
             0.1111111111111111,
             "#46039f"
            ],
            [
             0.2222222222222222,
             "#7201a8"
            ],
            [
             0.3333333333333333,
             "#9c179e"
            ],
            [
             0.4444444444444444,
             "#bd3786"
            ],
            [
             0.5555555555555556,
             "#d8576b"
            ],
            [
             0.6666666666666666,
             "#ed7953"
            ],
            [
             0.7777777777777778,
             "#fb9f3a"
            ],
            [
             0.8888888888888888,
             "#fdca26"
            ],
            [
             1,
             "#f0f921"
            ]
           ],
           "sequentialminus": [
            [
             0,
             "#0d0887"
            ],
            [
             0.1111111111111111,
             "#46039f"
            ],
            [
             0.2222222222222222,
             "#7201a8"
            ],
            [
             0.3333333333333333,
             "#9c179e"
            ],
            [
             0.4444444444444444,
             "#bd3786"
            ],
            [
             0.5555555555555556,
             "#d8576b"
            ],
            [
             0.6666666666666666,
             "#ed7953"
            ],
            [
             0.7777777777777778,
             "#fb9f3a"
            ],
            [
             0.8888888888888888,
             "#fdca26"
            ],
            [
             1,
             "#f0f921"
            ]
           ]
          },
          "colorway": [
           "#636efa",
           "#EF553B",
           "#00cc96",
           "#ab63fa",
           "#FFA15A",
           "#19d3f3",
           "#FF6692",
           "#B6E880",
           "#FF97FF",
           "#FECB52"
          ],
          "font": {
           "color": "#2a3f5f"
          },
          "geo": {
           "bgcolor": "white",
           "lakecolor": "white",
           "landcolor": "#E5ECF6",
           "showlakes": true,
           "showland": true,
           "subunitcolor": "white"
          },
          "hoverlabel": {
           "align": "left"
          },
          "hovermode": "closest",
          "mapbox": {
           "style": "light"
          },
          "paper_bgcolor": "white",
          "plot_bgcolor": "#E5ECF6",
          "polar": {
           "angularaxis": {
            "gridcolor": "white",
            "linecolor": "white",
            "ticks": ""
           },
           "bgcolor": "#E5ECF6",
           "radialaxis": {
            "gridcolor": "white",
            "linecolor": "white",
            "ticks": ""
           }
          },
          "scene": {
           "xaxis": {
            "backgroundcolor": "#E5ECF6",
            "gridcolor": "white",
            "gridwidth": 2,
            "linecolor": "white",
            "showbackground": true,
            "ticks": "",
            "zerolinecolor": "white"
           },
           "yaxis": {
            "backgroundcolor": "#E5ECF6",
            "gridcolor": "white",
            "gridwidth": 2,
            "linecolor": "white",
            "showbackground": true,
            "ticks": "",
            "zerolinecolor": "white"
           },
           "zaxis": {
            "backgroundcolor": "#E5ECF6",
            "gridcolor": "white",
            "gridwidth": 2,
            "linecolor": "white",
            "showbackground": true,
            "ticks": "",
            "zerolinecolor": "white"
           }
          },
          "shapedefaults": {
           "line": {
            "color": "#2a3f5f"
           }
          },
          "ternary": {
           "aaxis": {
            "gridcolor": "white",
            "linecolor": "white",
            "ticks": ""
           },
           "baxis": {
            "gridcolor": "white",
            "linecolor": "white",
            "ticks": ""
           },
           "bgcolor": "#E5ECF6",
           "caxis": {
            "gridcolor": "white",
            "linecolor": "white",
            "ticks": ""
           }
          },
          "title": {
           "x": 0.05
          },
          "xaxis": {
           "automargin": true,
           "gridcolor": "white",
           "linecolor": "white",
           "ticks": "",
           "title": {
            "standoff": 15
           },
           "zerolinecolor": "white",
           "zerolinewidth": 2
          },
          "yaxis": {
           "automargin": true,
           "gridcolor": "white",
           "linecolor": "white",
           "ticks": "",
           "title": {
            "standoff": 15
           },
           "zerolinecolor": "white",
           "zerolinewidth": 2
          }
         }
        },
        "xaxis": {
         "anchor": "y",
         "domain": [
          0,
          1
         ],
         "title": {
          "text": "precio"
         }
        },
        "yaxis": {
         "anchor": "x",
         "domain": [
          0,
          1
         ],
         "title": {
          "text": "count"
         }
        }
       }
      }
     },
     "metadata": {},
     "output_type": "display_data"
    }
   ],
   "source": [
    "px.histogram(data_frame = df_portatiles, \n",
    "             x          = \"precio\",\n",
    "             nbins      = 40)"
   ]
  },
  {
   "cell_type": "code",
   "execution_count": 83,
   "metadata": {},
   "outputs": [
    {
     "data": {
      "application/vnd.plotly.v1+json": {
       "config": {
        "plotlyServerURL": "https://plot.ly"
       },
       "data": [
        {
         "mode": "markers",
         "name": "Portátiles con inteligencia artificial",
         "type": "scatter",
         "x": {
          "bdata": "AAAAAAAApUAAAAAAABB3QAAAAAAARJdAAAAAAAD8mEAAAAAAAFSWQClcj8L1g5hAAAAAAAD0kUAAAAAAAESXQAAAAAAA9qFA7FG4HgWiqkAAAAAAAHauQAAAAAAAtJBAAAAAAAC6q0AAAAAAAHqlQAAAAAAARJdAAAAAAAD8mEAAAAAAANyQQA==",
          "dtype": "f8"
         },
         "y": {
          "bdata": "mpmZmZmZE0BmZmZmZmYSQM3MzMzMzBJAMzMzMzMzE0AAAAAAAAASQDMzMzMzMxNAzczMzMzMEkAAAAAAAAAUQJqZmZmZmRNAMzMzMzMzE0AzMzMzMzMTQAAAAAAAABRAmpmZmZmZE0CamZmZmZkTQAAAAAAAAPh/AAAAAAAAFEAzMzMzMzMTQA==",
          "dtype": "f8"
         }
        },
        {
         "mode": "markers",
         "name": "Estaciones de energía",
         "type": "scatter",
         "x": {
          "bdata": "ZmZmZmbueEAAAAAAAPCIQDMzMzMzt4JAAAAAAACgbEAUrkfh+s2jQAAAAAAA0HVAAAAAAAD8mEDsUbgeBdqkQEjhehSuv2JApHA9Ctf/ekBSuB6F6w+LQIXrUbgeP49ApHA9CtdPiUAAAAAAANiFQMP1KFyPK5VAAAAAAACkm0BSuB6F6yeFQLgehetROHtArkfhehQAhEBI4XoUrv94QEjhehSuP2VAAAAAAABFlECamZmZmSuRQBSuR+H6ZaBAAAAAAAA8n0AAAAAAAGBhQA==",
          "dtype": "f8"
         },
         "y": {
          "bdata": "AAAAAAAAEkCamZmZmZkTQJqZmZmZmRNAzczMzMzMEkAzMzMzMzMTQDMzMzMzMxFAAAAAAAAA+H8AAAAAAAD4fzMzMzMzMxFAAAAAAAAAFEAAAAAAAAAUQAAAAAAAAPh/AAAAAAAA+H8AAAAAAAD4fzMzMzMzMxNAAAAAAAAAFEAAAAAAAAD4f5qZmZmZmRFAAAAAAAAA+H8AAAAAAAAIQJqZmZmZmRNAAAAAAAAA+H8AAAAAAAD4fwAAAAAAAPh/AAAAAAAA+H8AAAAAAAD4fw==",
          "dtype": "f8"
         }
        },
        {
         "mode": "markers",
         "name": "Altavoces portátiles",
         "type": "scatter",
         "x": {
          "bdata": "PQrXo3D9NUB7FK5H4fohQEjhehSuP2JAmpmZmZmZMEAAAAAAAIBGQGZmZmZmXmNAAAAAAABgZkCamZmZmflIQK5H4XoUtoFAAAAAAACASEBI4XoUrl9iQEjhehSuX2JAcT0K16NAWEBI4XoUrl9iQAAAAAAAADtAH4XrUbj+Q0DNzMzMzHxhQEjhehSun2JAcT0K16NIbEAAAAAAAMBdQI/C9Shcv1pA4XoUrkcBdUAUrkfhehKDQKRwPQrX/3FAH4XrUbh+RkDD9Shcj8JGQB+F61G4/kZASOF6FK4/YEAfhetRuH5FQAAAAAAAQE5ApHA9CtefcEAAAAAAAGBYQK5H4XoUzm1AH4XrUbh+RUCPwvUoXN9oQHsUrkfh+iNACtejcD26U0AAAAAAADB1QI/C9Shcf2FAAAAAAAAgZEA=",
          "dtype": "f8"
         },
         "y": {
          "bdata": "mpmZmZmZEUCamZmZmZkRQAAAAAAAABJAmpmZmZmZEUAAAAAAAAD4fwAAAAAAABJAMzMzMzMzE0AAAAAAAAAUQM3MzMzMzBJAMzMzMzMzE0AzMzMzMzMTQDMzMzMzMxNAAAAAAAAAEkAzMzMzMzMTQAAAAAAAABRAAAAAAAAA+H+amZmZmZkRQAAAAAAAABJAMzMzMzMzE0AAAAAAAAASQAAAAAAAABJAMzMzMzMzE0DNzMzMzMwSQJqZmZmZmRFAMzMzMzMzE0DNzMzMzMwSQM3MzMzMzBJAAAAAAAAAFEDNzMzMzMwSQAAAAAAAABBAMzMzMzMzE0AAAAAAAAASQAAAAAAAABBAzczMzMzMEkAzMzMzMzMTQAAAAAAAAAxAAAAAAAAAEkAzMzMzMzMTQAAAAAAAABRAAAAAAAAA+H8=",
          "dtype": "f8"
         }
        },
        {
         "mode": "markers",
         "name": "Lenovo",
         "type": "scatter",
         "x": {
          "bdata": "AAAAAACQfkAAAAAAAASRQAAAAAAAeIFAAAAAAACojUCkcD0K1092QAAAAAAA/JhApHA9CtefdkCkcD0K1595QAAAAAAAHJJAzczMzMyMjUAAAAAAAGyXQClcj8L1j5BAAAAAAAAgb0AAAAAAADB/QKRwPQrXz3pAAAAAAABwdEBSuB6F69+AQAAAAAAAYIBAzczMzMxmk0AAAAAAAPiIQOxRuB6Fc3tAAAAAAAC0lUAAAAAAAAB1QA==",
          "dtype": "f8"
         },
         "y": {
          "bdata": "AAAAAAAAEkBmZmZmZmYSQAAAAAAAABJAAAAAAAAAEkBmZmZmZmYSQDMzMzMzMxNAzczMzMzMEEBmZmZmZmYSQM3MzMzMzBJAmpmZmZmZEUAAAAAAAAASQAAAAAAAABJAAAAAAAAAEkBmZmZmZmYSQAAAAAAAAPh/AAAAAAAAEkAzMzMzMzMTQGZmZmZmZhJAMzMzMzMzEUAAAAAAAAAUQAAAAAAAAPh/AAAAAAAAFEAAAAAAAAAEQA==",
          "dtype": "f8"
         }
        },
        {
         "mode": "markers",
         "name": "Repuestos",
         "type": "scatter",
         "x": {
          "bdata": "PQrXo3D9OEA9CtejcH1AQB+F61G4fkZAPQrXo3D9PEAAAAAAAEBJQI/C9ShcDzJAH4XrUbj+SkCPwvUoXM9FQB+F61G4/kZAH4XrUbj+Q0AfhetRuH5FQKRwPQrXowRAj8L1KFw/VED2KFyPwpVVQB+F61G4fkFAH4XrUbh+S0AAAAAAAAA+QD0K16Nw/TlA4XoUrkeBRkA9CtejcP07QB+F61G4fkFAexSuR+H6K0DsUbgehSszQGZmZmZmxkpAFK5H4XpUS0BI4XoUrtdgQBSuR+F6xFRAj8L1KFy/U0AAAAAAAEBEQHsUrkfhmkRAPQrXo3D9PkAAAAAAAGBAQLgehetReE1APQrXo3D9OUA9CtejcP05QB+F61G4fkFAw/UoXI+iV0CPwvUoXD9SQD0K16Nw/TdAPQrXo3D9O0A=",
          "dtype": "f8"
         },
         "y": {
          "bdata": "MzMzMzMzEUAAAAAAAAASQGZmZmZmZhJAAAAAAAAAEkAAAAAAAAAUQAAAAAAAABRAAAAAAAAA+H8AAAAAAAASQDMzMzMzMxNAAAAAAAAA+H8AAAAAAAAUQAAAAAAAABRAAAAAAAAA+H8AAAAAAAD4fwAAAAAAAPh/AAAAAAAAFEDNzMzMzMwSQM3MzMzMzBBAZmZmZmZmEEAAAAAAAAASQAAAAAAAAPh/AAAAAAAA+H8AAAAAAAAUQM3MzMzMzBJAAAAAAAAAFEAAAAAAAAD4fwAAAAAAAPh/AAAAAAAA+H8zMzMzMzMRQAAAAAAAAPh/ZmZmZmZmEEAAAAAAAAD4fwAAAAAAAPh/AAAAAAAAFEAAAAAAAAD4fwAAAAAAABRAAAAAAAAAFEAAAAAAAAD4f5qZmZmZmRFAAAAAAAAA+H8=",
          "dtype": "f8"
         }
        },
        {
         "mode": "markers",
         "name": "Alurin",
         "type": "scatter",
         "x": {
          "bdata": "SOF6FK4/f0BSuB6F6y+GQKRwPQrXH3xASOF6FK5/a0BSuB6F61+DQFK4HoXrf4FAUrgehet/gUCkcD0K1397QKRwPQrXX31AUrgehev/g0CkcD0K1996QKRwPQrXf3tApHA9Ctf/fUBSuB6F60+JQKRwPQrXH3xAAAAAAADgikBI4XoUrp95QKRwPQrXX31ApHA9CteffkA9CtejcNuIQLgehetRXIBAUrgehesfjEBSuB6F63+GQFK4HoXrP4pAUrgeheufjkBSuB6F65+JQFK4HoXrj5BApHA9Ctd/i0BSuB6F6z+PQEjhehSuP39APQrXo3A7g0CkcD0K1397QFK4HoXrv4JAUrgehevPgUCkcD0K1996QD0K16Nw+4FApHA9Cte/fEA=",
          "dtype": "f8"
         },
         "y": {
          "bdata": "zczMzMzMEEAzMzMzMzMPQM3MzMzMzBBAMzMzMzMzD0DNzMzMzMwQQM3MzMzMzBBAzczMzMzMEEDNzMzMzMwQQM3MzMzMzBBAAAAAAAAA+H/NzMzMzMwQQM3MzMzMzBBAzczMzMzMEEAzMzMzMzMPQM3MzMzMzBBAzczMzMzMEEDNzMzMzMwQQM3MzMzMzBBAMzMzMzMzEUDNzMzMzMwQQDMzMzMzMxFAzczMzMzMEEDNzMzMzMwQQM3MzMzMzBBAMzMzMzMzD0AzMzMzMzMPQDMzMzMzMw9AMzMzMzMzD0AzMzMzMzMPQM3MzMzMzBBAzczMzMzMEEDNzMzMzMwQQM3MzMzMzBBAzczMzMzMEEDNzMzMzMwQQM3MzMzMzBBAzczMzMzMEEA=",
          "dtype": "f8"
         }
        },
        {
         "mode": "markers",
         "name": "HP",
         "type": "scatter",
         "x": {
          "bdata": "AAAAAACYhEAAAAAAAISTQAAAAAAApJFAAAAAAAD4iEAAAAAAANiFQFK4HoXrp4NAAAAAAABMlEAAAAAAANSdQAAAAAAAVJFAAAAAAAAQfEC4HoXrUa6WQAAAAAAAbJdAAAAAAAAogUAAAAAAAEiEQNejcD0KT35AAAAAAABsl0AAAAAAACiBQKRwPQrXD3ZAw/UoXI/Ge0AAAAAAALByQAAAAAAAiIBAAAAAAADQdUAAAAAAADB/QAAAAAAAFJVAj8L1KFxhhUAAAAAAAEiEQAAAAAAAuIJAzczMzMx6g0AAAAAAAGyXQEjhehSuD29Aw/UoXI92fkDXo3A9CpyZQAAAAAAAbqdAAAAAAAA4j0A=",
          "dtype": "f8"
         },
         "y": {
          "bdata": "ZmZmZmZmEkAAAAAAAAASQGZmZmZmZhJAAAAAAAAAEkAAAAAAAAASQAAAAAAAABJAAAAAAAAAEkAAAAAAAAASQGZmZmZmZhJAZmZmZmZmEkAAAAAAAAASQGZmZmZmZhJAAAAAAAAA+H8AAAAAAAD4fwAAAAAAABRAAAAAAAAAEkBmZmZmZmYSQDMzMzMzMxFAMzMzMzMzEUAAAAAAAAD4fwAAAAAAAPh/mpmZmZmZEUBmZmZmZmYSQAAAAAAAABJAAAAAAAAA+H8AAAAAAAASQGZmZmZmZhJAzczMzMzMEEBmZmZmZmYSQAAAAAAAABBAAAAAAAAAFEAAAAAAAAASQGZmZmZmZhBAAAAAAAAAEkA=",
          "dtype": "f8"
         }
        },
        {
         "mode": "markers",
         "name": "Portátiles con Windows",
         "type": "scatter",
         "x": {
          "bdata": "AAAAAAB4gUAAAAAAABiHQKRwPQrXv3dAAAAAAAA4hUAAAAAAANiFQAAAAAAACIhAAAAAAAAoi0CkcD0K1+94QClcj8L1N5hAAAAAAAAIg0AAAAAAAACBQFK4HoXrfYFAAAAAAADckEBSuB6F6zeEQFK4HoXr/4NAAAAAAAAgfEA=",
          "dtype": "f8"
         },
         "y": {
          "bdata": "AAAAAAAAEkBmZmZmZmYSQDMzMzMzMw9AZmZmZmZmEkAAAAAAAAD4fwAAAAAAABJAAAAAAAAA+H9mZmZmZmYSQAAAAAAAABJAAAAAAAAA+H9mZmZmZmYSQDMzMzMzMxNAMzMzMzMzE0AzMzMzMzMTQM3MzMzMzBBAAAAAAAAA+H8=",
          "dtype": "f8"
         }
        },
        {
         "mode": "markers",
         "name": "ASUS",
         "type": "scatter",
         "x": {
          "bdata": "AAAAAADIhkAAAAAAABiCQAAAAAAAGIJAAAAAAABMlEAAAAAAAPyTQAAAAAAAkHlAAAAAAAAIjUAAAAAAAFiIQAAAAAAAmIlAAAAAAADQcEAAAAAAABB3QAAAAAAAiIBAAAAAAACIgEAAAAAAADB/QAAAAAAAMH9A7FG4HgUuoUAAAAAAADB/QAAAAAAAvJJApHA9CtfLg0AAAAAAAPyYQAAAAAAASIRAAAAAAADweECuR+F6FBiMQAAAAAAAxJlAZmZmZmZCgkAAAAAAAKyZQAAAAAAAZqBAAAAAAAAQfECkcD0K1896QAAAAAAAPJ9AUrgehesXjEA=",
          "dtype": "f8"
         },
         "y": {
          "bdata": "zczMzMzMEkDNzMzMzMwSQM3MzMzMzBBAMzMzMzMzE0BmZmZmZmYSQDMzMzMzMxFAMzMzMzMzEUBmZmZmZmYSQDMzMzMzMxFAZmZmZmZmEEDNzMzMzMwQQAAAAAAAABJAAAAAAAAA+H+amZmZmZkRQAAAAAAAABBAzczMzMzMEkAAAAAAAAASQGZmZmZmZhJAAAAAAAAA+H9mZmZmZmYKQAAAAAAAAPh/MzMzMzMzEUAzMzMzMzMPQDMzMzMzMxNAAAAAAAAA+H/NzMzMzMwSQAAAAAAAABJAZmZmZmZmEkAzMzMzMzMRQDMzMzMzMw9AmpmZmZmZDUA=",
          "dtype": "f8"
         }
        },
        {
         "mode": "markers",
         "name": "Monitor portátil",
         "type": "scatter",
         "x": {
          "bdata": "AAAAAADAWECPwvUoXP9cQEjhehSu/2BAAAAAAAAgYEDhehSuR4ljQEjhehSu/2BAH4XrUbj+V0BI4XoUrv9gQKRwPQrX/3tA4XoUrkcVfkAfhetRuP5XQB+F61G4flZA7FG4HoXDcUBI4XoUrj9lQFyPwvUoXGdAAAAAAAAwdUAfhetRuP5XQB+F61G4fltAH4XrUbguaUBI4XoUrt9oQAAAAAAAoGJASOF6FK7/ZkCPwvUoXD9fQB+F61G4/ldApHA9CtcPfEBmZmZmZjZqQHsUrkfhTnRAAAAAAACQeEAfhetRuIp8QClcj8L1xHdApHA9CtdvdkA9CtejcCV6QB+F61G4/ldAH4XrUbh+VkAAAAAAAABtQHE9CtejnoRASOF6FK7fb0BI4XoUrm9yQI/C9Shc/2NApHA9CtevckA=",
          "dtype": "f8"
         },
         "y": {
          "bdata": "AAAAAAAAEkAAAAAAAAAQQM3MzMzMzBJAzczMzMzMEEDNzMzMzMwQQAAAAAAAABJAzczMzMzMEkAzMzMzMzMRQM3MzMzMzBBAAAAAAAAAFEAAAAAAAAAUQAAAAAAAABBAAAAAAAAAFEAAAAAAAAASQAAAAAAAABJAzczMzMzMEEAAAAAAAAASQJqZmZmZmRNAAAAAAAAAEkAAAAAAAAD4fwAAAAAAABJAAAAAAAAA+H/NzMzMzMwQQDMzMzMzMxNAzczMzMzMEEAAAAAAAAASQM3MzMzMzBBAzczMzMzMEEAAAAAAAAD4f83MzMzMzBBAAAAAAAAAEkAAAAAAAAASQAAAAAAAABJAAAAAAAAA+H8AAAAAAAAQQAAAAAAAAPh/AAAAAAAA+H8AAAAAAAD4fwAAAAAAAPh/AAAAAAAA+H8=",
          "dtype": "f8"
         }
        },
        {
         "mode": "markers",
         "name": "Cocinas portátiles",
         "type": "scatter",
         "x": {
          "bdata": "cT0K16MAVEAAAAAAAMBXQAAAAAAAgExAAAAAAADAU0AAAAAAAABNQB+F61G4fkRAPQrXo3D9NUD2KFyPwvVIQD0K16NwfTRAMzMzMzPzREBI4XoUrqdTQFK4HoXrcUhASOF6FK63UEBSuB6F6zFAQD0K16NwnUJAw/UoXI8iRkAAAAAAADBoQK5H4XoUPlZAMzMzMzNzSkBI4XoUrj9gQFK4HoXrEVlAAAAAAAAAREDhehSuR8FHQIXrUbgexUpAMzMzMzPzQ0AAAAAAAKBPQB+F61G4/kNAH4XrUbh+RUAfhetRuH5IQD0K16Nw/UdAH4XrUbh+QkBSuB6F6xFGQB+F61G4/kFA16NwPQrXNkAAAAAAAABCQGZmZmZmpkZAj8L1KFy/UUAfhetRuP5BQI/C9ShcP1FApHA9CtcDVkA=",
          "dtype": "f8"
         },
         "y": {
          "bdata": "zczMzMzMEkDNzMzMzMwSQAAAAAAAABJAMzMzMzMzEUAAAAAAAAD4f83MzMzMzBBAMzMzMzMzEUAAAAAAAAD4fwAAAAAAAPh/MzMzMzMzB0AAAAAAAAD4fwAAAAAAAPh/AAAAAAAA+H8AAAAAAAD4fwAAAAAAAPh/AAAAAAAA+H8AAAAAAAD4fzMzMzMzMw9AAAAAAAAA4D8AAAAAAAD4fwAAAAAAAPh/AAAAAAAA+H8AAAAAAAD4fwAAAAAAAPh/AAAAAAAAFEAAAAAAAAD4fwAAAAAAAPh/AAAAAAAA+H8AAAAAAAD4fwAAAAAAAPh/AAAAAAAA+H+amZmZmZkRQAAAAAAAAPh/AAAAAAAA+H8AAAAAAAD4fwAAAAAAAPh/AAAAAAAA+H8AAAAAAAD4fwAAAAAAAPh/MzMzMzMzE0A=",
          "dtype": "f8"
         }
        },
        {
         "mode": "markers",
         "name": "MSI",
         "type": "scatter",
         "x": {
          "bdata": "KVyPwvUrkUAAAAAAAEyeQAAAAAAACIhAAAAAAAC4gkAAAAAAAEiJQAAAAAAASIRAAAAAAABoh0AAAAAAAMSZQAAAAAAAxJRAAAAAAADIhkAAAAAAALiCQAAAAAAAZJBAAAAAAABMlEAAAAAAAMqgQAAAAAAAMqJAAAAAAADEmUAAAAAAAGagQAAAAAAAWIhAUrgehesXjEApXI/C9fuTQAAAAAAAZqBAAAAAAACklkAAAAAAAJanQAAAAAAAbJdAKVyPwvUzmEAAAAAAAMSZQAAAAAAAxJRAAAAAAAA8n0AUrkfh+r2iQArXo3D9TrRA",
          "dtype": "f8"
         },
         "y": {
          "bdata": "AAAAAAAAEkCamZmZmZkRQGZmZmZmZhJAAAAAAAAAEkAAAAAAAAASQAAAAAAAABJAZmZmZmZmEkCamZmZmZkRQAAAAAAAABJAAAAAAAAAEkAAAAAAAAASQAAAAAAAABJAAAAAAAAAEkAAAAAAAAAQQAAAAAAAABBAzczMzMzMEkCamZmZmZkRQGZmZmZmZhJAAAAAAAAAEkAAAAAAAAASQJqZmZmZmRFAzczMzMzMEkAzMzMzMzMRQAAAAAAAABJAAAAAAAAAEkAAAAAAAAASQDMzMzMzMxFAAAAAAAAAFEBmZmZmZmYSQGZmZmZmZhJA",
          "dtype": "f8"
         }
        },
        {
         "mode": "markers",
         "name": "Portátiles 2 en 1 convertibles",
         "type": "scatter",
         "x": {
          "bdata": "pHA9CtffdUAAAAAAAPahQAAAAAAACIhAAAAAAACsnUAAAAAAAJB5QAAAAAAAqqJAAAAAAACsmEAAAAAAAMqgQAAAAAAAbqdAAAAAAABOpEAAAAAAAKiNQAAAAAAAdJlASOF6FK6zkECamZmZmWeZQAAAAAAA7J5AAAAAAAD2oUAAAAAAABSVQAAAAAAAzJtAw/UoXI8+cEDXo3A9Cv9oQGZmZmZmEKBAXI/C9SiijkAfhetRuFKWQAAAAAAAOIpAKVyPwvW7nEAAAAAAADyaQAAAAAAAPJpAFK5H4XolnUAAAAAAAISdQLgehetRfKBAKVyPwvXJoEAfhetRuP5tQAAAAAAA3JVAmpmZmZlkk0AAAAAAAJiOQAAAAAAAJJRA16NwPQqIkkAUrkfhehaFQAAAAAAAtJVA16NwPQrveEA=",
          "dtype": "f8"
         },
         "y": {
          "bdata": "mpmZmZmZE0CamZmZmZkTQGZmZmZmZhJAZmZmZmZmEkCamZmZmZkRQAAAAAAAABJAmpmZmZmZE0BmZmZmZmYSQAAAAAAAABRAAAAAAAAAEkDNzMzMzMwSQAAAAAAAABBAAAAAAAAAFEAzMzMzMzMRQJqZmZmZmRNAZmZmZmZmEkAAAAAAAAASQAAAAAAAABBAzczMzMzMEkCamZmZmZkNQGZmZmZmZg5AAAAAAAAA+H8AAAAAAAD4f83MzMzMzBJAMzMzMzMzD0AzMzMzMzMPQDMzMzMzMw9AZmZmZmZmEkAAAAAAAAD4fwAAAAAAAPh/AAAAAAAA+H8AAAAAAAAQQAAAAAAAABJAzczMzMzMDEDNzMzMzMwSQAAAAAAAAPh/zczMzMzMDEAAAAAAAAAUQGZmZmZmZhJAAAAAAAAA+H8=",
          "dtype": "f8"
         }
        },
        {
         "mode": "markers",
         "name": "Neveras portátiles",
         "type": "scatter",
         "x": {
          "bdata": "MzMzMzNzS0AzMzMzM/NDQBSuR+F69ENAUrgehetxS0CuR+F6FC49QDMzMzMz34VAmpmZmZk5UEBxPQrXo8BdQMP1KFyPoldAmpmZmZkJXEAfhetRuN48QArXo3A9ijFACtejcD2KLUAK16NwPYotQDMzMzMz801AmpmZmZk5UECamZmZmXlRQI/C9ShcP1tAFK5H4Xr0Q0AzMzMzM/NDQM3MzMzMzDxAFK5H4Xr0Q0AzMzMzM/NDQDMzMzMz80NAUrgehetRTUApXI/C9fhYQJqZmZmZOVBA4XoUrkehRkBcj8L1KGxRQClcj8L1mF1AFK5H4XrkYEDNzMzMzIxOQNejcD0KV0ZASOF6FK7/dUBSuB6F66uVQAAAAAAAwFNAj8L1KFw/VkCPwvUoXD9WQB+F61G4/kNAH4XrUbj+Q0A=",
          "dtype": "f8"
         },
         "y": {
          "bdata": "AAAAAAAA4D8zMzMzMzMHQDMzMzMzMwdAAAAAAAAAFEAAAAAAAAAUQAAAAAAAAPh/AAAAAAAA+H8AAAAAAAD4fwAAAAAAAPh/AAAAAAAA+H8AAAAAAAD4fwAAAAAAAPh/AAAAAAAAFEAAAAAAAAAUQAAAAAAAAPh/AAAAAAAA+H8AAAAAAAD4fwAAAAAAABRAMzMzMzMzB0DNzMzMzMwMQM3MzMzMzAxAzczMzMzMDEDNzMzMzMwMQAAAAAAAAPh/AAAAAAAA4D8AAAAAAAD4fwAAAAAAAPh/AAAAAAAA4D8AAAAAAAAUQAAAAAAAABRAAAAAAAAA+H8AAAAAAAAUQAAAAAAAAPh/AAAAAAAA+H8AAAAAAAAUQAAAAAAAABRAAAAAAAAA+H8AAAAAAAD4fwAAAAAAAPh/AAAAAAAA+H8=",
          "dtype": "f8"
         }
        },
        {
         "mode": "markers",
         "name": "Portátiles",
         "type": "scatter",
         "x": {
          "bdata": "SOF6FK4/b0ApXI/C9Y+aQAAAAAAA6IRAAAAAAADwfUAAAAAAAIiFQAAAAAAA2IBAAAAAAAA4j0AAAAAAADiAQAAAAAAAjJVAAAAAAADIhkAAAAAAANB/QAAAAAAAWIhAAAAAAACkkUAAAAAAADB/QAAAAAAA/JNAAAAAAABMlEAAAAAAALySQKRwPQrXo5FAAAAAAAD8mEAAAAAAABiCQAAAAAAAsHJAAAAAAAC4gkAAAAAAAIiKQAAAAAAABJZAAAAAAAC4jEApXI/C9WOVQAAAAAAAFJBAKVyPwvUzmEAAAAAAAIiAQAAAAAAAGIJAAAAAAAAYh0AAAAAAAKiNQAAAAAAA5JJApHA9CtejkUAAAAAAAKiNQAAAAAAAyIZAAAAAAAAEkUCkcD0K16ORQAAAAAAAWI1AKVyPwvUrkUA=",
          "dtype": "f8"
         },
         "y": {
          "bdata": "MzMzMzMzD0AAAAAAAAASQAAAAAAAABJAAAAAAAAAEkAAAAAAAAASQGZmZmZmZhJAmpmZmZmZEUAzMzMzMzMTQM3MzMzMzBJAAAAAAAAAEkAAAAAAAAASQAAAAAAAABJAZmZmZmZmEkBmZmZmZmYSQGZmZmZmZhJAZmZmZmZmEkDNzMzMzMwSQDMzMzMzMxNAMzMzMzMzE0BmZmZmZmYSQJqZmZmZmRFAAAAAAAAAEkCamZmZmZkRQAAAAAAAABJAZmZmZmZmEkAzMzMzMzMTQJqZmZmZmRNAAAAAAAAAEkAzMzMzMzMRQAAAAAAAABJAAAAAAAAAEkAzMzMzMzMRQDMzMzMzMxNAMzMzMzMzE0BmZmZmZmYSQGZmZmZmZhJAAAAAAAAAEEAzMzMzMzMTQGZmZmZmZhJAZmZmZmZmEkA=",
          "dtype": "f8"
         }
        }
       ],
       "layout": {
        "template": {
         "data": {
          "bar": [
           {
            "error_x": {
             "color": "#f2f5fa"
            },
            "error_y": {
             "color": "#f2f5fa"
            },
            "marker": {
             "line": {
              "color": "rgb(17,17,17)",
              "width": 0.5
             },
             "pattern": {
              "fillmode": "overlay",
              "size": 10,
              "solidity": 0.2
             }
            },
            "type": "bar"
           }
          ],
          "barpolar": [
           {
            "marker": {
             "line": {
              "color": "rgb(17,17,17)",
              "width": 0.5
             },
             "pattern": {
              "fillmode": "overlay",
              "size": 10,
              "solidity": 0.2
             }
            },
            "type": "barpolar"
           }
          ],
          "carpet": [
           {
            "aaxis": {
             "endlinecolor": "#A2B1C6",
             "gridcolor": "#506784",
             "linecolor": "#506784",
             "minorgridcolor": "#506784",
             "startlinecolor": "#A2B1C6"
            },
            "baxis": {
             "endlinecolor": "#A2B1C6",
             "gridcolor": "#506784",
             "linecolor": "#506784",
             "minorgridcolor": "#506784",
             "startlinecolor": "#A2B1C6"
            },
            "type": "carpet"
           }
          ],
          "choropleth": [
           {
            "colorbar": {
             "outlinewidth": 0,
             "ticks": ""
            },
            "type": "choropleth"
           }
          ],
          "contour": [
           {
            "colorbar": {
             "outlinewidth": 0,
             "ticks": ""
            },
            "colorscale": [
             [
              0,
              "#0d0887"
             ],
             [
              0.1111111111111111,
              "#46039f"
             ],
             [
              0.2222222222222222,
              "#7201a8"
             ],
             [
              0.3333333333333333,
              "#9c179e"
             ],
             [
              0.4444444444444444,
              "#bd3786"
             ],
             [
              0.5555555555555556,
              "#d8576b"
             ],
             [
              0.6666666666666666,
              "#ed7953"
             ],
             [
              0.7777777777777778,
              "#fb9f3a"
             ],
             [
              0.8888888888888888,
              "#fdca26"
             ],
             [
              1,
              "#f0f921"
             ]
            ],
            "type": "contour"
           }
          ],
          "contourcarpet": [
           {
            "colorbar": {
             "outlinewidth": 0,
             "ticks": ""
            },
            "type": "contourcarpet"
           }
          ],
          "heatmap": [
           {
            "colorbar": {
             "outlinewidth": 0,
             "ticks": ""
            },
            "colorscale": [
             [
              0,
              "#0d0887"
             ],
             [
              0.1111111111111111,
              "#46039f"
             ],
             [
              0.2222222222222222,
              "#7201a8"
             ],
             [
              0.3333333333333333,
              "#9c179e"
             ],
             [
              0.4444444444444444,
              "#bd3786"
             ],
             [
              0.5555555555555556,
              "#d8576b"
             ],
             [
              0.6666666666666666,
              "#ed7953"
             ],
             [
              0.7777777777777778,
              "#fb9f3a"
             ],
             [
              0.8888888888888888,
              "#fdca26"
             ],
             [
              1,
              "#f0f921"
             ]
            ],
            "type": "heatmap"
           }
          ],
          "histogram": [
           {
            "marker": {
             "pattern": {
              "fillmode": "overlay",
              "size": 10,
              "solidity": 0.2
             }
            },
            "type": "histogram"
           }
          ],
          "histogram2d": [
           {
            "colorbar": {
             "outlinewidth": 0,
             "ticks": ""
            },
            "colorscale": [
             [
              0,
              "#0d0887"
             ],
             [
              0.1111111111111111,
              "#46039f"
             ],
             [
              0.2222222222222222,
              "#7201a8"
             ],
             [
              0.3333333333333333,
              "#9c179e"
             ],
             [
              0.4444444444444444,
              "#bd3786"
             ],
             [
              0.5555555555555556,
              "#d8576b"
             ],
             [
              0.6666666666666666,
              "#ed7953"
             ],
             [
              0.7777777777777778,
              "#fb9f3a"
             ],
             [
              0.8888888888888888,
              "#fdca26"
             ],
             [
              1,
              "#f0f921"
             ]
            ],
            "type": "histogram2d"
           }
          ],
          "histogram2dcontour": [
           {
            "colorbar": {
             "outlinewidth": 0,
             "ticks": ""
            },
            "colorscale": [
             [
              0,
              "#0d0887"
             ],
             [
              0.1111111111111111,
              "#46039f"
             ],
             [
              0.2222222222222222,
              "#7201a8"
             ],
             [
              0.3333333333333333,
              "#9c179e"
             ],
             [
              0.4444444444444444,
              "#bd3786"
             ],
             [
              0.5555555555555556,
              "#d8576b"
             ],
             [
              0.6666666666666666,
              "#ed7953"
             ],
             [
              0.7777777777777778,
              "#fb9f3a"
             ],
             [
              0.8888888888888888,
              "#fdca26"
             ],
             [
              1,
              "#f0f921"
             ]
            ],
            "type": "histogram2dcontour"
           }
          ],
          "mesh3d": [
           {
            "colorbar": {
             "outlinewidth": 0,
             "ticks": ""
            },
            "type": "mesh3d"
           }
          ],
          "parcoords": [
           {
            "line": {
             "colorbar": {
              "outlinewidth": 0,
              "ticks": ""
             }
            },
            "type": "parcoords"
           }
          ],
          "pie": [
           {
            "automargin": true,
            "type": "pie"
           }
          ],
          "scatter": [
           {
            "marker": {
             "line": {
              "color": "#283442"
             }
            },
            "type": "scatter"
           }
          ],
          "scatter3d": [
           {
            "line": {
             "colorbar": {
              "outlinewidth": 0,
              "ticks": ""
             }
            },
            "marker": {
             "colorbar": {
              "outlinewidth": 0,
              "ticks": ""
             }
            },
            "type": "scatter3d"
           }
          ],
          "scattercarpet": [
           {
            "marker": {
             "colorbar": {
              "outlinewidth": 0,
              "ticks": ""
             }
            },
            "type": "scattercarpet"
           }
          ],
          "scattergeo": [
           {
            "marker": {
             "colorbar": {
              "outlinewidth": 0,
              "ticks": ""
             }
            },
            "type": "scattergeo"
           }
          ],
          "scattergl": [
           {
            "marker": {
             "line": {
              "color": "#283442"
             }
            },
            "type": "scattergl"
           }
          ],
          "scattermap": [
           {
            "marker": {
             "colorbar": {
              "outlinewidth": 0,
              "ticks": ""
             }
            },
            "type": "scattermap"
           }
          ],
          "scattermapbox": [
           {
            "marker": {
             "colorbar": {
              "outlinewidth": 0,
              "ticks": ""
             }
            },
            "type": "scattermapbox"
           }
          ],
          "scatterpolar": [
           {
            "marker": {
             "colorbar": {
              "outlinewidth": 0,
              "ticks": ""
             }
            },
            "type": "scatterpolar"
           }
          ],
          "scatterpolargl": [
           {
            "marker": {
             "colorbar": {
              "outlinewidth": 0,
              "ticks": ""
             }
            },
            "type": "scatterpolargl"
           }
          ],
          "scatterternary": [
           {
            "marker": {
             "colorbar": {
              "outlinewidth": 0,
              "ticks": ""
             }
            },
            "type": "scatterternary"
           }
          ],
          "surface": [
           {
            "colorbar": {
             "outlinewidth": 0,
             "ticks": ""
            },
            "colorscale": [
             [
              0,
              "#0d0887"
             ],
             [
              0.1111111111111111,
              "#46039f"
             ],
             [
              0.2222222222222222,
              "#7201a8"
             ],
             [
              0.3333333333333333,
              "#9c179e"
             ],
             [
              0.4444444444444444,
              "#bd3786"
             ],
             [
              0.5555555555555556,
              "#d8576b"
             ],
             [
              0.6666666666666666,
              "#ed7953"
             ],
             [
              0.7777777777777778,
              "#fb9f3a"
             ],
             [
              0.8888888888888888,
              "#fdca26"
             ],
             [
              1,
              "#f0f921"
             ]
            ],
            "type": "surface"
           }
          ],
          "table": [
           {
            "cells": {
             "fill": {
              "color": "#506784"
             },
             "line": {
              "color": "rgb(17,17,17)"
             }
            },
            "header": {
             "fill": {
              "color": "#2a3f5f"
             },
             "line": {
              "color": "rgb(17,17,17)"
             }
            },
            "type": "table"
           }
          ]
         },
         "layout": {
          "annotationdefaults": {
           "arrowcolor": "#f2f5fa",
           "arrowhead": 0,
           "arrowwidth": 1
          },
          "autotypenumbers": "strict",
          "coloraxis": {
           "colorbar": {
            "outlinewidth": 0,
            "ticks": ""
           }
          },
          "colorscale": {
           "diverging": [
            [
             0,
             "#8e0152"
            ],
            [
             0.1,
             "#c51b7d"
            ],
            [
             0.2,
             "#de77ae"
            ],
            [
             0.3,
             "#f1b6da"
            ],
            [
             0.4,
             "#fde0ef"
            ],
            [
             0.5,
             "#f7f7f7"
            ],
            [
             0.6,
             "#e6f5d0"
            ],
            [
             0.7,
             "#b8e186"
            ],
            [
             0.8,
             "#7fbc41"
            ],
            [
             0.9,
             "#4d9221"
            ],
            [
             1,
             "#276419"
            ]
           ],
           "sequential": [
            [
             0,
             "#0d0887"
            ],
            [
             0.1111111111111111,
             "#46039f"
            ],
            [
             0.2222222222222222,
             "#7201a8"
            ],
            [
             0.3333333333333333,
             "#9c179e"
            ],
            [
             0.4444444444444444,
             "#bd3786"
            ],
            [
             0.5555555555555556,
             "#d8576b"
            ],
            [
             0.6666666666666666,
             "#ed7953"
            ],
            [
             0.7777777777777778,
             "#fb9f3a"
            ],
            [
             0.8888888888888888,
             "#fdca26"
            ],
            [
             1,
             "#f0f921"
            ]
           ],
           "sequentialminus": [
            [
             0,
             "#0d0887"
            ],
            [
             0.1111111111111111,
             "#46039f"
            ],
            [
             0.2222222222222222,
             "#7201a8"
            ],
            [
             0.3333333333333333,
             "#9c179e"
            ],
            [
             0.4444444444444444,
             "#bd3786"
            ],
            [
             0.5555555555555556,
             "#d8576b"
            ],
            [
             0.6666666666666666,
             "#ed7953"
            ],
            [
             0.7777777777777778,
             "#fb9f3a"
            ],
            [
             0.8888888888888888,
             "#fdca26"
            ],
            [
             1,
             "#f0f921"
            ]
           ]
          },
          "colorway": [
           "#636efa",
           "#EF553B",
           "#00cc96",
           "#ab63fa",
           "#FFA15A",
           "#19d3f3",
           "#FF6692",
           "#B6E880",
           "#FF97FF",
           "#FECB52"
          ],
          "font": {
           "color": "#f2f5fa"
          },
          "geo": {
           "bgcolor": "rgb(17,17,17)",
           "lakecolor": "rgb(17,17,17)",
           "landcolor": "rgb(17,17,17)",
           "showlakes": true,
           "showland": true,
           "subunitcolor": "#506784"
          },
          "hoverlabel": {
           "align": "left"
          },
          "hovermode": "closest",
          "mapbox": {
           "style": "dark"
          },
          "paper_bgcolor": "rgb(17,17,17)",
          "plot_bgcolor": "rgb(17,17,17)",
          "polar": {
           "angularaxis": {
            "gridcolor": "#506784",
            "linecolor": "#506784",
            "ticks": ""
           },
           "bgcolor": "rgb(17,17,17)",
           "radialaxis": {
            "gridcolor": "#506784",
            "linecolor": "#506784",
            "ticks": ""
           }
          },
          "scene": {
           "xaxis": {
            "backgroundcolor": "rgb(17,17,17)",
            "gridcolor": "#506784",
            "gridwidth": 2,
            "linecolor": "#506784",
            "showbackground": true,
            "ticks": "",
            "zerolinecolor": "#C8D4E3"
           },
           "yaxis": {
            "backgroundcolor": "rgb(17,17,17)",
            "gridcolor": "#506784",
            "gridwidth": 2,
            "linecolor": "#506784",
            "showbackground": true,
            "ticks": "",
            "zerolinecolor": "#C8D4E3"
           },
           "zaxis": {
            "backgroundcolor": "rgb(17,17,17)",
            "gridcolor": "#506784",
            "gridwidth": 2,
            "linecolor": "#506784",
            "showbackground": true,
            "ticks": "",
            "zerolinecolor": "#C8D4E3"
           }
          },
          "shapedefaults": {
           "line": {
            "color": "#f2f5fa"
           }
          },
          "sliderdefaults": {
           "bgcolor": "#C8D4E3",
           "bordercolor": "rgb(17,17,17)",
           "borderwidth": 1,
           "tickwidth": 0
          },
          "ternary": {
           "aaxis": {
            "gridcolor": "#506784",
            "linecolor": "#506784",
            "ticks": ""
           },
           "baxis": {
            "gridcolor": "#506784",
            "linecolor": "#506784",
            "ticks": ""
           },
           "bgcolor": "rgb(17,17,17)",
           "caxis": {
            "gridcolor": "#506784",
            "linecolor": "#506784",
            "ticks": ""
           }
          },
          "title": {
           "x": 0.05
          },
          "updatemenudefaults": {
           "bgcolor": "#506784",
           "borderwidth": 0
          },
          "xaxis": {
           "automargin": true,
           "gridcolor": "#283442",
           "linecolor": "#506784",
           "ticks": "",
           "title": {
            "standoff": 15
           },
           "zerolinecolor": "#283442",
           "zerolinewidth": 2
          },
          "yaxis": {
           "automargin": true,
           "gridcolor": "#283442",
           "linecolor": "#506784",
           "ticks": "",
           "title": {
            "standoff": 15
           },
           "zerolinecolor": "#283442",
           "zerolinewidth": 2
          }
         }
        },
        "title": {
         "text": "Gráfico de Dispersión por Categoría: Precio - Rating"
        },
        "xaxis": {
         "title": {
          "text": "Precio"
         }
        },
        "yaxis": {
         "title": {
          "text": "Rating"
         }
        }
       }
      }
     },
     "metadata": {},
     "output_type": "display_data"
    }
   ],
   "source": [
    "fig = go.Figure()\n",
    "\n",
    "for categoria in df_portatiles['categoria'].unique():\n",
    "    df_filtrado = df_portatiles[df_portatiles['categoria'] == categoria]\n",
    "    fig.add_trace(go.Scatter(\n",
    "        x=df_filtrado['precio'],\n",
    "        y=df_filtrado['rating'],\n",
    "        mode='markers',\n",
    "        name=categoria\n",
    "    ))\n",
    "\n",
    "fig.update_layout(\n",
    "    title='Gráfico de Dispersión por Categoría: Precio - Rating',\n",
    "    xaxis_title='Precio',\n",
    "    yaxis_title='Rating',\n",
    "    template='plotly_dark'\n",
    ")\n",
    "\n",
    "fig.show()"
   ]
  },
  {
   "cell_type": "code",
   "execution_count": 84,
   "metadata": {},
   "outputs": [
    {
     "data": {
      "application/vnd.plotly.v1+json": {
       "config": {
        "plotlyServerURL": "https://plot.ly"
       },
       "data": [
        {
         "mode": "markers",
         "name": "Portátiles con inteligencia artificial",
         "type": "scatter",
         "x": {
          "bdata": "FwBqAAMAXgEBAF4BOAABABcABgAGAAIAFwAXAAAAAQAFAA==",
          "dtype": "i2"
         },
         "y": {
          "bdata": "mpmZmZmZE0BmZmZmZmYSQM3MzMzMzBJAMzMzMzMzE0AAAAAAAAASQDMzMzMzMxNAzczMzMzMEkAAAAAAAAAUQJqZmZmZmRNAMzMzMzMzE0AzMzMzMzMTQAAAAAAAABRAmpmZmZmZE0CamZmZmZkTQAAAAAAAAPh/AAAAAAAAFEAzMzMzMzMTQA==",
          "dtype": "f8"
         }
        },
        {
         "mode": "markers",
         "name": "Estaciones de energía",
         "type": "scatter",
         "x": {
          "bdata": "EQwbFwMCAAArAgEAAAAIAQAHAAIFAAAAAAA=",
          "dtype": "i1"
         },
         "y": {
          "bdata": "AAAAAAAAEkCamZmZmZkTQJqZmZmZmRNAzczMzMzMEkAzMzMzMzMTQDMzMzMzMxFAAAAAAAAA+H8AAAAAAAD4fzMzMzMzMxFAAAAAAAAAFEAAAAAAAAAUQAAAAAAAAPh/AAAAAAAA+H8AAAAAAAD4fzMzMzMzMxNAAAAAAAAAFEAAAAAAAAD4f5qZmZmZmRFAAAAAAAAA+H8AAAAAAAAIQJqZmZmZmRNAAAAAAAAA+H8AAAAAAAD4fwAAAAAAAPh/AAAAAAAA+H8AAAAAAAD4fw==",
          "dtype": "f8"
         }
        },
        {
         "mode": "markers",
         "name": "Altavoces portátiles",
         "type": "scatter",
         "x": {
          "bdata": "PAA8AJkBPAAAAOIEDAABAP8AIAB6AHoA2QF6AAEAAAAWAOIEIgABALECFQAkAAgACQASABIAAgBCAQEAegACAAEAQgF6AG0AAgCWAQIAAAA=",
          "dtype": "i2"
         },
         "y": {
          "bdata": "mpmZmZmZEUCamZmZmZkRQAAAAAAAABJAmpmZmZmZEUAAAAAAAAD4fwAAAAAAABJAMzMzMzMzE0AAAAAAAAAUQM3MzMzMzBJAMzMzMzMzE0AzMzMzMzMTQDMzMzMzMxNAAAAAAAAAEkAzMzMzMzMTQAAAAAAAABRAAAAAAAAA+H+amZmZmZkRQAAAAAAAABJAMzMzMzMzE0AAAAAAAAASQAAAAAAAABJAMzMzMzMzE0DNzMzMzMwSQJqZmZmZmRFAMzMzMzMzE0DNzMzMzMwSQM3MzMzMzBJAAAAAAAAAFEDNzMzMzMwSQAAAAAAAABBAMzMzMzMzE0AAAAAAAAASQAAAAAAAABBAzczMzMzMEkAzMzMzMzMTQAAAAAAAAAxAAAAAAAAAEkAzMzMzMzMTQAAAAAAAABRAAAAAAAAA+H8=",
          "dtype": "f8"
         }
        },
        {
         "mode": "markers",
         "name": "Lenovo",
         "type": "scatter",
         "x": {
          "bdata": "TQIzAFQCJQEZAQgAEwAZAQcAIAADAAsALwA1BQAAMgAbABAABgAFAAAAAwABAA==",
          "dtype": "i2"
         },
         "y": {
          "bdata": "AAAAAAAAEkBmZmZmZmYSQAAAAAAAABJAAAAAAAAAEkBmZmZmZmYSQDMzMzMzMxNAzczMzMzMEEBmZmZmZmYSQM3MzMzMzBJAmpmZmZmZEUAAAAAAAAASQAAAAAAAABJAAAAAAAAAEkBmZmZmZmYSQAAAAAAAAPh/AAAAAAAAEkAzMzMzMzMTQGZmZmZmZhJAMzMzMzMzEUAAAAAAAAAUQAAAAAAAAPh/AAAAAAAAFEAAAAAAAAAEQA==",
          "dtype": "f8"
         }
        },
        {
         "mode": "markers",
         "name": "Repuestos",
         "type": "scatter",
         "x": {
          "bdata": "EQC2AAcAEgABAAEAAAAGAAIAAAADAAMAAAAAAAAAAQAFABoADwEBAAAAAAABAAMAAQAAAAAAAAAFAAAABQAAAAAAAQAAAAEAAQAAABcAAAA=",
          "dtype": "i2"
         },
         "y": {
          "bdata": "MzMzMzMzEUAAAAAAAAASQGZmZmZmZhJAAAAAAAAAEkAAAAAAAAAUQAAAAAAAABRAAAAAAAAA+H8AAAAAAAASQDMzMzMzMxNAAAAAAAAA+H8AAAAAAAAUQAAAAAAAABRAAAAAAAAA+H8AAAAAAAD4fwAAAAAAAPh/AAAAAAAAFEDNzMzMzMwSQM3MzMzMzBBAZmZmZmZmEEAAAAAAAAASQAAAAAAAAPh/AAAAAAAA+H8AAAAAAAAUQM3MzMzMzBJAAAAAAAAAFEAAAAAAAAD4fwAAAAAAAPh/AAAAAAAA+H8zMzMzMzMRQAAAAAAAAPh/ZmZmZmZmEEAAAAAAAAD4fwAAAAAAAPh/AAAAAAAAFEAAAAAAAAD4fwAAAAAAABRAAAAAAAAAFEAAAAAAAAD4f5qZmZmZmRFAAAAAAAAA+H8=",
          "dtype": "f8"
         }
        },
        {
         "mode": "markers",
         "name": "Alurin",
         "type": "scatter",
         "x": {
          "bdata": "ZQFAAGUBpgFlAWUBZQFlAWUBAABlAWUBZQFAAGUBZQFlAWUBzgBlAc4AZQFlAWUBQABBAEAAQQBBABkAGQBlAWUBZQEZABkAZQE=",
          "dtype": "i2"
         },
         "y": {
          "bdata": "zczMzMzMEEAzMzMzMzMPQM3MzMzMzBBAMzMzMzMzD0DNzMzMzMwQQM3MzMzMzBBAzczMzMzMEEDNzMzMzMwQQM3MzMzMzBBAAAAAAAAA+H/NzMzMzMwQQM3MzMzMzBBAzczMzMzMEEAzMzMzMzMPQM3MzMzMzBBAzczMzMzMEEDNzMzMzMwQQM3MzMzMzBBAMzMzMzMzEUDNzMzMzMwQQDMzMzMzMxFAzczMzMzMEEDNzMzMzMwQQM3MzMzMzBBAMzMzMzMzD0AzMzMzMzMPQDMzMzMzMw9AMzMzMzMzD0AzMzMzMzMPQM3MzMzMzBBAzczMzMzMEEDNzMzMzMwQQM3MzMzMzBBAzczMzMzMEEDNzMzMzMwQQM3MzMzMzBBAzczMzMzMEEA=",
          "dtype": "f8"
         }
        },
        {
         "mode": "markers",
         "name": "HP",
         "type": "scatter",
         "x": {
          "bdata": "VAQ3APcATgFOAU4BXABcANoEVAQ3AIQAAAAAAAIAQwDQBCUABQAAAAAAlwCgAKMAAABpAKAADgDaBGEAAQBDACcA/gA=",
          "dtype": "i2"
         },
         "y": {
          "bdata": "ZmZmZmZmEkAAAAAAAAASQGZmZmZmZhJAAAAAAAAAEkAAAAAAAAASQAAAAAAAABJAAAAAAAAAEkAAAAAAAAASQGZmZmZmZhJAZmZmZmZmEkAAAAAAAAASQGZmZmZmZhJAAAAAAAAA+H8AAAAAAAD4fwAAAAAAABRAAAAAAAAAEkBmZmZmZmYSQDMzMzMzMxFAMzMzMzMzEUAAAAAAAAD4fwAAAAAAAPh/mpmZmZmZEUBmZmZmZmYSQAAAAAAAABJAAAAAAAAA+H8AAAAAAAASQGZmZmZmZhJAzczMzMzMEEBmZmZmZmYSQAAAAAAAABBAAAAAAAAAFEAAAAAAAAASQGZmZmZmZhBAAAAAAAAAEkA=",
          "dtype": "f8"
         }
        },
        {
         "mode": "markers",
         "name": "Portátiles con Windows",
         "type": "scatter",
         "x": {
          "bdata": "2gEZAaYBEAIAAGkAAAAZAYQAAAA0AAUAAgAcAGUBAAA=",
          "dtype": "i2"
         },
         "y": {
          "bdata": "AAAAAAAAEkBmZmZmZmYSQDMzMzMzMw9AZmZmZmZmEkAAAAAAAAD4fwAAAAAAABJAAAAAAAAA+H9mZmZmZmYSQAAAAAAAABJAAAAAAAAA+H9mZmZmZmYSQDMzMzMzMxNAMzMzMzMzE0AzMzMzMzMTQM3MzMzMzBBAAAAAAAAA+H8=",
          "dtype": "f8"
         }
        },
        {
         "mode": "markers",
         "name": "ASUS",
         "type": "scatter",
         "x": {
          "bdata": "GQAHABEAHADfBQUAMgAMADIADQAPAMQDAABQAAYAFAA4AJEAAAACAAAADQAIAAMAAACiARkACQA/AAQAAwA=",
          "dtype": "i2"
         },
         "y": {
          "bdata": "zczMzMzMEkDNzMzMzMwSQM3MzMzMzBBAMzMzMzMzE0BmZmZmZmYSQDMzMzMzMxFAMzMzMzMzEUBmZmZmZmYSQDMzMzMzMxFAZmZmZmZmEEDNzMzMzMwQQAAAAAAAABJAAAAAAAAA+H+amZmZmZkRQAAAAAAAABBAzczMzMzMEkAAAAAAAAASQGZmZmZmZhJAAAAAAAAA+H9mZmZmZmYKQAAAAAAAAPh/MzMzMzMzEUAzMzMzMzMPQDMzMzMzMxNAAAAAAAAA+H/NzMzMzMwSQAAAAAAAABJAZmZmZmZmEkAzMzMzMzMRQDMzMzMzMw9AmpmZmZmZDUA=",
          "dtype": "f8"
         }
        },
        {
         "mode": "markers",
         "name": "Monitor portátil",
         "type": "scatter",
         "x": {
          "bdata": "eAAeABcAsQBBABkAJAAQALEAAQACAAYAAQABAB4AsQAfAAQAJAAAACQAAACxAAMAsQAeALEAQQAAALEAHgAeAAgAAAACAAAAAAAAAAAAAAA=",
          "dtype": "i2"
         },
         "y": {
          "bdata": "AAAAAAAAEkAAAAAAAAAQQM3MzMzMzBJAzczMzMzMEEDNzMzMzMwQQAAAAAAAABJAzczMzMzMEkAzMzMzMzMRQM3MzMzMzBBAAAAAAAAAFEAAAAAAAAAUQAAAAAAAABBAAAAAAAAAFEAAAAAAAAASQAAAAAAAABJAzczMzMzMEEAAAAAAAAASQJqZmZmZmRNAAAAAAAAAEkAAAAAAAAD4fwAAAAAAABJAAAAAAAAA+H/NzMzMzMwQQDMzMzMzMxNAzczMzMzMEEAAAAAAAAASQM3MzMzMzBBAzczMzMzMEEAAAAAAAAD4f83MzMzMzBBAAAAAAAAAEkAAAAAAAAASQAAAAAAAABJAAAAAAAAA+H8AAAAAAAAQQAAAAAAAAPh/AAAAAAAA+H8AAAAAAAD4fwAAAAAAAPh/AAAAAAAA+H8=",
          "dtype": "f8"
         }
        },
        {
         "mode": "markers",
         "name": "Cocinas portátiles",
         "type": "scatter",
         "x": {
          "bdata": "IBUCIwARAgAACQAAAAAAAAAEAQAAAAAAAQAAAAAAAAcAAAAAAAAAAg==",
          "dtype": "i1"
         },
         "y": {
          "bdata": "zczMzMzMEkDNzMzMzMwSQAAAAAAAABJAMzMzMzMzEUAAAAAAAAD4f83MzMzMzBBAMzMzMzMzEUAAAAAAAAD4fwAAAAAAAPh/MzMzMzMzB0AAAAAAAAD4fwAAAAAAAPh/AAAAAAAA+H8AAAAAAAD4fwAAAAAAAPh/AAAAAAAA+H8AAAAAAAD4fzMzMzMzMw9AAAAAAAAA4D8AAAAAAAD4fwAAAAAAAPh/AAAAAAAA+H8AAAAAAAD4fwAAAAAAAPh/AAAAAAAAFEAAAAAAAAD4fwAAAAAAAPh/AAAAAAAA+H8AAAAAAAD4fwAAAAAAAPh/AAAAAAAA+H+amZmZmZkRQAAAAAAAAPh/AAAAAAAA+H8AAAAAAAD4fwAAAAAAAPh/AAAAAAAA+H8AAAAAAAD4fwAAAAAAAPh/MzMzMzMzE0A=",
          "dtype": "f8"
         }
        },
        {
         "mode": "markers",
         "name": "MSI",
         "type": "scatter",
         "x": {
          "bdata": "9ABnAPgB7gLqAU4CfABnAMIA3wGOA04CwgA1ADUAHwBnAIYA3wFuAGcAHwAnAMIAwgAWARQAAwAvADAA",
          "dtype": "i2"
         },
         "y": {
          "bdata": "AAAAAAAAEkCamZmZmZkRQGZmZmZmZhJAAAAAAAAAEkAAAAAAAAASQAAAAAAAABJAZmZmZmZmEkCamZmZmZkRQAAAAAAAABJAAAAAAAAAEkAAAAAAAAASQAAAAAAAABJAAAAAAAAAEkAAAAAAAAAQQAAAAAAAABBAzczMzMzMEkCamZmZmZkRQGZmZmZmZhJAAAAAAAAAEkAAAAAAAAASQJqZmZmZmRFAzczMzMzMEkAzMzMzMzMRQAAAAAAAABJAAAAAAAAAEkAAAAAAAAASQDMzMzMzMxFAAAAAAAAAFEBmZmZmZmYSQGZmZmZmZhJA",
          "dtype": "f8"
         }
        },
        {
         "mode": "markers",
         "name": "Portátiles 2 en 1 convertibles",
         "type": "scatter",
         "x": {
          "bdata": "BwAMACcACAAdAAEABQAgAAIAAQBGAAQAAgCUAAUACAACAAQAEAAZAAIAAAAAABgACgAKAAoANwAAAAAAAAAWAAIABABGAAAABAABABIAAAA=",
          "dtype": "i2"
         },
         "y": {
          "bdata": "mpmZmZmZE0CamZmZmZkTQGZmZmZmZhJAZmZmZmZmEkCamZmZmZkRQAAAAAAAABJAmpmZmZmZE0BmZmZmZmYSQAAAAAAAABRAAAAAAAAAEkDNzMzMzMwSQAAAAAAAABBAAAAAAAAAFEAzMzMzMzMRQJqZmZmZmRNAZmZmZmZmEkAAAAAAAAASQAAAAAAAABBAzczMzMzMEkCamZmZmZkNQGZmZmZmZg5AAAAAAAAA+H8AAAAAAAD4f83MzMzMzBJAMzMzMzMzD0AzMzMzMzMPQDMzMzMzMw9AZmZmZmZmEkAAAAAAAAD4fwAAAAAAAPh/AAAAAAAA+H8AAAAAAAAQQAAAAAAAABJAzczMzMzMDEDNzMzMzMwSQAAAAAAAAPh/zczMzMzMDEAAAAAAAAAUQGZmZmZmZhJAAAAAAAAA+H8=",
          "dtype": "f8"
         }
        },
        {
         "mode": "markers",
         "name": "Neveras portátiles",
         "type": "scatter",
         "x": {
          "bdata": "AQQEAQEAAAAAAAAAAQEAAAABBAgICAgAAQAAAQECAAEAAAEBAAAAAA==",
          "dtype": "i1"
         },
         "y": {
          "bdata": "AAAAAAAA4D8zMzMzMzMHQDMzMzMzMwdAAAAAAAAAFEAAAAAAAAAUQAAAAAAAAPh/AAAAAAAA+H8AAAAAAAD4fwAAAAAAAPh/AAAAAAAA+H8AAAAAAAD4fwAAAAAAAPh/AAAAAAAAFEAAAAAAAAAUQAAAAAAAAPh/AAAAAAAA+H8AAAAAAAD4fwAAAAAAABRAMzMzMzMzB0DNzMzMzMwMQM3MzMzMzAxAzczMzMzMDEDNzMzMzMwMQAAAAAAAAPh/AAAAAAAA4D8AAAAAAAD4fwAAAAAAAPh/AAAAAAAA4D8AAAAAAAAUQAAAAAAAABRAAAAAAAAA+H8AAAAAAAAUQAAAAAAAAPh/AAAAAAAA+H8AAAAAAAAUQAAAAAAAABRAAAAAAAAA+H8AAAAAAAD4fwAAAAAAAPh/AAAAAAAA+H8=",
          "dtype": "f8"
         }
        },
        {
         "mode": "markers",
         "name": "Portátiles",
         "type": "scatter",
         "x": {
          "bdata": "pgGEADQB8gBTACgC4gQrAIYATgJTAN8B2gT0BNoEhABYAF4BEwAiAG0A8gBPAMIA+AFeARkAwgBoAMQD3wEyAF4BXgEzADYACgBeAfgB+AE=",
          "dtype": "i2"
         },
         "y": {
          "bdata": "MzMzMzMzD0AAAAAAAAASQAAAAAAAABJAAAAAAAAAEkAAAAAAAAASQGZmZmZmZhJAmpmZmZmZEUAzMzMzMzMTQM3MzMzMzBJAAAAAAAAAEkAAAAAAAAASQAAAAAAAABJAZmZmZmZmEkBmZmZmZmYSQGZmZmZmZhJAZmZmZmZmEkDNzMzMzMwSQDMzMzMzMxNAMzMzMzMzE0BmZmZmZmYSQJqZmZmZmRFAAAAAAAAAEkCamZmZmZkRQAAAAAAAABJAZmZmZmZmEkAzMzMzMzMTQJqZmZmZmRNAAAAAAAAAEkAzMzMzMzMRQAAAAAAAABJAAAAAAAAAEkAzMzMzMzMRQDMzMzMzMxNAMzMzMzMzE0BmZmZmZmYSQGZmZmZmZhJAAAAAAAAAEEAzMzMzMzMTQGZmZmZmZhJAZmZmZmZmEkA=",
          "dtype": "f8"
         }
        }
       ],
       "layout": {
        "template": {
         "data": {
          "bar": [
           {
            "error_x": {
             "color": "#f2f5fa"
            },
            "error_y": {
             "color": "#f2f5fa"
            },
            "marker": {
             "line": {
              "color": "rgb(17,17,17)",
              "width": 0.5
             },
             "pattern": {
              "fillmode": "overlay",
              "size": 10,
              "solidity": 0.2
             }
            },
            "type": "bar"
           }
          ],
          "barpolar": [
           {
            "marker": {
             "line": {
              "color": "rgb(17,17,17)",
              "width": 0.5
             },
             "pattern": {
              "fillmode": "overlay",
              "size": 10,
              "solidity": 0.2
             }
            },
            "type": "barpolar"
           }
          ],
          "carpet": [
           {
            "aaxis": {
             "endlinecolor": "#A2B1C6",
             "gridcolor": "#506784",
             "linecolor": "#506784",
             "minorgridcolor": "#506784",
             "startlinecolor": "#A2B1C6"
            },
            "baxis": {
             "endlinecolor": "#A2B1C6",
             "gridcolor": "#506784",
             "linecolor": "#506784",
             "minorgridcolor": "#506784",
             "startlinecolor": "#A2B1C6"
            },
            "type": "carpet"
           }
          ],
          "choropleth": [
           {
            "colorbar": {
             "outlinewidth": 0,
             "ticks": ""
            },
            "type": "choropleth"
           }
          ],
          "contour": [
           {
            "colorbar": {
             "outlinewidth": 0,
             "ticks": ""
            },
            "colorscale": [
             [
              0,
              "#0d0887"
             ],
             [
              0.1111111111111111,
              "#46039f"
             ],
             [
              0.2222222222222222,
              "#7201a8"
             ],
             [
              0.3333333333333333,
              "#9c179e"
             ],
             [
              0.4444444444444444,
              "#bd3786"
             ],
             [
              0.5555555555555556,
              "#d8576b"
             ],
             [
              0.6666666666666666,
              "#ed7953"
             ],
             [
              0.7777777777777778,
              "#fb9f3a"
             ],
             [
              0.8888888888888888,
              "#fdca26"
             ],
             [
              1,
              "#f0f921"
             ]
            ],
            "type": "contour"
           }
          ],
          "contourcarpet": [
           {
            "colorbar": {
             "outlinewidth": 0,
             "ticks": ""
            },
            "type": "contourcarpet"
           }
          ],
          "heatmap": [
           {
            "colorbar": {
             "outlinewidth": 0,
             "ticks": ""
            },
            "colorscale": [
             [
              0,
              "#0d0887"
             ],
             [
              0.1111111111111111,
              "#46039f"
             ],
             [
              0.2222222222222222,
              "#7201a8"
             ],
             [
              0.3333333333333333,
              "#9c179e"
             ],
             [
              0.4444444444444444,
              "#bd3786"
             ],
             [
              0.5555555555555556,
              "#d8576b"
             ],
             [
              0.6666666666666666,
              "#ed7953"
             ],
             [
              0.7777777777777778,
              "#fb9f3a"
             ],
             [
              0.8888888888888888,
              "#fdca26"
             ],
             [
              1,
              "#f0f921"
             ]
            ],
            "type": "heatmap"
           }
          ],
          "histogram": [
           {
            "marker": {
             "pattern": {
              "fillmode": "overlay",
              "size": 10,
              "solidity": 0.2
             }
            },
            "type": "histogram"
           }
          ],
          "histogram2d": [
           {
            "colorbar": {
             "outlinewidth": 0,
             "ticks": ""
            },
            "colorscale": [
             [
              0,
              "#0d0887"
             ],
             [
              0.1111111111111111,
              "#46039f"
             ],
             [
              0.2222222222222222,
              "#7201a8"
             ],
             [
              0.3333333333333333,
              "#9c179e"
             ],
             [
              0.4444444444444444,
              "#bd3786"
             ],
             [
              0.5555555555555556,
              "#d8576b"
             ],
             [
              0.6666666666666666,
              "#ed7953"
             ],
             [
              0.7777777777777778,
              "#fb9f3a"
             ],
             [
              0.8888888888888888,
              "#fdca26"
             ],
             [
              1,
              "#f0f921"
             ]
            ],
            "type": "histogram2d"
           }
          ],
          "histogram2dcontour": [
           {
            "colorbar": {
             "outlinewidth": 0,
             "ticks": ""
            },
            "colorscale": [
             [
              0,
              "#0d0887"
             ],
             [
              0.1111111111111111,
              "#46039f"
             ],
             [
              0.2222222222222222,
              "#7201a8"
             ],
             [
              0.3333333333333333,
              "#9c179e"
             ],
             [
              0.4444444444444444,
              "#bd3786"
             ],
             [
              0.5555555555555556,
              "#d8576b"
             ],
             [
              0.6666666666666666,
              "#ed7953"
             ],
             [
              0.7777777777777778,
              "#fb9f3a"
             ],
             [
              0.8888888888888888,
              "#fdca26"
             ],
             [
              1,
              "#f0f921"
             ]
            ],
            "type": "histogram2dcontour"
           }
          ],
          "mesh3d": [
           {
            "colorbar": {
             "outlinewidth": 0,
             "ticks": ""
            },
            "type": "mesh3d"
           }
          ],
          "parcoords": [
           {
            "line": {
             "colorbar": {
              "outlinewidth": 0,
              "ticks": ""
             }
            },
            "type": "parcoords"
           }
          ],
          "pie": [
           {
            "automargin": true,
            "type": "pie"
           }
          ],
          "scatter": [
           {
            "marker": {
             "line": {
              "color": "#283442"
             }
            },
            "type": "scatter"
           }
          ],
          "scatter3d": [
           {
            "line": {
             "colorbar": {
              "outlinewidth": 0,
              "ticks": ""
             }
            },
            "marker": {
             "colorbar": {
              "outlinewidth": 0,
              "ticks": ""
             }
            },
            "type": "scatter3d"
           }
          ],
          "scattercarpet": [
           {
            "marker": {
             "colorbar": {
              "outlinewidth": 0,
              "ticks": ""
             }
            },
            "type": "scattercarpet"
           }
          ],
          "scattergeo": [
           {
            "marker": {
             "colorbar": {
              "outlinewidth": 0,
              "ticks": ""
             }
            },
            "type": "scattergeo"
           }
          ],
          "scattergl": [
           {
            "marker": {
             "line": {
              "color": "#283442"
             }
            },
            "type": "scattergl"
           }
          ],
          "scattermap": [
           {
            "marker": {
             "colorbar": {
              "outlinewidth": 0,
              "ticks": ""
             }
            },
            "type": "scattermap"
           }
          ],
          "scattermapbox": [
           {
            "marker": {
             "colorbar": {
              "outlinewidth": 0,
              "ticks": ""
             }
            },
            "type": "scattermapbox"
           }
          ],
          "scatterpolar": [
           {
            "marker": {
             "colorbar": {
              "outlinewidth": 0,
              "ticks": ""
             }
            },
            "type": "scatterpolar"
           }
          ],
          "scatterpolargl": [
           {
            "marker": {
             "colorbar": {
              "outlinewidth": 0,
              "ticks": ""
             }
            },
            "type": "scatterpolargl"
           }
          ],
          "scatterternary": [
           {
            "marker": {
             "colorbar": {
              "outlinewidth": 0,
              "ticks": ""
             }
            },
            "type": "scatterternary"
           }
          ],
          "surface": [
           {
            "colorbar": {
             "outlinewidth": 0,
             "ticks": ""
            },
            "colorscale": [
             [
              0,
              "#0d0887"
             ],
             [
              0.1111111111111111,
              "#46039f"
             ],
             [
              0.2222222222222222,
              "#7201a8"
             ],
             [
              0.3333333333333333,
              "#9c179e"
             ],
             [
              0.4444444444444444,
              "#bd3786"
             ],
             [
              0.5555555555555556,
              "#d8576b"
             ],
             [
              0.6666666666666666,
              "#ed7953"
             ],
             [
              0.7777777777777778,
              "#fb9f3a"
             ],
             [
              0.8888888888888888,
              "#fdca26"
             ],
             [
              1,
              "#f0f921"
             ]
            ],
            "type": "surface"
           }
          ],
          "table": [
           {
            "cells": {
             "fill": {
              "color": "#506784"
             },
             "line": {
              "color": "rgb(17,17,17)"
             }
            },
            "header": {
             "fill": {
              "color": "#2a3f5f"
             },
             "line": {
              "color": "rgb(17,17,17)"
             }
            },
            "type": "table"
           }
          ]
         },
         "layout": {
          "annotationdefaults": {
           "arrowcolor": "#f2f5fa",
           "arrowhead": 0,
           "arrowwidth": 1
          },
          "autotypenumbers": "strict",
          "coloraxis": {
           "colorbar": {
            "outlinewidth": 0,
            "ticks": ""
           }
          },
          "colorscale": {
           "diverging": [
            [
             0,
             "#8e0152"
            ],
            [
             0.1,
             "#c51b7d"
            ],
            [
             0.2,
             "#de77ae"
            ],
            [
             0.3,
             "#f1b6da"
            ],
            [
             0.4,
             "#fde0ef"
            ],
            [
             0.5,
             "#f7f7f7"
            ],
            [
             0.6,
             "#e6f5d0"
            ],
            [
             0.7,
             "#b8e186"
            ],
            [
             0.8,
             "#7fbc41"
            ],
            [
             0.9,
             "#4d9221"
            ],
            [
             1,
             "#276419"
            ]
           ],
           "sequential": [
            [
             0,
             "#0d0887"
            ],
            [
             0.1111111111111111,
             "#46039f"
            ],
            [
             0.2222222222222222,
             "#7201a8"
            ],
            [
             0.3333333333333333,
             "#9c179e"
            ],
            [
             0.4444444444444444,
             "#bd3786"
            ],
            [
             0.5555555555555556,
             "#d8576b"
            ],
            [
             0.6666666666666666,
             "#ed7953"
            ],
            [
             0.7777777777777778,
             "#fb9f3a"
            ],
            [
             0.8888888888888888,
             "#fdca26"
            ],
            [
             1,
             "#f0f921"
            ]
           ],
           "sequentialminus": [
            [
             0,
             "#0d0887"
            ],
            [
             0.1111111111111111,
             "#46039f"
            ],
            [
             0.2222222222222222,
             "#7201a8"
            ],
            [
             0.3333333333333333,
             "#9c179e"
            ],
            [
             0.4444444444444444,
             "#bd3786"
            ],
            [
             0.5555555555555556,
             "#d8576b"
            ],
            [
             0.6666666666666666,
             "#ed7953"
            ],
            [
             0.7777777777777778,
             "#fb9f3a"
            ],
            [
             0.8888888888888888,
             "#fdca26"
            ],
            [
             1,
             "#f0f921"
            ]
           ]
          },
          "colorway": [
           "#636efa",
           "#EF553B",
           "#00cc96",
           "#ab63fa",
           "#FFA15A",
           "#19d3f3",
           "#FF6692",
           "#B6E880",
           "#FF97FF",
           "#FECB52"
          ],
          "font": {
           "color": "#f2f5fa"
          },
          "geo": {
           "bgcolor": "rgb(17,17,17)",
           "lakecolor": "rgb(17,17,17)",
           "landcolor": "rgb(17,17,17)",
           "showlakes": true,
           "showland": true,
           "subunitcolor": "#506784"
          },
          "hoverlabel": {
           "align": "left"
          },
          "hovermode": "closest",
          "mapbox": {
           "style": "dark"
          },
          "paper_bgcolor": "rgb(17,17,17)",
          "plot_bgcolor": "rgb(17,17,17)",
          "polar": {
           "angularaxis": {
            "gridcolor": "#506784",
            "linecolor": "#506784",
            "ticks": ""
           },
           "bgcolor": "rgb(17,17,17)",
           "radialaxis": {
            "gridcolor": "#506784",
            "linecolor": "#506784",
            "ticks": ""
           }
          },
          "scene": {
           "xaxis": {
            "backgroundcolor": "rgb(17,17,17)",
            "gridcolor": "#506784",
            "gridwidth": 2,
            "linecolor": "#506784",
            "showbackground": true,
            "ticks": "",
            "zerolinecolor": "#C8D4E3"
           },
           "yaxis": {
            "backgroundcolor": "rgb(17,17,17)",
            "gridcolor": "#506784",
            "gridwidth": 2,
            "linecolor": "#506784",
            "showbackground": true,
            "ticks": "",
            "zerolinecolor": "#C8D4E3"
           },
           "zaxis": {
            "backgroundcolor": "rgb(17,17,17)",
            "gridcolor": "#506784",
            "gridwidth": 2,
            "linecolor": "#506784",
            "showbackground": true,
            "ticks": "",
            "zerolinecolor": "#C8D4E3"
           }
          },
          "shapedefaults": {
           "line": {
            "color": "#f2f5fa"
           }
          },
          "sliderdefaults": {
           "bgcolor": "#C8D4E3",
           "bordercolor": "rgb(17,17,17)",
           "borderwidth": 1,
           "tickwidth": 0
          },
          "ternary": {
           "aaxis": {
            "gridcolor": "#506784",
            "linecolor": "#506784",
            "ticks": ""
           },
           "baxis": {
            "gridcolor": "#506784",
            "linecolor": "#506784",
            "ticks": ""
           },
           "bgcolor": "rgb(17,17,17)",
           "caxis": {
            "gridcolor": "#506784",
            "linecolor": "#506784",
            "ticks": ""
           }
          },
          "title": {
           "x": 0.05
          },
          "updatemenudefaults": {
           "bgcolor": "#506784",
           "borderwidth": 0
          },
          "xaxis": {
           "automargin": true,
           "gridcolor": "#283442",
           "linecolor": "#506784",
           "ticks": "",
           "title": {
            "standoff": 15
           },
           "zerolinecolor": "#283442",
           "zerolinewidth": 2
          },
          "yaxis": {
           "automargin": true,
           "gridcolor": "#283442",
           "linecolor": "#506784",
           "ticks": "",
           "title": {
            "standoff": 15
           },
           "zerolinecolor": "#283442",
           "zerolinewidth": 2
          }
         }
        },
        "title": {
         "text": "Gráfico de Dispersión por Categoría: Opiniones - Rating"
        },
        "xaxis": {
         "title": {
          "text": "opiniones"
         }
        },
        "yaxis": {
         "title": {
          "text": "Rating"
         }
        }
       }
      }
     },
     "metadata": {},
     "output_type": "display_data"
    }
   ],
   "source": [
    "fig = go.Figure()\n",
    "\n",
    "for categoria in df_portatiles['categoria'].unique():\n",
    "    df_filtrado = df_portatiles[df_portatiles['categoria'] == categoria]\n",
    "    fig.add_trace(go.Scatter(\n",
    "        x=df_filtrado['opiniones'],\n",
    "        y=df_filtrado['rating'],\n",
    "        mode='markers',\n",
    "        name=categoria\n",
    "    ))\n",
    "\n",
    "fig.update_layout(\n",
    "    title='Gráfico de Dispersión por Categoría: Opiniones - Rating',\n",
    "    xaxis_title='opiniones',\n",
    "    yaxis_title='Rating',\n",
    "    template='plotly_dark'\n",
    ")\n",
    "\n",
    "fig.show()"
   ]
  },
  {
   "cell_type": "code",
   "execution_count": 85,
   "metadata": {},
   "outputs": [],
   "source": [
    "df_portatiles['descuento_%'] = (((df_portatiles['precio'] - df_portatiles['precio_tachado']) / df_portatiles['precio']) * 100)*-1\n",
    "df_portatiles['descuento_%'] = df_portatiles['descuento_%'].round(2)\n",
    "df_portatiles['descuento_%'] = df_portatiles['descuento_%'].fillna(0)\n"
   ]
  },
  {
   "cell_type": "code",
   "execution_count": 86,
   "metadata": {},
   "outputs": [
    {
     "name": "stdout",
     "output_type": "stream",
     "text": [
      "<class 'pandas.core.frame.DataFrame'>\n",
      "RangeIndex: 494 entries, 0 to 493\n",
      "Data columns (total 10 columns):\n",
      " #   Column          Non-Null Count  Dtype         \n",
      "---  ------          --------------  -----         \n",
      " 0   producto_id     494 non-null    int64         \n",
      " 1   timestamp       494 non-null    datetime64[ns]\n",
      " 2   nombre          494 non-null    object        \n",
      " 3   url             494 non-null    object        \n",
      " 4   precio          494 non-null    float64       \n",
      " 5   precio_tachado  272 non-null    float64       \n",
      " 6   rating          382 non-null    float64       \n",
      " 7   opiniones       494 non-null    int64         \n",
      " 8   categoria       494 non-null    object        \n",
      " 9   descuento_%     494 non-null    float64       \n",
      "dtypes: datetime64[ns](1), float64(4), int64(2), object(3)\n",
      "memory usage: 38.7+ KB\n"
     ]
    }
   ],
   "source": [
    "df_portatiles.info()"
   ]
  },
  {
   "cell_type": "code",
   "execution_count": null,
   "metadata": {},
   "outputs": [
    {
     "data": {
      "application/vnd.plotly.v1+json": {
       "config": {
        "plotlyServerURL": "https://plot.ly"
       },
       "data": [
        {
         "bingroup": "x",
         "hovertemplate": "categoria=Portátiles con inteligencia artificial<br>rating=%{x}<br>count=%{y}<extra></extra>",
         "legendgroup": "Portátiles con inteligencia artificial",
         "marker": {
          "color": "#636efa",
          "pattern": {
           "shape": ""
          }
         },
         "name": "Portátiles con inteligencia artificial",
         "orientation": "v",
         "showlegend": true,
         "type": "histogram",
         "x": {
          "bdata": "mpmZmZmZE0BmZmZmZmYSQM3MzMzMzBJAMzMzMzMzE0AAAAAAAAASQDMzMzMzMxNAzczMzMzMEkAAAAAAAAAUQJqZmZmZmRNAMzMzMzMzE0AzMzMzMzMTQAAAAAAAABRAmpmZmZmZE0CamZmZmZkTQAAAAAAAAPh/AAAAAAAAFEAzMzMzMzMTQA==",
          "dtype": "f8"
         },
         "xaxis": "x",
         "yaxis": "y"
        },
        {
         "bingroup": "x",
         "hovertemplate": "categoria=Estaciones de energía<br>rating=%{x}<br>count=%{y}<extra></extra>",
         "legendgroup": "Estaciones de energía",
         "marker": {
          "color": "#EF553B",
          "pattern": {
           "shape": ""
          }
         },
         "name": "Estaciones de energía",
         "orientation": "v",
         "showlegend": true,
         "type": "histogram",
         "x": {
          "bdata": "AAAAAAAAEkCamZmZmZkTQJqZmZmZmRNAzczMzMzMEkAzMzMzMzMTQDMzMzMzMxFAAAAAAAAA+H8AAAAAAAD4fzMzMzMzMxFAAAAAAAAAFEAAAAAAAAAUQAAAAAAAAPh/AAAAAAAA+H8AAAAAAAD4fzMzMzMzMxNAAAAAAAAAFEAAAAAAAAD4f5qZmZmZmRFAAAAAAAAA+H8AAAAAAAAIQJqZmZmZmRNAAAAAAAAA+H8AAAAAAAD4fwAAAAAAAPh/AAAAAAAA+H8AAAAAAAD4fw==",
          "dtype": "f8"
         },
         "xaxis": "x",
         "yaxis": "y"
        },
        {
         "bingroup": "x",
         "hovertemplate": "categoria=Altavoces portátiles<br>rating=%{x}<br>count=%{y}<extra></extra>",
         "legendgroup": "Altavoces portátiles",
         "marker": {
          "color": "#00cc96",
          "pattern": {
           "shape": ""
          }
         },
         "name": "Altavoces portátiles",
         "orientation": "v",
         "showlegend": true,
         "type": "histogram",
         "x": {
          "bdata": "mpmZmZmZEUCamZmZmZkRQAAAAAAAABJAmpmZmZmZEUAAAAAAAAD4fwAAAAAAABJAMzMzMzMzE0AAAAAAAAAUQM3MzMzMzBJAMzMzMzMzE0AzMzMzMzMTQDMzMzMzMxNAAAAAAAAAEkAzMzMzMzMTQAAAAAAAABRAAAAAAAAA+H+amZmZmZkRQAAAAAAAABJAMzMzMzMzE0AAAAAAAAASQAAAAAAAABJAMzMzMzMzE0DNzMzMzMwSQJqZmZmZmRFAMzMzMzMzE0DNzMzMzMwSQM3MzMzMzBJAAAAAAAAAFEDNzMzMzMwSQAAAAAAAABBAMzMzMzMzE0AAAAAAAAASQAAAAAAAABBAzczMzMzMEkAzMzMzMzMTQAAAAAAAAAxAAAAAAAAAEkAzMzMzMzMTQAAAAAAAABRAAAAAAAAA+H8=",
          "dtype": "f8"
         },
         "xaxis": "x",
         "yaxis": "y"
        },
        {
         "bingroup": "x",
         "hovertemplate": "categoria=Lenovo<br>rating=%{x}<br>count=%{y}<extra></extra>",
         "legendgroup": "Lenovo",
         "marker": {
          "color": "#ab63fa",
          "pattern": {
           "shape": ""
          }
         },
         "name": "Lenovo",
         "orientation": "v",
         "showlegend": true,
         "type": "histogram",
         "x": {
          "bdata": "AAAAAAAAEkBmZmZmZmYSQAAAAAAAABJAAAAAAAAAEkBmZmZmZmYSQDMzMzMzMxNAzczMzMzMEEBmZmZmZmYSQM3MzMzMzBJAmpmZmZmZEUAAAAAAAAASQAAAAAAAABJAAAAAAAAAEkBmZmZmZmYSQAAAAAAAAPh/AAAAAAAAEkAzMzMzMzMTQGZmZmZmZhJAMzMzMzMzEUAAAAAAAAAUQAAAAAAAAPh/AAAAAAAAFEAAAAAAAAAEQA==",
          "dtype": "f8"
         },
         "xaxis": "x",
         "yaxis": "y"
        },
        {
         "bingroup": "x",
         "hovertemplate": "categoria=Repuestos<br>rating=%{x}<br>count=%{y}<extra></extra>",
         "legendgroup": "Repuestos",
         "marker": {
          "color": "#FFA15A",
          "pattern": {
           "shape": ""
          }
         },
         "name": "Repuestos",
         "orientation": "v",
         "showlegend": true,
         "type": "histogram",
         "x": {
          "bdata": "MzMzMzMzEUAAAAAAAAASQGZmZmZmZhJAAAAAAAAAEkAAAAAAAAAUQAAAAAAAABRAAAAAAAAA+H8AAAAAAAASQDMzMzMzMxNAAAAAAAAA+H8AAAAAAAAUQAAAAAAAABRAAAAAAAAA+H8AAAAAAAD4fwAAAAAAAPh/AAAAAAAAFEDNzMzMzMwSQM3MzMzMzBBAZmZmZmZmEEAAAAAAAAASQAAAAAAAAPh/AAAAAAAA+H8AAAAAAAAUQM3MzMzMzBJAAAAAAAAAFEAAAAAAAAD4fwAAAAAAAPh/AAAAAAAA+H8zMzMzMzMRQAAAAAAAAPh/ZmZmZmZmEEAAAAAAAAD4fwAAAAAAAPh/AAAAAAAAFEAAAAAAAAD4fwAAAAAAABRAAAAAAAAAFEAAAAAAAAD4f5qZmZmZmRFAAAAAAAAA+H8=",
          "dtype": "f8"
         },
         "xaxis": "x",
         "yaxis": "y"
        },
        {
         "bingroup": "x",
         "hovertemplate": "categoria=Alurin<br>rating=%{x}<br>count=%{y}<extra></extra>",
         "legendgroup": "Alurin",
         "marker": {
          "color": "#19d3f3",
          "pattern": {
           "shape": ""
          }
         },
         "name": "Alurin",
         "orientation": "v",
         "showlegend": true,
         "type": "histogram",
         "x": {
          "bdata": "zczMzMzMEEAzMzMzMzMPQM3MzMzMzBBAMzMzMzMzD0DNzMzMzMwQQM3MzMzMzBBAzczMzMzMEEDNzMzMzMwQQM3MzMzMzBBAAAAAAAAA+H/NzMzMzMwQQM3MzMzMzBBAzczMzMzMEEAzMzMzMzMPQM3MzMzMzBBAzczMzMzMEEDNzMzMzMwQQM3MzMzMzBBAMzMzMzMzEUDNzMzMzMwQQDMzMzMzMxFAzczMzMzMEEDNzMzMzMwQQM3MzMzMzBBAMzMzMzMzD0AzMzMzMzMPQDMzMzMzMw9AMzMzMzMzD0AzMzMzMzMPQM3MzMzMzBBAzczMzMzMEEDNzMzMzMwQQM3MzMzMzBBAzczMzMzMEEDNzMzMzMwQQM3MzMzMzBBAzczMzMzMEEA=",
          "dtype": "f8"
         },
         "xaxis": "x",
         "yaxis": "y"
        },
        {
         "bingroup": "x",
         "hovertemplate": "categoria=HP<br>rating=%{x}<br>count=%{y}<extra></extra>",
         "legendgroup": "HP",
         "marker": {
          "color": "#FF6692",
          "pattern": {
           "shape": ""
          }
         },
         "name": "HP",
         "orientation": "v",
         "showlegend": true,
         "type": "histogram",
         "x": {
          "bdata": "ZmZmZmZmEkAAAAAAAAASQGZmZmZmZhJAAAAAAAAAEkAAAAAAAAASQAAAAAAAABJAAAAAAAAAEkAAAAAAAAASQGZmZmZmZhJAZmZmZmZmEkAAAAAAAAASQGZmZmZmZhJAAAAAAAAA+H8AAAAAAAD4fwAAAAAAABRAAAAAAAAAEkBmZmZmZmYSQDMzMzMzMxFAMzMzMzMzEUAAAAAAAAD4fwAAAAAAAPh/mpmZmZmZEUBmZmZmZmYSQAAAAAAAABJAAAAAAAAA+H8AAAAAAAASQGZmZmZmZhJAzczMzMzMEEBmZmZmZmYSQAAAAAAAABBAAAAAAAAAFEAAAAAAAAASQGZmZmZmZhBAAAAAAAAAEkA=",
          "dtype": "f8"
         },
         "xaxis": "x",
         "yaxis": "y"
        },
        {
         "bingroup": "x",
         "hovertemplate": "categoria=Portátiles con Windows<br>rating=%{x}<br>count=%{y}<extra></extra>",
         "legendgroup": "Portátiles con Windows",
         "marker": {
          "color": "#B6E880",
          "pattern": {
           "shape": ""
          }
         },
         "name": "Portátiles con Windows",
         "orientation": "v",
         "showlegend": true,
         "type": "histogram",
         "x": {
          "bdata": "AAAAAAAAEkBmZmZmZmYSQDMzMzMzMw9AZmZmZmZmEkAAAAAAAAD4fwAAAAAAABJAAAAAAAAA+H9mZmZmZmYSQAAAAAAAABJAAAAAAAAA+H9mZmZmZmYSQDMzMzMzMxNAMzMzMzMzE0AzMzMzMzMTQM3MzMzMzBBAAAAAAAAA+H8=",
          "dtype": "f8"
         },
         "xaxis": "x",
         "yaxis": "y"
        },
        {
         "bingroup": "x",
         "hovertemplate": "categoria=ASUS<br>rating=%{x}<br>count=%{y}<extra></extra>",
         "legendgroup": "ASUS",
         "marker": {
          "color": "#FF97FF",
          "pattern": {
           "shape": ""
          }
         },
         "name": "ASUS",
         "orientation": "v",
         "showlegend": true,
         "type": "histogram",
         "x": {
          "bdata": "zczMzMzMEkDNzMzMzMwSQM3MzMzMzBBAMzMzMzMzE0BmZmZmZmYSQDMzMzMzMxFAMzMzMzMzEUBmZmZmZmYSQDMzMzMzMxFAZmZmZmZmEEDNzMzMzMwQQAAAAAAAABJAAAAAAAAA+H+amZmZmZkRQAAAAAAAABBAzczMzMzMEkAAAAAAAAASQGZmZmZmZhJAAAAAAAAA+H9mZmZmZmYKQAAAAAAAAPh/MzMzMzMzEUAzMzMzMzMPQDMzMzMzMxNAAAAAAAAA+H/NzMzMzMwSQAAAAAAAABJAZmZmZmZmEkAzMzMzMzMRQDMzMzMzMw9AmpmZmZmZDUA=",
          "dtype": "f8"
         },
         "xaxis": "x",
         "yaxis": "y"
        },
        {
         "bingroup": "x",
         "hovertemplate": "categoria=Monitor portátil<br>rating=%{x}<br>count=%{y}<extra></extra>",
         "legendgroup": "Monitor portátil",
         "marker": {
          "color": "#FECB52",
          "pattern": {
           "shape": ""
          }
         },
         "name": "Monitor portátil",
         "orientation": "v",
         "showlegend": true,
         "type": "histogram",
         "x": {
          "bdata": "AAAAAAAAEkAAAAAAAAAQQM3MzMzMzBJAzczMzMzMEEDNzMzMzMwQQAAAAAAAABJAzczMzMzMEkAzMzMzMzMRQM3MzMzMzBBAAAAAAAAAFEAAAAAAAAAUQAAAAAAAABBAAAAAAAAAFEAAAAAAAAASQAAAAAAAABJAzczMzMzMEEAAAAAAAAASQJqZmZmZmRNAAAAAAAAAEkAAAAAAAAD4fwAAAAAAABJAAAAAAAAA+H/NzMzMzMwQQDMzMzMzMxNAzczMzMzMEEAAAAAAAAASQM3MzMzMzBBAzczMzMzMEEAAAAAAAAD4f83MzMzMzBBAAAAAAAAAEkAAAAAAAAASQAAAAAAAABJAAAAAAAAA+H8AAAAAAAAQQAAAAAAAAPh/AAAAAAAA+H8AAAAAAAD4fwAAAAAAAPh/AAAAAAAA+H8=",
          "dtype": "f8"
         },
         "xaxis": "x",
         "yaxis": "y"
        },
        {
         "bingroup": "x",
         "hovertemplate": "categoria=Cocinas portátiles<br>rating=%{x}<br>count=%{y}<extra></extra>",
         "legendgroup": "Cocinas portátiles",
         "marker": {
          "color": "#636efa",
          "pattern": {
           "shape": ""
          }
         },
         "name": "Cocinas portátiles",
         "orientation": "v",
         "showlegend": true,
         "type": "histogram",
         "x": {
          "bdata": "zczMzMzMEkDNzMzMzMwSQAAAAAAAABJAMzMzMzMzEUAAAAAAAAD4f83MzMzMzBBAMzMzMzMzEUAAAAAAAAD4fwAAAAAAAPh/MzMzMzMzB0AAAAAAAAD4fwAAAAAAAPh/AAAAAAAA+H8AAAAAAAD4fwAAAAAAAPh/AAAAAAAA+H8AAAAAAAD4fzMzMzMzMw9AAAAAAAAA4D8AAAAAAAD4fwAAAAAAAPh/AAAAAAAA+H8AAAAAAAD4fwAAAAAAAPh/AAAAAAAAFEAAAAAAAAD4fwAAAAAAAPh/AAAAAAAA+H8AAAAAAAD4fwAAAAAAAPh/AAAAAAAA+H+amZmZmZkRQAAAAAAAAPh/AAAAAAAA+H8AAAAAAAD4fwAAAAAAAPh/AAAAAAAA+H8AAAAAAAD4fwAAAAAAAPh/MzMzMzMzE0A=",
          "dtype": "f8"
         },
         "xaxis": "x",
         "yaxis": "y"
        },
        {
         "bingroup": "x",
         "hovertemplate": "categoria=MSI<br>rating=%{x}<br>count=%{y}<extra></extra>",
         "legendgroup": "MSI",
         "marker": {
          "color": "#EF553B",
          "pattern": {
           "shape": ""
          }
         },
         "name": "MSI",
         "orientation": "v",
         "showlegend": true,
         "type": "histogram",
         "x": {
          "bdata": "AAAAAAAAEkCamZmZmZkRQGZmZmZmZhJAAAAAAAAAEkAAAAAAAAASQAAAAAAAABJAZmZmZmZmEkCamZmZmZkRQAAAAAAAABJAAAAAAAAAEkAAAAAAAAASQAAAAAAAABJAAAAAAAAAEkAAAAAAAAAQQAAAAAAAABBAzczMzMzMEkCamZmZmZkRQGZmZmZmZhJAAAAAAAAAEkAAAAAAAAASQJqZmZmZmRFAzczMzMzMEkAzMzMzMzMRQAAAAAAAABJAAAAAAAAAEkAAAAAAAAASQDMzMzMzMxFAAAAAAAAAFEBmZmZmZmYSQGZmZmZmZhJA",
          "dtype": "f8"
         },
         "xaxis": "x",
         "yaxis": "y"
        },
        {
         "bingroup": "x",
         "hovertemplate": "categoria=Portátiles 2 en 1 convertibles<br>rating=%{x}<br>count=%{y}<extra></extra>",
         "legendgroup": "Portátiles 2 en 1 convertibles",
         "marker": {
          "color": "#00cc96",
          "pattern": {
           "shape": ""
          }
         },
         "name": "Portátiles 2 en 1 convertibles",
         "orientation": "v",
         "showlegend": true,
         "type": "histogram",
         "x": {
          "bdata": "mpmZmZmZE0CamZmZmZkTQGZmZmZmZhJAZmZmZmZmEkCamZmZmZkRQAAAAAAAABJAmpmZmZmZE0BmZmZmZmYSQAAAAAAAABRAAAAAAAAAEkDNzMzMzMwSQAAAAAAAABBAAAAAAAAAFEAzMzMzMzMRQJqZmZmZmRNAZmZmZmZmEkAAAAAAAAASQAAAAAAAABBAzczMzMzMEkCamZmZmZkNQGZmZmZmZg5AAAAAAAAA+H8AAAAAAAD4f83MzMzMzBJAMzMzMzMzD0AzMzMzMzMPQDMzMzMzMw9AZmZmZmZmEkAAAAAAAAD4fwAAAAAAAPh/AAAAAAAA+H8AAAAAAAAQQAAAAAAAABJAzczMzMzMDEDNzMzMzMwSQAAAAAAAAPh/zczMzMzMDEAAAAAAAAAUQGZmZmZmZhJAAAAAAAAA+H8=",
          "dtype": "f8"
         },
         "xaxis": "x",
         "yaxis": "y"
        },
        {
         "bingroup": "x",
         "hovertemplate": "categoria=Neveras portátiles<br>rating=%{x}<br>count=%{y}<extra></extra>",
         "legendgroup": "Neveras portátiles",
         "marker": {
          "color": "#ab63fa",
          "pattern": {
           "shape": ""
          }
         },
         "name": "Neveras portátiles",
         "orientation": "v",
         "showlegend": true,
         "type": "histogram",
         "x": {
          "bdata": "AAAAAAAA4D8zMzMzMzMHQDMzMzMzMwdAAAAAAAAAFEAAAAAAAAAUQAAAAAAAAPh/AAAAAAAA+H8AAAAAAAD4fwAAAAAAAPh/AAAAAAAA+H8AAAAAAAD4fwAAAAAAAPh/AAAAAAAAFEAAAAAAAAAUQAAAAAAAAPh/AAAAAAAA+H8AAAAAAAD4fwAAAAAAABRAMzMzMzMzB0DNzMzMzMwMQM3MzMzMzAxAzczMzMzMDEDNzMzMzMwMQAAAAAAAAPh/AAAAAAAA4D8AAAAAAAD4fwAAAAAAAPh/AAAAAAAA4D8AAAAAAAAUQAAAAAAAABRAAAAAAAAA+H8AAAAAAAAUQAAAAAAAAPh/AAAAAAAA+H8AAAAAAAAUQAAAAAAAABRAAAAAAAAA+H8AAAAAAAD4fwAAAAAAAPh/AAAAAAAA+H8=",
          "dtype": "f8"
         },
         "xaxis": "x",
         "yaxis": "y"
        },
        {
         "bingroup": "x",
         "hovertemplate": "categoria=Portátiles<br>rating=%{x}<br>count=%{y}<extra></extra>",
         "legendgroup": "Portátiles",
         "marker": {
          "color": "#FFA15A",
          "pattern": {
           "shape": ""
          }
         },
         "name": "Portátiles",
         "orientation": "v",
         "showlegend": true,
         "type": "histogram",
         "x": {
          "bdata": "MzMzMzMzD0AAAAAAAAASQAAAAAAAABJAAAAAAAAAEkAAAAAAAAASQGZmZmZmZhJAmpmZmZmZEUAzMzMzMzMTQM3MzMzMzBJAAAAAAAAAEkAAAAAAAAASQAAAAAAAABJAZmZmZmZmEkBmZmZmZmYSQGZmZmZmZhJAZmZmZmZmEkDNzMzMzMwSQDMzMzMzMxNAMzMzMzMzE0BmZmZmZmYSQJqZmZmZmRFAAAAAAAAAEkCamZmZmZkRQAAAAAAAABJAZmZmZmZmEkAzMzMzMzMTQJqZmZmZmRNAAAAAAAAAEkAzMzMzMzMRQAAAAAAAABJAAAAAAAAAEkAzMzMzMzMRQDMzMzMzMxNAMzMzMzMzE0BmZmZmZmYSQGZmZmZmZhJAAAAAAAAAEEAzMzMzMzMTQGZmZmZmZhJAZmZmZmZmEkA=",
          "dtype": "f8"
         },
         "xaxis": "x",
         "yaxis": "y"
        }
       ],
       "layout": {
        "barmode": "relative",
        "legend": {
         "title": {
          "text": "categoria"
         },
         "tracegroupgap": 0
        },
        "template": {
         "data": {
          "bar": [
           {
            "error_x": {
             "color": "#f2f5fa"
            },
            "error_y": {
             "color": "#f2f5fa"
            },
            "marker": {
             "line": {
              "color": "rgb(17,17,17)",
              "width": 0.5
             },
             "pattern": {
              "fillmode": "overlay",
              "size": 10,
              "solidity": 0.2
             }
            },
            "type": "bar"
           }
          ],
          "barpolar": [
           {
            "marker": {
             "line": {
              "color": "rgb(17,17,17)",
              "width": 0.5
             },
             "pattern": {
              "fillmode": "overlay",
              "size": 10,
              "solidity": 0.2
             }
            },
            "type": "barpolar"
           }
          ],
          "carpet": [
           {
            "aaxis": {
             "endlinecolor": "#A2B1C6",
             "gridcolor": "#506784",
             "linecolor": "#506784",
             "minorgridcolor": "#506784",
             "startlinecolor": "#A2B1C6"
            },
            "baxis": {
             "endlinecolor": "#A2B1C6",
             "gridcolor": "#506784",
             "linecolor": "#506784",
             "minorgridcolor": "#506784",
             "startlinecolor": "#A2B1C6"
            },
            "type": "carpet"
           }
          ],
          "choropleth": [
           {
            "colorbar": {
             "outlinewidth": 0,
             "ticks": ""
            },
            "type": "choropleth"
           }
          ],
          "contour": [
           {
            "colorbar": {
             "outlinewidth": 0,
             "ticks": ""
            },
            "colorscale": [
             [
              0,
              "#0d0887"
             ],
             [
              0.1111111111111111,
              "#46039f"
             ],
             [
              0.2222222222222222,
              "#7201a8"
             ],
             [
              0.3333333333333333,
              "#9c179e"
             ],
             [
              0.4444444444444444,
              "#bd3786"
             ],
             [
              0.5555555555555556,
              "#d8576b"
             ],
             [
              0.6666666666666666,
              "#ed7953"
             ],
             [
              0.7777777777777778,
              "#fb9f3a"
             ],
             [
              0.8888888888888888,
              "#fdca26"
             ],
             [
              1,
              "#f0f921"
             ]
            ],
            "type": "contour"
           }
          ],
          "contourcarpet": [
           {
            "colorbar": {
             "outlinewidth": 0,
             "ticks": ""
            },
            "type": "contourcarpet"
           }
          ],
          "heatmap": [
           {
            "colorbar": {
             "outlinewidth": 0,
             "ticks": ""
            },
            "colorscale": [
             [
              0,
              "#0d0887"
             ],
             [
              0.1111111111111111,
              "#46039f"
             ],
             [
              0.2222222222222222,
              "#7201a8"
             ],
             [
              0.3333333333333333,
              "#9c179e"
             ],
             [
              0.4444444444444444,
              "#bd3786"
             ],
             [
              0.5555555555555556,
              "#d8576b"
             ],
             [
              0.6666666666666666,
              "#ed7953"
             ],
             [
              0.7777777777777778,
              "#fb9f3a"
             ],
             [
              0.8888888888888888,
              "#fdca26"
             ],
             [
              1,
              "#f0f921"
             ]
            ],
            "type": "heatmap"
           }
          ],
          "histogram": [
           {
            "marker": {
             "pattern": {
              "fillmode": "overlay",
              "size": 10,
              "solidity": 0.2
             }
            },
            "type": "histogram"
           }
          ],
          "histogram2d": [
           {
            "colorbar": {
             "outlinewidth": 0,
             "ticks": ""
            },
            "colorscale": [
             [
              0,
              "#0d0887"
             ],
             [
              0.1111111111111111,
              "#46039f"
             ],
             [
              0.2222222222222222,
              "#7201a8"
             ],
             [
              0.3333333333333333,
              "#9c179e"
             ],
             [
              0.4444444444444444,
              "#bd3786"
             ],
             [
              0.5555555555555556,
              "#d8576b"
             ],
             [
              0.6666666666666666,
              "#ed7953"
             ],
             [
              0.7777777777777778,
              "#fb9f3a"
             ],
             [
              0.8888888888888888,
              "#fdca26"
             ],
             [
              1,
              "#f0f921"
             ]
            ],
            "type": "histogram2d"
           }
          ],
          "histogram2dcontour": [
           {
            "colorbar": {
             "outlinewidth": 0,
             "ticks": ""
            },
            "colorscale": [
             [
              0,
              "#0d0887"
             ],
             [
              0.1111111111111111,
              "#46039f"
             ],
             [
              0.2222222222222222,
              "#7201a8"
             ],
             [
              0.3333333333333333,
              "#9c179e"
             ],
             [
              0.4444444444444444,
              "#bd3786"
             ],
             [
              0.5555555555555556,
              "#d8576b"
             ],
             [
              0.6666666666666666,
              "#ed7953"
             ],
             [
              0.7777777777777778,
              "#fb9f3a"
             ],
             [
              0.8888888888888888,
              "#fdca26"
             ],
             [
              1,
              "#f0f921"
             ]
            ],
            "type": "histogram2dcontour"
           }
          ],
          "mesh3d": [
           {
            "colorbar": {
             "outlinewidth": 0,
             "ticks": ""
            },
            "type": "mesh3d"
           }
          ],
          "parcoords": [
           {
            "line": {
             "colorbar": {
              "outlinewidth": 0,
              "ticks": ""
             }
            },
            "type": "parcoords"
           }
          ],
          "pie": [
           {
            "automargin": true,
            "type": "pie"
           }
          ],
          "scatter": [
           {
            "marker": {
             "line": {
              "color": "#283442"
             }
            },
            "type": "scatter"
           }
          ],
          "scatter3d": [
           {
            "line": {
             "colorbar": {
              "outlinewidth": 0,
              "ticks": ""
             }
            },
            "marker": {
             "colorbar": {
              "outlinewidth": 0,
              "ticks": ""
             }
            },
            "type": "scatter3d"
           }
          ],
          "scattercarpet": [
           {
            "marker": {
             "colorbar": {
              "outlinewidth": 0,
              "ticks": ""
             }
            },
            "type": "scattercarpet"
           }
          ],
          "scattergeo": [
           {
            "marker": {
             "colorbar": {
              "outlinewidth": 0,
              "ticks": ""
             }
            },
            "type": "scattergeo"
           }
          ],
          "scattergl": [
           {
            "marker": {
             "line": {
              "color": "#283442"
             }
            },
            "type": "scattergl"
           }
          ],
          "scattermap": [
           {
            "marker": {
             "colorbar": {
              "outlinewidth": 0,
              "ticks": ""
             }
            },
            "type": "scattermap"
           }
          ],
          "scattermapbox": [
           {
            "marker": {
             "colorbar": {
              "outlinewidth": 0,
              "ticks": ""
             }
            },
            "type": "scattermapbox"
           }
          ],
          "scatterpolar": [
           {
            "marker": {
             "colorbar": {
              "outlinewidth": 0,
              "ticks": ""
             }
            },
            "type": "scatterpolar"
           }
          ],
          "scatterpolargl": [
           {
            "marker": {
             "colorbar": {
              "outlinewidth": 0,
              "ticks": ""
             }
            },
            "type": "scatterpolargl"
           }
          ],
          "scatterternary": [
           {
            "marker": {
             "colorbar": {
              "outlinewidth": 0,
              "ticks": ""
             }
            },
            "type": "scatterternary"
           }
          ],
          "surface": [
           {
            "colorbar": {
             "outlinewidth": 0,
             "ticks": ""
            },
            "colorscale": [
             [
              0,
              "#0d0887"
             ],
             [
              0.1111111111111111,
              "#46039f"
             ],
             [
              0.2222222222222222,
              "#7201a8"
             ],
             [
              0.3333333333333333,
              "#9c179e"
             ],
             [
              0.4444444444444444,
              "#bd3786"
             ],
             [
              0.5555555555555556,
              "#d8576b"
             ],
             [
              0.6666666666666666,
              "#ed7953"
             ],
             [
              0.7777777777777778,
              "#fb9f3a"
             ],
             [
              0.8888888888888888,
              "#fdca26"
             ],
             [
              1,
              "#f0f921"
             ]
            ],
            "type": "surface"
           }
          ],
          "table": [
           {
            "cells": {
             "fill": {
              "color": "#506784"
             },
             "line": {
              "color": "rgb(17,17,17)"
             }
            },
            "header": {
             "fill": {
              "color": "#2a3f5f"
             },
             "line": {
              "color": "rgb(17,17,17)"
             }
            },
            "type": "table"
           }
          ]
         },
         "layout": {
          "annotationdefaults": {
           "arrowcolor": "#f2f5fa",
           "arrowhead": 0,
           "arrowwidth": 1
          },
          "autotypenumbers": "strict",
          "coloraxis": {
           "colorbar": {
            "outlinewidth": 0,
            "ticks": ""
           }
          },
          "colorscale": {
           "diverging": [
            [
             0,
             "#8e0152"
            ],
            [
             0.1,
             "#c51b7d"
            ],
            [
             0.2,
             "#de77ae"
            ],
            [
             0.3,
             "#f1b6da"
            ],
            [
             0.4,
             "#fde0ef"
            ],
            [
             0.5,
             "#f7f7f7"
            ],
            [
             0.6,
             "#e6f5d0"
            ],
            [
             0.7,
             "#b8e186"
            ],
            [
             0.8,
             "#7fbc41"
            ],
            [
             0.9,
             "#4d9221"
            ],
            [
             1,
             "#276419"
            ]
           ],
           "sequential": [
            [
             0,
             "#0d0887"
            ],
            [
             0.1111111111111111,
             "#46039f"
            ],
            [
             0.2222222222222222,
             "#7201a8"
            ],
            [
             0.3333333333333333,
             "#9c179e"
            ],
            [
             0.4444444444444444,
             "#bd3786"
            ],
            [
             0.5555555555555556,
             "#d8576b"
            ],
            [
             0.6666666666666666,
             "#ed7953"
            ],
            [
             0.7777777777777778,
             "#fb9f3a"
            ],
            [
             0.8888888888888888,
             "#fdca26"
            ],
            [
             1,
             "#f0f921"
            ]
           ],
           "sequentialminus": [
            [
             0,
             "#0d0887"
            ],
            [
             0.1111111111111111,
             "#46039f"
            ],
            [
             0.2222222222222222,
             "#7201a8"
            ],
            [
             0.3333333333333333,
             "#9c179e"
            ],
            [
             0.4444444444444444,
             "#bd3786"
            ],
            [
             0.5555555555555556,
             "#d8576b"
            ],
            [
             0.6666666666666666,
             "#ed7953"
            ],
            [
             0.7777777777777778,
             "#fb9f3a"
            ],
            [
             0.8888888888888888,
             "#fdca26"
            ],
            [
             1,
             "#f0f921"
            ]
           ]
          },
          "colorway": [
           "#636efa",
           "#EF553B",
           "#00cc96",
           "#ab63fa",
           "#FFA15A",
           "#19d3f3",
           "#FF6692",
           "#B6E880",
           "#FF97FF",
           "#FECB52"
          ],
          "font": {
           "color": "#f2f5fa"
          },
          "geo": {
           "bgcolor": "rgb(17,17,17)",
           "lakecolor": "rgb(17,17,17)",
           "landcolor": "rgb(17,17,17)",
           "showlakes": true,
           "showland": true,
           "subunitcolor": "#506784"
          },
          "hoverlabel": {
           "align": "left"
          },
          "hovermode": "closest",
          "mapbox": {
           "style": "dark"
          },
          "paper_bgcolor": "rgb(17,17,17)",
          "plot_bgcolor": "rgb(17,17,17)",
          "polar": {
           "angularaxis": {
            "gridcolor": "#506784",
            "linecolor": "#506784",
            "ticks": ""
           },
           "bgcolor": "rgb(17,17,17)",
           "radialaxis": {
            "gridcolor": "#506784",
            "linecolor": "#506784",
            "ticks": ""
           }
          },
          "scene": {
           "xaxis": {
            "backgroundcolor": "rgb(17,17,17)",
            "gridcolor": "#506784",
            "gridwidth": 2,
            "linecolor": "#506784",
            "showbackground": true,
            "ticks": "",
            "zerolinecolor": "#C8D4E3"
           },
           "yaxis": {
            "backgroundcolor": "rgb(17,17,17)",
            "gridcolor": "#506784",
            "gridwidth": 2,
            "linecolor": "#506784",
            "showbackground": true,
            "ticks": "",
            "zerolinecolor": "#C8D4E3"
           },
           "zaxis": {
            "backgroundcolor": "rgb(17,17,17)",
            "gridcolor": "#506784",
            "gridwidth": 2,
            "linecolor": "#506784",
            "showbackground": true,
            "ticks": "",
            "zerolinecolor": "#C8D4E3"
           }
          },
          "shapedefaults": {
           "line": {
            "color": "#f2f5fa"
           }
          },
          "sliderdefaults": {
           "bgcolor": "#C8D4E3",
           "bordercolor": "rgb(17,17,17)",
           "borderwidth": 1,
           "tickwidth": 0
          },
          "ternary": {
           "aaxis": {
            "gridcolor": "#506784",
            "linecolor": "#506784",
            "ticks": ""
           },
           "baxis": {
            "gridcolor": "#506784",
            "linecolor": "#506784",
            "ticks": ""
           },
           "bgcolor": "rgb(17,17,17)",
           "caxis": {
            "gridcolor": "#506784",
            "linecolor": "#506784",
            "ticks": ""
           }
          },
          "title": {
           "x": 0.05
          },
          "updatemenudefaults": {
           "bgcolor": "#506784",
           "borderwidth": 0
          },
          "xaxis": {
           "automargin": true,
           "gridcolor": "#283442",
           "linecolor": "#506784",
           "ticks": "",
           "title": {
            "standoff": 15
           },
           "zerolinecolor": "#283442",
           "zerolinewidth": 2
          },
          "yaxis": {
           "automargin": true,
           "gridcolor": "#283442",
           "linecolor": "#506784",
           "ticks": "",
           "title": {
            "standoff": 15
           },
           "zerolinecolor": "#283442",
           "zerolinewidth": 2
          }
         }
        },
        "title": {
         "text": "Histograma de Rating por Categoría"
        },
        "xaxis": {
         "anchor": "y",
         "domain": [
          0,
          1
         ],
         "title": {
          "text": "rating"
         }
        },
        "yaxis": {
         "anchor": "x",
         "domain": [
          0,
          1
         ],
         "title": {
          "text": "count"
         }
        }
       }
      }
     },
     "metadata": {},
     "output_type": "display_data"
    }
   ],
   "source": [
    "px.histogram(data_frame = df_portatiles,\n",
    "             x          = \"rating\",\n",
    "             color      = \"categoria\",\n",
    "             title      = \"Histograma de Rating por Categoría\",\n",
    "             template   = \"plotly_dark\")"
   ]
  },
  {
   "cell_type": "code",
   "execution_count": null,
   "metadata": {},
   "outputs": [
    {
     "data": {
      "application/vnd.plotly.v1+json": {
       "config": {
        "plotlyServerURL": "https://plot.ly"
       },
       "data": [
        {
         "hovertemplate": "categoria=Portátiles con inteligencia artificial<br>precio=%{x}<br>rating=%{y}<br>opiniones=%{z}<extra></extra>",
         "legendgroup": "Portátiles con inteligencia artificial",
         "marker": {
          "color": "#636efa",
          "symbol": "circle"
         },
         "mode": "markers",
         "name": "Portátiles con inteligencia artificial",
         "scene": "scene",
         "showlegend": true,
         "type": "scatter3d",
         "x": {
          "bdata": "AAAAAAAApUAAAAAAABB3QAAAAAAARJdAAAAAAAD8mEAAAAAAAFSWQClcj8L1g5hAAAAAAAD0kUAAAAAAAESXQAAAAAAA9qFA7FG4HgWiqkAAAAAAAHauQAAAAAAAtJBAAAAAAAC6q0AAAAAAAHqlQAAAAAAARJdAAAAAAAD8mEAAAAAAANyQQA==",
          "dtype": "f8"
         },
         "y": {
          "bdata": "mpmZmZmZE0BmZmZmZmYSQM3MzMzMzBJAMzMzMzMzE0AAAAAAAAASQDMzMzMzMxNAzczMzMzMEkAAAAAAAAAUQJqZmZmZmRNAMzMzMzMzE0AzMzMzMzMTQAAAAAAAABRAmpmZmZmZE0CamZmZmZkTQAAAAAAAAPh/AAAAAAAAFEAzMzMzMzMTQA==",
          "dtype": "f8"
         },
         "z": {
          "bdata": "FwBqAAMAXgEBAF4BOAABABcABgAGAAIAFwAXAAAAAQAFAA==",
          "dtype": "i2"
         }
        },
        {
         "hovertemplate": "categoria=Estaciones de energía<br>precio=%{x}<br>rating=%{y}<br>opiniones=%{z}<extra></extra>",
         "legendgroup": "Estaciones de energía",
         "marker": {
          "color": "#EF553B",
          "symbol": "circle"
         },
         "mode": "markers",
         "name": "Estaciones de energía",
         "scene": "scene",
         "showlegend": true,
         "type": "scatter3d",
         "x": {
          "bdata": "ZmZmZmbueEAAAAAAAPCIQDMzMzMzt4JAAAAAAACgbEAUrkfh+s2jQAAAAAAA0HVAAAAAAAD8mEDsUbgeBdqkQEjhehSuv2JApHA9Ctf/ekBSuB6F6w+LQIXrUbgeP49ApHA9CtdPiUAAAAAAANiFQMP1KFyPK5VAAAAAAACkm0BSuB6F6yeFQLgehetROHtArkfhehQAhEBI4XoUrv94QEjhehSuP2VAAAAAAABFlECamZmZmSuRQBSuR+H6ZaBAAAAAAAA8n0AAAAAAAGBhQA==",
          "dtype": "f8"
         },
         "y": {
          "bdata": "AAAAAAAAEkCamZmZmZkTQJqZmZmZmRNAzczMzMzMEkAzMzMzMzMTQDMzMzMzMxFAAAAAAAAA+H8AAAAAAAD4fzMzMzMzMxFAAAAAAAAAFEAAAAAAAAAUQAAAAAAAAPh/AAAAAAAA+H8AAAAAAAD4fzMzMzMzMxNAAAAAAAAAFEAAAAAAAAD4f5qZmZmZmRFAAAAAAAAA+H8AAAAAAAAIQJqZmZmZmRNAAAAAAAAA+H8AAAAAAAD4fwAAAAAAAPh/AAAAAAAA+H8AAAAAAAD4fw==",
          "dtype": "f8"
         },
         "z": {
          "bdata": "EQwbFwMCAAArAgEAAAAIAQAHAAIFAAAAAAA=",
          "dtype": "i1"
         }
        },
        {
         "hovertemplate": "categoria=Altavoces portátiles<br>precio=%{x}<br>rating=%{y}<br>opiniones=%{z}<extra></extra>",
         "legendgroup": "Altavoces portátiles",
         "marker": {
          "color": "#00cc96",
          "symbol": "circle"
         },
         "mode": "markers",
         "name": "Altavoces portátiles",
         "scene": "scene",
         "showlegend": true,
         "type": "scatter3d",
         "x": {
          "bdata": "PQrXo3D9NUB7FK5H4fohQEjhehSuP2JAmpmZmZmZMEAAAAAAAIBGQGZmZmZmXmNAAAAAAABgZkCamZmZmflIQK5H4XoUtoFAAAAAAACASEBI4XoUrl9iQEjhehSuX2JAcT0K16NAWEBI4XoUrl9iQAAAAAAAADtAH4XrUbj+Q0DNzMzMzHxhQEjhehSun2JAcT0K16NIbEAAAAAAAMBdQI/C9Shcv1pA4XoUrkcBdUAUrkfhehKDQKRwPQrX/3FAH4XrUbh+RkDD9Shcj8JGQB+F61G4/kZASOF6FK4/YEAfhetRuH5FQAAAAAAAQE5ApHA9CtefcEAAAAAAAGBYQK5H4XoUzm1AH4XrUbh+RUCPwvUoXN9oQHsUrkfh+iNACtejcD26U0AAAAAAADB1QI/C9Shcf2FAAAAAAAAgZEA=",
          "dtype": "f8"
         },
         "y": {
          "bdata": "mpmZmZmZEUCamZmZmZkRQAAAAAAAABJAmpmZmZmZEUAAAAAAAAD4fwAAAAAAABJAMzMzMzMzE0AAAAAAAAAUQM3MzMzMzBJAMzMzMzMzE0AzMzMzMzMTQDMzMzMzMxNAAAAAAAAAEkAzMzMzMzMTQAAAAAAAABRAAAAAAAAA+H+amZmZmZkRQAAAAAAAABJAMzMzMzMzE0AAAAAAAAASQAAAAAAAABJAMzMzMzMzE0DNzMzMzMwSQJqZmZmZmRFAMzMzMzMzE0DNzMzMzMwSQM3MzMzMzBJAAAAAAAAAFEDNzMzMzMwSQAAAAAAAABBAMzMzMzMzE0AAAAAAAAASQAAAAAAAABBAzczMzMzMEkAzMzMzMzMTQAAAAAAAAAxAAAAAAAAAEkAzMzMzMzMTQAAAAAAAABRAAAAAAAAA+H8=",
          "dtype": "f8"
         },
         "z": {
          "bdata": "PAA8AJkBPAAAAOIEDAABAP8AIAB6AHoA2QF6AAEAAAAWAOIEIgABALECFQAkAAgACQASABIAAgBCAQEAegACAAEAQgF6AG0AAgCWAQIAAAA=",
          "dtype": "i2"
         }
        },
        {
         "hovertemplate": "categoria=Lenovo<br>precio=%{x}<br>rating=%{y}<br>opiniones=%{z}<extra></extra>",
         "legendgroup": "Lenovo",
         "marker": {
          "color": "#ab63fa",
          "symbol": "circle"
         },
         "mode": "markers",
         "name": "Lenovo",
         "scene": "scene",
         "showlegend": true,
         "type": "scatter3d",
         "x": {
          "bdata": "AAAAAACQfkAAAAAAAASRQAAAAAAAeIFAAAAAAACojUCkcD0K1092QAAAAAAA/JhApHA9CtefdkCkcD0K1595QAAAAAAAHJJAzczMzMyMjUAAAAAAAGyXQClcj8L1j5BAAAAAAAAgb0AAAAAAADB/QKRwPQrXz3pAAAAAAABwdEBSuB6F69+AQAAAAAAAYIBAzczMzMxmk0AAAAAAAPiIQOxRuB6Fc3tAAAAAAAC0lUAAAAAAAAB1QA==",
          "dtype": "f8"
         },
         "y": {
          "bdata": "AAAAAAAAEkBmZmZmZmYSQAAAAAAAABJAAAAAAAAAEkBmZmZmZmYSQDMzMzMzMxNAzczMzMzMEEBmZmZmZmYSQM3MzMzMzBJAmpmZmZmZEUAAAAAAAAASQAAAAAAAABJAAAAAAAAAEkBmZmZmZmYSQAAAAAAAAPh/AAAAAAAAEkAzMzMzMzMTQGZmZmZmZhJAMzMzMzMzEUAAAAAAAAAUQAAAAAAAAPh/AAAAAAAAFEAAAAAAAAAEQA==",
          "dtype": "f8"
         },
         "z": {
          "bdata": "TQIzAFQCJQEZAQgAEwAZAQcAIAADAAsALwA1BQAAMgAbABAABgAFAAAAAwABAA==",
          "dtype": "i2"
         }
        },
        {
         "hovertemplate": "categoria=Repuestos<br>precio=%{x}<br>rating=%{y}<br>opiniones=%{z}<extra></extra>",
         "legendgroup": "Repuestos",
         "marker": {
          "color": "#FFA15A",
          "symbol": "circle"
         },
         "mode": "markers",
         "name": "Repuestos",
         "scene": "scene",
         "showlegend": true,
         "type": "scatter3d",
         "x": {
          "bdata": "PQrXo3D9OEA9CtejcH1AQB+F61G4fkZAPQrXo3D9PEAAAAAAAEBJQI/C9ShcDzJAH4XrUbj+SkCPwvUoXM9FQB+F61G4/kZAH4XrUbj+Q0AfhetRuH5FQKRwPQrXowRAj8L1KFw/VED2KFyPwpVVQB+F61G4fkFAH4XrUbh+S0AAAAAAAAA+QD0K16Nw/TlA4XoUrkeBRkA9CtejcP07QB+F61G4fkFAexSuR+H6K0DsUbgehSszQGZmZmZmxkpAFK5H4XpUS0BI4XoUrtdgQBSuR+F6xFRAj8L1KFy/U0AAAAAAAEBEQHsUrkfhmkRAPQrXo3D9PkAAAAAAAGBAQLgehetReE1APQrXo3D9OUA9CtejcP05QB+F61G4fkFAw/UoXI+iV0CPwvUoXD9SQD0K16Nw/TdAPQrXo3D9O0A=",
          "dtype": "f8"
         },
         "y": {
          "bdata": "MzMzMzMzEUAAAAAAAAASQGZmZmZmZhJAAAAAAAAAEkAAAAAAAAAUQAAAAAAAABRAAAAAAAAA+H8AAAAAAAASQDMzMzMzMxNAAAAAAAAA+H8AAAAAAAAUQAAAAAAAABRAAAAAAAAA+H8AAAAAAAD4fwAAAAAAAPh/AAAAAAAAFEDNzMzMzMwSQM3MzMzMzBBAZmZmZmZmEEAAAAAAAAASQAAAAAAAAPh/AAAAAAAA+H8AAAAAAAAUQM3MzMzMzBJAAAAAAAAAFEAAAAAAAAD4fwAAAAAAAPh/AAAAAAAA+H8zMzMzMzMRQAAAAAAAAPh/ZmZmZmZmEEAAAAAAAAD4fwAAAAAAAPh/AAAAAAAAFEAAAAAAAAD4fwAAAAAAABRAAAAAAAAAFEAAAAAAAAD4f5qZmZmZmRFAAAAAAAAA+H8=",
          "dtype": "f8"
         },
         "z": {
          "bdata": "EQC2AAcAEgABAAEAAAAGAAIAAAADAAMAAAAAAAAAAQAFABoADwEBAAAAAAABAAMAAQAAAAAAAAAFAAAABQAAAAAAAQAAAAEAAQAAABcAAAA=",
          "dtype": "i2"
         }
        },
        {
         "hovertemplate": "categoria=Alurin<br>precio=%{x}<br>rating=%{y}<br>opiniones=%{z}<extra></extra>",
         "legendgroup": "Alurin",
         "marker": {
          "color": "#19d3f3",
          "symbol": "circle"
         },
         "mode": "markers",
         "name": "Alurin",
         "scene": "scene",
         "showlegend": true,
         "type": "scatter3d",
         "x": {
          "bdata": "SOF6FK4/f0BSuB6F6y+GQKRwPQrXH3xASOF6FK5/a0BSuB6F61+DQFK4HoXrf4FAUrgehet/gUCkcD0K1397QKRwPQrXX31AUrgehev/g0CkcD0K1996QKRwPQrXf3tApHA9Ctf/fUBSuB6F60+JQKRwPQrXH3xAAAAAAADgikBI4XoUrp95QKRwPQrXX31ApHA9CteffkA9CtejcNuIQLgehetRXIBAUrgehesfjEBSuB6F63+GQFK4HoXrP4pAUrgeheufjkBSuB6F65+JQFK4HoXrj5BApHA9Ctd/i0BSuB6F6z+PQEjhehSuP39APQrXo3A7g0CkcD0K1397QFK4HoXrv4JAUrgehevPgUCkcD0K1996QD0K16Nw+4FApHA9Cte/fEA=",
          "dtype": "f8"
         },
         "y": {
          "bdata": "zczMzMzMEEAzMzMzMzMPQM3MzMzMzBBAMzMzMzMzD0DNzMzMzMwQQM3MzMzMzBBAzczMzMzMEEDNzMzMzMwQQM3MzMzMzBBAAAAAAAAA+H/NzMzMzMwQQM3MzMzMzBBAzczMzMzMEEAzMzMzMzMPQM3MzMzMzBBAzczMzMzMEEDNzMzMzMwQQM3MzMzMzBBAMzMzMzMzEUDNzMzMzMwQQDMzMzMzMxFAzczMzMzMEEDNzMzMzMwQQM3MzMzMzBBAMzMzMzMzD0AzMzMzMzMPQDMzMzMzMw9AMzMzMzMzD0AzMzMzMzMPQM3MzMzMzBBAzczMzMzMEEDNzMzMzMwQQM3MzMzMzBBAzczMzMzMEEDNzMzMzMwQQM3MzMzMzBBAzczMzMzMEEA=",
          "dtype": "f8"
         },
         "z": {
          "bdata": "ZQFAAGUBpgFlAWUBZQFlAWUBAABlAWUBZQFAAGUBZQFlAWUBzgBlAc4AZQFlAWUBQABBAEAAQQBBABkAGQBlAWUBZQEZABkAZQE=",
          "dtype": "i2"
         }
        },
        {
         "hovertemplate": "categoria=HP<br>precio=%{x}<br>rating=%{y}<br>opiniones=%{z}<extra></extra>",
         "legendgroup": "HP",
         "marker": {
          "color": "#FF6692",
          "symbol": "circle"
         },
         "mode": "markers",
         "name": "HP",
         "scene": "scene",
         "showlegend": true,
         "type": "scatter3d",
         "x": {
          "bdata": "AAAAAACYhEAAAAAAAISTQAAAAAAApJFAAAAAAAD4iEAAAAAAANiFQFK4HoXrp4NAAAAAAABMlEAAAAAAANSdQAAAAAAAVJFAAAAAAAAQfEC4HoXrUa6WQAAAAAAAbJdAAAAAAAAogUAAAAAAAEiEQNejcD0KT35AAAAAAABsl0AAAAAAACiBQKRwPQrXD3ZAw/UoXI/Ge0AAAAAAALByQAAAAAAAiIBAAAAAAADQdUAAAAAAADB/QAAAAAAAFJVAj8L1KFxhhUAAAAAAAEiEQAAAAAAAuIJAzczMzMx6g0AAAAAAAGyXQEjhehSuD29Aw/UoXI92fkDXo3A9CpyZQAAAAAAAbqdAAAAAAAA4j0A=",
          "dtype": "f8"
         },
         "y": {
          "bdata": "ZmZmZmZmEkAAAAAAAAASQGZmZmZmZhJAAAAAAAAAEkAAAAAAAAASQAAAAAAAABJAAAAAAAAAEkAAAAAAAAASQGZmZmZmZhJAZmZmZmZmEkAAAAAAAAASQGZmZmZmZhJAAAAAAAAA+H8AAAAAAAD4fwAAAAAAABRAAAAAAAAAEkBmZmZmZmYSQDMzMzMzMxFAMzMzMzMzEUAAAAAAAAD4fwAAAAAAAPh/mpmZmZmZEUBmZmZmZmYSQAAAAAAAABJAAAAAAAAA+H8AAAAAAAASQGZmZmZmZhJAzczMzMzMEEBmZmZmZmYSQAAAAAAAABBAAAAAAAAAFEAAAAAAAAASQGZmZmZmZhBAAAAAAAAAEkA=",
          "dtype": "f8"
         },
         "z": {
          "bdata": "VAQ3APcATgFOAU4BXABcANoEVAQ3AIQAAAAAAAIAQwDQBCUABQAAAAAAlwCgAKMAAABpAKAADgDaBGEAAQBDACcA/gA=",
          "dtype": "i2"
         }
        },
        {
         "hovertemplate": "categoria=Portátiles con Windows<br>precio=%{x}<br>rating=%{y}<br>opiniones=%{z}<extra></extra>",
         "legendgroup": "Portátiles con Windows",
         "marker": {
          "color": "#B6E880",
          "symbol": "circle"
         },
         "mode": "markers",
         "name": "Portátiles con Windows",
         "scene": "scene",
         "showlegend": true,
         "type": "scatter3d",
         "x": {
          "bdata": "AAAAAAB4gUAAAAAAABiHQKRwPQrXv3dAAAAAAAA4hUAAAAAAANiFQAAAAAAACIhAAAAAAAAoi0CkcD0K1+94QClcj8L1N5hAAAAAAAAIg0AAAAAAAACBQFK4HoXrfYFAAAAAAADckEBSuB6F6zeEQFK4HoXr/4NAAAAAAAAgfEA=",
          "dtype": "f8"
         },
         "y": {
          "bdata": "AAAAAAAAEkBmZmZmZmYSQDMzMzMzMw9AZmZmZmZmEkAAAAAAAAD4fwAAAAAAABJAAAAAAAAA+H9mZmZmZmYSQAAAAAAAABJAAAAAAAAA+H9mZmZmZmYSQDMzMzMzMxNAMzMzMzMzE0AzMzMzMzMTQM3MzMzMzBBAAAAAAAAA+H8=",
          "dtype": "f8"
         },
         "z": {
          "bdata": "2gEZAaYBEAIAAGkAAAAZAYQAAAA0AAUAAgAcAGUBAAA=",
          "dtype": "i2"
         }
        },
        {
         "hovertemplate": "categoria=ASUS<br>precio=%{x}<br>rating=%{y}<br>opiniones=%{z}<extra></extra>",
         "legendgroup": "ASUS",
         "marker": {
          "color": "#FF97FF",
          "symbol": "circle"
         },
         "mode": "markers",
         "name": "ASUS",
         "scene": "scene",
         "showlegend": true,
         "type": "scatter3d",
         "x": {
          "bdata": "AAAAAADIhkAAAAAAABiCQAAAAAAAGIJAAAAAAABMlEAAAAAAAPyTQAAAAAAAkHlAAAAAAAAIjUAAAAAAAFiIQAAAAAAAmIlAAAAAAADQcEAAAAAAABB3QAAAAAAAiIBAAAAAAACIgEAAAAAAADB/QAAAAAAAMH9A7FG4HgUuoUAAAAAAADB/QAAAAAAAvJJApHA9CtfLg0AAAAAAAPyYQAAAAAAASIRAAAAAAADweECuR+F6FBiMQAAAAAAAxJlAZmZmZmZCgkAAAAAAAKyZQAAAAAAAZqBAAAAAAAAQfECkcD0K1896QAAAAAAAPJ9AUrgehesXjEA=",
          "dtype": "f8"
         },
         "y": {
          "bdata": "zczMzMzMEkDNzMzMzMwSQM3MzMzMzBBAMzMzMzMzE0BmZmZmZmYSQDMzMzMzMxFAMzMzMzMzEUBmZmZmZmYSQDMzMzMzMxFAZmZmZmZmEEDNzMzMzMwQQAAAAAAAABJAAAAAAAAA+H+amZmZmZkRQAAAAAAAABBAzczMzMzMEkAAAAAAAAASQGZmZmZmZhJAAAAAAAAA+H9mZmZmZmYKQAAAAAAAAPh/MzMzMzMzEUAzMzMzMzMPQDMzMzMzMxNAAAAAAAAA+H/NzMzMzMwSQAAAAAAAABJAZmZmZmZmEkAzMzMzMzMRQDMzMzMzMw9AmpmZmZmZDUA=",
          "dtype": "f8"
         },
         "z": {
          "bdata": "GQAHABEAHADfBQUAMgAMADIADQAPAMQDAABQAAYAFAA4AJEAAAACAAAADQAIAAMAAACiARkACQA/AAQAAwA=",
          "dtype": "i2"
         }
        },
        {
         "hovertemplate": "categoria=Monitor portátil<br>precio=%{x}<br>rating=%{y}<br>opiniones=%{z}<extra></extra>",
         "legendgroup": "Monitor portátil",
         "marker": {
          "color": "#FECB52",
          "symbol": "circle"
         },
         "mode": "markers",
         "name": "Monitor portátil",
         "scene": "scene",
         "showlegend": true,
         "type": "scatter3d",
         "x": {
          "bdata": "AAAAAADAWECPwvUoXP9cQEjhehSu/2BAAAAAAAAgYEDhehSuR4ljQEjhehSu/2BAH4XrUbj+V0BI4XoUrv9gQKRwPQrX/3tA4XoUrkcVfkAfhetRuP5XQB+F61G4flZA7FG4HoXDcUBI4XoUrj9lQFyPwvUoXGdAAAAAAAAwdUAfhetRuP5XQB+F61G4fltAH4XrUbguaUBI4XoUrt9oQAAAAAAAoGJASOF6FK7/ZkCPwvUoXD9fQB+F61G4/ldApHA9CtcPfEBmZmZmZjZqQHsUrkfhTnRAAAAAAACQeEAfhetRuIp8QClcj8L1xHdApHA9CtdvdkA9CtejcCV6QB+F61G4/ldAH4XrUbh+VkAAAAAAAABtQHE9CtejnoRASOF6FK7fb0BI4XoUrm9yQI/C9Shc/2NApHA9CtevckA=",
          "dtype": "f8"
         },
         "y": {
          "bdata": "AAAAAAAAEkAAAAAAAAAQQM3MzMzMzBJAzczMzMzMEEDNzMzMzMwQQAAAAAAAABJAzczMzMzMEkAzMzMzMzMRQM3MzMzMzBBAAAAAAAAAFEAAAAAAAAAUQAAAAAAAABBAAAAAAAAAFEAAAAAAAAASQAAAAAAAABJAzczMzMzMEEAAAAAAAAASQJqZmZmZmRNAAAAAAAAAEkAAAAAAAAD4fwAAAAAAABJAAAAAAAAA+H/NzMzMzMwQQDMzMzMzMxNAzczMzMzMEEAAAAAAAAASQM3MzMzMzBBAzczMzMzMEEAAAAAAAAD4f83MzMzMzBBAAAAAAAAAEkAAAAAAAAASQAAAAAAAABJAAAAAAAAA+H8AAAAAAAAQQAAAAAAAAPh/AAAAAAAA+H8AAAAAAAD4fwAAAAAAAPh/AAAAAAAA+H8=",
          "dtype": "f8"
         },
         "z": {
          "bdata": "eAAeABcAsQBBABkAJAAQALEAAQACAAYAAQABAB4AsQAfAAQAJAAAACQAAACxAAMAsQAeALEAQQAAALEAHgAeAAgAAAACAAAAAAAAAAAAAAA=",
          "dtype": "i2"
         }
        },
        {
         "hovertemplate": "categoria=Cocinas portátiles<br>precio=%{x}<br>rating=%{y}<br>opiniones=%{z}<extra></extra>",
         "legendgroup": "Cocinas portátiles",
         "marker": {
          "color": "#636efa",
          "symbol": "circle"
         },
         "mode": "markers",
         "name": "Cocinas portátiles",
         "scene": "scene",
         "showlegend": true,
         "type": "scatter3d",
         "x": {
          "bdata": "cT0K16MAVEAAAAAAAMBXQAAAAAAAgExAAAAAAADAU0AAAAAAAABNQB+F61G4fkRAPQrXo3D9NUD2KFyPwvVIQD0K16NwfTRAMzMzMzPzREBI4XoUrqdTQFK4HoXrcUhASOF6FK63UEBSuB6F6zFAQD0K16NwnUJAw/UoXI8iRkAAAAAAADBoQK5H4XoUPlZAMzMzMzNzSkBI4XoUrj9gQFK4HoXrEVlAAAAAAAAAREDhehSuR8FHQIXrUbgexUpAMzMzMzPzQ0AAAAAAAKBPQB+F61G4/kNAH4XrUbh+RUAfhetRuH5IQD0K16Nw/UdAH4XrUbh+QkBSuB6F6xFGQB+F61G4/kFA16NwPQrXNkAAAAAAAABCQGZmZmZmpkZAj8L1KFy/UUAfhetRuP5BQI/C9ShcP1FApHA9CtcDVkA=",
          "dtype": "f8"
         },
         "y": {
          "bdata": "zczMzMzMEkDNzMzMzMwSQAAAAAAAABJAMzMzMzMzEUAAAAAAAAD4f83MzMzMzBBAMzMzMzMzEUAAAAAAAAD4fwAAAAAAAPh/MzMzMzMzB0AAAAAAAAD4fwAAAAAAAPh/AAAAAAAA+H8AAAAAAAD4fwAAAAAAAPh/AAAAAAAA+H8AAAAAAAD4fzMzMzMzMw9AAAAAAAAA4D8AAAAAAAD4fwAAAAAAAPh/AAAAAAAA+H8AAAAAAAD4fwAAAAAAAPh/AAAAAAAAFEAAAAAAAAD4fwAAAAAAAPh/AAAAAAAA+H8AAAAAAAD4fwAAAAAAAPh/AAAAAAAA+H+amZmZmZkRQAAAAAAAAPh/AAAAAAAA+H8AAAAAAAD4fwAAAAAAAPh/AAAAAAAA+H8AAAAAAAD4fwAAAAAAAPh/MzMzMzMzE0A=",
          "dtype": "f8"
         },
         "z": {
          "bdata": "IBUCIwARAgAACQAAAAAAAAAEAQAAAAAAAQAAAAAAAAcAAAAAAAAAAg==",
          "dtype": "i1"
         }
        },
        {
         "hovertemplate": "categoria=MSI<br>precio=%{x}<br>rating=%{y}<br>opiniones=%{z}<extra></extra>",
         "legendgroup": "MSI",
         "marker": {
          "color": "#EF553B",
          "symbol": "circle"
         },
         "mode": "markers",
         "name": "MSI",
         "scene": "scene",
         "showlegend": true,
         "type": "scatter3d",
         "x": {
          "bdata": "KVyPwvUrkUAAAAAAAEyeQAAAAAAACIhAAAAAAAC4gkAAAAAAAEiJQAAAAAAASIRAAAAAAABoh0AAAAAAAMSZQAAAAAAAxJRAAAAAAADIhkAAAAAAALiCQAAAAAAAZJBAAAAAAABMlEAAAAAAAMqgQAAAAAAAMqJAAAAAAADEmUAAAAAAAGagQAAAAAAAWIhAUrgehesXjEApXI/C9fuTQAAAAAAAZqBAAAAAAACklkAAAAAAAJanQAAAAAAAbJdAKVyPwvUzmEAAAAAAAMSZQAAAAAAAxJRAAAAAAAA8n0AUrkfh+r2iQArXo3D9TrRA",
          "dtype": "f8"
         },
         "y": {
          "bdata": "AAAAAAAAEkCamZmZmZkRQGZmZmZmZhJAAAAAAAAAEkAAAAAAAAASQAAAAAAAABJAZmZmZmZmEkCamZmZmZkRQAAAAAAAABJAAAAAAAAAEkAAAAAAAAASQAAAAAAAABJAAAAAAAAAEkAAAAAAAAAQQAAAAAAAABBAzczMzMzMEkCamZmZmZkRQGZmZmZmZhJAAAAAAAAAEkAAAAAAAAASQJqZmZmZmRFAzczMzMzMEkAzMzMzMzMRQAAAAAAAABJAAAAAAAAAEkAAAAAAAAASQDMzMzMzMxFAAAAAAAAAFEBmZmZmZmYSQGZmZmZmZhJA",
          "dtype": "f8"
         },
         "z": {
          "bdata": "9ABnAPgB7gLqAU4CfABnAMIA3wGOA04CwgA1ADUAHwBnAIYA3wFuAGcAHwAnAMIAwgAWARQAAwAvADAA",
          "dtype": "i2"
         }
        },
        {
         "hovertemplate": "categoria=Portátiles 2 en 1 convertibles<br>precio=%{x}<br>rating=%{y}<br>opiniones=%{z}<extra></extra>",
         "legendgroup": "Portátiles 2 en 1 convertibles",
         "marker": {
          "color": "#00cc96",
          "symbol": "circle"
         },
         "mode": "markers",
         "name": "Portátiles 2 en 1 convertibles",
         "scene": "scene",
         "showlegend": true,
         "type": "scatter3d",
         "x": {
          "bdata": "pHA9CtffdUAAAAAAAPahQAAAAAAACIhAAAAAAACsnUAAAAAAAJB5QAAAAAAAqqJAAAAAAACsmEAAAAAAAMqgQAAAAAAAbqdAAAAAAABOpEAAAAAAAKiNQAAAAAAAdJlASOF6FK6zkECamZmZmWeZQAAAAAAA7J5AAAAAAAD2oUAAAAAAABSVQAAAAAAAzJtAw/UoXI8+cEDXo3A9Cv9oQGZmZmZmEKBAXI/C9SiijkAfhetRuFKWQAAAAAAAOIpAKVyPwvW7nEAAAAAAADyaQAAAAAAAPJpAFK5H4XolnUAAAAAAAISdQLgehetRfKBAKVyPwvXJoEAfhetRuP5tQAAAAAAA3JVAmpmZmZlkk0AAAAAAAJiOQAAAAAAAJJRA16NwPQqIkkAUrkfhehaFQAAAAAAAtJVA16NwPQrveEA=",
          "dtype": "f8"
         },
         "y": {
          "bdata": "mpmZmZmZE0CamZmZmZkTQGZmZmZmZhJAZmZmZmZmEkCamZmZmZkRQAAAAAAAABJAmpmZmZmZE0BmZmZmZmYSQAAAAAAAABRAAAAAAAAAEkDNzMzMzMwSQAAAAAAAABBAAAAAAAAAFEAzMzMzMzMRQJqZmZmZmRNAZmZmZmZmEkAAAAAAAAASQAAAAAAAABBAzczMzMzMEkCamZmZmZkNQGZmZmZmZg5AAAAAAAAA+H8AAAAAAAD4f83MzMzMzBJAMzMzMzMzD0AzMzMzMzMPQDMzMzMzMw9AZmZmZmZmEkAAAAAAAAD4fwAAAAAAAPh/AAAAAAAA+H8AAAAAAAAQQAAAAAAAABJAzczMzMzMDEDNzMzMzMwSQAAAAAAAAPh/zczMzMzMDEAAAAAAAAAUQGZmZmZmZhJAAAAAAAAA+H8=",
          "dtype": "f8"
         },
         "z": {
          "bdata": "BwAMACcACAAdAAEABQAgAAIAAQBGAAQAAgCUAAUACAACAAQAEAAZAAIAAAAAABgACgAKAAoANwAAAAAAAAAWAAIABABGAAAABAABABIAAAA=",
          "dtype": "i2"
         }
        },
        {
         "hovertemplate": "categoria=Neveras portátiles<br>precio=%{x}<br>rating=%{y}<br>opiniones=%{z}<extra></extra>",
         "legendgroup": "Neveras portátiles",
         "marker": {
          "color": "#ab63fa",
          "symbol": "circle"
         },
         "mode": "markers",
         "name": "Neveras portátiles",
         "scene": "scene",
         "showlegend": true,
         "type": "scatter3d",
         "x": {
          "bdata": "MzMzMzNzS0AzMzMzM/NDQBSuR+F69ENAUrgehetxS0CuR+F6FC49QDMzMzMz34VAmpmZmZk5UEBxPQrXo8BdQMP1KFyPoldAmpmZmZkJXEAfhetRuN48QArXo3A9ijFACtejcD2KLUAK16NwPYotQDMzMzMz801AmpmZmZk5UECamZmZmXlRQI/C9ShcP1tAFK5H4Xr0Q0AzMzMzM/NDQM3MzMzMzDxAFK5H4Xr0Q0AzMzMzM/NDQDMzMzMz80NAUrgehetRTUApXI/C9fhYQJqZmZmZOVBA4XoUrkehRkBcj8L1KGxRQClcj8L1mF1AFK5H4XrkYEDNzMzMzIxOQNejcD0KV0ZASOF6FK7/dUBSuB6F66uVQAAAAAAAwFNAj8L1KFw/VkCPwvUoXD9WQB+F61G4/kNAH4XrUbj+Q0A=",
          "dtype": "f8"
         },
         "y": {
          "bdata": "AAAAAAAA4D8zMzMzMzMHQDMzMzMzMwdAAAAAAAAAFEAAAAAAAAAUQAAAAAAAAPh/AAAAAAAA+H8AAAAAAAD4fwAAAAAAAPh/AAAAAAAA+H8AAAAAAAD4fwAAAAAAAPh/AAAAAAAAFEAAAAAAAAAUQAAAAAAAAPh/AAAAAAAA+H8AAAAAAAD4fwAAAAAAABRAMzMzMzMzB0DNzMzMzMwMQM3MzMzMzAxAzczMzMzMDEDNzMzMzMwMQAAAAAAAAPh/AAAAAAAA4D8AAAAAAAD4fwAAAAAAAPh/AAAAAAAA4D8AAAAAAAAUQAAAAAAAABRAAAAAAAAA+H8AAAAAAAAUQAAAAAAAAPh/AAAAAAAA+H8AAAAAAAAUQAAAAAAAABRAAAAAAAAA+H8AAAAAAAD4fwAAAAAAAPh/AAAAAAAA+H8=",
          "dtype": "f8"
         },
         "z": {
          "bdata": "AQQEAQEAAAAAAAAAAQEAAAABBAgICAgAAQAAAQECAAEAAAEBAAAAAA==",
          "dtype": "i1"
         }
        },
        {
         "hovertemplate": "categoria=Portátiles<br>precio=%{x}<br>rating=%{y}<br>opiniones=%{z}<extra></extra>",
         "legendgroup": "Portátiles",
         "marker": {
          "color": "#FFA15A",
          "symbol": "circle"
         },
         "mode": "markers",
         "name": "Portátiles",
         "scene": "scene",
         "showlegend": true,
         "type": "scatter3d",
         "x": {
          "bdata": "SOF6FK4/b0ApXI/C9Y+aQAAAAAAA6IRAAAAAAADwfUAAAAAAAIiFQAAAAAAA2IBAAAAAAAA4j0AAAAAAADiAQAAAAAAAjJVAAAAAAADIhkAAAAAAANB/QAAAAAAAWIhAAAAAAACkkUAAAAAAADB/QAAAAAAA/JNAAAAAAABMlEAAAAAAALySQKRwPQrXo5FAAAAAAAD8mEAAAAAAABiCQAAAAAAAsHJAAAAAAAC4gkAAAAAAAIiKQAAAAAAABJZAAAAAAAC4jEApXI/C9WOVQAAAAAAAFJBAKVyPwvUzmEAAAAAAAIiAQAAAAAAAGIJAAAAAAAAYh0AAAAAAAKiNQAAAAAAA5JJApHA9CtejkUAAAAAAAKiNQAAAAAAAyIZAAAAAAAAEkUCkcD0K16ORQAAAAAAAWI1AKVyPwvUrkUA=",
          "dtype": "f8"
         },
         "y": {
          "bdata": "MzMzMzMzD0AAAAAAAAASQAAAAAAAABJAAAAAAAAAEkAAAAAAAAASQGZmZmZmZhJAmpmZmZmZEUAzMzMzMzMTQM3MzMzMzBJAAAAAAAAAEkAAAAAAAAASQAAAAAAAABJAZmZmZmZmEkBmZmZmZmYSQGZmZmZmZhJAZmZmZmZmEkDNzMzMzMwSQDMzMzMzMxNAMzMzMzMzE0BmZmZmZmYSQJqZmZmZmRFAAAAAAAAAEkCamZmZmZkRQAAAAAAAABJAZmZmZmZmEkAzMzMzMzMTQJqZmZmZmRNAAAAAAAAAEkAzMzMzMzMRQAAAAAAAABJAAAAAAAAAEkAzMzMzMzMRQDMzMzMzMxNAMzMzMzMzE0BmZmZmZmYSQGZmZmZmZhJAAAAAAAAAEEAzMzMzMzMTQGZmZmZmZhJAZmZmZmZmEkA=",
          "dtype": "f8"
         },
         "z": {
          "bdata": "pgGEADQB8gBTACgC4gQrAIYATgJTAN8B2gT0BNoEhABYAF4BEwAiAG0A8gBPAMIA+AFeARkAwgBoAMQD3wEyAF4BXgEzADYACgBeAfgB+AE=",
          "dtype": "i2"
         }
        }
       ],
       "layout": {
        "legend": {
         "title": {
          "text": "categoria"
         },
         "tracegroupgap": 0
        },
        "margin": {
         "t": 60
        },
        "scene": {
         "domain": {
          "x": [
           0,
           1
          ],
          "y": [
           0,
           1
          ]
         },
         "xaxis": {
          "title": {
           "text": "precio"
          }
         },
         "yaxis": {
          "title": {
           "text": "rating"
          }
         },
         "zaxis": {
          "title": {
           "text": "opiniones"
          }
         }
        },
        "template": {
         "data": {
          "bar": [
           {
            "error_x": {
             "color": "#2a3f5f"
            },
            "error_y": {
             "color": "#2a3f5f"
            },
            "marker": {
             "line": {
              "color": "#E5ECF6",
              "width": 0.5
             },
             "pattern": {
              "fillmode": "overlay",
              "size": 10,
              "solidity": 0.2
             }
            },
            "type": "bar"
           }
          ],
          "barpolar": [
           {
            "marker": {
             "line": {
              "color": "#E5ECF6",
              "width": 0.5
             },
             "pattern": {
              "fillmode": "overlay",
              "size": 10,
              "solidity": 0.2
             }
            },
            "type": "barpolar"
           }
          ],
          "carpet": [
           {
            "aaxis": {
             "endlinecolor": "#2a3f5f",
             "gridcolor": "white",
             "linecolor": "white",
             "minorgridcolor": "white",
             "startlinecolor": "#2a3f5f"
            },
            "baxis": {
             "endlinecolor": "#2a3f5f",
             "gridcolor": "white",
             "linecolor": "white",
             "minorgridcolor": "white",
             "startlinecolor": "#2a3f5f"
            },
            "type": "carpet"
           }
          ],
          "choropleth": [
           {
            "colorbar": {
             "outlinewidth": 0,
             "ticks": ""
            },
            "type": "choropleth"
           }
          ],
          "contour": [
           {
            "colorbar": {
             "outlinewidth": 0,
             "ticks": ""
            },
            "colorscale": [
             [
              0,
              "#0d0887"
             ],
             [
              0.1111111111111111,
              "#46039f"
             ],
             [
              0.2222222222222222,
              "#7201a8"
             ],
             [
              0.3333333333333333,
              "#9c179e"
             ],
             [
              0.4444444444444444,
              "#bd3786"
             ],
             [
              0.5555555555555556,
              "#d8576b"
             ],
             [
              0.6666666666666666,
              "#ed7953"
             ],
             [
              0.7777777777777778,
              "#fb9f3a"
             ],
             [
              0.8888888888888888,
              "#fdca26"
             ],
             [
              1,
              "#f0f921"
             ]
            ],
            "type": "contour"
           }
          ],
          "contourcarpet": [
           {
            "colorbar": {
             "outlinewidth": 0,
             "ticks": ""
            },
            "type": "contourcarpet"
           }
          ],
          "heatmap": [
           {
            "colorbar": {
             "outlinewidth": 0,
             "ticks": ""
            },
            "colorscale": [
             [
              0,
              "#0d0887"
             ],
             [
              0.1111111111111111,
              "#46039f"
             ],
             [
              0.2222222222222222,
              "#7201a8"
             ],
             [
              0.3333333333333333,
              "#9c179e"
             ],
             [
              0.4444444444444444,
              "#bd3786"
             ],
             [
              0.5555555555555556,
              "#d8576b"
             ],
             [
              0.6666666666666666,
              "#ed7953"
             ],
             [
              0.7777777777777778,
              "#fb9f3a"
             ],
             [
              0.8888888888888888,
              "#fdca26"
             ],
             [
              1,
              "#f0f921"
             ]
            ],
            "type": "heatmap"
           }
          ],
          "histogram": [
           {
            "marker": {
             "pattern": {
              "fillmode": "overlay",
              "size": 10,
              "solidity": 0.2
             }
            },
            "type": "histogram"
           }
          ],
          "histogram2d": [
           {
            "colorbar": {
             "outlinewidth": 0,
             "ticks": ""
            },
            "colorscale": [
             [
              0,
              "#0d0887"
             ],
             [
              0.1111111111111111,
              "#46039f"
             ],
             [
              0.2222222222222222,
              "#7201a8"
             ],
             [
              0.3333333333333333,
              "#9c179e"
             ],
             [
              0.4444444444444444,
              "#bd3786"
             ],
             [
              0.5555555555555556,
              "#d8576b"
             ],
             [
              0.6666666666666666,
              "#ed7953"
             ],
             [
              0.7777777777777778,
              "#fb9f3a"
             ],
             [
              0.8888888888888888,
              "#fdca26"
             ],
             [
              1,
              "#f0f921"
             ]
            ],
            "type": "histogram2d"
           }
          ],
          "histogram2dcontour": [
           {
            "colorbar": {
             "outlinewidth": 0,
             "ticks": ""
            },
            "colorscale": [
             [
              0,
              "#0d0887"
             ],
             [
              0.1111111111111111,
              "#46039f"
             ],
             [
              0.2222222222222222,
              "#7201a8"
             ],
             [
              0.3333333333333333,
              "#9c179e"
             ],
             [
              0.4444444444444444,
              "#bd3786"
             ],
             [
              0.5555555555555556,
              "#d8576b"
             ],
             [
              0.6666666666666666,
              "#ed7953"
             ],
             [
              0.7777777777777778,
              "#fb9f3a"
             ],
             [
              0.8888888888888888,
              "#fdca26"
             ],
             [
              1,
              "#f0f921"
             ]
            ],
            "type": "histogram2dcontour"
           }
          ],
          "mesh3d": [
           {
            "colorbar": {
             "outlinewidth": 0,
             "ticks": ""
            },
            "type": "mesh3d"
           }
          ],
          "parcoords": [
           {
            "line": {
             "colorbar": {
              "outlinewidth": 0,
              "ticks": ""
             }
            },
            "type": "parcoords"
           }
          ],
          "pie": [
           {
            "automargin": true,
            "type": "pie"
           }
          ],
          "scatter": [
           {
            "fillpattern": {
             "fillmode": "overlay",
             "size": 10,
             "solidity": 0.2
            },
            "type": "scatter"
           }
          ],
          "scatter3d": [
           {
            "line": {
             "colorbar": {
              "outlinewidth": 0,
              "ticks": ""
             }
            },
            "marker": {
             "colorbar": {
              "outlinewidth": 0,
              "ticks": ""
             }
            },
            "type": "scatter3d"
           }
          ],
          "scattercarpet": [
           {
            "marker": {
             "colorbar": {
              "outlinewidth": 0,
              "ticks": ""
             }
            },
            "type": "scattercarpet"
           }
          ],
          "scattergeo": [
           {
            "marker": {
             "colorbar": {
              "outlinewidth": 0,
              "ticks": ""
             }
            },
            "type": "scattergeo"
           }
          ],
          "scattergl": [
           {
            "marker": {
             "colorbar": {
              "outlinewidth": 0,
              "ticks": ""
             }
            },
            "type": "scattergl"
           }
          ],
          "scattermap": [
           {
            "marker": {
             "colorbar": {
              "outlinewidth": 0,
              "ticks": ""
             }
            },
            "type": "scattermap"
           }
          ],
          "scattermapbox": [
           {
            "marker": {
             "colorbar": {
              "outlinewidth": 0,
              "ticks": ""
             }
            },
            "type": "scattermapbox"
           }
          ],
          "scatterpolar": [
           {
            "marker": {
             "colorbar": {
              "outlinewidth": 0,
              "ticks": ""
             }
            },
            "type": "scatterpolar"
           }
          ],
          "scatterpolargl": [
           {
            "marker": {
             "colorbar": {
              "outlinewidth": 0,
              "ticks": ""
             }
            },
            "type": "scatterpolargl"
           }
          ],
          "scatterternary": [
           {
            "marker": {
             "colorbar": {
              "outlinewidth": 0,
              "ticks": ""
             }
            },
            "type": "scatterternary"
           }
          ],
          "surface": [
           {
            "colorbar": {
             "outlinewidth": 0,
             "ticks": ""
            },
            "colorscale": [
             [
              0,
              "#0d0887"
             ],
             [
              0.1111111111111111,
              "#46039f"
             ],
             [
              0.2222222222222222,
              "#7201a8"
             ],
             [
              0.3333333333333333,
              "#9c179e"
             ],
             [
              0.4444444444444444,
              "#bd3786"
             ],
             [
              0.5555555555555556,
              "#d8576b"
             ],
             [
              0.6666666666666666,
              "#ed7953"
             ],
             [
              0.7777777777777778,
              "#fb9f3a"
             ],
             [
              0.8888888888888888,
              "#fdca26"
             ],
             [
              1,
              "#f0f921"
             ]
            ],
            "type": "surface"
           }
          ],
          "table": [
           {
            "cells": {
             "fill": {
              "color": "#EBF0F8"
             },
             "line": {
              "color": "white"
             }
            },
            "header": {
             "fill": {
              "color": "#C8D4E3"
             },
             "line": {
              "color": "white"
             }
            },
            "type": "table"
           }
          ]
         },
         "layout": {
          "annotationdefaults": {
           "arrowcolor": "#2a3f5f",
           "arrowhead": 0,
           "arrowwidth": 1
          },
          "autotypenumbers": "strict",
          "coloraxis": {
           "colorbar": {
            "outlinewidth": 0,
            "ticks": ""
           }
          },
          "colorscale": {
           "diverging": [
            [
             0,
             "#8e0152"
            ],
            [
             0.1,
             "#c51b7d"
            ],
            [
             0.2,
             "#de77ae"
            ],
            [
             0.3,
             "#f1b6da"
            ],
            [
             0.4,
             "#fde0ef"
            ],
            [
             0.5,
             "#f7f7f7"
            ],
            [
             0.6,
             "#e6f5d0"
            ],
            [
             0.7,
             "#b8e186"
            ],
            [
             0.8,
             "#7fbc41"
            ],
            [
             0.9,
             "#4d9221"
            ],
            [
             1,
             "#276419"
            ]
           ],
           "sequential": [
            [
             0,
             "#0d0887"
            ],
            [
             0.1111111111111111,
             "#46039f"
            ],
            [
             0.2222222222222222,
             "#7201a8"
            ],
            [
             0.3333333333333333,
             "#9c179e"
            ],
            [
             0.4444444444444444,
             "#bd3786"
            ],
            [
             0.5555555555555556,
             "#d8576b"
            ],
            [
             0.6666666666666666,
             "#ed7953"
            ],
            [
             0.7777777777777778,
             "#fb9f3a"
            ],
            [
             0.8888888888888888,
             "#fdca26"
            ],
            [
             1,
             "#f0f921"
            ]
           ],
           "sequentialminus": [
            [
             0,
             "#0d0887"
            ],
            [
             0.1111111111111111,
             "#46039f"
            ],
            [
             0.2222222222222222,
             "#7201a8"
            ],
            [
             0.3333333333333333,
             "#9c179e"
            ],
            [
             0.4444444444444444,
             "#bd3786"
            ],
            [
             0.5555555555555556,
             "#d8576b"
            ],
            [
             0.6666666666666666,
             "#ed7953"
            ],
            [
             0.7777777777777778,
             "#fb9f3a"
            ],
            [
             0.8888888888888888,
             "#fdca26"
            ],
            [
             1,
             "#f0f921"
            ]
           ]
          },
          "colorway": [
           "#636efa",
           "#EF553B",
           "#00cc96",
           "#ab63fa",
           "#FFA15A",
           "#19d3f3",
           "#FF6692",
           "#B6E880",
           "#FF97FF",
           "#FECB52"
          ],
          "font": {
           "color": "#2a3f5f"
          },
          "geo": {
           "bgcolor": "white",
           "lakecolor": "white",
           "landcolor": "#E5ECF6",
           "showlakes": true,
           "showland": true,
           "subunitcolor": "white"
          },
          "hoverlabel": {
           "align": "left"
          },
          "hovermode": "closest",
          "mapbox": {
           "style": "light"
          },
          "paper_bgcolor": "white",
          "plot_bgcolor": "#E5ECF6",
          "polar": {
           "angularaxis": {
            "gridcolor": "white",
            "linecolor": "white",
            "ticks": ""
           },
           "bgcolor": "#E5ECF6",
           "radialaxis": {
            "gridcolor": "white",
            "linecolor": "white",
            "ticks": ""
           }
          },
          "scene": {
           "xaxis": {
            "backgroundcolor": "#E5ECF6",
            "gridcolor": "white",
            "gridwidth": 2,
            "linecolor": "white",
            "showbackground": true,
            "ticks": "",
            "zerolinecolor": "white"
           },
           "yaxis": {
            "backgroundcolor": "#E5ECF6",
            "gridcolor": "white",
            "gridwidth": 2,
            "linecolor": "white",
            "showbackground": true,
            "ticks": "",
            "zerolinecolor": "white"
           },
           "zaxis": {
            "backgroundcolor": "#E5ECF6",
            "gridcolor": "white",
            "gridwidth": 2,
            "linecolor": "white",
            "showbackground": true,
            "ticks": "",
            "zerolinecolor": "white"
           }
          },
          "shapedefaults": {
           "line": {
            "color": "#2a3f5f"
           }
          },
          "ternary": {
           "aaxis": {
            "gridcolor": "white",
            "linecolor": "white",
            "ticks": ""
           },
           "baxis": {
            "gridcolor": "white",
            "linecolor": "white",
            "ticks": ""
           },
           "bgcolor": "#E5ECF6",
           "caxis": {
            "gridcolor": "white",
            "linecolor": "white",
            "ticks": ""
           }
          },
          "title": {
           "x": 0.05
          },
          "xaxis": {
           "automargin": true,
           "gridcolor": "white",
           "linecolor": "white",
           "ticks": "",
           "title": {
            "standoff": 15
           },
           "zerolinecolor": "white",
           "zerolinewidth": 2
          },
          "yaxis": {
           "automargin": true,
           "gridcolor": "white",
           "linecolor": "white",
           "ticks": "",
           "title": {
            "standoff": 15
           },
           "zerolinecolor": "white",
           "zerolinewidth": 2
          }
         }
        }
       }
      }
     },
     "metadata": {},
     "output_type": "display_data"
    }
   ],
   "source": [
    "px.scatter_3d(data_frame = df_portatiles,\n",
    "              x          = \"precio\",\n",
    "              y          = \"rating\",\n",
    "              z          = \"opiniones\",\n",
    "              color      = \"categoria\"\n",
    "              )"
   ]
  },
  {
   "cell_type": "code",
   "execution_count": 88,
   "metadata": {},
   "outputs": [
    {
     "data": {
      "application/vnd.plotly.v1+json": {
       "config": {
        "plotlyServerURL": "https://plot.ly"
       },
       "data": [
        {
         "bingroup": "x",
         "hovertemplate": "categoria=Portátiles con inteligencia artificial<br>descuento_%=%{x}<br>count=%{y}<extra></extra>",
         "legendgroup": "Portátiles con inteligencia artificial",
         "marker": {
          "color": "#636efa",
          "pattern": {
           "shape": ""
          }
         },
         "name": "Portátiles con inteligencia artificial",
         "orientation": "v",
         "showlegend": true,
         "type": "histogram",
         "x": {
          "bdata": "7FG4HoVrI0A9CtejcJ1BQI/C9Shcjx1AhetRuB4FJEDNzMzMzMwnQLgehetROChAmpmZmZkZKkCPwvUoXI8dQAAAAAAAAAAAAAAAAAAAAAAAAAAAAAAAAFK4HoXrUShAZmZmZmbmIEAfhetRuB4dQI/C9Shcjx1AhetRuB4FJEApXI/C9ag9QA==",
          "dtype": "f8"
         },
         "xaxis": "x",
         "yaxis": "y"
        },
        {
         "bingroup": "x",
         "hovertemplate": "categoria=Estaciones de energía<br>descuento_%=%{x}<br>count=%{y}<extra></extra>",
         "legendgroup": "Estaciones de energía",
         "marker": {
          "color": "#EF553B",
          "pattern": {
           "shape": ""
          }
         },
         "name": "Estaciones de energía",
         "orientation": "v",
         "showlegend": true,
         "type": "histogram",
         "x": {
          "bdata": "FK5H4XoUSUAAAAAAACBJQPYoXI/CtTBAUrgeheuRPkBcj8L1KPxEQAAAAAAAAAAAAAAAAAAALkAAAAAAAAAAANejcD0KVylAAAAAAAAAAAAAAAAAAAAAAPYoXI/C9UNAAAAAAAAAAAD2KFyPwnVFQAAAAAAAAAAAAAAAAAAAAABmZmZmZmY8QAAAAAAAAAAAAAAAAAAAAABxPQrXo4BbQClcj8L1eFpAAAAAAAAAAAAAAAAAAAAAAAAAAAAAAAAAAAAAAAAAAADsUbgehWs9QA==",
          "dtype": "f8"
         },
         "xaxis": "x",
         "yaxis": "y"
        },
        {
         "bingroup": "x",
         "hovertemplate": "categoria=Altavoces portátiles<br>descuento_%=%{x}<br>count=%{y}<extra></extra>",
         "legendgroup": "Altavoces portátiles",
         "marker": {
          "color": "#00cc96",
          "pattern": {
           "shape": ""
          }
         },
         "name": "Altavoces portátiles",
         "orientation": "v",
         "showlegend": true,
         "type": "histogram",
         "x": {
          "bdata": "16NwPQo3QkB7FK5H4fpvQAAAAAAAAAAAAAAAAAAAAABI4XoUrqdKQFK4HoXrET1A9ihcj8J1J0AAAAAAAAAAAAAAAAAAAAAAXI/C9SicTkAUrkfhepQ8QBSuR+F6lDxArkfhehROS0AUrkfhepQ8QAAAAAAAAAAAAAAAAAAAAAAAAAAAAAAAAAAAAAAAAAAAH4XrUbgeS0D2KFyPwjU5QLgehetRGERAH4XrUbiOU0DsUbgehes+QAAAAAAAAAAA4XoUrkdxU0AK16NwPco/QHE9CtejcD5AzczMzMzsSkBI4XoUrkcwQKRwPQrXa2BAAAAAAAAAAAAAAAAAAAAAAAAAAAAAAAAASOF6FK5HMEAAAAAAAAAAAAAAAAAAAAAA9ihcj8K1OkCamZmZmTlAQI/C9Shcb0VAAAAAAAAAAAA=",
          "dtype": "f8"
         },
         "xaxis": "x",
         "yaxis": "y"
        },
        {
         "bingroup": "x",
         "hovertemplate": "categoria=Lenovo<br>descuento_%=%{x}<br>count=%{y}<extra></extra>",
         "legendgroup": "Lenovo",
         "marker": {
          "color": "#ab63fa",
          "pattern": {
           "shape": ""
          }
         },
         "name": "Lenovo",
         "orientation": "v",
         "showlegend": true,
         "type": "histogram",
         "x": {
          "bdata": "ZmZmZmZmMkCamZmZmRk1QArXo3A9CjlAMzMzMzMTRUAAAAAAAAAAAAAAAAAAAAAAzczMzMzsQkAAAAAAAAAAAAAAAAAAAAAAAAAAAAAAAACuR+F6FK46QAAAAAAAAAAAj8L1KFwPIEAAAAAAAAAAAAAAAAAAAAAA4XoUrkchPEBcj8L1KNwlQJqZmZmZ2TdAAAAAAAAAAAAAAAAAAAAAAGZmZmZmZiZAAAAAAAAAAAAAAAAAAAAAAA==",
          "dtype": "f8"
         },
         "xaxis": "x",
         "yaxis": "y"
        },
        {
         "bingroup": "x",
         "hovertemplate": "categoria=Repuestos<br>descuento_%=%{x}<br>count=%{y}<extra></extra>",
         "legendgroup": "Repuestos",
         "marker": {
          "color": "#FFA15A",
          "pattern": {
           "shape": ""
          }
         },
         "name": "Repuestos",
         "orientation": "v",
         "showlegend": true,
         "type": "histogram",
         "x": {
          "bdata": "AAAAAAAAAAAAAAAAAAAAAAAAAAAAAAAAZmZmZmbmN0AAAAAAAAAAAAAAAAAAAAAAAAAAAAAAAAAAAAAAAAAAAAAAAAAAAAAAAAAAAAAAAAAAAAAAAAAAAAAAAAAAAAAAAAAAAAAAAAAAAAAAAAAAAAAAAAAAAAAAAAAAAAAAAAAAAAAAAAAAAAAAAAAAAAAAAAAAAAAAAAAAAAAAAAAAAAAAAAAAAAAAAAAAAAAAAAAAAAAAAAAAAAAAAAAAAAAAAAAAAAAAAAAAAAAAAAAAAAAAAAAAAAAAAAAAAAAAAAAAAAAAAAAAAAAAAAAAAAAAAAAAAAAAAAAAAAAAAAAAAAAAAAAAAAAAAAAAAAAAAAAAAAAAAAAAAAAAAAAAAAAAAAAAAAAAAAAAAAAAAAAAAAAAAAAAAAAAAAAAAAAAAAA=",
          "dtype": "f8"
         },
         "xaxis": "x",
         "yaxis": "y"
        },
        {
         "bingroup": "x",
         "hovertemplate": "categoria=Alurin<br>descuento_%=%{x}<br>count=%{y}<extra></extra>",
         "legendgroup": "Alurin",
         "marker": {
          "color": "#19d3f3",
          "pattern": {
           "shape": ""
          }
         },
         "name": "Alurin",
         "orientation": "v",
         "showlegend": true,
         "type": "histogram",
         "x": {
          "bdata": "AAAAAAAAMkCPwvUoXE8yQLgehetRODZAj8L1KFwvQkAK16NwPQotQFyPwvUo3DFAXI/C9SjcMUB7FK5H4bo2QEjhehSuRzVAH4XrUbgeLEApXI/C9eg7QHsUrkfhujZAFK5H4XrUNEAAAAAAAMAzQLgehetRODZAmpmZmZmZMkCkcD0K12M4QEjhehSuRzVApHA9CtdjQ0AAAAAAAAAAAArXo3A9OlZAAAAAAAAAAAC4HoXrUTgmQArXo3A9CiNAUrgehetRIECF61G4HoUjQAAAAAAAAAAA16NwPQrXH0AAAAAAAAAcQAAAAAAAADJAAAAAAAAAAADXo3A9CpdFQOxRuB6FqzBACtejcD2KMUApXI/C9eg7QAAAAAAAAAAA16NwPQoXOkA=",
          "dtype": "f8"
         },
         "xaxis": "x",
         "yaxis": "y"
        },
        {
         "bingroup": "x",
         "hovertemplate": "categoria=HP<br>descuento_%=%{x}<br>count=%{y}<extra></extra>",
         "legendgroup": "HP",
         "marker": {
          "color": "#FF6692",
          "pattern": {
           "shape": ""
          }
         },
         "name": "HP",
         "orientation": "v",
         "showlegend": true,
         "type": "histogram",
         "x": {
          "bdata": "PQrXo3A9NUCF61G4HgU0QClcj8L16DdACtejcD0KKUAfhetRuJ4sQBSuR+F6FDNACtejcD3KPkAAAAAAAAAAAPYoXI/ClUFASOF6FK5HJkBSuB6F61EkQMP1KFyPAjRAmpmZmZmZXUCamZmZmQlZQAAAAAAAAAAArkfhehSuQEBSuB6F61E7QAAAAAAAAAAAAAAAAAAAAAAAAAAAAAAAAAAAAAAAAAAArkfhehTuNkCPwvUoXA9OQK5H4XoUrkBApHA9CtejRUBcj8L1KBw3QFK4HoXrsVBAAAAAAAAAAAAAAAAAAAAAAAAAAAAAAAAAAAAAAAAAAACF61G4HoUjQAAAAAAAAAAAAAAAAAAAAAA=",
          "dtype": "f8"
         },
         "xaxis": "x",
         "yaxis": "y"
        },
        {
         "bingroup": "x",
         "hovertemplate": "categoria=Portátiles con Windows<br>descuento_%=%{x}<br>count=%{y}<extra></extra>",
         "legendgroup": "Portátiles con Windows",
         "marker": {
          "color": "#B6E880",
          "pattern": {
           "shape": ""
          }
         },
         "name": "Portátiles con Windows",
         "orientation": "v",
         "showlegend": true,
         "type": "histogram",
         "x": {
          "bdata": "pHA9CtfjMUA9CtejcD0gQI/C9Shcjx9AAAAAAAAAAAApXI/C9SghQClcj8L16DBAAAAAAAAAAABSuB6F6xE5QIXrUbgehThAAAAAAAAAAAD2KFyPwnUxQB+F61G4HixAuB6F61E4QEAzMzMzM/M1QAAAAAAAAAAAAAAAAAAAAAA=",
          "dtype": "f8"
         },
         "xaxis": "x",
         "yaxis": "y"
        },
        {
         "bingroup": "x",
         "hovertemplate": "categoria=ASUS<br>descuento_%=%{x}<br>count=%{y}<extra></extra>",
         "legendgroup": "ASUS",
         "marker": {
          "color": "#FF97FF",
          "pattern": {
           "shape": ""
          }
         },
         "name": "ASUS",
         "orientation": "v",
         "showlegend": true,
         "type": "histogram",
         "x": {
          "bdata": "cT0K16NwK0CuR+F6FC44QIXrUbgeRUFAzczMzMzMHkCF61G4HgU5QDMzMzMzczhAzczMzMxMMkBSuB6F69EuQHsUrkfh+jVACtejcD0qSEA9CtejcJ1BQGZmZmZm5iJA9ihcj8J1KkAAAAAAAAAAAArXo3A9CjRAAAAAAAAAAAAK16NwPQooQK5H4XoUriBACtejcD1KN0AAAAAAAAAeQDMzMzMz8zBAj8L1KFwPOUAAAAAAAAAAAAAAAAAAAAAAw/UoXI9COUAAAAAAAAAAAFK4HoXr0TdAuB6F61G4KkBSuB6F61EnQAAAAAAAAAAAAAAAAAAAAAA=",
          "dtype": "f8"
         },
         "xaxis": "x",
         "yaxis": "y"
        },
        {
         "bingroup": "x",
         "hovertemplate": "categoria=Monitor portátil<br>descuento_%=%{x}<br>count=%{y}<extra></extra>",
         "legendgroup": "Monitor portátil",
         "marker": {
          "color": "#FECB52",
          "pattern": {
           "shape": ""
          }
         },
         "name": "Monitor portátil",
         "orientation": "v",
         "showlegend": true,
         "type": "histogram",
         "x": {
          "bdata": "pHA9CtczVEAzMzMzM+tgQEjhehSuR1FAw/UoXI8CP0A9CtejcN1AQGZmZmZmJl5AFK5H4XrUWkBmZmZmZiZeQAAAAAAAAAAAAAAAAAAAAAAUrkfhetRaQHsUrkfhOlZAAAAAAAAAAADXo3A9CpdEQAAAAAAAAAAAAAAAAAAAAADXo3A9ChdbQIXrUbgedVRAAAAAAAAAAACamZmZmRk0QHE9CtejcDFAAAAAAAAAAADsUbgehWsmQJqZmZmZaVBASOF6FK5HJkAAAAAAAAAAAAAAAAAAAAAAAAAAAAAAAAAAAAAAAAAAAAAAAAAAAAAAAAAAAACAM0AAAAAAAAAAABSuR+F61FpAexSuR+E6VkDhehSuR+E8QAAAAAAAADRAAAAAAAAAAAAAAAAAAAAAAAAAAAAAAAAAAAAAAAAAAAA=",
          "dtype": "f8"
         },
         "xaxis": "x",
         "yaxis": "y"
        },
        {
         "bingroup": "x",
         "hovertemplate": "categoria=Cocinas portátiles<br>descuento_%=%{x}<br>count=%{y}<extra></extra>",
         "legendgroup": "Cocinas portátiles",
         "marker": {
          "color": "#636efa",
          "pattern": {
           "shape": ""
          }
         },
         "name": "Cocinas portátiles",
         "orientation": "v",
         "showlegend": true,
         "type": "histogram",
         "x": {
          "bdata": "XI/C9SjcOEDNzMzMzAw1QAAAAAAAAAAAuB6F61G4K0AAAAAAAAAAAB+F61G4njpA7FG4HoXrL0AAAAAAAAAAAIXrUbgehTVAAAAAAAAAAAAAAAAAAAAAAAAAAAAAAAAAAAAAAAAAAAAAAAAAAAAAAAAAAAAAAAAAAAAAAAAAAAAAAAAAAAAAAAAAAAAAACZAAAAAAAAAAADsUbgehetKQGZmZmZmpjFAAAAAAAAAAAApXI/C9agxQGZmZmZmpjFAAAAAAAAAAAAAAAAAAAAAAAAAAAAAAAAAAAAAAAAAAAAAAAAAAAAAAAAAAAAAAAAAAAAAAAAAAACkcD0K13t3QAAAAAAAAAAAH4XrUbgeIEAAAAAAAAAAAAAAAAAAAAAAAAAAAAAAAAAAAAAAAAAAAAAAAAAAAAAAAAAAAAAAAAA=",
          "dtype": "f8"
         },
         "xaxis": "x",
         "yaxis": "y"
        },
        {
         "bingroup": "x",
         "hovertemplate": "categoria=MSI<br>descuento_%=%{x}<br>count=%{y}<extra></extra>",
         "legendgroup": "MSI",
         "marker": {
          "color": "#EF553B",
          "pattern": {
           "shape": ""
          }
         },
         "name": "MSI",
         "orientation": "v",
         "showlegend": true,
         "type": "histogram",
         "x": {
          "bdata": "j8L1KFyPMUCPwvUoXI8fQDMzMzMzMx9ACtejcD0KSUA9CtejcD0mQD0K16NwfUJAcT0K16OwQEAzMzMzMzMiQDMzMzMzU0dAmpmZmZmZKUAzMzMzM7MgQAAAAAAAAAAAzczMzMzMLkAAAAAAAAAAADMzMzMzMx1AH4XrUbieJECPwvUoXA8jQAAAAAAAAAAAAAAAAABANkAAAAAAAAAAAI/C9ShcDyNA9ihcj8J1J0AAAAAAAAAAAK5H4XoUriJAH4XrUbheM0AAAAAAAAAAAAAAAAAAAAAAhetRuB4FJkDXo3A9Ctc0QAAAAAAAAAAA",
          "dtype": "f8"
         },
         "xaxis": "x",
         "yaxis": "y"
        },
        {
         "bingroup": "x",
         "hovertemplate": "categoria=Portátiles 2 en 1 convertibles<br>descuento_%=%{x}<br>count=%{y}<extra></extra>",
         "legendgroup": "Portátiles 2 en 1 convertibles",
         "marker": {
          "color": "#00cc96",
          "pattern": {
           "shape": ""
          }
         },
         "name": "Portátiles 2 en 1 convertibles",
         "orientation": "v",
         "showlegend": true,
         "type": "histogram",
         "x": {
          "bdata": "16NwPQo3Z0BmZmZmZmYhQClcj8L1aDdAAAAAAAAAAAAAAAAAAAA2QAAAAAAAAAAAXI/C9SjcK0DsUbgehesbQK5H4XoUripAAAAAAAAAAAAfhetRuJ4vQOF6FK5H4SRAAAAAAAAAAAAAAAAAAAAAAD0K16NwPSZAAAAAAAAAAAAAAAAAAAAAAAAAAAAAAAAAAAAAAAAAAAApXI/C9QBpQAAAAAAAAAAAAAAAAAAAAAAAAAAAAAAAAAAAAAAAAAAAZmZmZmZmIUCamZmZmZkcQJqZmZmZmRxAAAAAAAAAAAAAAAAAAAAAAAAAAAAAAAAAAAAAAAAAAAApXI/C9cBiQAAAAAAAAAAAAAAAAAAAAAAAAAAAAAAAAAAAAAAAAAAAAAAAAAAAAACkcD0K1wtiQAAAAAAAAAAAAAAAAAAAAAA=",
          "dtype": "f8"
         },
         "xaxis": "x",
         "yaxis": "y"
        },
        {
         "bingroup": "x",
         "hovertemplate": "categoria=Neveras portátiles<br>descuento_%=%{x}<br>count=%{y}<extra></extra>",
         "legendgroup": "Neveras portátiles",
         "marker": {
          "color": "#ab63fa",
          "pattern": {
           "shape": ""
          }
         },
         "name": "Neveras portátiles",
         "orientation": "v",
         "showlegend": true,
         "type": "histogram",
         "x": {
          "bdata": "AAAAAAAAAAAAAAAAAAAAAAAAAAAAAAAAmpmZmZkZWUAAAAAAAAAAAMP1KFyPgkxAAAAAAAAAAAAAAAAAAAAAAAAAAAAAAAAAAAAAAAAAAAAAAAAAAAAAAAAAAAAAAAAAAAAAAAAAAAAAAAAAAAAAAAAAAAAAAAAAAAAAAAAAAAAAAAAAAAAAAAAAAAAAAAAAAAAAAAAAAAAAAAAAAAAAAAAAAAAAAAAAAAAAAAAAAAAAAAAAAAAAAAAAAAAAAAAAAAAAAAAAAAAAAAAAAAAAAAAAAAAAAAAAAAAAAAAAAACkcD0K16MxQAAAAAAAAAAAAAAAAAAAAAAAAAAAAAAAAAAAAAAAAAAAcT0K16NwOEBcj8L1KNw4QAAAAAAAAAAAAAAAAAAAAAAAAAAAAAAAAAAAAAAAAAAAAAAAAAAAAAA=",
          "dtype": "f8"
         },
         "xaxis": "x",
         "yaxis": "y"
        },
        {
         "bingroup": "x",
         "hovertemplate": "categoria=Portátiles<br>descuento_%=%{x}<br>count=%{y}<extra></extra>",
         "legendgroup": "Portátiles",
         "marker": {
          "color": "#FFA15A",
          "pattern": {
           "shape": ""
          }
         },
         "name": "Portátiles",
         "orientation": "v",
         "showlegend": true,
         "type": "histogram",
         "x": {
          "bdata": "AAAAAAAAOECPwvUoXA8rQHE9CtejMEFA9ihcj8LVQ0C4HoXrUTg3QLgehetR+DlAhetRuB4FNEDNzMzMzAw5QHsUrkfh2kJAUrgehetRN0BxPQrXozBRQMP1KFyPQjNAKVyPwvXoN0AK16NwPQo0QIXrUbgeBTlACtejcD3KPkCF61G4HgU5QB+F61G4Hi5Aw/UoXI/CMkCuR+F6FC4oQClcj8L1uFBAj8L1KFzPOEAzMzMzM3M9QM3MzMzMzC1A16NwPQqXM0DhehSuR2EnQIXrUbgehTBAXI/C9ShcI0D2KFyPwnUqQFyPwvUoXD1A16NwPQqXQUDXo3A9Clc6QMP1KFyPwh1AH4XrUbgeLkAfhetRuJ4vQDMzMzMz80VASOF6FK6HQEAfhetRuB4uQHE9CtejsDtAAAAAAADANkA=",
          "dtype": "f8"
         },
         "xaxis": "x",
         "yaxis": "y"
        }
       ],
       "layout": {
        "barmode": "relative",
        "legend": {
         "title": {
          "text": "categoria"
         },
         "tracegroupgap": 0
        },
        "template": {
         "data": {
          "bar": [
           {
            "error_x": {
             "color": "#f2f5fa"
            },
            "error_y": {
             "color": "#f2f5fa"
            },
            "marker": {
             "line": {
              "color": "rgb(17,17,17)",
              "width": 0.5
             },
             "pattern": {
              "fillmode": "overlay",
              "size": 10,
              "solidity": 0.2
             }
            },
            "type": "bar"
           }
          ],
          "barpolar": [
           {
            "marker": {
             "line": {
              "color": "rgb(17,17,17)",
              "width": 0.5
             },
             "pattern": {
              "fillmode": "overlay",
              "size": 10,
              "solidity": 0.2
             }
            },
            "type": "barpolar"
           }
          ],
          "carpet": [
           {
            "aaxis": {
             "endlinecolor": "#A2B1C6",
             "gridcolor": "#506784",
             "linecolor": "#506784",
             "minorgridcolor": "#506784",
             "startlinecolor": "#A2B1C6"
            },
            "baxis": {
             "endlinecolor": "#A2B1C6",
             "gridcolor": "#506784",
             "linecolor": "#506784",
             "minorgridcolor": "#506784",
             "startlinecolor": "#A2B1C6"
            },
            "type": "carpet"
           }
          ],
          "choropleth": [
           {
            "colorbar": {
             "outlinewidth": 0,
             "ticks": ""
            },
            "type": "choropleth"
           }
          ],
          "contour": [
           {
            "colorbar": {
             "outlinewidth": 0,
             "ticks": ""
            },
            "colorscale": [
             [
              0,
              "#0d0887"
             ],
             [
              0.1111111111111111,
              "#46039f"
             ],
             [
              0.2222222222222222,
              "#7201a8"
             ],
             [
              0.3333333333333333,
              "#9c179e"
             ],
             [
              0.4444444444444444,
              "#bd3786"
             ],
             [
              0.5555555555555556,
              "#d8576b"
             ],
             [
              0.6666666666666666,
              "#ed7953"
             ],
             [
              0.7777777777777778,
              "#fb9f3a"
             ],
             [
              0.8888888888888888,
              "#fdca26"
             ],
             [
              1,
              "#f0f921"
             ]
            ],
            "type": "contour"
           }
          ],
          "contourcarpet": [
           {
            "colorbar": {
             "outlinewidth": 0,
             "ticks": ""
            },
            "type": "contourcarpet"
           }
          ],
          "heatmap": [
           {
            "colorbar": {
             "outlinewidth": 0,
             "ticks": ""
            },
            "colorscale": [
             [
              0,
              "#0d0887"
             ],
             [
              0.1111111111111111,
              "#46039f"
             ],
             [
              0.2222222222222222,
              "#7201a8"
             ],
             [
              0.3333333333333333,
              "#9c179e"
             ],
             [
              0.4444444444444444,
              "#bd3786"
             ],
             [
              0.5555555555555556,
              "#d8576b"
             ],
             [
              0.6666666666666666,
              "#ed7953"
             ],
             [
              0.7777777777777778,
              "#fb9f3a"
             ],
             [
              0.8888888888888888,
              "#fdca26"
             ],
             [
              1,
              "#f0f921"
             ]
            ],
            "type": "heatmap"
           }
          ],
          "histogram": [
           {
            "marker": {
             "pattern": {
              "fillmode": "overlay",
              "size": 10,
              "solidity": 0.2
             }
            },
            "type": "histogram"
           }
          ],
          "histogram2d": [
           {
            "colorbar": {
             "outlinewidth": 0,
             "ticks": ""
            },
            "colorscale": [
             [
              0,
              "#0d0887"
             ],
             [
              0.1111111111111111,
              "#46039f"
             ],
             [
              0.2222222222222222,
              "#7201a8"
             ],
             [
              0.3333333333333333,
              "#9c179e"
             ],
             [
              0.4444444444444444,
              "#bd3786"
             ],
             [
              0.5555555555555556,
              "#d8576b"
             ],
             [
              0.6666666666666666,
              "#ed7953"
             ],
             [
              0.7777777777777778,
              "#fb9f3a"
             ],
             [
              0.8888888888888888,
              "#fdca26"
             ],
             [
              1,
              "#f0f921"
             ]
            ],
            "type": "histogram2d"
           }
          ],
          "histogram2dcontour": [
           {
            "colorbar": {
             "outlinewidth": 0,
             "ticks": ""
            },
            "colorscale": [
             [
              0,
              "#0d0887"
             ],
             [
              0.1111111111111111,
              "#46039f"
             ],
             [
              0.2222222222222222,
              "#7201a8"
             ],
             [
              0.3333333333333333,
              "#9c179e"
             ],
             [
              0.4444444444444444,
              "#bd3786"
             ],
             [
              0.5555555555555556,
              "#d8576b"
             ],
             [
              0.6666666666666666,
              "#ed7953"
             ],
             [
              0.7777777777777778,
              "#fb9f3a"
             ],
             [
              0.8888888888888888,
              "#fdca26"
             ],
             [
              1,
              "#f0f921"
             ]
            ],
            "type": "histogram2dcontour"
           }
          ],
          "mesh3d": [
           {
            "colorbar": {
             "outlinewidth": 0,
             "ticks": ""
            },
            "type": "mesh3d"
           }
          ],
          "parcoords": [
           {
            "line": {
             "colorbar": {
              "outlinewidth": 0,
              "ticks": ""
             }
            },
            "type": "parcoords"
           }
          ],
          "pie": [
           {
            "automargin": true,
            "type": "pie"
           }
          ],
          "scatter": [
           {
            "marker": {
             "line": {
              "color": "#283442"
             }
            },
            "type": "scatter"
           }
          ],
          "scatter3d": [
           {
            "line": {
             "colorbar": {
              "outlinewidth": 0,
              "ticks": ""
             }
            },
            "marker": {
             "colorbar": {
              "outlinewidth": 0,
              "ticks": ""
             }
            },
            "type": "scatter3d"
           }
          ],
          "scattercarpet": [
           {
            "marker": {
             "colorbar": {
              "outlinewidth": 0,
              "ticks": ""
             }
            },
            "type": "scattercarpet"
           }
          ],
          "scattergeo": [
           {
            "marker": {
             "colorbar": {
              "outlinewidth": 0,
              "ticks": ""
             }
            },
            "type": "scattergeo"
           }
          ],
          "scattergl": [
           {
            "marker": {
             "line": {
              "color": "#283442"
             }
            },
            "type": "scattergl"
           }
          ],
          "scattermap": [
           {
            "marker": {
             "colorbar": {
              "outlinewidth": 0,
              "ticks": ""
             }
            },
            "type": "scattermap"
           }
          ],
          "scattermapbox": [
           {
            "marker": {
             "colorbar": {
              "outlinewidth": 0,
              "ticks": ""
             }
            },
            "type": "scattermapbox"
           }
          ],
          "scatterpolar": [
           {
            "marker": {
             "colorbar": {
              "outlinewidth": 0,
              "ticks": ""
             }
            },
            "type": "scatterpolar"
           }
          ],
          "scatterpolargl": [
           {
            "marker": {
             "colorbar": {
              "outlinewidth": 0,
              "ticks": ""
             }
            },
            "type": "scatterpolargl"
           }
          ],
          "scatterternary": [
           {
            "marker": {
             "colorbar": {
              "outlinewidth": 0,
              "ticks": ""
             }
            },
            "type": "scatterternary"
           }
          ],
          "surface": [
           {
            "colorbar": {
             "outlinewidth": 0,
             "ticks": ""
            },
            "colorscale": [
             [
              0,
              "#0d0887"
             ],
             [
              0.1111111111111111,
              "#46039f"
             ],
             [
              0.2222222222222222,
              "#7201a8"
             ],
             [
              0.3333333333333333,
              "#9c179e"
             ],
             [
              0.4444444444444444,
              "#bd3786"
             ],
             [
              0.5555555555555556,
              "#d8576b"
             ],
             [
              0.6666666666666666,
              "#ed7953"
             ],
             [
              0.7777777777777778,
              "#fb9f3a"
             ],
             [
              0.8888888888888888,
              "#fdca26"
             ],
             [
              1,
              "#f0f921"
             ]
            ],
            "type": "surface"
           }
          ],
          "table": [
           {
            "cells": {
             "fill": {
              "color": "#506784"
             },
             "line": {
              "color": "rgb(17,17,17)"
             }
            },
            "header": {
             "fill": {
              "color": "#2a3f5f"
             },
             "line": {
              "color": "rgb(17,17,17)"
             }
            },
            "type": "table"
           }
          ]
         },
         "layout": {
          "annotationdefaults": {
           "arrowcolor": "#f2f5fa",
           "arrowhead": 0,
           "arrowwidth": 1
          },
          "autotypenumbers": "strict",
          "coloraxis": {
           "colorbar": {
            "outlinewidth": 0,
            "ticks": ""
           }
          },
          "colorscale": {
           "diverging": [
            [
             0,
             "#8e0152"
            ],
            [
             0.1,
             "#c51b7d"
            ],
            [
             0.2,
             "#de77ae"
            ],
            [
             0.3,
             "#f1b6da"
            ],
            [
             0.4,
             "#fde0ef"
            ],
            [
             0.5,
             "#f7f7f7"
            ],
            [
             0.6,
             "#e6f5d0"
            ],
            [
             0.7,
             "#b8e186"
            ],
            [
             0.8,
             "#7fbc41"
            ],
            [
             0.9,
             "#4d9221"
            ],
            [
             1,
             "#276419"
            ]
           ],
           "sequential": [
            [
             0,
             "#0d0887"
            ],
            [
             0.1111111111111111,
             "#46039f"
            ],
            [
             0.2222222222222222,
             "#7201a8"
            ],
            [
             0.3333333333333333,
             "#9c179e"
            ],
            [
             0.4444444444444444,
             "#bd3786"
            ],
            [
             0.5555555555555556,
             "#d8576b"
            ],
            [
             0.6666666666666666,
             "#ed7953"
            ],
            [
             0.7777777777777778,
             "#fb9f3a"
            ],
            [
             0.8888888888888888,
             "#fdca26"
            ],
            [
             1,
             "#f0f921"
            ]
           ],
           "sequentialminus": [
            [
             0,
             "#0d0887"
            ],
            [
             0.1111111111111111,
             "#46039f"
            ],
            [
             0.2222222222222222,
             "#7201a8"
            ],
            [
             0.3333333333333333,
             "#9c179e"
            ],
            [
             0.4444444444444444,
             "#bd3786"
            ],
            [
             0.5555555555555556,
             "#d8576b"
            ],
            [
             0.6666666666666666,
             "#ed7953"
            ],
            [
             0.7777777777777778,
             "#fb9f3a"
            ],
            [
             0.8888888888888888,
             "#fdca26"
            ],
            [
             1,
             "#f0f921"
            ]
           ]
          },
          "colorway": [
           "#636efa",
           "#EF553B",
           "#00cc96",
           "#ab63fa",
           "#FFA15A",
           "#19d3f3",
           "#FF6692",
           "#B6E880",
           "#FF97FF",
           "#FECB52"
          ],
          "font": {
           "color": "#f2f5fa"
          },
          "geo": {
           "bgcolor": "rgb(17,17,17)",
           "lakecolor": "rgb(17,17,17)",
           "landcolor": "rgb(17,17,17)",
           "showlakes": true,
           "showland": true,
           "subunitcolor": "#506784"
          },
          "hoverlabel": {
           "align": "left"
          },
          "hovermode": "closest",
          "mapbox": {
           "style": "dark"
          },
          "paper_bgcolor": "rgb(17,17,17)",
          "plot_bgcolor": "rgb(17,17,17)",
          "polar": {
           "angularaxis": {
            "gridcolor": "#506784",
            "linecolor": "#506784",
            "ticks": ""
           },
           "bgcolor": "rgb(17,17,17)",
           "radialaxis": {
            "gridcolor": "#506784",
            "linecolor": "#506784",
            "ticks": ""
           }
          },
          "scene": {
           "xaxis": {
            "backgroundcolor": "rgb(17,17,17)",
            "gridcolor": "#506784",
            "gridwidth": 2,
            "linecolor": "#506784",
            "showbackground": true,
            "ticks": "",
            "zerolinecolor": "#C8D4E3"
           },
           "yaxis": {
            "backgroundcolor": "rgb(17,17,17)",
            "gridcolor": "#506784",
            "gridwidth": 2,
            "linecolor": "#506784",
            "showbackground": true,
            "ticks": "",
            "zerolinecolor": "#C8D4E3"
           },
           "zaxis": {
            "backgroundcolor": "rgb(17,17,17)",
            "gridcolor": "#506784",
            "gridwidth": 2,
            "linecolor": "#506784",
            "showbackground": true,
            "ticks": "",
            "zerolinecolor": "#C8D4E3"
           }
          },
          "shapedefaults": {
           "line": {
            "color": "#f2f5fa"
           }
          },
          "sliderdefaults": {
           "bgcolor": "#C8D4E3",
           "bordercolor": "rgb(17,17,17)",
           "borderwidth": 1,
           "tickwidth": 0
          },
          "ternary": {
           "aaxis": {
            "gridcolor": "#506784",
            "linecolor": "#506784",
            "ticks": ""
           },
           "baxis": {
            "gridcolor": "#506784",
            "linecolor": "#506784",
            "ticks": ""
           },
           "bgcolor": "rgb(17,17,17)",
           "caxis": {
            "gridcolor": "#506784",
            "linecolor": "#506784",
            "ticks": ""
           }
          },
          "title": {
           "x": 0.05
          },
          "updatemenudefaults": {
           "bgcolor": "#506784",
           "borderwidth": 0
          },
          "xaxis": {
           "automargin": true,
           "gridcolor": "#283442",
           "linecolor": "#506784",
           "ticks": "",
           "title": {
            "standoff": 15
           },
           "zerolinecolor": "#283442",
           "zerolinewidth": 2
          },
          "yaxis": {
           "automargin": true,
           "gridcolor": "#283442",
           "linecolor": "#506784",
           "ticks": "",
           "title": {
            "standoff": 15
           },
           "zerolinecolor": "#283442",
           "zerolinewidth": 2
          }
         }
        },
        "title": {
         "text": "Histograma de Descuento por Categoría"
        },
        "xaxis": {
         "anchor": "y",
         "domain": [
          0,
          1
         ],
         "title": {
          "text": "descuento_%"
         }
        },
        "yaxis": {
         "anchor": "x",
         "domain": [
          0,
          1
         ],
         "title": {
          "text": "count"
         }
        }
       }
      }
     },
     "metadata": {},
     "output_type": "display_data"
    }
   ],
   "source": [
    "px.histogram(data_frame = df_portatiles,\n",
    "                x          = \"descuento_%\",\n",
    "                color      = \"categoria\",\n",
    "                title      = \"Histograma de Descuento por Categoría\",\n",
    "                template   = \"plotly_dark\")"
   ]
  },
  {
   "cell_type": "code",
   "execution_count": 91,
   "metadata": {},
   "outputs": [
    {
     "data": {
      "text/html": [
       "<div>\n",
       "<style scoped>\n",
       "    .dataframe tbody tr th:only-of-type {\n",
       "        vertical-align: middle;\n",
       "    }\n",
       "\n",
       "    .dataframe tbody tr th {\n",
       "        vertical-align: top;\n",
       "    }\n",
       "\n",
       "    .dataframe thead th {\n",
       "        text-align: right;\n",
       "    }\n",
       "</style>\n",
       "<table border=\"1\" class=\"dataframe\">\n",
       "  <thead>\n",
       "    <tr style=\"text-align: right;\">\n",
       "      <th></th>\n",
       "      <th>producto_id</th>\n",
       "      <th>timestamp</th>\n",
       "      <th>nombre</th>\n",
       "      <th>url</th>\n",
       "      <th>precio</th>\n",
       "      <th>precio_tachado</th>\n",
       "      <th>rating</th>\n",
       "      <th>opiniones</th>\n",
       "      <th>categoria</th>\n",
       "    </tr>\n",
       "  </thead>\n",
       "  <tbody>\n",
       "    <tr>\n",
       "      <th>0</th>\n",
       "      <td>1</td>\n",
       "      <td>2025-02-21 17:23:39</td>\n",
       "      <td>ASUS PRIME B760-PLUS</td>\n",
       "      <td>https://www.pccomponentes.com/asus-prime-b760-...</td>\n",
       "      <td>134.00</td>\n",
       "      <td>164.90</td>\n",
       "      <td>4.6</td>\n",
       "      <td>598</td>\n",
       "      <td>ASUS</td>\n",
       "    </tr>\n",
       "    <tr>\n",
       "      <th>1</th>\n",
       "      <td>2</td>\n",
       "      <td>2025-02-21 17:23:39</td>\n",
       "      <td>ASUS TUF GAMING B650-PLUS</td>\n",
       "      <td>https://www.pccomponentes.com/asus-tuf-gaming-...</td>\n",
       "      <td>213.15</td>\n",
       "      <td>267.51</td>\n",
       "      <td>4.5</td>\n",
       "      <td>953</td>\n",
       "      <td>ASUS</td>\n",
       "    </tr>\n",
       "    <tr>\n",
       "      <th>2</th>\n",
       "      <td>3</td>\n",
       "      <td>2025-02-21 17:23:39</td>\n",
       "      <td>ASUS PRIME B650-PLUS WIFI</td>\n",
       "      <td>https://www.pccomponentes.com/placa-base-asus-...</td>\n",
       "      <td>164.95</td>\n",
       "      <td>NaN</td>\n",
       "      <td>4.5</td>\n",
       "      <td>235</td>\n",
       "      <td>ASUS</td>\n",
       "    </tr>\n",
       "    <tr>\n",
       "      <th>3</th>\n",
       "      <td>4</td>\n",
       "      <td>2025-02-21 17:23:39</td>\n",
       "      <td>ASUS PRIME B550M-A WIFI II</td>\n",
       "      <td>https://www.pccomponentes.com/asus-prime-b550m...</td>\n",
       "      <td>123.75</td>\n",
       "      <td>151.68</td>\n",
       "      <td>4.5</td>\n",
       "      <td>1022</td>\n",
       "      <td>ASUS</td>\n",
       "    </tr>\n",
       "    <tr>\n",
       "      <th>4</th>\n",
       "      <td>5</td>\n",
       "      <td>2025-02-21 17:23:39</td>\n",
       "      <td>ASUS TUF GAMING B650-E WIFI</td>\n",
       "      <td>https://www.pccomponentes.com/placa-base-asus-...</td>\n",
       "      <td>174.95</td>\n",
       "      <td>NaN</td>\n",
       "      <td>4.7</td>\n",
       "      <td>107</td>\n",
       "      <td>ASUS</td>\n",
       "    </tr>\n",
       "  </tbody>\n",
       "</table>\n",
       "</div>"
      ],
      "text/plain": [
       "   producto_id            timestamp                       nombre  \\\n",
       "0            1  2025-02-21 17:23:39         ASUS PRIME B760-PLUS   \n",
       "1            2  2025-02-21 17:23:39    ASUS TUF GAMING B650-PLUS   \n",
       "2            3  2025-02-21 17:23:39    ASUS PRIME B650-PLUS WIFI   \n",
       "3            4  2025-02-21 17:23:39   ASUS PRIME B550M-A WIFI II   \n",
       "4            5  2025-02-21 17:23:39  ASUS TUF GAMING B650-E WIFI   \n",
       "\n",
       "                                                 url  precio  precio_tachado  \\\n",
       "0  https://www.pccomponentes.com/asus-prime-b760-...  134.00          164.90   \n",
       "1  https://www.pccomponentes.com/asus-tuf-gaming-...  213.15          267.51   \n",
       "2  https://www.pccomponentes.com/placa-base-asus-...  164.95             NaN   \n",
       "3  https://www.pccomponentes.com/asus-prime-b550m...  123.75          151.68   \n",
       "4  https://www.pccomponentes.com/placa-base-asus-...  174.95             NaN   \n",
       "\n",
       "   rating  opiniones categoria  \n",
       "0     4.6        598      ASUS  \n",
       "1     4.5        953      ASUS  \n",
       "2     4.5        235      ASUS  \n",
       "3     4.5       1022      ASUS  \n",
       "4     4.7        107      ASUS  "
      ]
     },
     "execution_count": 91,
     "metadata": {},
     "output_type": "execute_result"
    }
   ],
   "source": [
    "#Graficos del Df de componentes\n",
    "df_componentes = pd.read_csv('productos_componentes_pc_limpio.csv')\n",
    "df_componentes.head()"
   ]
  },
  {
   "cell_type": "code",
   "execution_count": 93,
   "metadata": {},
   "outputs": [
    {
     "data": {
      "text/html": [
       "<div>\n",
       "<style scoped>\n",
       "    .dataframe tbody tr th:only-of-type {\n",
       "        vertical-align: middle;\n",
       "    }\n",
       "\n",
       "    .dataframe tbody tr th {\n",
       "        vertical-align: top;\n",
       "    }\n",
       "\n",
       "    .dataframe thead th {\n",
       "        text-align: right;\n",
       "    }\n",
       "</style>\n",
       "<table border=\"1\" class=\"dataframe\">\n",
       "  <thead>\n",
       "    <tr style=\"text-align: right;\">\n",
       "      <th></th>\n",
       "      <th>producto_id</th>\n",
       "      <th>precio</th>\n",
       "      <th>precio_tachado</th>\n",
       "      <th>rating</th>\n",
       "      <th>opiniones</th>\n",
       "    </tr>\n",
       "  </thead>\n",
       "  <tbody>\n",
       "    <tr>\n",
       "      <th>count</th>\n",
       "      <td>454.000000</td>\n",
       "      <td>454.000000</td>\n",
       "      <td>169.000000</td>\n",
       "      <td>402.000000</td>\n",
       "      <td>454.000000</td>\n",
       "    </tr>\n",
       "    <tr>\n",
       "      <th>mean</th>\n",
       "      <td>227.500000</td>\n",
       "      <td>181.442533</td>\n",
       "      <td>213.327219</td>\n",
       "      <td>4.586816</td>\n",
       "      <td>622.405286</td>\n",
       "    </tr>\n",
       "    <tr>\n",
       "      <th>std</th>\n",
       "      <td>131.202769</td>\n",
       "      <td>180.343543</td>\n",
       "      <td>190.086975</td>\n",
       "      <td>0.388424</td>\n",
       "      <td>2313.043688</td>\n",
       "    </tr>\n",
       "    <tr>\n",
       "      <th>min</th>\n",
       "      <td>1.000000</td>\n",
       "      <td>1.210000</td>\n",
       "      <td>1.750000</td>\n",
       "      <td>0.500000</td>\n",
       "      <td>0.000000</td>\n",
       "    </tr>\n",
       "    <tr>\n",
       "      <th>25%</th>\n",
       "      <td>114.250000</td>\n",
       "      <td>61.700000</td>\n",
       "      <td>70.980000</td>\n",
       "      <td>4.500000</td>\n",
       "      <td>6.000000</td>\n",
       "    </tr>\n",
       "    <tr>\n",
       "      <th>50%</th>\n",
       "      <td>227.500000</td>\n",
       "      <td>129.125000</td>\n",
       "      <td>151.860000</td>\n",
       "      <td>4.700000</td>\n",
       "      <td>54.500000</td>\n",
       "    </tr>\n",
       "    <tr>\n",
       "      <th>75%</th>\n",
       "      <td>340.750000</td>\n",
       "      <td>234.387500</td>\n",
       "      <td>284.000000</td>\n",
       "      <td>4.800000</td>\n",
       "      <td>340.750000</td>\n",
       "    </tr>\n",
       "    <tr>\n",
       "      <th>max</th>\n",
       "      <td>454.000000</td>\n",
       "      <td>1578.070000</td>\n",
       "      <td>855.000000</td>\n",
       "      <td>5.000000</td>\n",
       "      <td>25134.000000</td>\n",
       "    </tr>\n",
       "  </tbody>\n",
       "</table>\n",
       "</div>"
      ],
      "text/plain": [
       "       producto_id       precio  precio_tachado      rating     opiniones\n",
       "count   454.000000   454.000000      169.000000  402.000000    454.000000\n",
       "mean    227.500000   181.442533      213.327219    4.586816    622.405286\n",
       "std     131.202769   180.343543      190.086975    0.388424   2313.043688\n",
       "min       1.000000     1.210000        1.750000    0.500000      0.000000\n",
       "25%     114.250000    61.700000       70.980000    4.500000      6.000000\n",
       "50%     227.500000   129.125000      151.860000    4.700000     54.500000\n",
       "75%     340.750000   234.387500      284.000000    4.800000    340.750000\n",
       "max     454.000000  1578.070000      855.000000    5.000000  25134.000000"
      ]
     },
     "execution_count": 93,
     "metadata": {},
     "output_type": "execute_result"
    }
   ],
   "source": [
    "df_componentes['categoria'].unique()\n",
    "df_componentes.describe()"
   ]
  },
  {
   "cell_type": "code",
   "execution_count": 94,
   "metadata": {},
   "outputs": [
    {
     "data": {
      "image/png": "[encoded data removed]",
      "text/plain": [
       "<Figure size 640x480 with 2 Axes>"
      ]
     },
     "metadata": {},
     "output_type": "display_data"
    }
   ],
   "source": [
    "df_numerico = df_componentes.select_dtypes(include=['number'])\n",
    "\n",
    "sns.heatmap(df_numerico.corr(), annot=True, cmap='coolwarm')\n",
    "plt.title('Mapa de Calor de Correlación')\n",
    "plt.show()"
   ]
  },
  {
   "cell_type": "code",
   "execution_count": 98,
   "metadata": {},
   "outputs": [
    {
     "data": {
      "application/vnd.plotly.v1+json": {
       "config": {
        "plotlyServerURL": "https://plot.ly"
       },
       "data": [
        {
         "bingroup": "x",
         "hovertemplate": "precio=%{x}<br>count=%{y}<extra></extra>",
         "legendgroup": "",
         "marker": {
          "color": "#636efa",
          "pattern": {
           "shape": ""
          }
         },
         "name": "",
         "nbinsx": 40,
         "orientation": "v",
         "showlegend": false,
         "type": "histogram",
         "x": {
          "bdata": "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",
          "dtype": "f8"
         },
         "xaxis": "x",
         "yaxis": "y"
        }
       ],
       "layout": {
        "barmode": "relative",
        "legend": {
         "tracegroupgap": 0
        },
        "margin": {
         "t": 60
        },
        "template": {
         "data": {
          "bar": [
           {
            "error_x": {
             "color": "#2a3f5f"
            },
            "error_y": {
             "color": "#2a3f5f"
            },
            "marker": {
             "line": {
              "color": "#E5ECF6",
              "width": 0.5
             },
             "pattern": {
              "fillmode": "overlay",
              "size": 10,
              "solidity": 0.2
             }
            },
            "type": "bar"
           }
          ],
          "barpolar": [
           {
            "marker": {
             "line": {
              "color": "#E5ECF6",
              "width": 0.5
             },
             "pattern": {
              "fillmode": "overlay",
              "size": 10,
              "solidity": 0.2
             }
            },
            "type": "barpolar"
           }
          ],
          "carpet": [
           {
            "aaxis": {
             "endlinecolor": "#2a3f5f",
             "gridcolor": "white",
             "linecolor": "white",
             "minorgridcolor": "white",
             "startlinecolor": "#2a3f5f"
            },
            "baxis": {
             "endlinecolor": "#2a3f5f",
             "gridcolor": "white",
             "linecolor": "white",
             "minorgridcolor": "white",
             "startlinecolor": "#2a3f5f"
            },
            "type": "carpet"
           }
          ],
          "choropleth": [
           {
            "colorbar": {
             "outlinewidth": 0,
             "ticks": ""
            },
            "type": "choropleth"
           }
          ],
          "contour": [
           {
            "colorbar": {
             "outlinewidth": 0,
             "ticks": ""
            },
            "colorscale": [
             [
              0,
              "#0d0887"
             ],
             [
              0.1111111111111111,
              "#46039f"
             ],
             [
              0.2222222222222222,
              "#7201a8"
             ],
             [
              0.3333333333333333,
              "#9c179e"
             ],
             [
              0.4444444444444444,
              "#bd3786"
             ],
             [
              0.5555555555555556,
              "#d8576b"
             ],
             [
              0.6666666666666666,
              "#ed7953"
             ],
             [
              0.7777777777777778,
              "#fb9f3a"
             ],
             [
              0.8888888888888888,
              "#fdca26"
             ],
             [
              1,
              "#f0f921"
             ]
            ],
            "type": "contour"
           }
          ],
          "contourcarpet": [
           {
            "colorbar": {
             "outlinewidth": 0,
             "ticks": ""
            },
            "type": "contourcarpet"
           }
          ],
          "heatmap": [
           {
            "colorbar": {
             "outlinewidth": 0,
             "ticks": ""
            },
            "colorscale": [
             [
              0,
              "#0d0887"
             ],
             [
              0.1111111111111111,
              "#46039f"
             ],
             [
              0.2222222222222222,
              "#7201a8"
             ],
             [
              0.3333333333333333,
              "#9c179e"
             ],
             [
              0.4444444444444444,
              "#bd3786"
             ],
             [
              0.5555555555555556,
              "#d8576b"
             ],
             [
              0.6666666666666666,
              "#ed7953"
             ],
             [
              0.7777777777777778,
              "#fb9f3a"
             ],
             [
              0.8888888888888888,
              "#fdca26"
             ],
             [
              1,
              "#f0f921"
             ]
            ],
            "type": "heatmap"
           }
          ],
          "histogram": [
           {
            "marker": {
             "pattern": {
              "fillmode": "overlay",
              "size": 10,
              "solidity": 0.2
             }
            },
            "type": "histogram"
           }
          ],
          "histogram2d": [
           {
            "colorbar": {
             "outlinewidth": 0,
             "ticks": ""
            },
            "colorscale": [
             [
              0,
              "#0d0887"
             ],
             [
              0.1111111111111111,
              "#46039f"
             ],
             [
              0.2222222222222222,
              "#7201a8"
             ],
             [
              0.3333333333333333,
              "#9c179e"
             ],
             [
              0.4444444444444444,
              "#bd3786"
             ],
             [
              0.5555555555555556,
              "#d8576b"
             ],
             [
              0.6666666666666666,
              "#ed7953"
             ],
             [
              0.7777777777777778,
              "#fb9f3a"
             ],
             [
              0.8888888888888888,
              "#fdca26"
             ],
             [
              1,
              "#f0f921"
             ]
            ],
            "type": "histogram2d"
           }
          ],
          "histogram2dcontour": [
           {
            "colorbar": {
             "outlinewidth": 0,
             "ticks": ""
            },
            "colorscale": [
             [
              0,
              "#0d0887"
             ],
             [
              0.1111111111111111,
              "#46039f"
             ],
             [
              0.2222222222222222,
              "#7201a8"
             ],
             [
              0.3333333333333333,
              "#9c179e"
             ],
             [
              0.4444444444444444,
              "#bd3786"
             ],
             [
              0.5555555555555556,
              "#d8576b"
             ],
             [
              0.6666666666666666,
              "#ed7953"
             ],
             [
              0.7777777777777778,
              "#fb9f3a"
             ],
             [
              0.8888888888888888,
              "#fdca26"
             ],
             [
              1,
              "#f0f921"
             ]
            ],
            "type": "histogram2dcontour"
           }
          ],
          "mesh3d": [
           {
            "colorbar": {
             "outlinewidth": 0,
             "ticks": ""
            },
            "type": "mesh3d"
           }
          ],
          "parcoords": [
           {
            "line": {
             "colorbar": {
              "outlinewidth": 0,
              "ticks": ""
             }
            },
            "type": "parcoords"
           }
          ],
          "pie": [
           {
            "automargin": true,
            "type": "pie"
           }
          ],
          "scatter": [
           {
            "fillpattern": {
             "fillmode": "overlay",
             "size": 10,
             "solidity": 0.2
            },
            "type": "scatter"
           }
          ],
          "scatter3d": [
           {
            "line": {
             "colorbar": {
              "outlinewidth": 0,
              "ticks": ""
             }
            },
            "marker": {
             "colorbar": {
              "outlinewidth": 0,
              "ticks": ""
             }
            },
            "type": "scatter3d"
           }
          ],
          "scattercarpet": [
           {
            "marker": {
             "colorbar": {
              "outlinewidth": 0,
              "ticks": ""
             }
            },
            "type": "scattercarpet"
           }
          ],
          "scattergeo": [
           {
            "marker": {
             "colorbar": {
              "outlinewidth": 0,
              "ticks": ""
             }
            },
            "type": "scattergeo"
           }
          ],
          "scattergl": [
           {
            "marker": {
             "colorbar": {
              "outlinewidth": 0,
              "ticks": ""
             }
            },
            "type": "scattergl"
           }
          ],
          "scattermap": [
           {
            "marker": {
             "colorbar": {
              "outlinewidth": 0,
              "ticks": ""
             }
            },
            "type": "scattermap"
           }
          ],
          "scattermapbox": [
           {
            "marker": {
             "colorbar": {
              "outlinewidth": 0,
              "ticks": ""
             }
            },
            "type": "scattermapbox"
           }
          ],
          "scatterpolar": [
           {
            "marker": {
             "colorbar": {
              "outlinewidth": 0,
              "ticks": ""
             }
            },
            "type": "scatterpolar"
           }
          ],
          "scatterpolargl": [
           {
            "marker": {
             "colorbar": {
              "outlinewidth": 0,
              "ticks": ""
             }
            },
            "type": "scatterpolargl"
           }
          ],
          "scatterternary": [
           {
            "marker": {
             "colorbar": {
              "outlinewidth": 0,
              "ticks": ""
             }
            },
            "type": "scatterternary"
           }
          ],
          "surface": [
           {
            "colorbar": {
             "outlinewidth": 0,
             "ticks": ""
            },
            "colorscale": [
             [
              0,
              "#0d0887"
             ],
             [
              0.1111111111111111,
              "#46039f"
             ],
             [
              0.2222222222222222,
              "#7201a8"
             ],
             [
              0.3333333333333333,
              "#9c179e"
             ],
             [
              0.4444444444444444,
              "#bd3786"
             ],
             [
              0.5555555555555556,
              "#d8576b"
             ],
             [
              0.6666666666666666,
              "#ed7953"
             ],
             [
              0.7777777777777778,
              "#fb9f3a"
             ],
             [
              0.8888888888888888,
              "#fdca26"
             ],
             [
              1,
              "#f0f921"
             ]
            ],
            "type": "surface"
           }
          ],
          "table": [
           {
            "cells": {
             "fill": {
              "color": "#EBF0F8"
             },
             "line": {
              "color": "white"
             }
            },
            "header": {
             "fill": {
              "color": "#C8D4E3"
             },
             "line": {
              "color": "white"
             }
            },
            "type": "table"
           }
          ]
         },
         "layout": {
          "annotationdefaults": {
           "arrowcolor": "#2a3f5f",
           "arrowhead": 0,
           "arrowwidth": 1
          },
          "autotypenumbers": "strict",
          "coloraxis": {
           "colorbar": {
            "outlinewidth": 0,
            "ticks": ""
           }
          },
          "colorscale": {
           "diverging": [
            [
             0,
             "#8e0152"
            ],
            [
             0.1,
             "#c51b7d"
            ],
            [
             0.2,
             "#de77ae"
            ],
            [
             0.3,
             "#f1b6da"
            ],
            [
             0.4,
             "#fde0ef"
            ],
            [
             0.5,
             "#f7f7f7"
            ],
            [
             0.6,
             "#e6f5d0"
            ],
            [
             0.7,
             "#b8e186"
            ],
            [
             0.8,
             "#7fbc41"
            ],
            [
             0.9,
             "#4d9221"
            ],
            [
             1,
             "#276419"
            ]
           ],
           "sequential": [
            [
             0,
             "#0d0887"
            ],
            [
             0.1111111111111111,
             "#46039f"
            ],
            [
             0.2222222222222222,
             "#7201a8"
            ],
            [
             0.3333333333333333,
             "#9c179e"
            ],
            [
             0.4444444444444444,
             "#bd3786"
            ],
            [
             0.5555555555555556,
             "#d8576b"
            ],
            [
             0.6666666666666666,
             "#ed7953"
            ],
            [
             0.7777777777777778,
             "#fb9f3a"
            ],
            [
             0.8888888888888888,
             "#fdca26"
            ],
            [
             1,
             "#f0f921"
            ]
           ],
           "sequentialminus": [
            [
             0,
             "#0d0887"
            ],
            [
             0.1111111111111111,
             "#46039f"
            ],
            [
             0.2222222222222222,
             "#7201a8"
            ],
            [
             0.3333333333333333,
             "#9c179e"
            ],
            [
             0.4444444444444444,
             "#bd3786"
            ],
            [
             0.5555555555555556,
             "#d8576b"
            ],
            [
             0.6666666666666666,
             "#ed7953"
            ],
            [
             0.7777777777777778,
             "#fb9f3a"
            ],
            [
             0.8888888888888888,
             "#fdca26"
            ],
            [
             1,
             "#f0f921"
            ]
           ]
          },
          "colorway": [
           "#636efa",
           "#EF553B",
           "#00cc96",
           "#ab63fa",
           "#FFA15A",
           "#19d3f3",
           "#FF6692",
           "#B6E880",
           "#FF97FF",
           "#FECB52"
          ],
          "font": {
           "color": "#2a3f5f"
          },
          "geo": {
           "bgcolor": "white",
           "lakecolor": "white",
           "landcolor": "#E5ECF6",
           "showlakes": true,
           "showland": true,
           "subunitcolor": "white"
          },
          "hoverlabel": {
           "align": "left"
          },
          "hovermode": "closest",
          "mapbox": {
           "style": "light"
          },
          "paper_bgcolor": "white",
          "plot_bgcolor": "#E5ECF6",
          "polar": {
           "angularaxis": {
            "gridcolor": "white",
            "linecolor": "white",
            "ticks": ""
           },
           "bgcolor": "#E5ECF6",
           "radialaxis": {
            "gridcolor": "white",
            "linecolor": "white",
            "ticks": ""
           }
          },
          "scene": {
           "xaxis": {
            "backgroundcolor": "#E5ECF6",
            "gridcolor": "white",
            "gridwidth": 2,
            "linecolor": "white",
            "showbackground": true,
            "ticks": "",
            "zerolinecolor": "white"
           },
           "yaxis": {
            "backgroundcolor": "#E5ECF6",
            "gridcolor": "white",
            "gridwidth": 2,
            "linecolor": "white",
            "showbackground": true,
            "ticks": "",
            "zerolinecolor": "white"
           },
           "zaxis": {
            "backgroundcolor": "#E5ECF6",
            "gridcolor": "white",
            "gridwidth": 2,
            "linecolor": "white",
            "showbackground": true,
            "ticks": "",
            "zerolinecolor": "white"
           }
          },
          "shapedefaults": {
           "line": {
            "color": "#2a3f5f"
           }
          },
          "ternary": {
           "aaxis": {
            "gridcolor": "white",
            "linecolor": "white",
            "ticks": ""
           },
           "baxis": {
            "gridcolor": "white",
            "linecolor": "white",
            "ticks": ""
           },
           "bgcolor": "#E5ECF6",
           "caxis": {
            "gridcolor": "white",
            "linecolor": "white",
            "ticks": ""
           }
          },
          "title": {
           "x": 0.05
          },
          "xaxis": {
           "automargin": true,
           "gridcolor": "white",
           "linecolor": "white",
           "ticks": "",
           "title": {
            "standoff": 15
           },
           "zerolinecolor": "white",
           "zerolinewidth": 2
          },
          "yaxis": {
           "automargin": true,
           "gridcolor": "white",
           "linecolor": "white",
           "ticks": "",
           "title": {
            "standoff": 15
           },
           "zerolinecolor": "white",
           "zerolinewidth": 2
          }
         }
        },
        "xaxis": {
         "anchor": "y",
         "domain": [
          0,
          1
         ],
         "title": {
          "text": "precio"
         }
        },
        "yaxis": {
         "anchor": "x",
         "domain": [
          0,
          1
         ],
         "title": {
          "text": "count"
         }
        }
       }
      }
     },
     "metadata": {},
     "output_type": "display_data"
    }
   ],
   "source": [
    "px.histogram(data_frame = df_componentes, \n",
    "             x          = \"precio\",\n",
    "             nbins      = 40)\n",
    "\n"
   ]
  },
  {
   "cell_type": "code",
   "execution_count": 101,
   "metadata": {},
   "outputs": [
    {
     "data": {
      "application/vnd.plotly.v1+json": {
       "config": {
        "plotlyServerURL": "https://plot.ly"
       },
       "data": [
        {
         "mode": "markers",
         "name": "ASUS",
         "type": "scatter",
         "x": {
          "bdata": "AAAAAADAYEDNzMzMzKRqQGZmZmZmnmRAAAAAAADwXkBmZmZmZt5lQOF6FK5HqJhAAAAAAADAYEBI4XoUrn9rQKRwPQrX/3RAAAAAAABgZEC4HoXrUehYQOF6FK5HYW1ASOF6FK6fZkCuR+F6FCaQQEjhehSuf2ZAj8L1KFx/YUAK16NwPZyDQEjhehSu/2NAj8L1KFx/VkAK16NwPWJhQEjhehSuf2ZASOF6FK6fbkBI4XoUrl9uQAAAAAAAAF5AKVyPwvW4Y0BSuB6F6xl/QEjhehSuf2tAj8L1KFz/WEAzMzMzM3eFQKRwPQrXj4lAAAAAAAD4iEAAAAAAAABeQEjhehSuf2ZArkfhehSuUEBI4XoUrn9mQEjhehSu/2NApHA9Ctc/dUDNzMzMzExhQKRwPQrX33pArkfhehT+WEA=",
          "dtype": "f8"
         },
         "y": {
          "bdata": "ZmZmZmZmEkAAAAAAAAASQAAAAAAAABJAAAAAAAAAEkDNzMzMzMwSQGZmZmZmZgZAZmZmZmZmEkAAAAAAAAAUQM3MzMzMzBJAzczMzMzMEkAAAAAAAAASQAAAAAAAABJAZmZmZmZmEkDNzMzMzMwSQAAAAAAAABJAzczMzMzMEkDNzMzMzMwSQAAAAAAAABJAAAAAAAAAEkAAAAAAAAASQM3MzMzMzBJAzczMzMzMEkAzMzMzMzMTQGZmZmZmZhJAzczMzMzMEkDNzMzMzMwSQJqZmZmZmRFAAAAAAAAAEkBmZmZmZmYSQDMzMzMzMxNAmpmZmZmZEUAAAAAAAAASQAAAAAAAABJAAAAAAAAAEkAAAAAAAAD4fwAAAAAAAOA/mpmZmZmZEUBmZmZmZmYSQAAAAAAAABJAAAAAAAAAEkA=",
          "dtype": "f8"
         }
        },
        {
         "mode": "markers",
         "name": "Procesadores",
         "type": "scatter",
         "x": {
          "bdata": "Urgehet/gUBI4XoUrr9sQDMzMzMzP39ASOF6FK5/ZkAAAAAAAFB4QKRwPQrXn3BACtejcD3GdUAAAAAAAOiEQGZmZmZmHmJASOF6FK5/a0AAAAAAANiFQLgehetRKFZAAAAAAABwcUD2KFyPwu1+QAAAAAAAgGFAH4XrUbgugUBI4XoUrl9hQKRwPQrXn3lAAAAAAAAgcUCamZmZmfl0QAAAAAAAcHFA",
          "dtype": "f8"
         },
         "y": {
          "bdata": "ZmZmZmZmEkAzMzMzMzMTQDMzMzMzMxNAMzMzMzMzE0BmZmZmZmYSQM3MzMzMzBJAzczMzMzMEkAzMzMzMzMTQDMzMzMzMxNAzczMzMzMEkAzMzMzMzMTQM3MzMzMzBJAMzMzMzMzE0CamZmZmZkTQM3MzMzMzBJAMzMzMzMzE0AzMzMzMzMTQM3MzMzMzBJAMzMzMzMzEUDNzMzMzMwSQJqZmZmZmRFA",
          "dtype": "f8"
         }
        },
        {
         "mode": "markers",
         "name": "Intel",
         "type": "scatter",
         "x": {
          "bdata": "SOF6FK6neUCuR+F6FH5jQGZmZmZmPm9AZmZmZmY+Y0BI4XoUrr9lQEjhehSuf2RAAAAAAACIgECPwvUoXH9eQEjhehSu/2ZApHA9CtdvekCkcD0K169zQNejcD0K33VAj8L1KFx/XkAzMzMzMyNVQKRwPQrX73xApHA9Ctfff0AAAAAAAOiEQFyPwvUoVGlApHA9Ctc/d0Bcj8L1KMRxQMP1KFyP2nRApHA9CtePcEB7FK5H4ZZ3QK5H4XoUpnFAmpmZmZnPiUCkcD0K1/98QEjhehSuX2tApHA9CtcfcUAzMzMzM/94QKRwPQrXb3NAmpmZmZkZYkCuR+F6FD5lQKRwPQrXr3ZAAAAAAAAogUBSuB6F66eDQDMzMzMzT4RAZmZmZma+YEA9CtejcL1WQClcj8L1nHNAXI/C9Sj0cUA=",
          "dtype": "f8"
         },
         "y": {
          "bdata": "zczMzMzMEkDNzMzMzMwSQGZmZmZmZhJAzczMzMzMEkAzMzMzMzMTQM3MzMzMzBJAAAAAAAAAEkAzMzMzMzMTQDMzMzMzMxNAzczMzMzMEkAzMzMzMzMTQDMzMzMzMxNAzczMzMzMEkDNzMzMzMwSQDMzMzMzMxNAAAAAAAAAEkAAAAAAAAASQAAAAAAAABJAmpmZmZmZEUAzMzMzMzMTQAAAAAAAABJAMzMzMzMzE0AzMzMzMzMTQM3MzMzMzBJAmpmZmZmZDUCamZmZmZkTQDMzMzMzMxNAZmZmZmZmEkAzMzMzMzMTQAAAAAAAAPh/zczMzMzMEkDNzMzMzMwSQGZmZmZmZhJAMzMzMzMzE0DNzMzMzMwMQGZmZmZmZgpAAAAAAAAAEkBmZmZmZmYSQM3MzMzMzBJAMzMzMzMzE0A=",
          "dtype": "f8"
         }
        },
        {
         "mode": "markers",
         "name": "Plus gold",
         "type": "scatter",
         "x": {
          "bdata": "16NwPQr3YkBxPQrXo8x6QIXrUbgeTWhAmpmZmZm5V0BI4XoUrp9iQGZmZmZmHmJAj8L1KFw/XUA9CtejcN1gQIXrUbge3WVApHA9CtcvfUCF61G4Hj1gQEjhehSub2NASOF6FK5/ZkCPwvUoXH9VQLgehetRMGdAj8L1KFw/W0CuR+F6FH5jQKRwPQrXo2FAzczMzMxcY0BSuB6F6wlkQHE9Ctej4GBA",
          "dtype": "f8"
         },
         "y": {
          "bdata": "MzMzMzMzE0AzMzMzMzMTQJqZmZmZmRNAzczMzMzMEkDNzMzMzMwSQM3MzMzMzBJAAAAAAAAAEkAAAAAAAAASQAAAAAAAABJAAAAAAAAA+H/NzMzMzMwSQJqZmZmZmRNAMzMzMzMzE0AAAAAAAAAUQGZmZmZmZhJAAAAAAAAAFEAzMzMzMzMTQM3MzMzMzBJAzczMzMzMEkAAAAAAAAASQM3MzMzMzBJA",
          "dtype": "f8"
         }
        },
        {
         "mode": "markers",
         "name": "Tarjetas de sonido",
         "type": "scatter",
         "x": {
          "bdata": "j8L1KFw/WkAzMzMzM/M1QB+F61G4XjNAzczMzMw8VUAfhetRuP5IQD0K16Nw/T9AZmZmZmZeYECuR+F6FN5qQIXrUbgehRVA16NwPQpnYEDXo3A9Ctc1QEjhehSuH2RAH4XrUbh+QkBcj8L1KFwaQFyPwvUoXBBAXI/C9ShcFECPwvUoXH9RQB+F61G4HgtArkfhehRuSUCPwvUoXI8RQOF6FK5HYSNAH4XrUbj+SkAfhetRuN5zQHE9CtejOGFAH4XrUbheVUA9CtejcP1PQFK4HoXr8UBASOF6FK53WEBI4XoUrt9gQAAAAAAAYE1Aj8L1KFy/ZkCPwvUoXP9aQB+F61G4HkFAuB6F61G4NEBcj8L1KFwSQI/C9Shcf19AUrgehesvgUBI4XoUrvdfQNejcD0Kx1RAUrgehetREkA=",
          "dtype": "f8"
         },
         "y": {
          "bdata": "AAAAAAAAEkBmZmZmZmYSQAAAAAAAABRAzczMzMzMEkAAAAAAAAASQJqZmZmZmRFAZmZmZmZmEkBmZmZmZmYSQJqZmZmZmRFAAAAAAAAA+H8zMzMzMzMPQAAAAAAAAPh/MzMzMzMzEUBmZmZmZmYSQGZmZmZmZhJAAAAAAAAAEkAAAAAAAAD4f5qZmZmZmRNAZmZmZmZmEkAzMzMzMzMRQGZmZmZmZhBAzczMzMzMEkAzMzMzMzMLQAAAAAAAAAxAzczMzMzMEEBmZmZmZmYOQDMzMzMzMxFAAAAAAAAACEAAAAAAAAD4f5qZmZmZmRFAAAAAAAAA+H8AAAAAAAD4f5qZmZmZmQ1AmpmZmZmZEUAAAAAAAAAQQDMzMzMzMxNAAAAAAAAA+H8AAAAAAAD4fwAAAAAAABJAAAAAAAAA+H8=",
          "dtype": "f8"
         }
        },
        {
         "mode": "markers",
         "name": "Fuentes de alimentación",
         "type": "scatter",
         "x": {
          "bdata": "H4XrUbj+QECPwvUoXH9hQBSuR+F6nGBAKVyPwvVIWUDNzMzMzPxdQEjhehSuv2dAj8L1KFw/X0ApXI/C9dBqQEjhehSu32BA16NwPQrXZ0DNzMzMzDxlQI/C9Shcf1tAj8L1KFy/WEBI4XoUrj9lQM3MzMzMfFxACtejcD0OdEAAAAAAAMBgQM3MzMzM3GlArkfhehRma0DNzMzMzDxvQI/C9ShcZ2tASOF6FK7/Y0A=",
          "dtype": "f8"
         },
         "y": {
          "bdata": "zczMzMzMEkAzMzMzMzMTQM3MzMzMzBJAzczMzMzMEkAAAAAAAAAUQGZmZmZmZhJAzczMzMzMEkDNzMzMzMwSQDMzMzMzMxNAzczMzMzMEkAzMzMzMzMTQAAAAAAAABRAAAAAAAAAEkBmZmZmZmYSQDMzMzMzMxNAmpmZmZmZE0AzMzMzMzMTQJqZmZmZmRNAMzMzMzMzE0DNzMzMzMwSQGZmZmZmZhJAAAAAAAAA+H8=",
          "dtype": "f8"
         }
        },
        {
         "mode": "markers",
         "name": "Discos duros internos",
         "type": "scatter",
         "x": {
          "bdata": "uB6F61HYX0CamZmZmZ1xQM3MzMzMjFlAAAAAAABgZkAAAAAAAOBtQAAAAAAAMH9ASOF6FK6vd0AAAAAAAMR1QKRwPQrX/3hA4XoUrkeRZUDNzMzMzDxYQI/C9Shc/1hAZmZmZmZ+bkBSuB6F681wQEjhehSuH2VApHA9Ctc/d0AAAAAAABiCQFK4HoXr8WNApHA9CteveUBmZmZmZh5uQAAAAAAAkHVAAAAAAABgeEBI4XoUrt9pQDMzMzMz73FApHA9Ctfvc0CF61G4Hj1sQGZmZmZmvmdApHA9CtfveUAAAAAAAEB8QGZmZmZm7n1ApHA9Ctf3f0CkcD0K1w9zQEjhehSuX2RAAAAAAABoa0BI4XoUrj9tQMP1KFyP2mpAXI/C9SjMbEA=",
          "dtype": "f8"
         },
         "y": {
          "bdata": "ZmZmZmZmEkAAAAAAAAASQGZmZmZmZhJAZmZmZmZmEkBmZmZmZmYSQAAAAAAAAPh/AAAAAAAAEkBmZmZmZmYSQGZmZmZmZhJAZmZmZmZmEkCamZmZmZkRQGZmZmZmZhJAZmZmZmZmEkAAAAAAAAAIQJqZmZmZmRNAAAAAAAAAFEBmZmZmZmYSQGZmZmZmZhJAmpmZmZmZEUAzMzMzMzMTQJqZmZmZmRFAMzMzMzMzEUCamZmZmZkRQGZmZmZmZhJAZmZmZmZmEkAAAAAAAAASQGZmZmZmZhJAzczMzMzMEEAAAAAAAAD4fwAAAAAAAPh/ZmZmZmZmEkAAAAAAAAAUQGZmZmZmZhJAAAAAAAAAEkAAAAAAAAASQM3MzMzMzBJAAAAAAAAAFEA=",
          "dtype": "f8"
         }
        },
        {
         "mode": "markers",
         "name": "Capturadoras",
         "type": "scatter",
         "x": {
          "bdata": "SOF6FK6/ZEAfhetRuP5WQAAAAAAAwHJAAAAAAAAAXkAfhetRuP5WQB+F61G4/kNAmpmZmZmZH0BxPQrXo/AxQM3MzMzMzCFASOF6FK4/b0BI4XoUrv9sQFyPwvUo1GFAzczMzMzEY0AAAAAAAGBmQGZmZmZmPnBApHA9CtdraEDNzMzMzOiGQPYoXI/C/WNASOF6FK4fbUBxPQrXo+B4QM3MzMzMPGBAexSuR+H6OEDNzMzMzMwhQA==",
          "dtype": "f8"
         },
         "y": {
          "bdata": "AAAAAAAAEkCamZmZmZkRQDMzMzMzMxNAMzMzMzMzEUCamZmZmZkNQJqZmZmZmQ1AZmZmZmZmEECamZmZmZkRQDMzMzMzMxFAAAAAAAAAFEAAAAAAAAD4f5qZmZmZmRFAAAAAAAAA+H/NzMzMzMwQQAAAAAAAAPh/AAAAAAAAFEAAAAAAAAD4f2ZmZmZmZhBAmpmZmZmZDUBmZmZmZmYGQAAAAAAAAPh/ZmZmZmZmEEAAAAAAAAD4fw==",
          "dtype": "f8"
         }
        },
        {
         "mode": "markers",
         "name": "Discos duros",
         "type": "scatter",
         "x": {
          "bdata": "XI/C9Sg8VUAfhetRuL5eQM3MzMzMPFBAzczMzMx8UUCuR+F6FH5SQB+F61G4/ktASOF6FK6/ZECamZmZmflJQM3MzMzMPFtAUrgeheuRS0BmZmZmZiZQQI/C9Shcf1dAH4XrUbj+QECPwvUoXH9VQFyPwvUoPF1AH4XrUbheTEBI4XoUrt9jQAAAAAAAgExAH4XrUbh+T0BI4XoUrn9jQIXrUbgeJVVAzczMzMx8XEA9CtejcH1OQB+F61G4PltAPQrXo3D9PUCPwvUoXH9QQB+F61G4fkRASOF6FK7fZECPwvUoXH9XQI/C9Shc73BA7FG4HoX7WECuR+F6FF5lQI/C9Shcv3NA9ihcj8JtaUCPwvUoXH9fQI/C9Shcf1VAj8L1KFw/V0A9CtejcP0zQJqZmZmZKV9Aj8L1KFx/X0A=",
          "dtype": "f8"
         },
         "y": {
          "bdata": "ZmZmZmZmEkAzMzMzMzMTQM3MzMzMzBJAzczMzMzMEkAzMzMzMzMTQM3MzMzMzBJAMzMzMzMzE0DNzMzMzMwSQM3MzMzMzBJAzczMzMzMEkBmZmZmZmYSQDMzMzMzMxNAzczMzMzMEkDNzMzMzMwSQGZmZmZmZhJAzczMzMzMEkAzMzMzMzMTQM3MzMzMzBJAzczMzMzMEkAzMzMzMzMTQM3MzMzMzBJAMzMzMzMzE0DNzMzMzMwSQDMzMzMzMxNAzczMzMzMEkDNzMzMzMwSQM3MzMzMzBJAzczMzMzMEkAzMzMzMzMTQAAAAAAAAPh/zczMzMzMEkAAAAAAAAD4fzMzMzMzMxNAAAAAAAAAEkAAAAAAAAD4f83MzMzMzBJAzczMzMzMEkDNzMzMzMwSQDMzMzMzMxNAzczMzMzMEkA=",
          "dtype": "f8"
         }
        },
        {
         "mode": "markers",
         "name": "Arduino",
         "type": "scatter",
         "x": {
          "bdata": "PQrXo3AdQECF61G4HoUVQKRwPQrXowhAMzMzMzODdkBI4XoUrkdlQEjhehSuR2VAMzMzMzPDZkCuR+F6FKZhQFyPwvUo7FRAw/UoXI9CRkAAAAAAAEBnQEjhehSuR2VAexSuR+ESaEA9CtejcD0YQGZmZmZmZhlAUrgehetRGkBSuB6F61EaQJqZmZmZmRdAFK5H4XoUN0CF61G4HoUYQJqZmZmZmRlA16NwPQrXF0AK16NwPQouQPYoXI/C9RhA4XoUrkchOUAAAAAAAAAZQNejcD0K1xlAH4XrUbj+RUAAAAAAAABHQI/C9Shc/1hAj8L1KFw/UkC4HoXrUbgjQFyPwvUoXANAXI/C9Shc8z9cj8L1KFwDQFyPwvUoXANAhetRuB6FH0DXo3A9CtcLQOxRuB6F6xNA7FG4HoXrD0A=",
          "dtype": "f8"
         },
         "y": {
          "bdata": "AAAAAAAA+H8AAAAAAAD4fwAAAAAAABRAAAAAAAAA+H8AAAAAAAD4fwAAAAAAAPh/AAAAAAAA+H/NzMzMzMwSQAAAAAAAAPh/AAAAAAAA+H8AAAAAAAD4f83MzMzMzBJAAAAAAAAA+H8AAAAAAAD4fwAAAAAAAPh/AAAAAAAA+H8AAAAAAAAUQAAAAAAAABRAAAAAAAAA+H8AAAAAAAD4fwAAAAAAAPh/AAAAAAAAFEAAAAAAAAD4fwAAAAAAAPh/AAAAAAAA+H8AAAAAAAD4fwAAAAAAAPh/AAAAAAAAFEAAAAAAAAAUQAAAAAAAABRAAAAAAAAAFEAAAAAAAAAQQAAAAAAAAPh/AAAAAAAA+H8zMzMzMzMTQAAAAAAAABRAAAAAAAAAFEAAAAAAAAAUQAAAAAAAABBAAAAAAAAAFEA=",
          "dtype": "f8"
         }
        },
        {
         "mode": "markers",
         "name": "RAM",
         "type": "scatter",
         "x": {
          "bdata": "j8L1KFx/X0CPwvUoXH9bQB+F61G4vlxAmpmZmZk5UECamZmZmXlDQJqZmZmZ+U9ASOF6FK7/bUAfhetRuH5DQI/C9Shc/15AAAAAAAAgbkCPwvUoXP9SQI/C9ShcP11AH4XrUbj+X0DNzMzMzPxQQNejcD0KB2FAj8L1KFx/WkAAAAAAAMBQQEjhehSuv2ZAMzMzMzPzXUCamZmZmXlHQKRwPQrXQ19Aj8L1KFw/WkDsUbgehestQDMzMzMzC2BASOF6FK5fbUCPwvUoXD9dQEjhehSuH3BAcT0K16NAWECkcD0K16NAQEjhehSuf2tA4XoUrkfBQUApXI/C9fBgQBSuR+F65FBAj8L1KFz/WUBI4XoUrp9mQB+F61G4vl5Aj8L1KFx/W0CPwvUoXA8yQFK4HoXr9XRAZmZmZmYOcUA=",
          "dtype": "f8"
         },
         "y": {
          "bdata": "MzMzMzMzE0DNzMzMzMwSQDMzMzMzMxNAMzMzMzMzE0AzMzMzMzMTQDMzMzMzMxNAzczMzMzMEkAzMzMzMzMTQM3MzMzMzBJAzczMzMzMEkAzMzMzMzMTQDMzMzMzMxNAMzMzMzMzE0AzMzMzMzMTQDMzMzMzMxNAMzMzMzMzE0DNzMzMzMwSQJqZmZmZmRNAzczMzMzMEkDNzMzMzMwSQGZmZmZmZhJAMzMzMzMzE0AzMzMzMzMTQM3MzMzMzBJAZmZmZmZmEkAzMzMzMzMTQM3MzMzMzBJAMzMzMzMzE0AzMzMzMzMTQJqZmZmZmRFAzczMzMzMEkDNzMzMzMwSQDMzMzMzMxNAAAAAAAAAEkDNzMzMzMwSQDMzMzMzMxNAmpmZmZmZEUAzMzMzMzMTQJqZmZmZmRNAzczMzMzMEkA=",
          "dtype": "f8"
         }
        },
        {
         "mode": "markers",
         "name": "Plus bronze",
         "type": "scatter",
         "x": {
          "bdata": "H4XrUbj+RkDD9Shcj6JOQJqZmZmZOVFAH4XrUbj+SEAfhetRuP5NQB+F61G4/ktAH4XrUbh+S0AfhetRuP5HQB+F61G4fktAH4XrUbj+Q0A9CtejcH1OQB+F61G4fktAj8L1KFw/UEAfhetRuH5LQAAAAAAAAEZAH4XrUbh+RkAfhetRuH5GQB+F61G4fkZAMzMzMzNzSkCPwvUoXD9UQAAAAAAAQFNA9ihcj8J1VUBSuB6F63FFQI/C9Shc/1BArkfhehQuP0CamZmZmVlHQB+F61G4PkFAFK5H4Xr0QUBmZmZmZmZeQKRwPQrX01JA4XoUrkdBWkCPwvUoXN9YQPYoXI/ClVdASOF6FK6XU0DNzMzMzFxSQKRwPQrXA1JArkfhehQ+V0A9CtejcG1XQArXo3A9ClxAKVyPwvV4UEA=",
          "dtype": "f8"
         },
         "y": {
          "bdata": "ZmZmZmZmEkBmZmZmZmYSQGZmZmZmZhJAZmZmZmZmEkBmZmZmZmYSQM3MzMzMzBJAzczMzMzMEkDNzMzMzMwSQM3MzMzMzBJAzczMzMzMEkDNzMzMzMwSQM3MzMzMzBJAzczMzMzMEkDNzMzMzMwSQM3MzMzMzBJAzczMzMzMEkDNzMzMzMwSQM3MzMzMzBJAZmZmZmZmEkAzMzMzMzMTQDMzMzMzMxNAmpmZmZmZEUBmZmZmZmYSQM3MzMzMzBJAZmZmZmZmEkAAAAAAAAASQAAAAAAAAPh/MzMzMzMzE0BmZmZmZmYSQGZmZmZmZhJAZmZmZmZmEECamZmZmZkTQGZmZmZmZhJAZmZmZmZmEkAAAAAAAAAQQM3MzMzMzBJAZmZmZmZmEkAzMzMzMzMTQDMzMzMzMxNAAAAAAAAAEkA=",
          "dtype": "f8"
         }
        },
        {
         "mode": "markers",
         "name": "Grabadoras",
         "type": "scatter",
         "x": {
          "bdata": "PQrXo3B9QEA9CtejcP00QD0K16Nw/TtAPQrXo3B9QEAUrkfhenRIQM3MzMzMfFhACtejcD3KRUBcj8L1KHxbQHE9CtejUGVA9ihcj8JFZkDhehSuR4FGQClcj8L16EZASOF6FK7HLUAAAAAAAGBJQHE9CtejoFdAUrgehetRWkDhehSuR+FFQArXo3A9ykVACtejcD3KRUAzMzMzM9NTQLgehetR0GZApHA9CteDRUDsUbgehctLQD0K16NwnUJApHA9CtfjRkBmZmZmZoZKQI/C9ShcP11AXI/C9SicUUB7FK5H4QpUQA==",
          "dtype": "f8"
         },
         "y": {
          "bdata": "AAAAAAAAEkAAAAAAAAASQJqZmZmZmRFAAAAAAAAAEkAzMzMzMzMRQGZmZmZmZhJAAAAAAAAAEkAzMzMzMzMRQM3MzMzMzBJAAAAAAAAAEkAAAAAAAAAQQDMzMzMzMxFAAAAAAAAAEkDNzMzMzMwQQM3MzMzMzBJAMzMzMzMzD0AAAAAAAAASQM3MzMzMzBBAmpmZmZmZEUAAAAAAAAAUQDMzMzMzMxNAAAAAAAAAEkAAAAAAAAAQQM3MzMzMzBJAzczMzMzMEEAzMzMzMzMRQDMzMzMzMw9AAAAAAAAAFECamZmZmZkRQA==",
          "dtype": "f8"
         }
        },
        {
         "mode": "markers",
         "name": "Plus titanium",
         "type": "scatter",
         "x": {
          "bdata": "7FG4HoWzdUAK16NwPTp8QClcj8L1pH5A9ihcj8I7hUAAAAAAABCBQHE9Ctej/HRApHA9Ctcff0AAAAAAAPBsQNejcD0Kf3FAPQrXo3ARfEBI4XoUrlN7QLgehetRD5BAmpmZmZnhc0AzMzMzM+d+QKRwPQrXHYNASOF6FK6/bkDD9Shcj8p1QOF6FK5HbX1AcT0K16NQbUAfhetRuFZ4QBSuR+F6iHhA",
          "dtype": "f8"
         },
         "y": {
          "bdata": "AAAAAAAAEkBmZmZmZmYGQAAAAAAAABRAmpmZmZmZE0AzMzMzMzMTQAAAAAAAABRAAAAAAAAAFEAAAAAAAAAUQJqZmZmZmRNAzczMzMzMEEAAAAAAAAD4fwAAAAAAAPh/MzMzMzMzE0AzMzMzMzMPQDMzMzMzMxNAMzMzMzMzE0DNzMzMzMwSQAAAAAAAABJAAAAAAAAA+H/NzMzMzMwSQDMzMzMzMxNA",
          "dtype": "f8"
         }
        }
       ],
       "layout": {
        "template": {
         "data": {
          "bar": [
           {
            "error_x": {
             "color": "#f2f5fa"
            },
            "error_y": {
             "color": "#f2f5fa"
            },
            "marker": {
             "line": {
              "color": "rgb(17,17,17)",
              "width": 0.5
             },
             "pattern": {
              "fillmode": "overlay",
              "size": 10,
              "solidity": 0.2
             }
            },
            "type": "bar"
           }
          ],
          "barpolar": [
           {
            "marker": {
             "line": {
              "color": "rgb(17,17,17)",
              "width": 0.5
             },
             "pattern": {
              "fillmode": "overlay",
              "size": 10,
              "solidity": 0.2
             }
            },
            "type": "barpolar"
           }
          ],
          "carpet": [
           {
            "aaxis": {
             "endlinecolor": "#A2B1C6",
             "gridcolor": "#506784",
             "linecolor": "#506784",
             "minorgridcolor": "#506784",
             "startlinecolor": "#A2B1C6"
            },
            "baxis": {
             "endlinecolor": "#A2B1C6",
             "gridcolor": "#506784",
             "linecolor": "#506784",
             "minorgridcolor": "#506784",
             "startlinecolor": "#A2B1C6"
            },
            "type": "carpet"
           }
          ],
          "choropleth": [
           {
            "colorbar": {
             "outlinewidth": 0,
             "ticks": ""
            },
            "type": "choropleth"
           }
          ],
          "contour": [
           {
            "colorbar": {
             "outlinewidth": 0,
             "ticks": ""
            },
            "colorscale": [
             [
              0,
              "#0d0887"
             ],
             [
              0.1111111111111111,
              "#46039f"
             ],
             [
              0.2222222222222222,
              "#7201a8"
             ],
             [
              0.3333333333333333,
              "#9c179e"
             ],
             [
              0.4444444444444444,
              "#bd3786"
             ],
             [
              0.5555555555555556,
              "#d8576b"
             ],
             [
              0.6666666666666666,
              "#ed7953"
             ],
             [
              0.7777777777777778,
              "#fb9f3a"
             ],
             [
              0.8888888888888888,
              "#fdca26"
             ],
             [
              1,
              "#f0f921"
             ]
            ],
            "type": "contour"
           }
          ],
          "contourcarpet": [
           {
            "colorbar": {
             "outlinewidth": 0,
             "ticks": ""
            },
            "type": "contourcarpet"
           }
          ],
          "heatmap": [
           {
            "colorbar": {
             "outlinewidth": 0,
             "ticks": ""
            },
            "colorscale": [
             [
              0,
              "#0d0887"
             ],
             [
              0.1111111111111111,
              "#46039f"
             ],
             [
              0.2222222222222222,
              "#7201a8"
             ],
             [
              0.3333333333333333,
              "#9c179e"
             ],
             [
              0.4444444444444444,
              "#bd3786"
             ],
             [
              0.5555555555555556,
              "#d8576b"
             ],
             [
              0.6666666666666666,
              "#ed7953"
             ],
             [
              0.7777777777777778,
              "#fb9f3a"
             ],
             [
              0.8888888888888888,
              "#fdca26"
             ],
             [
              1,
              "#f0f921"
             ]
            ],
            "type": "heatmap"
           }
          ],
          "histogram": [
           {
            "marker": {
             "pattern": {
              "fillmode": "overlay",
              "size": 10,
              "solidity": 0.2
             }
            },
            "type": "histogram"
           }
          ],
          "histogram2d": [
           {
            "colorbar": {
             "outlinewidth": 0,
             "ticks": ""
            },
            "colorscale": [
             [
              0,
              "#0d0887"
             ],
             [
              0.1111111111111111,
              "#46039f"
             ],
             [
              0.2222222222222222,
              "#7201a8"
             ],
             [
              0.3333333333333333,
              "#9c179e"
             ],
             [
              0.4444444444444444,
              "#bd3786"
             ],
             [
              0.5555555555555556,
              "#d8576b"
             ],
             [
              0.6666666666666666,
              "#ed7953"
             ],
             [
              0.7777777777777778,
              "#fb9f3a"
             ],
             [
              0.8888888888888888,
              "#fdca26"
             ],
             [
              1,
              "#f0f921"
             ]
            ],
            "type": "histogram2d"
           }
          ],
          "histogram2dcontour": [
           {
            "colorbar": {
             "outlinewidth": 0,
             "ticks": ""
            },
            "colorscale": [
             [
              0,
              "#0d0887"
             ],
             [
              0.1111111111111111,
              "#46039f"
             ],
             [
              0.2222222222222222,
              "#7201a8"
             ],
             [
              0.3333333333333333,
              "#9c179e"
             ],
             [
              0.4444444444444444,
              "#bd3786"
             ],
             [
              0.5555555555555556,
              "#d8576b"
             ],
             [
              0.6666666666666666,
              "#ed7953"
             ],
             [
              0.7777777777777778,
              "#fb9f3a"
             ],
             [
              0.8888888888888888,
              "#fdca26"
             ],
             [
              1,
              "#f0f921"
             ]
            ],
            "type": "histogram2dcontour"
           }
          ],
          "mesh3d": [
           {
            "colorbar": {
             "outlinewidth": 0,
             "ticks": ""
            },
            "type": "mesh3d"
           }
          ],
          "parcoords": [
           {
            "line": {
             "colorbar": {
              "outlinewidth": 0,
              "ticks": ""
             }
            },
            "type": "parcoords"
           }
          ],
          "pie": [
           {
            "automargin": true,
            "type": "pie"
           }
          ],
          "scatter": [
           {
            "marker": {
             "line": {
              "color": "#283442"
             }
            },
            "type": "scatter"
           }
          ],
          "scatter3d": [
           {
            "line": {
             "colorbar": {
              "outlinewidth": 0,
              "ticks": ""
             }
            },
            "marker": {
             "colorbar": {
              "outlinewidth": 0,
              "ticks": ""
             }
            },
            "type": "scatter3d"
           }
          ],
          "scattercarpet": [
           {
            "marker": {
             "colorbar": {
              "outlinewidth": 0,
              "ticks": ""
             }
            },
            "type": "scattercarpet"
           }
          ],
          "scattergeo": [
           {
            "marker": {
             "colorbar": {
              "outlinewidth": 0,
              "ticks": ""
             }
            },
            "type": "scattergeo"
           }
          ],
          "scattergl": [
           {
            "marker": {
             "line": {
              "color": "#283442"
             }
            },
            "type": "scattergl"
           }
          ],
          "scattermap": [
           {
            "marker": {
             "colorbar": {
              "outlinewidth": 0,
              "ticks": ""
             }
            },
            "type": "scattermap"
           }
          ],
          "scattermapbox": [
           {
            "marker": {
             "colorbar": {
              "outlinewidth": 0,
              "ticks": ""
             }
            },
            "type": "scattermapbox"
           }
          ],
          "scatterpolar": [
           {
            "marker": {
             "colorbar": {
              "outlinewidth": 0,
              "ticks": ""
             }
            },
            "type": "scatterpolar"
           }
          ],
          "scatterpolargl": [
           {
            "marker": {
             "colorbar": {
              "outlinewidth": 0,
              "ticks": ""
             }
            },
            "type": "scatterpolargl"
           }
          ],
          "scatterternary": [
           {
            "marker": {
             "colorbar": {
              "outlinewidth": 0,
              "ticks": ""
             }
            },
            "type": "scatterternary"
           }
          ],
          "surface": [
           {
            "colorbar": {
             "outlinewidth": 0,
             "ticks": ""
            },
            "colorscale": [
             [
              0,
              "#0d0887"
             ],
             [
              0.1111111111111111,
              "#46039f"
             ],
             [
              0.2222222222222222,
              "#7201a8"
             ],
             [
              0.3333333333333333,
              "#9c179e"
             ],
             [
              0.4444444444444444,
              "#bd3786"
             ],
             [
              0.5555555555555556,
              "#d8576b"
             ],
             [
              0.6666666666666666,
              "#ed7953"
             ],
             [
              0.7777777777777778,
              "#fb9f3a"
             ],
             [
              0.8888888888888888,
              "#fdca26"
             ],
             [
              1,
              "#f0f921"
             ]
            ],
            "type": "surface"
           }
          ],
          "table": [
           {
            "cells": {
             "fill": {
              "color": "#506784"
             },
             "line": {
              "color": "rgb(17,17,17)"
             }
            },
            "header": {
             "fill": {
              "color": "#2a3f5f"
             },
             "line": {
              "color": "rgb(17,17,17)"
             }
            },
            "type": "table"
           }
          ]
         },
         "layout": {
          "annotationdefaults": {
           "arrowcolor": "#f2f5fa",
           "arrowhead": 0,
           "arrowwidth": 1
          },
          "autotypenumbers": "strict",
          "coloraxis": {
           "colorbar": {
            "outlinewidth": 0,
            "ticks": ""
           }
          },
          "colorscale": {
           "diverging": [
            [
             0,
             "#8e0152"
            ],
            [
             0.1,
             "#c51b7d"
            ],
            [
             0.2,
             "#de77ae"
            ],
            [
             0.3,
             "#f1b6da"
            ],
            [
             0.4,
             "#fde0ef"
            ],
            [
             0.5,
             "#f7f7f7"
            ],
            [
             0.6,
             "#e6f5d0"
            ],
            [
             0.7,
             "#b8e186"
            ],
            [
             0.8,
             "#7fbc41"
            ],
            [
             0.9,
             "#4d9221"
            ],
            [
             1,
             "#276419"
            ]
           ],
           "sequential": [
            [
             0,
             "#0d0887"
            ],
            [
             0.1111111111111111,
             "#46039f"
            ],
            [
             0.2222222222222222,
             "#7201a8"
            ],
            [
             0.3333333333333333,
             "#9c179e"
            ],
            [
             0.4444444444444444,
             "#bd3786"
            ],
            [
             0.5555555555555556,
             "#d8576b"
            ],
            [
             0.6666666666666666,
             "#ed7953"
            ],
            [
             0.7777777777777778,
             "#fb9f3a"
            ],
            [
             0.8888888888888888,
             "#fdca26"
            ],
            [
             1,
             "#f0f921"
            ]
           ],
           "sequentialminus": [
            [
             0,
             "#0d0887"
            ],
            [
             0.1111111111111111,
             "#46039f"
            ],
            [
             0.2222222222222222,
             "#7201a8"
            ],
            [
             0.3333333333333333,
             "#9c179e"
            ],
            [
             0.4444444444444444,
             "#bd3786"
            ],
            [
             0.5555555555555556,
             "#d8576b"
            ],
            [
             0.6666666666666666,
             "#ed7953"
            ],
            [
             0.7777777777777778,
             "#fb9f3a"
            ],
            [
             0.8888888888888888,
             "#fdca26"
            ],
            [
             1,
             "#f0f921"
            ]
           ]
          },
          "colorway": [
           "#636efa",
           "#EF553B",
           "#00cc96",
           "#ab63fa",
           "#FFA15A",
           "#19d3f3",
           "#FF6692",
           "#B6E880",
           "#FF97FF",
           "#FECB52"
          ],
          "font": {
           "color": "#f2f5fa"
          },
          "geo": {
           "bgcolor": "rgb(17,17,17)",
           "lakecolor": "rgb(17,17,17)",
           "landcolor": "rgb(17,17,17)",
           "showlakes": true,
           "showland": true,
           "subunitcolor": "#506784"
          },
          "hoverlabel": {
           "align": "left"
          },
          "hovermode": "closest",
          "mapbox": {
           "style": "dark"
          },
          "paper_bgcolor": "rgb(17,17,17)",
          "plot_bgcolor": "rgb(17,17,17)",
          "polar": {
           "angularaxis": {
            "gridcolor": "#506784",
            "linecolor": "#506784",
            "ticks": ""
           },
           "bgcolor": "rgb(17,17,17)",
           "radialaxis": {
            "gridcolor": "#506784",
            "linecolor": "#506784",
            "ticks": ""
           }
          },
          "scene": {
           "xaxis": {
            "backgroundcolor": "rgb(17,17,17)",
            "gridcolor": "#506784",
            "gridwidth": 2,
            "linecolor": "#506784",
            "showbackground": true,
            "ticks": "",
            "zerolinecolor": "#C8D4E3"
           },
           "yaxis": {
            "backgroundcolor": "rgb(17,17,17)",
            "gridcolor": "#506784",
            "gridwidth": 2,
            "linecolor": "#506784",
            "showbackground": true,
            "ticks": "",
            "zerolinecolor": "#C8D4E3"
           },
           "zaxis": {
            "backgroundcolor": "rgb(17,17,17)",
            "gridcolor": "#506784",
            "gridwidth": 2,
            "linecolor": "#506784",
            "showbackground": true,
            "ticks": "",
            "zerolinecolor": "#C8D4E3"
           }
          },
          "shapedefaults": {
           "line": {
            "color": "#f2f5fa"
           }
          },
          "sliderdefaults": {
           "bgcolor": "#C8D4E3",
           "bordercolor": "rgb(17,17,17)",
           "borderwidth": 1,
           "tickwidth": 0
          },
          "ternary": {
           "aaxis": {
            "gridcolor": "#506784",
            "linecolor": "#506784",
            "ticks": ""
           },
           "baxis": {
            "gridcolor": "#506784",
            "linecolor": "#506784",
            "ticks": ""
           },
           "bgcolor": "rgb(17,17,17)",
           "caxis": {
            "gridcolor": "#506784",
            "linecolor": "#506784",
            "ticks": ""
           }
          },
          "title": {
           "x": 0.05
          },
          "updatemenudefaults": {
           "bgcolor": "#506784",
           "borderwidth": 0
          },
          "xaxis": {
           "automargin": true,
           "gridcolor": "#283442",
           "linecolor": "#506784",
           "ticks": "",
           "title": {
            "standoff": 15
           },
           "zerolinecolor": "#283442",
           "zerolinewidth": 2
          },
          "yaxis": {
           "automargin": true,
           "gridcolor": "#283442",
           "linecolor": "#506784",
           "ticks": "",
           "title": {
            "standoff": 15
           },
           "zerolinecolor": "#283442",
           "zerolinewidth": 2
          }
         }
        },
        "title": {
         "text": "Gráfico de Dispersión por Categoría: Precio - Rating"
        },
        "xaxis": {
         "title": {
          "text": "Precio"
         }
        },
        "yaxis": {
         "title": {
          "text": "Rating"
         }
        }
       }
      }
     },
     "metadata": {},
     "output_type": "display_data"
    }
   ],
   "source": [
    "fig = go.Figure()\n",
    "\n",
    "for categoria in df_componentes['categoria'].unique():\n",
    "    df_filtrado = df_componentes[df_componentes['categoria'] == categoria]\n",
    "    fig.add_trace(go.Scatter(\n",
    "        x=df_filtrado['precio'],\n",
    "        y=df_filtrado['rating'],\n",
    "        mode='markers',\n",
    "        name=categoria\n",
    "    ))\n",
    "\n",
    "fig.update_layout(\n",
    "    title='Gráfico de Dispersión por Categoría: Precio - Rating',\n",
    "    xaxis_title='Precio',\n",
    "    yaxis_title='Rating',\n",
    "    template='plotly_dark'\n",
    ")\n",
    "\n",
    "fig.show()"
   ]
  },
  {
   "cell_type": "code",
   "execution_count": 104,
   "metadata": {},
   "outputs": [
    {
     "data": {
      "application/vnd.plotly.v1+json": {
       "config": {
        "plotlyServerURL": "https://plot.ly"
       },
       "data": [
        {
         "mode": "markers",
         "name": "ASUS",
         "type": "scatter",
         "x": {
          "bdata": "VgK5A+sA/gNrABoAVgICANkCLwrVArkD4gGAAbkDLworAOsASADrAP8GewAKAFYC/wYMAIAAEwEMAGABKQDVAgEAlQAAAAEAlQDiAQEALwQ=",
          "dtype": "i2"
         },
         "y": {
          "bdata": "ZmZmZmZmEkAAAAAAAAASQAAAAAAAABJAAAAAAAAAEkDNzMzMzMwSQGZmZmZmZgZAZmZmZmZmEkAAAAAAAAAUQM3MzMzMzBJAzczMzMzMEkAAAAAAAAASQAAAAAAAABJAZmZmZmZmEkDNzMzMzMwSQAAAAAAAABJAzczMzMzMEkDNzMzMzMwSQAAAAAAAABJAAAAAAAAAEkAAAAAAAAASQM3MzMzMzBJAzczMzMzMEkAzMzMzMzMTQGZmZmZmZhJAzczMzMzMEkDNzMzMzMwSQJqZmZmZmRFAAAAAAAAAEkBmZmZmZmYSQDMzMzMzMxNAmpmZmZmZEUAAAAAAAAASQAAAAAAAABJAAAAAAAAAEkAAAAAAAAD4fwAAAAAAAOA/mpmZmZmZEUBmZmZmZmYSQAAAAAAAABJAAAAAAAAAEkA=",
          "dtype": "f8"
         }
        },
        {
         "mode": "markers",
         "name": "Procesadores",
         "type": "scatter",
         "x": {
          "bdata": "BwGkA60FXw88AKUAVQEdAAERIgGKAP0HAgUoAG4JgwBdAw8BIwBaAB8A",
          "dtype": "i2"
         },
         "y": {
          "bdata": "ZmZmZmZmEkAzMzMzMzMTQDMzMzMzMxNAMzMzMzMzE0BmZmZmZmYSQM3MzMzMzBJAzczMzMzMEkAzMzMzMzMTQDMzMzMzMxNAzczMzMzMEkAzMzMzMzMTQM3MzMzMzBJAMzMzMzMzE0CamZmZmZkTQM3MzMzMzBJAMzMzMzMzE0AzMzMzMzMTQM3MzMzMzBJAMzMzMzMzEUDNzMzMzMwSQJqZmZmZmRFA",
          "dtype": "f8"
         }
        },
        {
         "mode": "markers",
         "name": "Intel",
         "type": "scatter",
         "x": {
          "bdata": "GQFjASEBjABaAPQApQDJCNABtgCeADgARwC4ACQAcgANABkAIgAUAgUAiQE5AT8AEgAHAIIAPwAxAQAAHwNTASQA6wAIAAgAEwAJAIsC2gA=",
          "dtype": "i2"
         },
         "y": {
          "bdata": "zczMzMzMEkDNzMzMzMwSQGZmZmZmZhJAzczMzMzMEkAzMzMzMzMTQM3MzMzMzBJAAAAAAAAAEkAzMzMzMzMTQDMzMzMzMxNAzczMzMzMEkAzMzMzMzMTQDMzMzMzMxNAzczMzMzMEkDNzMzMzMwSQDMzMzMzMxNAAAAAAAAAEkAAAAAAAAASQAAAAAAAABJAmpmZmZmZEUAzMzMzMzMTQAAAAAAAABJAMzMzMzMzE0AzMzMzMzMTQM3MzMzMzBJAmpmZmZmZDUCamZmZmZkTQDMzMzMzMxNAZmZmZmZmEkAzMzMzMzMTQAAAAAAAAPh/zczMzMzMEkDNzMzMzMwSQGZmZmZmZhJAMzMzMzMzE0DNzMzMzMwMQGZmZmZmZgpAAAAAAAAAEkBmZmZmZmYSQM3MzMzMzBJAMzMzMzMzE0A=",
          "dtype": "f8"
         }
        },
        {
         "mode": "markers",
         "name": "Plus gold",
         "type": "scatter",
         "x": {
          "bdata": "IgA/AAgAWAVYBR8AHAAeAAEAAABYBQgAPwABAA0AAQA/ACYANwABACkA",
          "dtype": "i2"
         },
         "y": {
          "bdata": "MzMzMzMzE0AzMzMzMzMTQJqZmZmZmRNAzczMzMzMEkDNzMzMzMwSQM3MzMzMzBJAAAAAAAAAEkAAAAAAAAASQAAAAAAAABJAAAAAAAAA+H/NzMzMzMwSQJqZmZmZmRNAMzMzMzMzE0AAAAAAAAAUQGZmZmZmZhJAAAAAAAAAFEAzMzMzMzMTQM3MzMzMzBJAzczMzMzMEkAAAAAAAAASQM3MzMzMzBJA",
          "dtype": "f8"
         }
        },
        {
         "mode": "markers",
         "name": "Tarjetas de sonido",
         "type": "scatter",
         "x": {
          "bdata": "TgDtAAEAjABXANwCTQAjAAgAAAAYAAAAbgAEAA8ADAAAAAcAFABHABAAGQAGAAIABQAcAMgAAgAAANcAAAAAAAMABABEAA8AAAAAABgAAAA=",
          "dtype": "i2"
         },
         "y": {
          "bdata": "AAAAAAAAEkBmZmZmZmYSQAAAAAAAABRAzczMzMzMEkAAAAAAAAASQJqZmZmZmRFAZmZmZmZmEkBmZmZmZmYSQJqZmZmZmRFAAAAAAAAA+H8zMzMzMzMPQAAAAAAAAPh/MzMzMzMzEUBmZmZmZmYSQGZmZmZmZhJAAAAAAAAAEkAAAAAAAAD4f5qZmZmZmRNAZmZmZmZmEkAzMzMzMzMRQGZmZmZmZhBAzczMzMzMEkAzMzMzMzMLQAAAAAAAAAxAzczMzMzMEEBmZmZmZmYOQDMzMzMzMxFAAAAAAAAACEAAAAAAAAD4f5qZmZmZmRFAAAAAAAAA+H8AAAAAAAD4f5qZmZmZmQ1AmpmZmZmZEUAAAAAAAAAQQDMzMzMzMxNAAAAAAAAA+H8AAAAAAAD4fwAAAAAAABJAAAAAAAAA+H8=",
          "dtype": "f8"
         }
        },
        {
         "mode": "markers",
         "name": "Fuentes de alimentación",
         "type": "scatter",
         "x": {
          "bdata": "cQ8YARYCCAEBACAAOQA6AJIAOgBbAAEAPAAgAMABMgDAAUMAPwBJAAsAAAA=",
          "dtype": "i2"
         },
         "y": {
          "bdata": "zczMzMzMEkAzMzMzMzMTQM3MzMzMzBJAzczMzMzMEkAAAAAAAAAUQGZmZmZmZhJAzczMzMzMEkDNzMzMzMwSQDMzMzMzMxNAzczMzMzMEkAzMzMzMzMTQAAAAAAAABRAAAAAAAAAEkBmZmZmZmYSQDMzMzMzMxNAmpmZmZmZE0AzMzMzMzMTQJqZmZmZmRNAMzMzMzMzE0DNzMzMzMwSQGZmZmZmZhJAAAAAAAAA+H8=",
          "dtype": "f8"
         }
        },
        {
         "mode": "markers",
         "name": "Discos duros internos",
         "type": "scatter",
         "x": {
          "bdata": "8AI7AE0I8ALwAgAACwDwAo8AyAIpAGgAMwACAAkAAQAzAP4AJQACAAsADwAHAPACCAABAB8AEgAAAAAACAADADMAEwANABgAAQA=",
          "dtype": "i2"
         },
         "y": {
          "bdata": "ZmZmZmZmEkAAAAAAAAASQGZmZmZmZhJAZmZmZmZmEkBmZmZmZmYSQAAAAAAAAPh/AAAAAAAAEkBmZmZmZmYSQGZmZmZmZhJAZmZmZmZmEkCamZmZmZkRQGZmZmZmZhJAZmZmZmZmEkAAAAAAAAAIQJqZmZmZmRNAAAAAAAAAFEBmZmZmZmYSQGZmZmZmZhJAmpmZmZmZEUAzMzMzMzMTQJqZmZmZmRFAMzMzMzMzEUCamZmZmZkRQGZmZmZmZhJAZmZmZmZmEkAAAAAAAAASQGZmZmZmZhJAzczMzMzMEEAAAAAAAAD4fwAAAAAAAPh/ZmZmZmZmEkAAAAAAAAAUQGZmZmZmZhJAAAAAAAAAEkAAAAAAAAASQM3MzMzMzBJAAAAAAAAAFEA=",
          "dtype": "f8"
         }
        },
        {
         "mode": "markers",
         "name": "Capturadoras",
         "type": "scatter",
         "x": {
          "bdata": "rwAdARYADwBRAAwAEwQpAE8AAQAAAAoAAAAWAAAABgAAAD0AFwAEAAAACQAAAA==",
          "dtype": "i2"
         },
         "y": {
          "bdata": "AAAAAAAAEkCamZmZmZkRQDMzMzMzMxNAMzMzMzMzEUCamZmZmZkNQJqZmZmZmQ1AZmZmZmZmEECamZmZmZkRQDMzMzMzMxFAAAAAAAAAFEAAAAAAAAD4f5qZmZmZmRFAAAAAAAAA+H/NzMzMzMwQQAAAAAAAAPh/AAAAAAAAFEAAAAAAAAD4f2ZmZmZmZhBAmpmZmZmZDUBmZmZmZmYGQAAAAAAAAPh/ZmZmZmZmEEAAAAAAAAD4fw==",
          "dtype": "f8"
         }
        },
        {
         "mode": "markers",
         "name": "Discos duros",
         "type": "scatter",
         "x": {
          "bdata": "SQAOBukPsA9NCIoAlgMJErAPsA/BH3UELmJVB8gCoQJ1BC5ioAa4AaECsQCwAvcCLmKtAooAjwG4AQAAiwAAAJYD2wAAAAYBRgCgBpYDKQA=",
          "dtype": "i2"
         },
         "y": {
          "bdata": "ZmZmZmZmEkAzMzMzMzMTQM3MzMzMzBJAzczMzMzMEkAzMzMzMzMTQM3MzMzMzBJAMzMzMzMzE0DNzMzMzMwSQM3MzMzMzBJAzczMzMzMEkBmZmZmZmYSQDMzMzMzMxNAzczMzMzMEkDNzMzMzMwSQGZmZmZmZhJAzczMzMzMEkAzMzMzMzMTQM3MzMzMzBJAzczMzMzMEkAzMzMzMzMTQM3MzMzMzBJAMzMzMzMzE0DNzMzMzMwSQDMzMzMzMxNAzczMzMzMEkDNzMzMzMwSQM3MzMzMzBJAzczMzMzMEkAzMzMzMzMTQAAAAAAAAPh/zczMzMzMEkAAAAAAAAD4fzMzMzMzMxNAAAAAAAAAEkAAAAAAAAD4f83MzMzMzBJAzczMzMzMEkDNzMzMzMwSQDMzMzMzMxNAzczMzMzMEkA=",
          "dtype": "f8"
         }
        },
        {
         "mode": "markers",
         "name": "Arduino",
         "type": "scatter",
         "x": {
          "bdata": "AAAFAAAAAAMAAAAyAAAAAAEBAAAAAQAAAAAAAgEEAQIAAAQBAwICAg==",
          "dtype": "i1"
         },
         "y": {
          "bdata": "AAAAAAAA+H8AAAAAAAD4fwAAAAAAABRAAAAAAAAA+H8AAAAAAAD4fwAAAAAAAPh/AAAAAAAA+H/NzMzMzMwSQAAAAAAAAPh/AAAAAAAA+H8AAAAAAAD4f83MzMzMzBJAAAAAAAAA+H8AAAAAAAD4fwAAAAAAAPh/AAAAAAAA+H8AAAAAAAAUQAAAAAAAABRAAAAAAAAA+H8AAAAAAAD4fwAAAAAAAPh/AAAAAAAAFEAAAAAAAAD4fwAAAAAAAPh/AAAAAAAA+H8AAAAAAAD4fwAAAAAAAPh/AAAAAAAAFEAAAAAAAAAUQAAAAAAAABRAAAAAAAAAFEAAAAAAAAAQQAAAAAAAAPh/AAAAAAAA+H8zMzMzMzMTQAAAAAAAABRAAAAAAAAAFEAAAAAAAAAUQAAAAAAAABBAAAAAAAAAFEA=",
          "dtype": "f8"
         }
        },
        {
         "mode": "markers",
         "name": "RAM",
         "type": "scatter",
         "x": {
          "bdata": "CgClA/4AOxCoIaghXAA7EKUDpQMEBXcBCgBoBMgAEwMZAQ8AbgAvAAsAzACYAVYAEgBaAEQAvQFUAQkAqABCAH0AWQClAzMACQBKAxIAOQA=",
          "dtype": "i2"
         },
         "y": {
          "bdata": "MzMzMzMzE0DNzMzMzMwSQDMzMzMzMxNAMzMzMzMzE0AzMzMzMzMTQDMzMzMzMxNAzczMzMzMEkAzMzMzMzMTQM3MzMzMzBJAzczMzMzMEkAzMzMzMzMTQDMzMzMzMxNAMzMzMzMzE0AzMzMzMzMTQDMzMzMzMxNAMzMzMzMzE0DNzMzMzMwSQJqZmZmZmRNAzczMzMzMEkDNzMzMzMwSQGZmZmZmZhJAMzMzMzMzE0AzMzMzMzMTQM3MzMzMzBJAZmZmZmZmEkAzMzMzMzMTQM3MzMzMzBJAMzMzMzMzE0AzMzMzMzMTQJqZmZmZmRFAzczMzMzMEkDNzMzMzMwSQDMzMzMzMxNAAAAAAAAAEkDNzMzMzMwSQDMzMzMzMxNAmpmZmZmZEUAzMzMzMzMTQJqZmZmZmRNAzczMzMzMEkA=",
          "dtype": "f8"
         }
        },
        {
         "mode": "markers",
         "name": "Plus bronze",
         "type": "scatter",
         "x": {
          "bdata": "fAD5HjYCkwDXANsDSQVJBbAFsAVJBbAFSQVJBbAFSQWzALAF+R49AAcAJAD5Hl8AOACRAAAABAA+ABMACwAEAE8AHAAPAH8AlQAHAAcADAA=",
          "dtype": "i2"
         },
         "y": {
          "bdata": "ZmZmZmZmEkBmZmZmZmYSQGZmZmZmZhJAZmZmZmZmEkBmZmZmZmYSQM3MzMzMzBJAzczMzMzMEkDNzMzMzMwSQM3MzMzMzBJAzczMzMzMEkDNzMzMzMwSQM3MzMzMzBJAzczMzMzMEkDNzMzMzMwSQM3MzMzMzBJAzczMzMzMEkDNzMzMzMwSQM3MzMzMzBJAZmZmZmZmEkAzMzMzMzMTQDMzMzMzMxNAmpmZmZmZEUBmZmZmZmYSQM3MzMzMzBJAZmZmZmZmEkAAAAAAAAASQAAAAAAAAPh/MzMzMzMzE0BmZmZmZmYSQGZmZmZmZhJAZmZmZmZmEECamZmZmZkTQGZmZmZmZhJAZmZmZmZmEkAAAAAAAAAQQM3MzMzMzBJAZmZmZmZmEkAzMzMzMzMTQDMzMzMzMxNAAAAAAAAAEkA=",
          "dtype": "f8"
         }
        },
        {
         "mode": "markers",
         "name": "Grabadoras",
         "type": "scatter",
         "x": {
          "bdata": "fgUMAjIAaAXEAJsAjgALABEAbQACABAA7AIZAAMAFACuAAYANgAFAAMAigAHACIAHQALAAYAAQAcAA==",
          "dtype": "i2"
         },
         "y": {
          "bdata": "AAAAAAAAEkAAAAAAAAASQJqZmZmZmRFAAAAAAAAAEkAzMzMzMzMRQGZmZmZmZhJAAAAAAAAAEkAzMzMzMzMRQM3MzMzMzBJAAAAAAAAAEkAAAAAAAAAQQDMzMzMzMxFAAAAAAAAAEkDNzMzMzMwQQM3MzMzMzBJAMzMzMzMzD0AAAAAAAAASQM3MzMzMzBBAmpmZmZmZEUAAAAAAAAAUQDMzMzMzMxNAAAAAAAAAEkAAAAAAAAAQQM3MzMzMzBJAzczMzMzMEEAzMzMzMzMRQDMzMzMzMw9AAAAAAAAAFECamZmZmZkRQA==",
          "dtype": "f8"
         }
        },
        {
         "mode": "markers",
         "name": "Plus titanium",
         "type": "scatter",
         "x": {
          "bdata": "CAICDiwBAgEGAwAADAUGBQMCAAML",
          "dtype": "i1"
         },
         "y": {
          "bdata": "AAAAAAAAEkBmZmZmZmYGQAAAAAAAABRAmpmZmZmZE0AzMzMzMzMTQAAAAAAAABRAAAAAAAAAFEAAAAAAAAAUQJqZmZmZmRNAzczMzMzMEEAAAAAAAAD4fwAAAAAAAPh/MzMzMzMzE0AzMzMzMzMPQDMzMzMzMxNAMzMzMzMzE0DNzMzMzMwSQAAAAAAAABJAAAAAAAAA+H/NzMzMzMwSQDMzMzMzMxNA",
          "dtype": "f8"
         }
        }
       ],
       "layout": {
        "template": {
         "data": {
          "bar": [
           {
            "error_x": {
             "color": "#f2f5fa"
            },
            "error_y": {
             "color": "#f2f5fa"
            },
            "marker": {
             "line": {
              "color": "rgb(17,17,17)",
              "width": 0.5
             },
             "pattern": {
              "fillmode": "overlay",
              "size": 10,
              "solidity": 0.2
             }
            },
            "type": "bar"
           }
          ],
          "barpolar": [
           {
            "marker": {
             "line": {
              "color": "rgb(17,17,17)",
              "width": 0.5
             },
             "pattern": {
              "fillmode": "overlay",
              "size": 10,
              "solidity": 0.2
             }
            },
            "type": "barpolar"
           }
          ],
          "carpet": [
           {
            "aaxis": {
             "endlinecolor": "#A2B1C6",
             "gridcolor": "#506784",
             "linecolor": "#506784",
             "minorgridcolor": "#506784",
             "startlinecolor": "#A2B1C6"
            },
            "baxis": {
             "endlinecolor": "#A2B1C6",
             "gridcolor": "#506784",
             "linecolor": "#506784",
             "minorgridcolor": "#506784",
             "startlinecolor": "#A2B1C6"
            },
            "type": "carpet"
           }
          ],
          "choropleth": [
           {
            "colorbar": {
             "outlinewidth": 0,
             "ticks": ""
            },
            "type": "choropleth"
           }
          ],
          "contour": [
           {
            "colorbar": {
             "outlinewidth": 0,
             "ticks": ""
            },
            "colorscale": [
             [
              0,
              "#0d0887"
             ],
             [
              0.1111111111111111,
              "#46039f"
             ],
             [
              0.2222222222222222,
              "#7201a8"
             ],
             [
              0.3333333333333333,
              "#9c179e"
             ],
             [
              0.4444444444444444,
              "#bd3786"
             ],
             [
              0.5555555555555556,
              "#d8576b"
             ],
             [
              0.6666666666666666,
              "#ed7953"
             ],
             [
              0.7777777777777778,
              "#fb9f3a"
             ],
             [
              0.8888888888888888,
              "#fdca26"
             ],
             [
              1,
              "#f0f921"
             ]
            ],
            "type": "contour"
           }
          ],
          "contourcarpet": [
           {
            "colorbar": {
             "outlinewidth": 0,
             "ticks": ""
            },
            "type": "contourcarpet"
           }
          ],
          "heatmap": [
           {
            "colorbar": {
             "outlinewidth": 0,
             "ticks": ""
            },
            "colorscale": [
             [
              0,
              "#0d0887"
             ],
             [
              0.1111111111111111,
              "#46039f"
             ],
             [
              0.2222222222222222,
              "#7201a8"
             ],
             [
              0.3333333333333333,
              "#9c179e"
             ],
             [
              0.4444444444444444,
              "#bd3786"
             ],
             [
              0.5555555555555556,
              "#d8576b"
             ],
             [
              0.6666666666666666,
              "#ed7953"
             ],
             [
              0.7777777777777778,
              "#fb9f3a"
             ],
             [
              0.8888888888888888,
              "#fdca26"
             ],
             [
              1,
              "#f0f921"
             ]
            ],
            "type": "heatmap"
           }
          ],
          "histogram": [
           {
            "marker": {
             "pattern": {
              "fillmode": "overlay",
              "size": 10,
              "solidity": 0.2
             }
            },
            "type": "histogram"
           }
          ],
          "histogram2d": [
           {
            "colorbar": {
             "outlinewidth": 0,
             "ticks": ""
            },
            "colorscale": [
             [
              0,
              "#0d0887"
             ],
             [
              0.1111111111111111,
              "#46039f"
             ],
             [
              0.2222222222222222,
              "#7201a8"
             ],
             [
              0.3333333333333333,
              "#9c179e"
             ],
             [
              0.4444444444444444,
              "#bd3786"
             ],
             [
              0.5555555555555556,
              "#d8576b"
             ],
             [
              0.6666666666666666,
              "#ed7953"
             ],
             [
              0.7777777777777778,
              "#fb9f3a"
             ],
             [
              0.8888888888888888,
              "#fdca26"
             ],
             [
              1,
              "#f0f921"
             ]
            ],
            "type": "histogram2d"
           }
          ],
          "histogram2dcontour": [
           {
            "colorbar": {
             "outlinewidth": 0,
             "ticks": ""
            },
            "colorscale": [
             [
              0,
              "#0d0887"
             ],
             [
              0.1111111111111111,
              "#46039f"
             ],
             [
              0.2222222222222222,
              "#7201a8"
             ],
             [
              0.3333333333333333,
              "#9c179e"
             ],
             [
              0.4444444444444444,
              "#bd3786"
             ],
             [
              0.5555555555555556,
              "#d8576b"
             ],
             [
              0.6666666666666666,
              "#ed7953"
             ],
             [
              0.7777777777777778,
              "#fb9f3a"
             ],
             [
              0.8888888888888888,
              "#fdca26"
             ],
             [
              1,
              "#f0f921"
             ]
            ],
            "type": "histogram2dcontour"
           }
          ],
          "mesh3d": [
           {
            "colorbar": {
             "outlinewidth": 0,
             "ticks": ""
            },
            "type": "mesh3d"
           }
          ],
          "parcoords": [
           {
            "line": {
             "colorbar": {
              "outlinewidth": 0,
              "ticks": ""
             }
            },
            "type": "parcoords"
           }
          ],
          "pie": [
           {
            "automargin": true,
            "type": "pie"
           }
          ],
          "scatter": [
           {
            "marker": {
             "line": {
              "color": "#283442"
             }
            },
            "type": "scatter"
           }
          ],
          "scatter3d": [
           {
            "line": {
             "colorbar": {
              "outlinewidth": 0,
              "ticks": ""
             }
            },
            "marker": {
             "colorbar": {
              "outlinewidth": 0,
              "ticks": ""
             }
            },
            "type": "scatter3d"
           }
          ],
          "scattercarpet": [
           {
            "marker": {
             "colorbar": {
              "outlinewidth": 0,
              "ticks": ""
             }
            },
            "type": "scattercarpet"
           }
          ],
          "scattergeo": [
           {
            "marker": {
             "colorbar": {
              "outlinewidth": 0,
              "ticks": ""
             }
            },
            "type": "scattergeo"
           }
          ],
          "scattergl": [
           {
            "marker": {
             "line": {
              "color": "#283442"
             }
            },
            "type": "scattergl"
           }
          ],
          "scattermap": [
           {
            "marker": {
             "colorbar": {
              "outlinewidth": 0,
              "ticks": ""
             }
            },
            "type": "scattermap"
           }
          ],
          "scattermapbox": [
           {
            "marker": {
             "colorbar": {
              "outlinewidth": 0,
              "ticks": ""
             }
            },
            "type": "scattermapbox"
           }
          ],
          "scatterpolar": [
           {
            "marker": {
             "colorbar": {
              "outlinewidth": 0,
              "ticks": ""
             }
            },
            "type": "scatterpolar"
           }
          ],
          "scatterpolargl": [
           {
            "marker": {
             "colorbar": {
              "outlinewidth": 0,
              "ticks": ""
             }
            },
            "type": "scatterpolargl"
           }
          ],
          "scatterternary": [
           {
            "marker": {
             "colorbar": {
              "outlinewidth": 0,
              "ticks": ""
             }
            },
            "type": "scatterternary"
           }
          ],
          "surface": [
           {
            "colorbar": {
             "outlinewidth": 0,
             "ticks": ""
            },
            "colorscale": [
             [
              0,
              "#0d0887"
             ],
             [
              0.1111111111111111,
              "#46039f"
             ],
             [
              0.2222222222222222,
              "#7201a8"
             ],
             [
              0.3333333333333333,
              "#9c179e"
             ],
             [
              0.4444444444444444,
              "#bd3786"
             ],
             [
              0.5555555555555556,
              "#d8576b"
             ],
             [
              0.6666666666666666,
              "#ed7953"
             ],
             [
              0.7777777777777778,
              "#fb9f3a"
             ],
             [
              0.8888888888888888,
              "#fdca26"
             ],
             [
              1,
              "#f0f921"
             ]
            ],
            "type": "surface"
           }
          ],
          "table": [
           {
            "cells": {
             "fill": {
              "color": "#506784"
             },
             "line": {
              "color": "rgb(17,17,17)"
             }
            },
            "header": {
             "fill": {
              "color": "#2a3f5f"
             },
             "line": {
              "color": "rgb(17,17,17)"
             }
            },
            "type": "table"
           }
          ]
         },
         "layout": {
          "annotationdefaults": {
           "arrowcolor": "#f2f5fa",
           "arrowhead": 0,
           "arrowwidth": 1
          },
          "autotypenumbers": "strict",
          "coloraxis": {
           "colorbar": {
            "outlinewidth": 0,
            "ticks": ""
           }
          },
          "colorscale": {
           "diverging": [
            [
             0,
             "#8e0152"
            ],
            [
             0.1,
             "#c51b7d"
            ],
            [
             0.2,
             "#de77ae"
            ],
            [
             0.3,
             "#f1b6da"
            ],
            [
             0.4,
             "#fde0ef"
            ],
            [
             0.5,
             "#f7f7f7"
            ],
            [
             0.6,
             "#e6f5d0"
            ],
            [
             0.7,
             "#b8e186"
            ],
            [
             0.8,
             "#7fbc41"
            ],
            [
             0.9,
             "#4d9221"
            ],
            [
             1,
             "#276419"
            ]
           ],
           "sequential": [
            [
             0,
             "#0d0887"
            ],
            [
             0.1111111111111111,
             "#46039f"
            ],
            [
             0.2222222222222222,
             "#7201a8"
            ],
            [
             0.3333333333333333,
             "#9c179e"
            ],
            [
             0.4444444444444444,
             "#bd3786"
            ],
            [
             0.5555555555555556,
             "#d8576b"
            ],
            [
             0.6666666666666666,
             "#ed7953"
            ],
            [
             0.7777777777777778,
             "#fb9f3a"
            ],
            [
             0.8888888888888888,
             "#fdca26"
            ],
            [
             1,
             "#f0f921"
            ]
           ],
           "sequentialminus": [
            [
             0,
             "#0d0887"
            ],
            [
             0.1111111111111111,
             "#46039f"
            ],
            [
             0.2222222222222222,
             "#7201a8"
            ],
            [
             0.3333333333333333,
             "#9c179e"
            ],
            [
             0.4444444444444444,
             "#bd3786"
            ],
            [
             0.5555555555555556,
             "#d8576b"
            ],
            [
             0.6666666666666666,
             "#ed7953"
            ],
            [
             0.7777777777777778,
             "#fb9f3a"
            ],
            [
             0.8888888888888888,
             "#fdca26"
            ],
            [
             1,
             "#f0f921"
            ]
           ]
          },
          "colorway": [
           "#636efa",
           "#EF553B",
           "#00cc96",
           "#ab63fa",
           "#FFA15A",
           "#19d3f3",
           "#FF6692",
           "#B6E880",
           "#FF97FF",
           "#FECB52"
          ],
          "font": {
           "color": "#f2f5fa"
          },
          "geo": {
           "bgcolor": "rgb(17,17,17)",
           "lakecolor": "rgb(17,17,17)",
           "landcolor": "rgb(17,17,17)",
           "showlakes": true,
           "showland": true,
           "subunitcolor": "#506784"
          },
          "hoverlabel": {
           "align": "left"
          },
          "hovermode": "closest",
          "mapbox": {
           "style": "dark"
          },
          "paper_bgcolor": "rgb(17,17,17)",
          "plot_bgcolor": "rgb(17,17,17)",
          "polar": {
           "angularaxis": {
            "gridcolor": "#506784",
            "linecolor": "#506784",
            "ticks": ""
           },
           "bgcolor": "rgb(17,17,17)",
           "radialaxis": {
            "gridcolor": "#506784",
            "linecolor": "#506784",
            "ticks": ""
           }
          },
          "scene": {
           "xaxis": {
            "backgroundcolor": "rgb(17,17,17)",
            "gridcolor": "#506784",
            "gridwidth": 2,
            "linecolor": "#506784",
            "showbackground": true,
            "ticks": "",
            "zerolinecolor": "#C8D4E3"
           },
           "yaxis": {
            "backgroundcolor": "rgb(17,17,17)",
            "gridcolor": "#506784",
            "gridwidth": 2,
            "linecolor": "#506784",
            "showbackground": true,
            "ticks": "",
            "zerolinecolor": "#C8D4E3"
           },
           "zaxis": {
            "backgroundcolor": "rgb(17,17,17)",
            "gridcolor": "#506784",
            "gridwidth": 2,
            "linecolor": "#506784",
            "showbackground": true,
            "ticks": "",
            "zerolinecolor": "#C8D4E3"
           }
          },
          "shapedefaults": {
           "line": {
            "color": "#f2f5fa"
           }
          },
          "sliderdefaults": {
           "bgcolor": "#C8D4E3",
           "bordercolor": "rgb(17,17,17)",
           "borderwidth": 1,
           "tickwidth": 0
          },
          "ternary": {
           "aaxis": {
            "gridcolor": "#506784",
            "linecolor": "#506784",
            "ticks": ""
           },
           "baxis": {
            "gridcolor": "#506784",
            "linecolor": "#506784",
            "ticks": ""
           },
           "bgcolor": "rgb(17,17,17)",
           "caxis": {
            "gridcolor": "#506784",
            "linecolor": "#506784",
            "ticks": ""
           }
          },
          "title": {
           "x": 0.05
          },
          "updatemenudefaults": {
           "bgcolor": "#506784",
           "borderwidth": 0
          },
          "xaxis": {
           "automargin": true,
           "gridcolor": "#283442",
           "linecolor": "#506784",
           "ticks": "",
           "title": {
            "standoff": 15
           },
           "zerolinecolor": "#283442",
           "zerolinewidth": 2
          },
          "yaxis": {
           "automargin": true,
           "gridcolor": "#283442",
           "linecolor": "#506784",
           "ticks": "",
           "title": {
            "standoff": 15
           },
           "zerolinecolor": "#283442",
           "zerolinewidth": 2
          }
         }
        },
        "title": {
         "text": "Gráfico de Dispersión por Categoría: Opiniones - Rating"
        },
        "xaxis": {
         "title": {
          "text": "opiniones"
         }
        },
        "yaxis": {
         "title": {
          "text": "Rating"
         }
        }
       }
      }
     },
     "metadata": {},
     "output_type": "display_data"
    }
   ],
   "source": [
    "fig = go.Figure()\n",
    "\n",
    "for categoria in df_componentes['categoria'].unique():\n",
    "    df_filtrado = df_componentes[df_componentes['categoria'] == categoria]\n",
    "    fig.add_trace(go.Scatter(\n",
    "        x=df_filtrado['opiniones'],\n",
    "        y=df_filtrado['rating'],\n",
    "        mode='markers',\n",
    "        name=categoria\n",
    "    ))\n",
    "\n",
    "fig.update_layout(\n",
    "    title='Gráfico de Dispersión por Categoría: Opiniones - Rating',\n",
    "    xaxis_title='opiniones',\n",
    "    yaxis_title='Rating',\n",
    "    template='plotly_dark'\n",
    ")\n",
    "\n",
    "fig.show()"
   ]
  },
  {
   "cell_type": "code",
   "execution_count": 106,
   "metadata": {},
   "outputs": [],
   "source": [
    "df_componentes['descuento_%'] = (((df_componentes['precio'] - df_componentes['precio_tachado']) / df_componentes['precio']) * 100)*-1\n",
    "df_componentes['descuento_%'] = df_componentes['descuento_%'].round(2)\n",
    "df_componentes['descuento_%'] = df_componentes['descuento_%'].fillna(0)"
   ]
  },
  {
   "cell_type": "code",
   "execution_count": 107,
   "metadata": {},
   "outputs": [
    {
     "data": {
      "application/vnd.plotly.v1+json": {
       "config": {
        "plotlyServerURL": "https://plot.ly"
       },
       "data": [
        {
         "bingroup": "x",
         "hovertemplate": "categoria=ASUS<br>rating=%{x}<br>count=%{y}<extra></extra>",
         "legendgroup": "ASUS",
         "marker": {
          "color": "#636efa",
          "pattern": {
           "shape": ""
          }
         },
         "name": "ASUS",
         "orientation": "v",
         "showlegend": true,
         "type": "histogram",
         "x": {
          "bdata": "ZmZmZmZmEkAAAAAAAAASQAAAAAAAABJAAAAAAAAAEkDNzMzMzMwSQGZmZmZmZgZAZmZmZmZmEkAAAAAAAAAUQM3MzMzMzBJAzczMzMzMEkAAAAAAAAASQAAAAAAAABJAZmZmZmZmEkDNzMzMzMwSQAAAAAAAABJAzczMzMzMEkDNzMzMzMwSQAAAAAAAABJAAAAAAAAAEkAAAAAAAAASQM3MzMzMzBJAzczMzMzMEkAzMzMzMzMTQGZmZmZmZhJAzczMzMzMEkDNzMzMzMwSQJqZmZmZmRFAAAAAAAAAEkBmZmZmZmYSQDMzMzMzMxNAmpmZmZmZEUAAAAAAAAASQAAAAAAAABJAAAAAAAAAEkAAAAAAAAD4fwAAAAAAAOA/mpmZmZmZEUBmZmZmZmYSQAAAAAAAABJAAAAAAAAAEkA=",
          "dtype": "f8"
         },
         "xaxis": "x",
         "yaxis": "y"
        },
        {
         "bingroup": "x",
         "hovertemplate": "categoria=Procesadores<br>rating=%{x}<br>count=%{y}<extra></extra>",
         "legendgroup": "Procesadores",
         "marker": {
          "color": "#EF553B",
          "pattern": {
           "shape": ""
          }
         },
         "name": "Procesadores",
         "orientation": "v",
         "showlegend": true,
         "type": "histogram",
         "x": {
          "bdata": "ZmZmZmZmEkAzMzMzMzMTQDMzMzMzMxNAMzMzMzMzE0BmZmZmZmYSQM3MzMzMzBJAzczMzMzMEkAzMzMzMzMTQDMzMzMzMxNAzczMzMzMEkAzMzMzMzMTQM3MzMzMzBJAMzMzMzMzE0CamZmZmZkTQM3MzMzMzBJAMzMzMzMzE0AzMzMzMzMTQM3MzMzMzBJAMzMzMzMzEUDNzMzMzMwSQJqZmZmZmRFA",
          "dtype": "f8"
         },
         "xaxis": "x",
         "yaxis": "y"
        },
        {
         "bingroup": "x",
         "hovertemplate": "categoria=Intel<br>rating=%{x}<br>count=%{y}<extra></extra>",
         "legendgroup": "Intel",
         "marker": {
          "color": "#00cc96",
          "pattern": {
           "shape": ""
          }
         },
         "name": "Intel",
         "orientation": "v",
         "showlegend": true,
         "type": "histogram",
         "x": {
          "bdata": "zczMzMzMEkDNzMzMzMwSQGZmZmZmZhJAzczMzMzMEkAzMzMzMzMTQM3MzMzMzBJAAAAAAAAAEkAzMzMzMzMTQDMzMzMzMxNAzczMzMzMEkAzMzMzMzMTQDMzMzMzMxNAzczMzMzMEkDNzMzMzMwSQDMzMzMzMxNAAAAAAAAAEkAAAAAAAAASQAAAAAAAABJAmpmZmZmZEUAzMzMzMzMTQAAAAAAAABJAMzMzMzMzE0AzMzMzMzMTQM3MzMzMzBJAmpmZmZmZDUCamZmZmZkTQDMzMzMzMxNAZmZmZmZmEkAzMzMzMzMTQAAAAAAAAPh/zczMzMzMEkDNzMzMzMwSQGZmZmZmZhJAMzMzMzMzE0DNzMzMzMwMQGZmZmZmZgpAAAAAAAAAEkBmZmZmZmYSQM3MzMzMzBJAMzMzMzMzE0A=",
          "dtype": "f8"
         },
         "xaxis": "x",
         "yaxis": "y"
        },
        {
         "bingroup": "x",
         "hovertemplate": "categoria=Plus gold<br>rating=%{x}<br>count=%{y}<extra></extra>",
         "legendgroup": "Plus gold",
         "marker": {
          "color": "#ab63fa",
          "pattern": {
           "shape": ""
          }
         },
         "name": "Plus gold",
         "orientation": "v",
         "showlegend": true,
         "type": "histogram",
         "x": {
          "bdata": "MzMzMzMzE0AzMzMzMzMTQJqZmZmZmRNAzczMzMzMEkDNzMzMzMwSQM3MzMzMzBJAAAAAAAAAEkAAAAAAAAASQAAAAAAAABJAAAAAAAAA+H/NzMzMzMwSQJqZmZmZmRNAMzMzMzMzE0AAAAAAAAAUQGZmZmZmZhJAAAAAAAAAFEAzMzMzMzMTQM3MzMzMzBJAzczMzMzMEkAAAAAAAAASQM3MzMzMzBJA",
          "dtype": "f8"
         },
         "xaxis": "x",
         "yaxis": "y"
        },
        {
         "bingroup": "x",
         "hovertemplate": "categoria=Tarjetas de sonido<br>rating=%{x}<br>count=%{y}<extra></extra>",
         "legendgroup": "Tarjetas de sonido",
         "marker": {
          "color": "#FFA15A",
          "pattern": {
           "shape": ""
          }
         },
         "name": "Tarjetas de sonido",
         "orientation": "v",
         "showlegend": true,
         "type": "histogram",
         "x": {
          "bdata": "AAAAAAAAEkBmZmZmZmYSQAAAAAAAABRAzczMzMzMEkAAAAAAAAASQJqZmZmZmRFAZmZmZmZmEkBmZmZmZmYSQJqZmZmZmRFAAAAAAAAA+H8zMzMzMzMPQAAAAAAAAPh/MzMzMzMzEUBmZmZmZmYSQGZmZmZmZhJAAAAAAAAAEkAAAAAAAAD4f5qZmZmZmRNAZmZmZmZmEkAzMzMzMzMRQGZmZmZmZhBAzczMzMzMEkAzMzMzMzMLQAAAAAAAAAxAzczMzMzMEEBmZmZmZmYOQDMzMzMzMxFAAAAAAAAACEAAAAAAAAD4f5qZmZmZmRFAAAAAAAAA+H8AAAAAAAD4f5qZmZmZmQ1AmpmZmZmZEUAAAAAAAAAQQDMzMzMzMxNAAAAAAAAA+H8AAAAAAAD4fwAAAAAAABJAAAAAAAAA+H8=",
          "dtype": "f8"
         },
         "xaxis": "x",
         "yaxis": "y"
        },
        {
         "bingroup": "x",
         "hovertemplate": "categoria=Fuentes de alimentación<br>rating=%{x}<br>count=%{y}<extra></extra>",
         "legendgroup": "Fuentes de alimentación",
         "marker": {
          "color": "#19d3f3",
          "pattern": {
           "shape": ""
          }
         },
         "name": "Fuentes de alimentación",
         "orientation": "v",
         "showlegend": true,
         "type": "histogram",
         "x": {
          "bdata": "zczMzMzMEkAzMzMzMzMTQM3MzMzMzBJAzczMzMzMEkAAAAAAAAAUQGZmZmZmZhJAzczMzMzMEkDNzMzMzMwSQDMzMzMzMxNAzczMzMzMEkAzMzMzMzMTQAAAAAAAABRAAAAAAAAAEkBmZmZmZmYSQDMzMzMzMxNAmpmZmZmZE0AzMzMzMzMTQJqZmZmZmRNAMzMzMzMzE0DNzMzMzMwSQGZmZmZmZhJAAAAAAAAA+H8=",
          "dtype": "f8"
         },
         "xaxis": "x",
         "yaxis": "y"
        },
        {
         "bingroup": "x",
         "hovertemplate": "categoria=Discos duros internos<br>rating=%{x}<br>count=%{y}<extra></extra>",
         "legendgroup": "Discos duros internos",
         "marker": {
          "color": "#FF6692",
          "pattern": {
           "shape": ""
          }
         },
         "name": "Discos duros internos",
         "orientation": "v",
         "showlegend": true,
         "type": "histogram",
         "x": {
          "bdata": "ZmZmZmZmEkAAAAAAAAASQGZmZmZmZhJAZmZmZmZmEkBmZmZmZmYSQAAAAAAAAPh/AAAAAAAAEkBmZmZmZmYSQGZmZmZmZhJAZmZmZmZmEkCamZmZmZkRQGZmZmZmZhJAZmZmZmZmEkAAAAAAAAAIQJqZmZmZmRNAAAAAAAAAFEBmZmZmZmYSQGZmZmZmZhJAmpmZmZmZEUAzMzMzMzMTQJqZmZmZmRFAMzMzMzMzEUCamZmZmZkRQGZmZmZmZhJAZmZmZmZmEkAAAAAAAAASQGZmZmZmZhJAzczMzMzMEEAAAAAAAAD4fwAAAAAAAPh/ZmZmZmZmEkAAAAAAAAAUQGZmZmZmZhJAAAAAAAAAEkAAAAAAAAASQM3MzMzMzBJAAAAAAAAAFEA=",
          "dtype": "f8"
         },
         "xaxis": "x",
         "yaxis": "y"
        },
        {
         "bingroup": "x",
         "hovertemplate": "categoria=Capturadoras<br>rating=%{x}<br>count=%{y}<extra></extra>",
         "legendgroup": "Capturadoras",
         "marker": {
          "color": "#B6E880",
          "pattern": {
           "shape": ""
          }
         },
         "name": "Capturadoras",
         "orientation": "v",
         "showlegend": true,
         "type": "histogram",
         "x": {
          "bdata": "AAAAAAAAEkCamZmZmZkRQDMzMzMzMxNAMzMzMzMzEUCamZmZmZkNQJqZmZmZmQ1AZmZmZmZmEECamZmZmZkRQDMzMzMzMxFAAAAAAAAAFEAAAAAAAAD4f5qZmZmZmRFAAAAAAAAA+H/NzMzMzMwQQAAAAAAAAPh/AAAAAAAAFEAAAAAAAAD4f2ZmZmZmZhBAmpmZmZmZDUBmZmZmZmYGQAAAAAAAAPh/ZmZmZmZmEEAAAAAAAAD4fw==",
          "dtype": "f8"
         },
         "xaxis": "x",
         "yaxis": "y"
        },
        {
         "bingroup": "x",
         "hovertemplate": "categoria=Discos duros<br>rating=%{x}<br>count=%{y}<extra></extra>",
         "legendgroup": "Discos duros",
         "marker": {
          "color": "#FF97FF",
          "pattern": {
           "shape": ""
          }
         },
         "name": "Discos duros",
         "orientation": "v",
         "showlegend": true,
         "type": "histogram",
         "x": {
          "bdata": "ZmZmZmZmEkAzMzMzMzMTQM3MzMzMzBJAzczMzMzMEkAzMzMzMzMTQM3MzMzMzBJAMzMzMzMzE0DNzMzMzMwSQM3MzMzMzBJAzczMzMzMEkBmZmZmZmYSQDMzMzMzMxNAzczMzMzMEkDNzMzMzMwSQGZmZmZmZhJAzczMzMzMEkAzMzMzMzMTQM3MzMzMzBJAzczMzMzMEkAzMzMzMzMTQM3MzMzMzBJAMzMzMzMzE0DNzMzMzMwSQDMzMzMzMxNAzczMzMzMEkDNzMzMzMwSQM3MzMzMzBJAzczMzMzMEkAzMzMzMzMTQAAAAAAAAPh/zczMzMzMEkAAAAAAAAD4fzMzMzMzMxNAAAAAAAAAEkAAAAAAAAD4f83MzMzMzBJAzczMzMzMEkDNzMzMzMwSQDMzMzMzMxNAzczMzMzMEkA=",
          "dtype": "f8"
         },
         "xaxis": "x",
         "yaxis": "y"
        },
        {
         "bingroup": "x",
         "hovertemplate": "categoria=Arduino<br>rating=%{x}<br>count=%{y}<extra></extra>",
         "legendgroup": "Arduino",
         "marker": {
          "color": "#FECB52",
          "pattern": {
           "shape": ""
          }
         },
         "name": "Arduino",
         "orientation": "v",
         "showlegend": true,
         "type": "histogram",
         "x": {
          "bdata": "AAAAAAAA+H8AAAAAAAD4fwAAAAAAABRAAAAAAAAA+H8AAAAAAAD4fwAAAAAAAPh/AAAAAAAA+H/NzMzMzMwSQAAAAAAAAPh/AAAAAAAA+H8AAAAAAAD4f83MzMzMzBJAAAAAAAAA+H8AAAAAAAD4fwAAAAAAAPh/AAAAAAAA+H8AAAAAAAAUQAAAAAAAABRAAAAAAAAA+H8AAAAAAAD4fwAAAAAAAPh/AAAAAAAAFEAAAAAAAAD4fwAAAAAAAPh/AAAAAAAA+H8AAAAAAAD4fwAAAAAAAPh/AAAAAAAAFEAAAAAAAAAUQAAAAAAAABRAAAAAAAAAFEAAAAAAAAAQQAAAAAAAAPh/AAAAAAAA+H8zMzMzMzMTQAAAAAAAABRAAAAAAAAAFEAAAAAAAAAUQAAAAAAAABBAAAAAAAAAFEA=",
          "dtype": "f8"
         },
         "xaxis": "x",
         "yaxis": "y"
        },
        {
         "bingroup": "x",
         "hovertemplate": "categoria=RAM<br>rating=%{x}<br>count=%{y}<extra></extra>",
         "legendgroup": "RAM",
         "marker": {
          "color": "#636efa",
          "pattern": {
           "shape": ""
          }
         },
         "name": "RAM",
         "orientation": "v",
         "showlegend": true,
         "type": "histogram",
         "x": {
          "bdata": "MzMzMzMzE0DNzMzMzMwSQDMzMzMzMxNAMzMzMzMzE0AzMzMzMzMTQDMzMzMzMxNAzczMzMzMEkAzMzMzMzMTQM3MzMzMzBJAzczMzMzMEkAzMzMzMzMTQDMzMzMzMxNAMzMzMzMzE0AzMzMzMzMTQDMzMzMzMxNAMzMzMzMzE0DNzMzMzMwSQJqZmZmZmRNAzczMzMzMEkDNzMzMzMwSQGZmZmZmZhJAMzMzMzMzE0AzMzMzMzMTQM3MzMzMzBJAZmZmZmZmEkAzMzMzMzMTQM3MzMzMzBJAMzMzMzMzE0AzMzMzMzMTQJqZmZmZmRFAzczMzMzMEkDNzMzMzMwSQDMzMzMzMxNAAAAAAAAAEkDNzMzMzMwSQDMzMzMzMxNAmpmZmZmZEUAzMzMzMzMTQJqZmZmZmRNAzczMzMzMEkA=",
          "dtype": "f8"
         },
         "xaxis": "x",
         "yaxis": "y"
        },
        {
         "bingroup": "x",
         "hovertemplate": "categoria=Plus bronze<br>rating=%{x}<br>count=%{y}<extra></extra>",
         "legendgroup": "Plus bronze",
         "marker": {
          "color": "#EF553B",
          "pattern": {
           "shape": ""
          }
         },
         "name": "Plus bronze",
         "orientation": "v",
         "showlegend": true,
         "type": "histogram",
         "x": {
          "bdata": "ZmZmZmZmEkBmZmZmZmYSQGZmZmZmZhJAZmZmZmZmEkBmZmZmZmYSQM3MzMzMzBJAzczMzMzMEkDNzMzMzMwSQM3MzMzMzBJAzczMzMzMEkDNzMzMzMwSQM3MzMzMzBJAzczMzMzMEkDNzMzMzMwSQM3MzMzMzBJAzczMzMzMEkDNzMzMzMwSQM3MzMzMzBJAZmZmZmZmEkAzMzMzMzMTQDMzMzMzMxNAmpmZmZmZEUBmZmZmZmYSQM3MzMzMzBJAZmZmZmZmEkAAAAAAAAASQAAAAAAAAPh/MzMzMzMzE0BmZmZmZmYSQGZmZmZmZhJAZmZmZmZmEECamZmZmZkTQGZmZmZmZhJAZmZmZmZmEkAAAAAAAAAQQM3MzMzMzBJAZmZmZmZmEkAzMzMzMzMTQDMzMzMzMxNAAAAAAAAAEkA=",
          "dtype": "f8"
         },
         "xaxis": "x",
         "yaxis": "y"
        },
        {
         "bingroup": "x",
         "hovertemplate": "categoria=Grabadoras<br>rating=%{x}<br>count=%{y}<extra></extra>",
         "legendgroup": "Grabadoras",
         "marker": {
          "color": "#00cc96",
          "pattern": {
           "shape": ""
          }
         },
         "name": "Grabadoras",
         "orientation": "v",
         "showlegend": true,
         "type": "histogram",
         "x": {
          "bdata": "AAAAAAAAEkAAAAAAAAASQJqZmZmZmRFAAAAAAAAAEkAzMzMzMzMRQGZmZmZmZhJAAAAAAAAAEkAzMzMzMzMRQM3MzMzMzBJAAAAAAAAAEkAAAAAAAAAQQDMzMzMzMxFAAAAAAAAAEkDNzMzMzMwQQM3MzMzMzBJAMzMzMzMzD0AAAAAAAAASQM3MzMzMzBBAmpmZmZmZEUAAAAAAAAAUQDMzMzMzMxNAAAAAAAAAEkAAAAAAAAAQQM3MzMzMzBJAzczMzMzMEEAzMzMzMzMRQDMzMzMzMw9AAAAAAAAAFECamZmZmZkRQA==",
          "dtype": "f8"
         },
         "xaxis": "x",
         "yaxis": "y"
        },
        {
         "bingroup": "x",
         "hovertemplate": "categoria=Plus titanium<br>rating=%{x}<br>count=%{y}<extra></extra>",
         "legendgroup": "Plus titanium",
         "marker": {
          "color": "#ab63fa",
          "pattern": {
           "shape": ""
          }
         },
         "name": "Plus titanium",
         "orientation": "v",
         "showlegend": true,
         "type": "histogram",
         "x": {
          "bdata": "AAAAAAAAEkBmZmZmZmYGQAAAAAAAABRAmpmZmZmZE0AzMzMzMzMTQAAAAAAAABRAAAAAAAAAFEAAAAAAAAAUQJqZmZmZmRNAzczMzMzMEEAAAAAAAAD4fwAAAAAAAPh/MzMzMzMzE0AzMzMzMzMPQDMzMzMzMxNAMzMzMzMzE0DNzMzMzMwSQAAAAAAAABJAAAAAAAAA+H/NzMzMzMwSQDMzMzMzMxNA",
          "dtype": "f8"
         },
         "xaxis": "x",
         "yaxis": "y"
        }
       ],
       "layout": {
        "barmode": "relative",
        "legend": {
         "title": {
          "text": "categoria"
         },
         "tracegroupgap": 0
        },
        "template": {
         "data": {
          "bar": [
           {
            "error_x": {
             "color": "#f2f5fa"
            },
            "error_y": {
             "color": "#f2f5fa"
            },
            "marker": {
             "line": {
              "color": "rgb(17,17,17)",
              "width": 0.5
             },
             "pattern": {
              "fillmode": "overlay",
              "size": 10,
              "solidity": 0.2
             }
            },
            "type": "bar"
           }
          ],
          "barpolar": [
           {
            "marker": {
             "line": {
              "color": "rgb(17,17,17)",
              "width": 0.5
             },
             "pattern": {
              "fillmode": "overlay",
              "size": 10,
              "solidity": 0.2
             }
            },
            "type": "barpolar"
           }
          ],
          "carpet": [
           {
            "aaxis": {
             "endlinecolor": "#A2B1C6",
             "gridcolor": "#506784",
             "linecolor": "#506784",
             "minorgridcolor": "#506784",
             "startlinecolor": "#A2B1C6"
            },
            "baxis": {
             "endlinecolor": "#A2B1C6",
             "gridcolor": "#506784",
             "linecolor": "#506784",
             "minorgridcolor": "#506784",
             "startlinecolor": "#A2B1C6"
            },
            "type": "carpet"
           }
          ],
          "choropleth": [
           {
            "colorbar": {
             "outlinewidth": 0,
             "ticks": ""
            },
            "type": "choropleth"
           }
          ],
          "contour": [
           {
            "colorbar": {
             "outlinewidth": 0,
             "ticks": ""
            },
            "colorscale": [
             [
              0,
              "#0d0887"
             ],
             [
              0.1111111111111111,
              "#46039f"
             ],
             [
              0.2222222222222222,
              "#7201a8"
             ],
             [
              0.3333333333333333,
              "#9c179e"
             ],
             [
              0.4444444444444444,
              "#bd3786"
             ],
             [
              0.5555555555555556,
              "#d8576b"
             ],
             [
              0.6666666666666666,
              "#ed7953"
             ],
             [
              0.7777777777777778,
              "#fb9f3a"
             ],
             [
              0.8888888888888888,
              "#fdca26"
             ],
             [
              1,
              "#f0f921"
             ]
            ],
            "type": "contour"
           }
          ],
          "contourcarpet": [
           {
            "colorbar": {
             "outlinewidth": 0,
             "ticks": ""
            },
            "type": "contourcarpet"
           }
          ],
          "heatmap": [
           {
            "colorbar": {
             "outlinewidth": 0,
             "ticks": ""
            },
            "colorscale": [
             [
              0,
              "#0d0887"
             ],
             [
              0.1111111111111111,
              "#46039f"
             ],
             [
              0.2222222222222222,
              "#7201a8"
             ],
             [
              0.3333333333333333,
              "#9c179e"
             ],
             [
              0.4444444444444444,
              "#bd3786"
             ],
             [
              0.5555555555555556,
              "#d8576b"
             ],
             [
              0.6666666666666666,
              "#ed7953"
             ],
             [
              0.7777777777777778,
              "#fb9f3a"
             ],
             [
              0.8888888888888888,
              "#fdca26"
             ],
             [
              1,
              "#f0f921"
             ]
            ],
            "type": "heatmap"
           }
          ],
          "histogram": [
           {
            "marker": {
             "pattern": {
              "fillmode": "overlay",
              "size": 10,
              "solidity": 0.2
             }
            },
            "type": "histogram"
           }
          ],
          "histogram2d": [
           {
            "colorbar": {
             "outlinewidth": 0,
             "ticks": ""
            },
            "colorscale": [
             [
              0,
              "#0d0887"
             ],
             [
              0.1111111111111111,
              "#46039f"
             ],
             [
              0.2222222222222222,
              "#7201a8"
             ],
             [
              0.3333333333333333,
              "#9c179e"
             ],
             [
              0.4444444444444444,
              "#bd3786"
             ],
             [
              0.5555555555555556,
              "#d8576b"
             ],
             [
              0.6666666666666666,
              "#ed7953"
             ],
             [
              0.7777777777777778,
              "#fb9f3a"
             ],
             [
              0.8888888888888888,
              "#fdca26"
             ],
             [
              1,
              "#f0f921"
             ]
            ],
            "type": "histogram2d"
           }
          ],
          "histogram2dcontour": [
           {
            "colorbar": {
             "outlinewidth": 0,
             "ticks": ""
            },
            "colorscale": [
             [
              0,
              "#0d0887"
             ],
             [
              0.1111111111111111,
              "#46039f"
             ],
             [
              0.2222222222222222,
              "#7201a8"
             ],
             [
              0.3333333333333333,
              "#9c179e"
             ],
             [
              0.4444444444444444,
              "#bd3786"
             ],
             [
              0.5555555555555556,
              "#d8576b"
             ],
             [
              0.6666666666666666,
              "#ed7953"
             ],
             [
              0.7777777777777778,
              "#fb9f3a"
             ],
             [
              0.8888888888888888,
              "#fdca26"
             ],
             [
              1,
              "#f0f921"
             ]
            ],
            "type": "histogram2dcontour"
           }
          ],
          "mesh3d": [
           {
            "colorbar": {
             "outlinewidth": 0,
             "ticks": ""
            },
            "type": "mesh3d"
           }
          ],
          "parcoords": [
           {
            "line": {
             "colorbar": {
              "outlinewidth": 0,
              "ticks": ""
             }
            },
            "type": "parcoords"
           }
          ],
          "pie": [
           {
            "automargin": true,
            "type": "pie"
           }
          ],
          "scatter": [
           {
            "marker": {
             "line": {
              "color": "#283442"
             }
            },
            "type": "scatter"
           }
          ],
          "scatter3d": [
           {
            "line": {
             "colorbar": {
              "outlinewidth": 0,
              "ticks": ""
             }
            },
            "marker": {
             "colorbar": {
              "outlinewidth": 0,
              "ticks": ""
             }
            },
            "type": "scatter3d"
           }
          ],
          "scattercarpet": [
           {
            "marker": {
             "colorbar": {
              "outlinewidth": 0,
              "ticks": ""
             }
            },
            "type": "scattercarpet"
           }
          ],
          "scattergeo": [
           {
            "marker": {
             "colorbar": {
              "outlinewidth": 0,
              "ticks": ""
             }
            },
            "type": "scattergeo"
           }
          ],
          "scattergl": [
           {
            "marker": {
             "line": {
              "color": "#283442"
             }
            },
            "type": "scattergl"
           }
          ],
          "scattermap": [
           {
            "marker": {
             "colorbar": {
              "outlinewidth": 0,
              "ticks": ""
             }
            },
            "type": "scattermap"
           }
          ],
          "scattermapbox": [
           {
            "marker": {
             "colorbar": {
              "outlinewidth": 0,
              "ticks": ""
             }
            },
            "type": "scattermapbox"
           }
          ],
          "scatterpolar": [
           {
            "marker": {
             "colorbar": {
              "outlinewidth": 0,
              "ticks": ""
             }
            },
            "type": "scatterpolar"
           }
          ],
          "scatterpolargl": [
           {
            "marker": {
             "colorbar": {
              "outlinewidth": 0,
              "ticks": ""
             }
            },
            "type": "scatterpolargl"
           }
          ],
          "scatterternary": [
           {
            "marker": {
             "colorbar": {
              "outlinewidth": 0,
              "ticks": ""
             }
            },
            "type": "scatterternary"
           }
          ],
          "surface": [
           {
            "colorbar": {
             "outlinewidth": 0,
             "ticks": ""
            },
            "colorscale": [
             [
              0,
              "#0d0887"
             ],
             [
              0.1111111111111111,
              "#46039f"
             ],
             [
              0.2222222222222222,
              "#7201a8"
             ],
             [
              0.3333333333333333,
              "#9c179e"
             ],
             [
              0.4444444444444444,
              "#bd3786"
             ],
             [
              0.5555555555555556,
              "#d8576b"
             ],
             [
              0.6666666666666666,
              "#ed7953"
             ],
             [
              0.7777777777777778,
              "#fb9f3a"
             ],
             [
              0.8888888888888888,
              "#fdca26"
             ],
             [
              1,
              "#f0f921"
             ]
            ],
            "type": "surface"
           }
          ],
          "table": [
           {
            "cells": {
             "fill": {
              "color": "#506784"
             },
             "line": {
              "color": "rgb(17,17,17)"
             }
            },
            "header": {
             "fill": {
              "color": "#2a3f5f"
             },
             "line": {
              "color": "rgb(17,17,17)"
             }
            },
            "type": "table"
           }
          ]
         },
         "layout": {
          "annotationdefaults": {
           "arrowcolor": "#f2f5fa",
           "arrowhead": 0,
           "arrowwidth": 1
          },
          "autotypenumbers": "strict",
          "coloraxis": {
           "colorbar": {
            "outlinewidth": 0,
            "ticks": ""
           }
          },
          "colorscale": {
           "diverging": [
            [
             0,
             "#8e0152"
            ],
            [
             0.1,
             "#c51b7d"
            ],
            [
             0.2,
             "#de77ae"
            ],
            [
             0.3,
             "#f1b6da"
            ],
            [
             0.4,
             "#fde0ef"
            ],
            [
             0.5,
             "#f7f7f7"
            ],
            [
             0.6,
             "#e6f5d0"
            ],
            [
             0.7,
             "#b8e186"
            ],
            [
             0.8,
             "#7fbc41"
            ],
            [
             0.9,
             "#4d9221"
            ],
            [
             1,
             "#276419"
            ]
           ],
           "sequential": [
            [
             0,
             "#0d0887"
            ],
            [
             0.1111111111111111,
             "#46039f"
            ],
            [
             0.2222222222222222,
             "#7201a8"
            ],
            [
             0.3333333333333333,
             "#9c179e"
            ],
            [
             0.4444444444444444,
             "#bd3786"
            ],
            [
             0.5555555555555556,
             "#d8576b"
            ],
            [
             0.6666666666666666,
             "#ed7953"
            ],
            [
             0.7777777777777778,
             "#fb9f3a"
            ],
            [
             0.8888888888888888,
             "#fdca26"
            ],
            [
             1,
             "#f0f921"
            ]
           ],
           "sequentialminus": [
            [
             0,
             "#0d0887"
            ],
            [
             0.1111111111111111,
             "#46039f"
            ],
            [
             0.2222222222222222,
             "#7201a8"
            ],
            [
             0.3333333333333333,
             "#9c179e"
            ],
            [
             0.4444444444444444,
             "#bd3786"
            ],
            [
             0.5555555555555556,
             "#d8576b"
            ],
            [
             0.6666666666666666,
             "#ed7953"
            ],
            [
             0.7777777777777778,
             "#fb9f3a"
            ],
            [
             0.8888888888888888,
             "#fdca26"
            ],
            [
             1,
             "#f0f921"
            ]
           ]
          },
          "colorway": [
           "#636efa",
           "#EF553B",
           "#00cc96",
           "#ab63fa",
           "#FFA15A",
           "#19d3f3",
           "#FF6692",
           "#B6E880",
           "#FF97FF",
           "#FECB52"
          ],
          "font": {
           "color": "#f2f5fa"
          },
          "geo": {
           "bgcolor": "rgb(17,17,17)",
           "lakecolor": "rgb(17,17,17)",
           "landcolor": "rgb(17,17,17)",
           "showlakes": true,
           "showland": true,
           "subunitcolor": "#506784"
          },
          "hoverlabel": {
           "align": "left"
          },
          "hovermode": "closest",
          "mapbox": {
           "style": "dark"
          },
          "paper_bgcolor": "rgb(17,17,17)",
          "plot_bgcolor": "rgb(17,17,17)",
          "polar": {
           "angularaxis": {
            "gridcolor": "#506784",
            "linecolor": "#506784",
            "ticks": ""
           },
           "bgcolor": "rgb(17,17,17)",
           "radialaxis": {
            "gridcolor": "#506784",
            "linecolor": "#506784",
            "ticks": ""
           }
          },
          "scene": {
           "xaxis": {
            "backgroundcolor": "rgb(17,17,17)",
            "gridcolor": "#506784",
            "gridwidth": 2,
            "linecolor": "#506784",
            "showbackground": true,
            "ticks": "",
            "zerolinecolor": "#C8D4E3"
           },
           "yaxis": {
            "backgroundcolor": "rgb(17,17,17)",
            "gridcolor": "#506784",
            "gridwidth": 2,
            "linecolor": "#506784",
            "showbackground": true,
            "ticks": "",
            "zerolinecolor": "#C8D4E3"
           },
           "zaxis": {
            "backgroundcolor": "rgb(17,17,17)",
            "gridcolor": "#506784",
            "gridwidth": 2,
            "linecolor": "#506784",
            "showbackground": true,
            "ticks": "",
            "zerolinecolor": "#C8D4E3"
           }
          },
          "shapedefaults": {
           "line": {
            "color": "#f2f5fa"
           }
          },
          "sliderdefaults": {
           "bgcolor": "#C8D4E3",
           "bordercolor": "rgb(17,17,17)",
           "borderwidth": 1,
           "tickwidth": 0
          },
          "ternary": {
           "aaxis": {
            "gridcolor": "#506784",
            "linecolor": "#506784",
            "ticks": ""
           },
           "baxis": {
            "gridcolor": "#506784",
            "linecolor": "#506784",
            "ticks": ""
           },
           "bgcolor": "rgb(17,17,17)",
           "caxis": {
            "gridcolor": "#506784",
            "linecolor": "#506784",
            "ticks": ""
           }
          },
          "title": {
           "x": 0.05
          },
          "updatemenudefaults": {
           "bgcolor": "#506784",
           "borderwidth": 0
          },
          "xaxis": {
           "automargin": true,
           "gridcolor": "#283442",
           "linecolor": "#506784",
           "ticks": "",
           "title": {
            "standoff": 15
           },
           "zerolinecolor": "#283442",
           "zerolinewidth": 2
          },
          "yaxis": {
           "automargin": true,
           "gridcolor": "#283442",
           "linecolor": "#506784",
           "ticks": "",
           "title": {
            "standoff": 15
           },
           "zerolinecolor": "#283442",
           "zerolinewidth": 2
          }
         }
        },
        "title": {
         "text": "Histograma de Rating por Categoría"
        },
        "xaxis": {
         "anchor": "y",
         "domain": [
          0,
          1
         ],
         "title": {
          "text": "rating"
         }
        },
        "yaxis": {
         "anchor": "x",
         "domain": [
          0,
          1
         ],
         "title": {
          "text": "count"
         }
        }
       }
      }
     },
     "metadata": {},
     "output_type": "display_data"
    }
   ],
   "source": [
    "px.histogram(data_frame = df_componentes,\n",
    "             x          = \"rating\",\n",
    "             color      = \"categoria\",\n",
    "             title      = \"Histograma de Rating por Categoría\",\n",
    "             template   = \"plotly_dark\")"
   ]
  },
  {
   "cell_type": "code",
   "execution_count": 109,
   "metadata": {},
   "outputs": [
    {
     "data": {
      "application/vnd.plotly.v1+json": {
       "config": {
        "plotlyServerURL": "https://plot.ly"
       },
       "data": [
        {
         "hovertemplate": "categoria=ASUS<br>precio=%{x}<br>rating=%{y}<br>opiniones=%{z}<extra></extra>",
         "legendgroup": "ASUS",
         "marker": {
          "color": "#636efa",
          "symbol": "circle"
         },
         "mode": "markers",
         "name": "ASUS",
         "scene": "scene",
         "showlegend": true,
         "type": "scatter3d",
         "x": {
          "bdata": "AAAAAADAYEDNzMzMzKRqQGZmZmZmnmRAAAAAAADwXkBmZmZmZt5lQOF6FK5HqJhAAAAAAADAYEBI4XoUrn9rQKRwPQrX/3RAAAAAAABgZEC4HoXrUehYQOF6FK5HYW1ASOF6FK6fZkCuR+F6FCaQQEjhehSuf2ZAj8L1KFx/YUAK16NwPZyDQEjhehSu/2NAj8L1KFx/VkAK16NwPWJhQEjhehSuf2ZASOF6FK6fbkBI4XoUrl9uQAAAAAAAAF5AKVyPwvW4Y0BSuB6F6xl/QEjhehSuf2tAj8L1KFz/WEAzMzMzM3eFQKRwPQrXj4lAAAAAAAD4iEAAAAAAAABeQEjhehSuf2ZArkfhehSuUEBI4XoUrn9mQEjhehSu/2NApHA9Ctc/dUDNzMzMzExhQKRwPQrX33pArkfhehT+WEA=",
          "dtype": "f8"
         },
         "y": {
          "bdata": "ZmZmZmZmEkAAAAAAAAASQAAAAAAAABJAAAAAAAAAEkDNzMzMzMwSQGZmZmZmZgZAZmZmZmZmEkAAAAAAAAAUQM3MzMzMzBJAzczMzMzMEkAAAAAAAAASQAAAAAAAABJAZmZmZmZmEkDNzMzMzMwSQAAAAAAAABJAzczMzMzMEkDNzMzMzMwSQAAAAAAAABJAAAAAAAAAEkAAAAAAAAASQM3MzMzMzBJAzczMzMzMEkAzMzMzMzMTQGZmZmZmZhJAzczMzMzMEkDNzMzMzMwSQJqZmZmZmRFAAAAAAAAAEkBmZmZmZmYSQDMzMzMzMxNAmpmZmZmZEUAAAAAAAAASQAAAAAAAABJAAAAAAAAAEkAAAAAAAAD4fwAAAAAAAOA/mpmZmZmZEUBmZmZmZmYSQAAAAAAAABJAAAAAAAAAEkA=",
          "dtype": "f8"
         },
         "z": {
          "bdata": "VgK5A+sA/gNrABoAVgICANkCLwrVArkD4gGAAbkDLworAOsASADrAP8GewAKAFYC/wYMAIAAEwEMAGABKQDVAgEAlQAAAAEAlQDiAQEALwQ=",
          "dtype": "i2"
         }
        },
        {
         "hovertemplate": "categoria=Procesadores<br>precio=%{x}<br>rating=%{y}<br>opiniones=%{z}<extra></extra>",
         "legendgroup": "Procesadores",
         "marker": {
          "color": "#EF553B",
          "symbol": "circle"
         },
         "mode": "markers",
         "name": "Procesadores",
         "scene": "scene",
         "showlegend": true,
         "type": "scatter3d",
         "x": {
          "bdata": "Urgehet/gUBI4XoUrr9sQDMzMzMzP39ASOF6FK5/ZkAAAAAAAFB4QKRwPQrXn3BACtejcD3GdUAAAAAAAOiEQGZmZmZmHmJASOF6FK5/a0AAAAAAANiFQLgehetRKFZAAAAAAABwcUD2KFyPwu1+QAAAAAAAgGFAH4XrUbgugUBI4XoUrl9hQKRwPQrXn3lAAAAAAAAgcUCamZmZmfl0QAAAAAAAcHFA",
          "dtype": "f8"
         },
         "y": {
          "bdata": "ZmZmZmZmEkAzMzMzMzMTQDMzMzMzMxNAMzMzMzMzE0BmZmZmZmYSQM3MzMzMzBJAzczMzMzMEkAzMzMzMzMTQDMzMzMzMxNAzczMzMzMEkAzMzMzMzMTQM3MzMzMzBJAMzMzMzMzE0CamZmZmZkTQM3MzMzMzBJAMzMzMzMzE0AzMzMzMzMTQM3MzMzMzBJAMzMzMzMzEUDNzMzMzMwSQJqZmZmZmRFA",
          "dtype": "f8"
         },
         "z": {
          "bdata": "BwGkA60FXw88AKUAVQEdAAERIgGKAP0HAgUoAG4JgwBdAw8BIwBaAB8A",
          "dtype": "i2"
         }
        },
        {
         "hovertemplate": "categoria=Intel<br>precio=%{x}<br>rating=%{y}<br>opiniones=%{z}<extra></extra>",
         "legendgroup": "Intel",
         "marker": {
          "color": "#00cc96",
          "symbol": "circle"
         },
         "mode": "markers",
         "name": "Intel",
         "scene": "scene",
         "showlegend": true,
         "type": "scatter3d",
         "x": {
          "bdata": "SOF6FK6neUCuR+F6FH5jQGZmZmZmPm9AZmZmZmY+Y0BI4XoUrr9lQEjhehSuf2RAAAAAAACIgECPwvUoXH9eQEjhehSu/2ZApHA9CtdvekCkcD0K169zQNejcD0K33VAj8L1KFx/XkAzMzMzMyNVQKRwPQrX73xApHA9Ctfff0AAAAAAAOiEQFyPwvUoVGlApHA9Ctc/d0Bcj8L1KMRxQMP1KFyP2nRApHA9CtePcEB7FK5H4ZZ3QK5H4XoUpnFAmpmZmZnPiUCkcD0K1/98QEjhehSuX2tApHA9CtcfcUAzMzMzM/94QKRwPQrXb3NAmpmZmZkZYkCuR+F6FD5lQKRwPQrXr3ZAAAAAAAAogUBSuB6F66eDQDMzMzMzT4RAZmZmZma+YEA9CtejcL1WQClcj8L1nHNAXI/C9Sj0cUA=",
          "dtype": "f8"
         },
         "y": {
          "bdata": "zczMzMzMEkDNzMzMzMwSQGZmZmZmZhJAzczMzMzMEkAzMzMzMzMTQM3MzMzMzBJAAAAAAAAAEkAzMzMzMzMTQDMzMzMzMxNAzczMzMzMEkAzMzMzMzMTQDMzMzMzMxNAzczMzMzMEkDNzMzMzMwSQDMzMzMzMxNAAAAAAAAAEkAAAAAAAAASQAAAAAAAABJAmpmZmZmZEUAzMzMzMzMTQAAAAAAAABJAMzMzMzMzE0AzMzMzMzMTQM3MzMzMzBJAmpmZmZmZDUCamZmZmZkTQDMzMzMzMxNAZmZmZmZmEkAzMzMzMzMTQAAAAAAAAPh/zczMzMzMEkDNzMzMzMwSQGZmZmZmZhJAMzMzMzMzE0DNzMzMzMwMQGZmZmZmZgpAAAAAAAAAEkBmZmZmZmYSQM3MzMzMzBJAMzMzMzMzE0A=",
          "dtype": "f8"
         },
         "z": {
          "bdata": "GQFjASEBjABaAPQApQDJCNABtgCeADgARwC4ACQAcgANABkAIgAUAgUAiQE5AT8AEgAHAIIAPwAxAQAAHwNTASQA6wAIAAgAEwAJAIsC2gA=",
          "dtype": "i2"
         }
        },
        {
         "hovertemplate": "categoria=Plus gold<br>precio=%{x}<br>rating=%{y}<br>opiniones=%{z}<extra></extra>",
         "legendgroup": "Plus gold",
         "marker": {
          "color": "#ab63fa",
          "symbol": "circle"
         },
         "mode": "markers",
         "name": "Plus gold",
         "scene": "scene",
         "showlegend": true,
         "type": "scatter3d",
         "x": {
          "bdata": "16NwPQr3YkBxPQrXo8x6QIXrUbgeTWhAmpmZmZm5V0BI4XoUrp9iQGZmZmZmHmJAj8L1KFw/XUA9CtejcN1gQIXrUbge3WVApHA9CtcvfUCF61G4Hj1gQEjhehSub2NASOF6FK5/ZkCPwvUoXH9VQLgehetRMGdAj8L1KFw/W0CuR+F6FH5jQKRwPQrXo2FAzczMzMxcY0BSuB6F6wlkQHE9Ctej4GBA",
          "dtype": "f8"
         },
         "y": {
          "bdata": "MzMzMzMzE0AzMzMzMzMTQJqZmZmZmRNAzczMzMzMEkDNzMzMzMwSQM3MzMzMzBJAAAAAAAAAEkAAAAAAAAASQAAAAAAAABJAAAAAAAAA+H/NzMzMzMwSQJqZmZmZmRNAMzMzMzMzE0AAAAAAAAAUQGZmZmZmZhJAAAAAAAAAFEAzMzMzMzMTQM3MzMzMzBJAzczMzMzMEkAAAAAAAAASQM3MzMzMzBJA",
          "dtype": "f8"
         },
         "z": {
          "bdata": "IgA/AAgAWAVYBR8AHAAeAAEAAABYBQgAPwABAA0AAQA/ACYANwABACkA",
          "dtype": "i2"
         }
        },
        {
         "hovertemplate": "categoria=Tarjetas de sonido<br>precio=%{x}<br>rating=%{y}<br>opiniones=%{z}<extra></extra>",
         "legendgroup": "Tarjetas de sonido",
         "marker": {
          "color": "#FFA15A",
          "symbol": "circle"
         },
         "mode": "markers",
         "name": "Tarjetas de sonido",
         "scene": "scene",
         "showlegend": true,
         "type": "scatter3d",
         "x": {
          "bdata": "j8L1KFw/WkAzMzMzM/M1QB+F61G4XjNAzczMzMw8VUAfhetRuP5IQD0K16Nw/T9AZmZmZmZeYECuR+F6FN5qQIXrUbgehRVA16NwPQpnYEDXo3A9Ctc1QEjhehSuH2RAH4XrUbh+QkBcj8L1KFwaQFyPwvUoXBBAXI/C9ShcFECPwvUoXH9RQB+F61G4HgtArkfhehRuSUCPwvUoXI8RQOF6FK5HYSNAH4XrUbj+SkAfhetRuN5zQHE9CtejOGFAH4XrUbheVUA9CtejcP1PQFK4HoXr8UBASOF6FK53WEBI4XoUrt9gQAAAAAAAYE1Aj8L1KFy/ZkCPwvUoXP9aQB+F61G4HkFAuB6F61G4NEBcj8L1KFwSQI/C9Shcf19AUrgehesvgUBI4XoUrvdfQNejcD0Kx1RAUrgehetREkA=",
          "dtype": "f8"
         },
         "y": {
          "bdata": "AAAAAAAAEkBmZmZmZmYSQAAAAAAAABRAzczMzMzMEkAAAAAAAAASQJqZmZmZmRFAZmZmZmZmEkBmZmZmZmYSQJqZmZmZmRFAAAAAAAAA+H8zMzMzMzMPQAAAAAAAAPh/MzMzMzMzEUBmZmZmZmYSQGZmZmZmZhJAAAAAAAAAEkAAAAAAAAD4f5qZmZmZmRNAZmZmZmZmEkAzMzMzMzMRQGZmZmZmZhBAzczMzMzMEkAzMzMzMzMLQAAAAAAAAAxAzczMzMzMEEBmZmZmZmYOQDMzMzMzMxFAAAAAAAAACEAAAAAAAAD4f5qZmZmZmRFAAAAAAAAA+H8AAAAAAAD4f5qZmZmZmQ1AmpmZmZmZEUAAAAAAAAAQQDMzMzMzMxNAAAAAAAAA+H8AAAAAAAD4fwAAAAAAABJAAAAAAAAA+H8=",
          "dtype": "f8"
         },
         "z": {
          "bdata": "TgDtAAEAjABXANwCTQAjAAgAAAAYAAAAbgAEAA8ADAAAAAcAFABHABAAGQAGAAIABQAcAMgAAgAAANcAAAAAAAMABABEAA8AAAAAABgAAAA=",
          "dtype": "i2"
         }
        },
        {
         "hovertemplate": "categoria=Fuentes de alimentación<br>precio=%{x}<br>rating=%{y}<br>opiniones=%{z}<extra></extra>",
         "legendgroup": "Fuentes de alimentación",
         "marker": {
          "color": "#19d3f3",
          "symbol": "circle"
         },
         "mode": "markers",
         "name": "Fuentes de alimentación",
         "scene": "scene",
         "showlegend": true,
         "type": "scatter3d",
         "x": {
          "bdata": "H4XrUbj+QECPwvUoXH9hQBSuR+F6nGBAKVyPwvVIWUDNzMzMzPxdQEjhehSuv2dAj8L1KFw/X0ApXI/C9dBqQEjhehSu32BA16NwPQrXZ0DNzMzMzDxlQI/C9Shcf1tAj8L1KFy/WEBI4XoUrj9lQM3MzMzMfFxACtejcD0OdEAAAAAAAMBgQM3MzMzM3GlArkfhehRma0DNzMzMzDxvQI/C9ShcZ2tASOF6FK7/Y0A=",
          "dtype": "f8"
         },
         "y": {
          "bdata": "zczMzMzMEkAzMzMzMzMTQM3MzMzMzBJAzczMzMzMEkAAAAAAAAAUQGZmZmZmZhJAzczMzMzMEkDNzMzMzMwSQDMzMzMzMxNAzczMzMzMEkAzMzMzMzMTQAAAAAAAABRAAAAAAAAAEkBmZmZmZmYSQDMzMzMzMxNAmpmZmZmZE0AzMzMzMzMTQJqZmZmZmRNAMzMzMzMzE0DNzMzMzMwSQGZmZmZmZhJAAAAAAAAA+H8=",
          "dtype": "f8"
         },
         "z": {
          "bdata": "cQ8YARYCCAEBACAAOQA6AJIAOgBbAAEAPAAgAMABMgDAAUMAPwBJAAsAAAA=",
          "dtype": "i2"
         }
        },
        {
         "hovertemplate": "categoria=Discos duros internos<br>precio=%{x}<br>rating=%{y}<br>opiniones=%{z}<extra></extra>",
         "legendgroup": "Discos duros internos",
         "marker": {
          "color": "#FF6692",
          "symbol": "circle"
         },
         "mode": "markers",
         "name": "Discos duros internos",
         "scene": "scene",
         "showlegend": true,
         "type": "scatter3d",
         "x": {
          "bdata": "uB6F61HYX0CamZmZmZ1xQM3MzMzMjFlAAAAAAABgZkAAAAAAAOBtQAAAAAAAMH9ASOF6FK6vd0AAAAAAAMR1QKRwPQrX/3hA4XoUrkeRZUDNzMzMzDxYQI/C9Shc/1hAZmZmZmZ+bkBSuB6F681wQEjhehSuH2VApHA9Ctc/d0AAAAAAABiCQFK4HoXr8WNApHA9CteveUBmZmZmZh5uQAAAAAAAkHVAAAAAAABgeEBI4XoUrt9pQDMzMzMz73FApHA9Ctfvc0CF61G4Hj1sQGZmZmZmvmdApHA9CtfveUAAAAAAAEB8QGZmZmZm7n1ApHA9Ctf3f0CkcD0K1w9zQEjhehSuX2RAAAAAAABoa0BI4XoUrj9tQMP1KFyP2mpAXI/C9SjMbEA=",
          "dtype": "f8"
         },
         "y": {
          "bdata": "ZmZmZmZmEkAAAAAAAAASQGZmZmZmZhJAZmZmZmZmEkBmZmZmZmYSQAAAAAAAAPh/AAAAAAAAEkBmZmZmZmYSQGZmZmZmZhJAZmZmZmZmEkCamZmZmZkRQGZmZmZmZhJAZmZmZmZmEkAAAAAAAAAIQJqZmZmZmRNAAAAAAAAAFEBmZmZmZmYSQGZmZmZmZhJAmpmZmZmZEUAzMzMzMzMTQJqZmZmZmRFAMzMzMzMzEUCamZmZmZkRQGZmZmZmZhJAZmZmZmZmEkAAAAAAAAASQGZmZmZmZhJAzczMzMzMEEAAAAAAAAD4fwAAAAAAAPh/ZmZmZmZmEkAAAAAAAAAUQGZmZmZmZhJAAAAAAAAAEkAAAAAAAAASQM3MzMzMzBJAAAAAAAAAFEA=",
          "dtype": "f8"
         },
         "z": {
          "bdata": "8AI7AE0I8ALwAgAACwDwAo8AyAIpAGgAMwACAAkAAQAzAP4AJQACAAsADwAHAPACCAABAB8AEgAAAAAACAADADMAEwANABgAAQA=",
          "dtype": "i2"
         }
        },
        {
         "hovertemplate": "categoria=Capturadoras<br>precio=%{x}<br>rating=%{y}<br>opiniones=%{z}<extra></extra>",
         "legendgroup": "Capturadoras",
         "marker": {
          "color": "#B6E880",
          "symbol": "circle"
         },
         "mode": "markers",
         "name": "Capturadoras",
         "scene": "scene",
         "showlegend": true,
         "type": "scatter3d",
         "x": {
          "bdata": "SOF6FK6/ZEAfhetRuP5WQAAAAAAAwHJAAAAAAAAAXkAfhetRuP5WQB+F61G4/kNAmpmZmZmZH0BxPQrXo/AxQM3MzMzMzCFASOF6FK4/b0BI4XoUrv9sQFyPwvUo1GFAzczMzMzEY0AAAAAAAGBmQGZmZmZmPnBApHA9CtdraEDNzMzMzOiGQPYoXI/C/WNASOF6FK4fbUBxPQrXo+B4QM3MzMzMPGBAexSuR+H6OEDNzMzMzMwhQA==",
          "dtype": "f8"
         },
         "y": {
          "bdata": "AAAAAAAAEkCamZmZmZkRQDMzMzMzMxNAMzMzMzMzEUCamZmZmZkNQJqZmZmZmQ1AZmZmZmZmEECamZmZmZkRQDMzMzMzMxFAAAAAAAAAFEAAAAAAAAD4f5qZmZmZmRFAAAAAAAAA+H/NzMzMzMwQQAAAAAAAAPh/AAAAAAAAFEAAAAAAAAD4f2ZmZmZmZhBAmpmZmZmZDUBmZmZmZmYGQAAAAAAAAPh/ZmZmZmZmEEAAAAAAAAD4fw==",
          "dtype": "f8"
         },
         "z": {
          "bdata": "rwAdARYADwBRAAwAEwQpAE8AAQAAAAoAAAAWAAAABgAAAD0AFwAEAAAACQAAAA==",
          "dtype": "i2"
         }
        },
        {
         "hovertemplate": "categoria=Discos duros<br>precio=%{x}<br>rating=%{y}<br>opiniones=%{z}<extra></extra>",
         "legendgroup": "Discos duros",
         "marker": {
          "color": "#FF97FF",
          "symbol": "circle"
         },
         "mode": "markers",
         "name": "Discos duros",
         "scene": "scene",
         "showlegend": true,
         "type": "scatter3d",
         "x": {
          "bdata": "XI/C9Sg8VUAfhetRuL5eQM3MzMzMPFBAzczMzMx8UUCuR+F6FH5SQB+F61G4/ktASOF6FK6/ZECamZmZmflJQM3MzMzMPFtAUrgeheuRS0BmZmZmZiZQQI/C9Shcf1dAH4XrUbj+QECPwvUoXH9VQFyPwvUoPF1AH4XrUbheTEBI4XoUrt9jQAAAAAAAgExAH4XrUbh+T0BI4XoUrn9jQIXrUbgeJVVAzczMzMx8XEA9CtejcH1OQB+F61G4PltAPQrXo3D9PUCPwvUoXH9QQB+F61G4fkRASOF6FK7fZECPwvUoXH9XQI/C9Shc73BA7FG4HoX7WECuR+F6FF5lQI/C9Shcv3NA9ihcj8JtaUCPwvUoXH9fQI/C9Shcf1VAj8L1KFw/V0A9CtejcP0zQJqZmZmZKV9Aj8L1KFx/X0A=",
          "dtype": "f8"
         },
         "y": {
          "bdata": "ZmZmZmZmEkAzMzMzMzMTQM3MzMzMzBJAzczMzMzMEkAzMzMzMzMTQM3MzMzMzBJAMzMzMzMzE0DNzMzMzMwSQM3MzMzMzBJAzczMzMzMEkBmZmZmZmYSQDMzMzMzMxNAzczMzMzMEkDNzMzMzMwSQGZmZmZmZhJAzczMzMzMEkAzMzMzMzMTQM3MzMzMzBJAzczMzMzMEkAzMzMzMzMTQM3MzMzMzBJAMzMzMzMzE0DNzMzMzMwSQDMzMzMzMxNAzczMzMzMEkDNzMzMzMwSQM3MzMzMzBJAzczMzMzMEkAzMzMzMzMTQAAAAAAAAPh/zczMzMzMEkAAAAAAAAD4fzMzMzMzMxNAAAAAAAAAEkAAAAAAAAD4f83MzMzMzBJAzczMzMzMEkDNzMzMzMwSQDMzMzMzMxNAzczMzMzMEkA=",
          "dtype": "f8"
         },
         "z": {
          "bdata": "SQAOBukPsA9NCIoAlgMJErAPsA/BH3UELmJVB8gCoQJ1BC5ioAa4AaECsQCwAvcCLmKtAooAjwG4AQAAiwAAAJYD2wAAAAYBRgCgBpYDKQA=",
          "dtype": "i2"
         }
        },
        {
         "hovertemplate": "categoria=Arduino<br>precio=%{x}<br>rating=%{y}<br>opiniones=%{z}<extra></extra>",
         "legendgroup": "Arduino",
         "marker": {
          "color": "#FECB52",
          "symbol": "circle"
         },
         "mode": "markers",
         "name": "Arduino",
         "scene": "scene",
         "showlegend": true,
         "type": "scatter3d",
         "x": {
          "bdata": "PQrXo3AdQECF61G4HoUVQKRwPQrXowhAMzMzMzODdkBI4XoUrkdlQEjhehSuR2VAMzMzMzPDZkCuR+F6FKZhQFyPwvUo7FRAw/UoXI9CRkAAAAAAAEBnQEjhehSuR2VAexSuR+ESaEA9CtejcD0YQGZmZmZmZhlAUrgehetRGkBSuB6F61EaQJqZmZmZmRdAFK5H4XoUN0CF61G4HoUYQJqZmZmZmRlA16NwPQrXF0AK16NwPQouQPYoXI/C9RhA4XoUrkchOUAAAAAAAAAZQNejcD0K1xlAH4XrUbj+RUAAAAAAAABHQI/C9Shc/1hAj8L1KFw/UkC4HoXrUbgjQFyPwvUoXANAXI/C9Shc8z9cj8L1KFwDQFyPwvUoXANAhetRuB6FH0DXo3A9CtcLQOxRuB6F6xNA7FG4HoXrD0A=",
          "dtype": "f8"
         },
         "y": {
          "bdata": "AAAAAAAA+H8AAAAAAAD4fwAAAAAAABRAAAAAAAAA+H8AAAAAAAD4fwAAAAAAAPh/AAAAAAAA+H/NzMzMzMwSQAAAAAAAAPh/AAAAAAAA+H8AAAAAAAD4f83MzMzMzBJAAAAAAAAA+H8AAAAAAAD4fwAAAAAAAPh/AAAAAAAA+H8AAAAAAAAUQAAAAAAAABRAAAAAAAAA+H8AAAAAAAD4fwAAAAAAAPh/AAAAAAAAFEAAAAAAAAD4fwAAAAAAAPh/AAAAAAAA+H8AAAAAAAD4fwAAAAAAAPh/AAAAAAAAFEAAAAAAAAAUQAAAAAAAABRAAAAAAAAAFEAAAAAAAAAQQAAAAAAAAPh/AAAAAAAA+H8zMzMzMzMTQAAAAAAAABRAAAAAAAAAFEAAAAAAAAAUQAAAAAAAABBAAAAAAAAAFEA=",
          "dtype": "f8"
         },
         "z": {
          "bdata": "AAAFAAAAAAMAAAAyAAAAAAEBAAAAAQAAAAAAAgEEAQIAAAQBAwICAg==",
          "dtype": "i1"
         }
        },
        {
         "hovertemplate": "categoria=RAM<br>precio=%{x}<br>rating=%{y}<br>opiniones=%{z}<extra></extra>",
         "legendgroup": "RAM",
         "marker": {
          "color": "#636efa",
          "symbol": "circle"
         },
         "mode": "markers",
         "name": "RAM",
         "scene": "scene",
         "showlegend": true,
         "type": "scatter3d",
         "x": {
          "bdata": "j8L1KFx/X0CPwvUoXH9bQB+F61G4vlxAmpmZmZk5UECamZmZmXlDQJqZmZmZ+U9ASOF6FK7/bUAfhetRuH5DQI/C9Shc/15AAAAAAAAgbkCPwvUoXP9SQI/C9ShcP11AH4XrUbj+X0DNzMzMzPxQQNejcD0KB2FAj8L1KFx/WkAAAAAAAMBQQEjhehSuv2ZAMzMzMzPzXUCamZmZmXlHQKRwPQrXQ19Aj8L1KFw/WkDsUbgehestQDMzMzMzC2BASOF6FK5fbUCPwvUoXD9dQEjhehSuH3BAcT0K16NAWECkcD0K16NAQEjhehSuf2tA4XoUrkfBQUApXI/C9fBgQBSuR+F65FBAj8L1KFz/WUBI4XoUrp9mQB+F61G4vl5Aj8L1KFx/W0CPwvUoXA8yQFK4HoXr9XRAZmZmZmYOcUA=",
          "dtype": "f8"
         },
         "y": {
          "bdata": "MzMzMzMzE0DNzMzMzMwSQDMzMzMzMxNAMzMzMzMzE0AzMzMzMzMTQDMzMzMzMxNAzczMzMzMEkAzMzMzMzMTQM3MzMzMzBJAzczMzMzMEkAzMzMzMzMTQDMzMzMzMxNAMzMzMzMzE0AzMzMzMzMTQDMzMzMzMxNAMzMzMzMzE0DNzMzMzMwSQJqZmZmZmRNAzczMzMzMEkDNzMzMzMwSQGZmZmZmZhJAMzMzMzMzE0AzMzMzMzMTQM3MzMzMzBJAZmZmZmZmEkAzMzMzMzMTQM3MzMzMzBJAMzMzMzMzE0AzMzMzMzMTQJqZmZmZmRFAzczMzMzMEkDNzMzMzMwSQDMzMzMzMxNAAAAAAAAAEkDNzMzMzMwSQDMzMzMzMxNAmpmZmZmZEUAzMzMzMzMTQJqZmZmZmRNAzczMzMzMEkA=",
          "dtype": "f8"
         },
         "z": {
          "bdata": "CgClA/4AOxCoIaghXAA7EKUDpQMEBXcBCgBoBMgAEwMZAQ8AbgAvAAsAzACYAVYAEgBaAEQAvQFUAQkAqABCAH0AWQClAzMACQBKAxIAOQA=",
          "dtype": "i2"
         }
        },
        {
         "hovertemplate": "categoria=Plus bronze<br>precio=%{x}<br>rating=%{y}<br>opiniones=%{z}<extra></extra>",
         "legendgroup": "Plus bronze",
         "marker": {
          "color": "#EF553B",
          "symbol": "circle"
         },
         "mode": "markers",
         "name": "Plus bronze",
         "scene": "scene",
         "showlegend": true,
         "type": "scatter3d",
         "x": {
          "bdata": "H4XrUbj+RkDD9Shcj6JOQJqZmZmZOVFAH4XrUbj+SEAfhetRuP5NQB+F61G4/ktAH4XrUbh+S0AfhetRuP5HQB+F61G4fktAH4XrUbj+Q0A9CtejcH1OQB+F61G4fktAj8L1KFw/UEAfhetRuH5LQAAAAAAAAEZAH4XrUbh+RkAfhetRuH5GQB+F61G4fkZAMzMzMzNzSkCPwvUoXD9UQAAAAAAAQFNA9ihcj8J1VUBSuB6F63FFQI/C9Shc/1BArkfhehQuP0CamZmZmVlHQB+F61G4PkFAFK5H4Xr0QUBmZmZmZmZeQKRwPQrX01JA4XoUrkdBWkCPwvUoXN9YQPYoXI/ClVdASOF6FK6XU0DNzMzMzFxSQKRwPQrXA1JArkfhehQ+V0A9CtejcG1XQArXo3A9ClxAKVyPwvV4UEA=",
          "dtype": "f8"
         },
         "y": {
          "bdata": "ZmZmZmZmEkBmZmZmZmYSQGZmZmZmZhJAZmZmZmZmEkBmZmZmZmYSQM3MzMzMzBJAzczMzMzMEkDNzMzMzMwSQM3MzMzMzBJAzczMzMzMEkDNzMzMzMwSQM3MzMzMzBJAzczMzMzMEkDNzMzMzMwSQM3MzMzMzBJAzczMzMzMEkDNzMzMzMwSQM3MzMzMzBJAZmZmZmZmEkAzMzMzMzMTQDMzMzMzMxNAmpmZmZmZEUBmZmZmZmYSQM3MzMzMzBJAZmZmZmZmEkAAAAAAAAASQAAAAAAAAPh/MzMzMzMzE0BmZmZmZmYSQGZmZmZmZhJAZmZmZmZmEECamZmZmZkTQGZmZmZmZhJAZmZmZmZmEkAAAAAAAAAQQM3MzMzMzBJAZmZmZmZmEkAzMzMzMzMTQDMzMzMzMxNAAAAAAAAAEkA=",
          "dtype": "f8"
         },
         "z": {
          "bdata": "fAD5HjYCkwDXANsDSQVJBbAFsAVJBbAFSQVJBbAFSQWzALAF+R49AAcAJAD5Hl8AOACRAAAABAA+ABMACwAEAE8AHAAPAH8AlQAHAAcADAA=",
          "dtype": "i2"
         }
        },
        {
         "hovertemplate": "categoria=Grabadoras<br>precio=%{x}<br>rating=%{y}<br>opiniones=%{z}<extra></extra>",
         "legendgroup": "Grabadoras",
         "marker": {
          "color": "#00cc96",
          "symbol": "circle"
         },
         "mode": "markers",
         "name": "Grabadoras",
         "scene": "scene",
         "showlegend": true,
         "type": "scatter3d",
         "x": {
          "bdata": "PQrXo3B9QEA9CtejcP00QD0K16Nw/TtAPQrXo3B9QEAUrkfhenRIQM3MzMzMfFhACtejcD3KRUBcj8L1KHxbQHE9CtejUGVA9ihcj8JFZkDhehSuR4FGQClcj8L16EZASOF6FK7HLUAAAAAAAGBJQHE9CtejoFdAUrgehetRWkDhehSuR+FFQArXo3A9ykVACtejcD3KRUAzMzMzM9NTQLgehetR0GZApHA9CteDRUDsUbgehctLQD0K16NwnUJApHA9CtfjRkBmZmZmZoZKQI/C9ShcP11AXI/C9SicUUB7FK5H4QpUQA==",
          "dtype": "f8"
         },
         "y": {
          "bdata": "AAAAAAAAEkAAAAAAAAASQJqZmZmZmRFAAAAAAAAAEkAzMzMzMzMRQGZmZmZmZhJAAAAAAAAAEkAzMzMzMzMRQM3MzMzMzBJAAAAAAAAAEkAAAAAAAAAQQDMzMzMzMxFAAAAAAAAAEkDNzMzMzMwQQM3MzMzMzBJAMzMzMzMzD0AAAAAAAAASQM3MzMzMzBBAmpmZmZmZEUAAAAAAAAAUQDMzMzMzMxNAAAAAAAAAEkAAAAAAAAAQQM3MzMzMzBJAzczMzMzMEEAzMzMzMzMRQDMzMzMzMw9AAAAAAAAAFECamZmZmZkRQA==",
          "dtype": "f8"
         },
         "z": {
          "bdata": "fgUMAjIAaAXEAJsAjgALABEAbQACABAA7AIZAAMAFACuAAYANgAFAAMAigAHACIAHQALAAYAAQAcAA==",
          "dtype": "i2"
         }
        },
        {
         "hovertemplate": "categoria=Plus titanium<br>precio=%{x}<br>rating=%{y}<br>opiniones=%{z}<extra></extra>",
         "legendgroup": "Plus titanium",
         "marker": {
          "color": "#ab63fa",
          "symbol": "circle"
         },
         "mode": "markers",
         "name": "Plus titanium",
         "scene": "scene",
         "showlegend": true,
         "type": "scatter3d",
         "x": {
          "bdata": "7FG4HoWzdUAK16NwPTp8QClcj8L1pH5A9ihcj8I7hUAAAAAAABCBQHE9Ctej/HRApHA9Ctcff0AAAAAAAPBsQNejcD0Kf3FAPQrXo3ARfEBI4XoUrlN7QLgehetRD5BAmpmZmZnhc0AzMzMzM+d+QKRwPQrXHYNASOF6FK6/bkDD9Shcj8p1QOF6FK5HbX1AcT0K16NQbUAfhetRuFZ4QBSuR+F6iHhA",
          "dtype": "f8"
         },
         "y": {
          "bdata": "AAAAAAAAEkBmZmZmZmYGQAAAAAAAABRAmpmZmZmZE0AzMzMzMzMTQAAAAAAAABRAAAAAAAAAFEAAAAAAAAAUQJqZmZmZmRNAzczMzMzMEEAAAAAAAAD4fwAAAAAAAPh/MzMzMzMzE0AzMzMzMzMPQDMzMzMzMxNAMzMzMzMzE0DNzMzMzMwSQAAAAAAAABJAAAAAAAAA+H/NzMzMzMwSQDMzMzMzMxNA",
          "dtype": "f8"
         },
         "z": {
          "bdata": "CAICDiwBAgEGAwAADAUGBQMCAAML",
          "dtype": "i1"
         }
        }
       ],
       "layout": {
        "legend": {
         "title": {
          "text": "categoria"
         },
         "tracegroupgap": 0
        },
        "margin": {
         "t": 60
        },
        "scene": {
         "domain": {
          "x": [
           0,
           1
          ],
          "y": [
           0,
           1
          ]
         },
         "xaxis": {
          "title": {
           "text": "precio"
          }
         },
         "yaxis": {
          "title": {
           "text": "rating"
          }
         },
         "zaxis": {
          "title": {
           "text": "opiniones"
          }
         }
        },
        "template": {
         "data": {
          "bar": [
           {
            "error_x": {
             "color": "#2a3f5f"
            },
            "error_y": {
             "color": "#2a3f5f"
            },
            "marker": {
             "line": {
              "color": "#E5ECF6",
              "width": 0.5
             },
             "pattern": {
              "fillmode": "overlay",
              "size": 10,
              "solidity": 0.2
             }
            },
            "type": "bar"
           }
          ],
          "barpolar": [
           {
            "marker": {
             "line": {
              "color": "#E5ECF6",
              "width": 0.5
             },
             "pattern": {
              "fillmode": "overlay",
              "size": 10,
              "solidity": 0.2
             }
            },
            "type": "barpolar"
           }
          ],
          "carpet": [
           {
            "aaxis": {
             "endlinecolor": "#2a3f5f",
             "gridcolor": "white",
             "linecolor": "white",
             "minorgridcolor": "white",
             "startlinecolor": "#2a3f5f"
            },
            "baxis": {
             "endlinecolor": "#2a3f5f",
             "gridcolor": "white",
             "linecolor": "white",
             "minorgridcolor": "white",
             "startlinecolor": "#2a3f5f"
            },
            "type": "carpet"
           }
          ],
          "choropleth": [
           {
            "colorbar": {
             "outlinewidth": 0,
             "ticks": ""
            },
            "type": "choropleth"
           }
          ],
          "contour": [
           {
            "colorbar": {
             "outlinewidth": 0,
             "ticks": ""
            },
            "colorscale": [
             [
              0,
              "#0d0887"
             ],
             [
              0.1111111111111111,
              "#46039f"
             ],
             [
              0.2222222222222222,
              "#7201a8"
             ],
             [
              0.3333333333333333,
              "#9c179e"
             ],
             [
              0.4444444444444444,
              "#bd3786"
             ],
             [
              0.5555555555555556,
              "#d8576b"
             ],
             [
              0.6666666666666666,
              "#ed7953"
             ],
             [
              0.7777777777777778,
              "#fb9f3a"
             ],
             [
              0.8888888888888888,
              "#fdca26"
             ],
             [
              1,
              "#f0f921"
             ]
            ],
            "type": "contour"
           }
          ],
          "contourcarpet": [
           {
            "colorbar": {
             "outlinewidth": 0,
             "ticks": ""
            },
            "type": "contourcarpet"
           }
          ],
          "heatmap": [
           {
            "colorbar": {
             "outlinewidth": 0,
             "ticks": ""
            },
            "colorscale": [
             [
              0,
              "#0d0887"
             ],
             [
              0.1111111111111111,
              "#46039f"
             ],
             [
              0.2222222222222222,
              "#7201a8"
             ],
             [
              0.3333333333333333,
              "#9c179e"
             ],
             [
              0.4444444444444444,
              "#bd3786"
             ],
             [
              0.5555555555555556,
              "#d8576b"
             ],
             [
              0.6666666666666666,
              "#ed7953"
             ],
             [
              0.7777777777777778,
              "#fb9f3a"
             ],
             [
              0.8888888888888888,
              "#fdca26"
             ],
             [
              1,
              "#f0f921"
             ]
            ],
            "type": "heatmap"
           }
          ],
          "histogram": [
           {
            "marker": {
             "pattern": {
              "fillmode": "overlay",
              "size": 10,
              "solidity": 0.2
             }
            },
            "type": "histogram"
           }
          ],
          "histogram2d": [
           {
            "colorbar": {
             "outlinewidth": 0,
             "ticks": ""
            },
            "colorscale": [
             [
              0,
              "#0d0887"
             ],
             [
              0.1111111111111111,
              "#46039f"
             ],
             [
              0.2222222222222222,
              "#7201a8"
             ],
             [
              0.3333333333333333,
              "#9c179e"
             ],
             [
              0.4444444444444444,
              "#bd3786"
             ],
             [
              0.5555555555555556,
              "#d8576b"
             ],
             [
              0.6666666666666666,
              "#ed7953"
             ],
             [
              0.7777777777777778,
              "#fb9f3a"
             ],
             [
              0.8888888888888888,
              "#fdca26"
             ],
             [
              1,
              "#f0f921"
             ]
            ],
            "type": "histogram2d"
           }
          ],
          "histogram2dcontour": [
           {
            "colorbar": {
             "outlinewidth": 0,
             "ticks": ""
            },
            "colorscale": [
             [
              0,
              "#0d0887"
             ],
             [
              0.1111111111111111,
              "#46039f"
             ],
             [
              0.2222222222222222,
              "#7201a8"
             ],
             [
              0.3333333333333333,
              "#9c179e"
             ],
             [
              0.4444444444444444,
              "#bd3786"
             ],
             [
              0.5555555555555556,
              "#d8576b"
             ],
             [
              0.6666666666666666,
              "#ed7953"
             ],
             [
              0.7777777777777778,
              "#fb9f3a"
             ],
             [
              0.8888888888888888,
              "#fdca26"
             ],
             [
              1,
              "#f0f921"
             ]
            ],
            "type": "histogram2dcontour"
           }
          ],
          "mesh3d": [
           {
            "colorbar": {
             "outlinewidth": 0,
             "ticks": ""
            },
            "type": "mesh3d"
           }
          ],
          "parcoords": [
           {
            "line": {
             "colorbar": {
              "outlinewidth": 0,
              "ticks": ""
             }
            },
            "type": "parcoords"
           }
          ],
          "pie": [
           {
            "automargin": true,
            "type": "pie"
           }
          ],
          "scatter": [
           {
            "fillpattern": {
             "fillmode": "overlay",
             "size": 10,
             "solidity": 0.2
            },
            "type": "scatter"
           }
          ],
          "scatter3d": [
           {
            "line": {
             "colorbar": {
              "outlinewidth": 0,
              "ticks": ""
             }
            },
            "marker": {
             "colorbar": {
              "outlinewidth": 0,
              "ticks": ""
             }
            },
            "type": "scatter3d"
           }
          ],
          "scattercarpet": [
           {
            "marker": {
             "colorbar": {
              "outlinewidth": 0,
              "ticks": ""
             }
            },
            "type": "scattercarpet"
           }
          ],
          "scattergeo": [
           {
            "marker": {
             "colorbar": {
              "outlinewidth": 0,
              "ticks": ""
             }
            },
            "type": "scattergeo"
           }
          ],
          "scattergl": [
           {
            "marker": {
             "colorbar": {
              "outlinewidth": 0,
              "ticks": ""
             }
            },
            "type": "scattergl"
           }
          ],
          "scattermap": [
           {
            "marker": {
             "colorbar": {
              "outlinewidth": 0,
              "ticks": ""
             }
            },
            "type": "scattermap"
           }
          ],
          "scattermapbox": [
           {
            "marker": {
             "colorbar": {
              "outlinewidth": 0,
              "ticks": ""
             }
            },
            "type": "scattermapbox"
           }
          ],
          "scatterpolar": [
           {
            "marker": {
             "colorbar": {
              "outlinewidth": 0,
              "ticks": ""
             }
            },
            "type": "scatterpolar"
           }
          ],
          "scatterpolargl": [
           {
            "marker": {
             "colorbar": {
              "outlinewidth": 0,
              "ticks": ""
             }
            },
            "type": "scatterpolargl"
           }
          ],
          "scatterternary": [
           {
            "marker": {
             "colorbar": {
              "outlinewidth": 0,
              "ticks": ""
             }
            },
            "type": "scatterternary"
           }
          ],
          "surface": [
           {
            "colorbar": {
             "outlinewidth": 0,
             "ticks": ""
            },
            "colorscale": [
             [
              0,
              "#0d0887"
             ],
             [
              0.1111111111111111,
              "#46039f"
             ],
             [
              0.2222222222222222,
              "#7201a8"
             ],
             [
              0.3333333333333333,
              "#9c179e"
             ],
             [
              0.4444444444444444,
              "#bd3786"
             ],
             [
              0.5555555555555556,
              "#d8576b"
             ],
             [
              0.6666666666666666,
              "#ed7953"
             ],
             [
              0.7777777777777778,
              "#fb9f3a"
             ],
             [
              0.8888888888888888,
              "#fdca26"
             ],
             [
              1,
              "#f0f921"
             ]
            ],
            "type": "surface"
           }
          ],
          "table": [
           {
            "cells": {
             "fill": {
              "color": "#EBF0F8"
             },
             "line": {
              "color": "white"
             }
            },
            "header": {
             "fill": {
              "color": "#C8D4E3"
             },
             "line": {
              "color": "white"
             }
            },
            "type": "table"
           }
          ]
         },
         "layout": {
          "annotationdefaults": {
           "arrowcolor": "#2a3f5f",
           "arrowhead": 0,
           "arrowwidth": 1
          },
          "autotypenumbers": "strict",
          "coloraxis": {
           "colorbar": {
            "outlinewidth": 0,
            "ticks": ""
           }
          },
          "colorscale": {
           "diverging": [
            [
             0,
             "#8e0152"
            ],
            [
             0.1,
             "#c51b7d"
            ],
            [
             0.2,
             "#de77ae"
            ],
            [
             0.3,
             "#f1b6da"
            ],
            [
             0.4,
             "#fde0ef"
            ],
            [
             0.5,
             "#f7f7f7"
            ],
            [
             0.6,
             "#e6f5d0"
            ],
            [
             0.7,
             "#b8e186"
            ],
            [
             0.8,
             "#7fbc41"
            ],
            [
             0.9,
             "#4d9221"
            ],
            [
             1,
             "#276419"
            ]
           ],
           "sequential": [
            [
             0,
             "#0d0887"
            ],
            [
             0.1111111111111111,
             "#46039f"
            ],
            [
             0.2222222222222222,
             "#7201a8"
            ],
            [
             0.3333333333333333,
             "#9c179e"
            ],
            [
             0.4444444444444444,
             "#bd3786"
            ],
            [
             0.5555555555555556,
             "#d8576b"
            ],
            [
             0.6666666666666666,
             "#ed7953"
            ],
            [
             0.7777777777777778,
             "#fb9f3a"
            ],
            [
             0.8888888888888888,
             "#fdca26"
            ],
            [
             1,
             "#f0f921"
            ]
           ],
           "sequentialminus": [
            [
             0,
             "#0d0887"
            ],
            [
             0.1111111111111111,
             "#46039f"
            ],
            [
             0.2222222222222222,
             "#7201a8"
            ],
            [
             0.3333333333333333,
             "#9c179e"
            ],
            [
             0.4444444444444444,
             "#bd3786"
            ],
            [
             0.5555555555555556,
             "#d8576b"
            ],
            [
             0.6666666666666666,
             "#ed7953"
            ],
            [
             0.7777777777777778,
             "#fb9f3a"
            ],
            [
             0.8888888888888888,
             "#fdca26"
            ],
            [
             1,
             "#f0f921"
            ]
           ]
          },
          "colorway": [
           "#636efa",
           "#EF553B",
           "#00cc96",
           "#ab63fa",
           "#FFA15A",
           "#19d3f3",
           "#FF6692",
           "#B6E880",
           "#FF97FF",
           "#FECB52"
          ],
          "font": {
           "color": "#2a3f5f"
          },
          "geo": {
           "bgcolor": "white",
           "lakecolor": "white",
           "landcolor": "#E5ECF6",
           "showlakes": true,
           "showland": true,
           "subunitcolor": "white"
          },
          "hoverlabel": {
           "align": "left"
          },
          "hovermode": "closest",
          "mapbox": {
           "style": "light"
          },
          "paper_bgcolor": "white",
          "plot_bgcolor": "#E5ECF6",
          "polar": {
           "angularaxis": {
            "gridcolor": "white",
            "linecolor": "white",
            "ticks": ""
           },
           "bgcolor": "#E5ECF6",
           "radialaxis": {
            "gridcolor": "white",
            "linecolor": "white",
            "ticks": ""
           }
          },
          "scene": {
           "xaxis": {
            "backgroundcolor": "#E5ECF6",
            "gridcolor": "white",
            "gridwidth": 2,
            "linecolor": "white",
            "showbackground": true,
            "ticks": "",
            "zerolinecolor": "white"
           },
           "yaxis": {
            "backgroundcolor": "#E5ECF6",
            "gridcolor": "white",
            "gridwidth": 2,
            "linecolor": "white",
            "showbackground": true,
            "ticks": "",
            "zerolinecolor": "white"
           },
           "zaxis": {
            "backgroundcolor": "#E5ECF6",
            "gridcolor": "white",
            "gridwidth": 2,
            "linecolor": "white",
            "showbackground": true,
            "ticks": "",
            "zerolinecolor": "white"
           }
          },
          "shapedefaults": {
           "line": {
            "color": "#2a3f5f"
           }
          },
          "ternary": {
           "aaxis": {
            "gridcolor": "white",
            "linecolor": "white",
            "ticks": ""
           },
           "baxis": {
            "gridcolor": "white",
            "linecolor": "white",
            "ticks": ""
           },
           "bgcolor": "#E5ECF6",
           "caxis": {
            "gridcolor": "white",
            "linecolor": "white",
            "ticks": ""
           }
          },
          "title": {
           "x": 0.05
          },
          "xaxis": {
           "automargin": true,
           "gridcolor": "white",
           "linecolor": "white",
           "ticks": "",
           "title": {
            "standoff": 15
           },
           "zerolinecolor": "white",
           "zerolinewidth": 2
          },
          "yaxis": {
           "automargin": true,
           "gridcolor": "white",
           "linecolor": "white",
           "ticks": "",
           "title": {
            "standoff": 15
           },
           "zerolinecolor": "white",
           "zerolinewidth": 2
          }
         }
        }
       }
      }
     },
     "metadata": {},
     "output_type": "display_data"
    }
   ],
   "source": [
    "px.scatter_3d(data_frame = df_componentes,\n",
    "              x          = \"precio\",\n",
    "              y          = \"rating\",\n",
    "              z          = \"opiniones\",\n",
    "              color      = \"categoria\"\n",
    "              )"
   ]
  },
  {
   "cell_type": "code",
   "execution_count": 111,
   "metadata": {},
   "outputs": [
    {
     "data": {
      "application/vnd.plotly.v1+json": {
       "config": {
        "plotlyServerURL": "https://plot.ly"
       },
       "data": [
        {
         "bingroup": "x",
         "hovertemplate": "categoria=ASUS<br>descuento_%=%{x}<br>count=%{y}<extra></extra>",
         "legendgroup": "ASUS",
         "marker": {
          "color": "#636efa",
          "pattern": {
           "shape": ""
          }
         },
         "name": "ASUS",
         "orientation": "v",
         "showlegend": true,
         "type": "histogram",
         "x": {
          "bdata": "j8L1KFwPN0AAAAAAAIA5QAAAAAAAAAAAUrgeheuRNkAAAAAAAAAAAAAAAAAAAAAAAAAAAAAAAADNzMzMzIwzQM3MzMzMDDNAmpmZmZkZLkAAAAAAAAAAAIXrUbgeRTRAAAAAAAAAJUAAAAAAAAAAAHsUrkfhmkpAmpmZmZmZKUCamZmZmRknQMP1KFyPQkdAhetRuB4FJEBmZmZmZmYfQOxRuB6FKztAMzMzMzNzNkAAAAAAAAAAAOxRuB6FKzhASOF6FK6HP0ApXI/C9agkQJqZmZmZWUxAzczMzMxMMkAAAAAAAAAAAAAAAAAAAAAAAAAAAAAAAAApXI/C9agvQLgehetROCZAw/UoXI8COEAAAAAAAAAuQHE9CtejcEJAhetRuB4FOEAAAAAAAAAAAOF6FK5HITJAAAAAAAAAAAA=",
          "dtype": "f8"
         },
         "xaxis": "x",
         "yaxis": "y"
        },
        {
         "bingroup": "x",
         "hovertemplate": "categoria=Procesadores<br>descuento_%=%{x}<br>count=%{y}<extra></extra>",
         "legendgroup": "Procesadores",
         "marker": {
          "color": "#EF553B",
          "pattern": {
           "shape": ""
          }
         },
         "name": "Procesadores",
         "orientation": "v",
         "showlegend": true,
         "type": "histogram",
         "x": {
          "bdata": "16NwPQr3QEBSuB6F65FNQOF6FK5HAURA4XoUrkdZaUAAAAAAAAAAAAAAAAAAAAAAKVyPwvUIREDsUbgeheskQM3MzMzM7GNAmpmZmZkZPUBSuB6F61E2QAAAAAAAUFxAPQrXo3B1YkAAAAAAAAAAANejcD0K919AAAAAAADAS0CF61G4HkVRQBSuR+F61E9AH4XrUbieJkBI4XoUrkc1QIXrUbgehR9A",
          "dtype": "f8"
         },
         "xaxis": "x",
         "yaxis": "y"
        },
        {
         "bingroup": "x",
         "hovertemplate": "categoria=Intel<br>descuento_%=%{x}<br>count=%{y}<extra></extra>",
         "legendgroup": "Intel",
         "marker": {
          "color": "#00cc96",
          "pattern": {
           "shape": ""
          }
         },
         "name": "Intel",
         "orientation": "v",
         "showlegend": true,
         "type": "histogram",
         "x": {
          "bdata": "j8L1KFyPNUAAAAAAAAAAAMP1KFyPAkBACtejcD3qS0AAAAAAAAAAADMzMzMz8zVA16NwPQrXKkDNzMzMzKxDQFK4HoXrkTNAMzMzMzMzMkC4HoXrUTgmQJqZmZmZ2TZAUrgehetRJUAAAAAAAAAAAAAAAAAAAAAAZmZmZmamMUAAAAAAAAAAAHE9CtejEENA4XoUrkehN0AAAAAAAAAAAOF6FK5H4TNAAAAAAAAAAAB7FK5H4RpAQJqZmZmZGSdAAAAAAAAAAAAAAAAAAAAAAAAAAAAAAAAAAAAAAAAAAAAAAAAAAAAAAAAAAAAAAAAAAAAAAAAAAAAAAAAAAAAAAAAAAAAAAAAAAAAAAAAAAACuR+F6FC4gQAAAAAAAAAAAAAAAAAAAAABmZmZmZuZKQAAAAAAAADRAAAAAAAAAAAA=",
          "dtype": "f8"
         },
         "xaxis": "x",
         "yaxis": "y"
        },
        {
         "bingroup": "x",
         "hovertemplate": "categoria=Plus gold<br>descuento_%=%{x}<br>count=%{y}<extra></extra>",
         "legendgroup": "Plus gold",
         "marker": {
          "color": "#ab63fa",
          "pattern": {
           "shape": ""
          }
         },
         "name": "Plus gold",
         "orientation": "v",
         "showlegend": true,
         "type": "histogram",
         "x": {
          "bdata": "AAAAAAAAAAAAAAAAAAAAAAAAAAAAAAAAAAAAAAAAAAAAAAAAAAAAAAAAAAAAAAAAAAAAAAAAAAAAAAAAAAAAAAAAAAAAAAAAAAAAAAAAAAAAAAAAAAAAAAAAAAAAAAAAAAAAAAAAAAD2KFyPwvUvQAAAAAAAAAAAhetRuB7FMUAAAAAAAAAAAAAAAAAAAAAAAAAAAAAAAAAAAAAAAAAAAAAAAAAAAAAA",
          "dtype": "f8"
         },
         "xaxis": "x",
         "yaxis": "y"
        },
        {
         "bingroup": "x",
         "hovertemplate": "categoria=Tarjetas de sonido<br>descuento_%=%{x}<br>count=%{y}<extra></extra>",
         "legendgroup": "Tarjetas de sonido",
         "marker": {
          "color": "#FFA15A",
          "pattern": {
           "shape": ""
          }
         },
         "name": "Tarjetas de sonido",
         "orientation": "v",
         "showlegend": true,
         "type": "histogram",
         "x": {
          "bdata": "AAAAAAAAAAAAAAAAAAAAAAAAAAAAAAAAAAAAAAAAAADsUbgeheszQAAAAAAAAAAAAAAAAAAAAAAAAAAAAAAAAAAAAAAAAAAAAAAAAAAAAAAAAAAAAAAAAAAAAAAAAAAAAAAAAAAAAAAAAAAAAAAAAAAAAAAAAAAAAAAAAAAAAAAAAAAAAAAAAAAAAAAAAAAAAAAAAAAAAADXo3A9CpdMQAAAAAAAAAAAAAAAAAAAAAAAAAAAAAAAAAAAAAAAAAAAAAAAAAAAAAAAAAAAAAAAAHsUrkfhujFAAAAAAAAAAAAAAAAAAAAAAAAAAAAAAAAAAAAAAAAAAAAAAAAAAAAAAAAAAAAAAAAAAAAAAAAAAAAAAAAAAAAAALgehetROCZAAAAAAAAAAAD2KFyPwvUiQAAAAAAAAAAASOF6FK6HXUA=",
          "dtype": "f8"
         },
         "xaxis": "x",
         "yaxis": "y"
        },
        {
         "bingroup": "x",
         "hovertemplate": "categoria=Fuentes de alimentación<br>descuento_%=%{x}<br>count=%{y}<extra></extra>",
         "legendgroup": "Fuentes de alimentación",
         "marker": {
          "color": "#19d3f3",
          "pattern": {
           "shape": ""
          }
         },
         "name": "Fuentes de alimentación",
         "orientation": "v",
         "showlegend": true,
         "type": "histogram",
         "x": {
          "bdata": "AAAAAAAAAAAUrkfhepQsQAAAAAAAAAAAAAAAAAAAAACuR+F6FK4iQI/C9ShcDyVAAAAAAAAANEAAAAAAAAAAAIXrUbgehTJAAAAAAAAAAAAAAAAAAAAAAEjhehSuRyVArkfhehQuJEAK16NwPYo3QAAAAAAAAAAAAAAAAAAAAAAAAAAAAAAAAAAAAAAAAAAAAAAAAAAAAAAAAAAAAAAAAAAAAAAAAAAAAAAAAAAAAAA=",
          "dtype": "f8"
         },
         "xaxis": "x",
         "yaxis": "y"
        },
        {
         "bingroup": "x",
         "hovertemplate": "categoria=Discos duros internos<br>descuento_%=%{x}<br>count=%{y}<extra></extra>",
         "legendgroup": "Discos duros internos",
         "marker": {
          "color": "#FF6692",
          "pattern": {
           "shape": ""
          }
         },
         "name": "Discos duros internos",
         "orientation": "v",
         "showlegend": true,
         "type": "histogram",
         "x": {
          "bdata": "uB6F61H4MEBxPQrXo7A7QFyPwvUo3ChAAAAAAAAAAAAAAAAAAAAAAAAAAAAAAAAAMzMzMzPzO0AAAAAAAAAAAAAAAAAAAAAAFK5H4XoUI0DD9Shcj4IyQMP1KFyPAj1AAAAAAAAAAAAAAAAAAAAAAAAAAAAAAAAAAAAAAAAAAAAAAAAAAAAAAMP1KFyPAjNAAAAAAAAAAAAAAAAAAAAAAAAAAAAAAAAAAAAAAAAAAAAAAAAAAAAAAAAAAAAAAAAAAAAAAAAAAAAAAAAAAAAAAAAAAAAAAAAAAAAAAAAAAAAAAAAAAAAAAAAAAAAAAAAA7FG4HoVrQkAAAAAAAAAAAAAAAAAAAAAAAAAAAAAAAAAAAAAAAAAAAArXo3A9ChxAAAAAAAAAAAA=",
          "dtype": "f8"
         },
         "xaxis": "x",
         "yaxis": "y"
        },
        {
         "bingroup": "x",
         "hovertemplate": "categoria=Capturadoras<br>descuento_%=%{x}<br>count=%{y}<extra></extra>",
         "legendgroup": "Capturadoras",
         "marker": {
          "color": "#B6E880",
          "pattern": {
           "shape": ""
          }
         },
         "name": "Capturadoras",
         "orientation": "v",
         "showlegend": true,
         "type": "histogram",
         "x": {
          "bdata": "XI/C9SjcIEDsUbgehWshQAAAAAAAAAAAKVyPwvWoIEDsUbgehWshQAAAAAAAAAAArkfhehSOQ0DXo3A9CgdZQMP1KFyPslZAAAAAAAAANEAAAAAAAAAAAAAAAAAAAAAAAAAAAACAK0CPwvUoXE8xQOxRuB6F6x5AAAAAAAAAAAAAAAAAAAAAAAAAAAAAAAAAFK5H4Xr0QEAAAAAAAAAAAAAAAAAAAAAAAAAAAAAAAAAAAAAAAAAAAA==",
          "dtype": "f8"
         },
         "xaxis": "x",
         "yaxis": "y"
        },
        {
         "bingroup": "x",
         "hovertemplate": "categoria=Discos duros<br>descuento_%=%{x}<br>count=%{y}<extra></extra>",
         "legendgroup": "Discos duros",
         "marker": {
          "color": "#FF97FF",
          "pattern": {
           "shape": ""
          }
         },
         "name": "Discos duros",
         "orientation": "v",
         "showlegend": true,
         "type": "histogram",
         "x": {
          "bdata": "AAAAAADAMUA9CtejcB1DQAAAAAAAAAAAFK5H4XqUMkDXo3A9CpdBQAAAAAAAAAAAzczMzMyMWEAzMzMzMxNXQIXrUbgeRTNACtejcD3KMUBmZmZmZmYgQAAAAAAAIENASOF6FK6HMUApXI/C9SgrQLgehetRuC5AAAAAAAAAAACPwvUoXC9DQPYoXI/CNTNAAAAAAAAAAAAAAAAAAAAAAHsUrkfhCmFAAAAAAAAAAAAAAAAAAAAAAFK4HoXr0TdA7FG4HoWrQEAAAAAAAAAAAK5H4XoULj1AcT0K16OQQkAAAAAAAAAAAAAAAAAAAAAAAAAAAAAAAAAAAAAAAAAAAAAAAAAAAAAA9ihcj8JVQEAAAAAAAAAAAAAAAAAAAAAAAAAAAAAAAAAAAAAAAAAAAI/C9ShczzpAKVyPwvWoJEA=",
          "dtype": "f8"
         },
         "xaxis": "x",
         "yaxis": "y"
        },
        {
         "bingroup": "x",
         "hovertemplate": "categoria=Arduino<br>descuento_%=%{x}<br>count=%{y}<extra></extra>",
         "legendgroup": "Arduino",
         "marker": {
          "color": "#FECB52",
          "pattern": {
           "shape": ""
          }
         },
         "name": "Arduino",
         "orientation": "v",
         "showlegend": true,
         "type": "histogram",
         "x": {
          "bdata": "AAAAAAAAAADhehSuR0FIQM3MzMzMDDdAAAAAAAAAAAAAAAAAAAAAAAAAAAAAAAAAAAAAAAAAAAAAAAAAAAAAAAAAAAAAAAAAAAAAAAAAAAAAAAAAAAAAAAAAAAAAAAAAAAAAAAAAAADhehSuR0FQQD0K16NwvUxAAAAAAAAAAAA9CtejcP1JQAAAAAAAAAAAAAAAAAAAAAAAAAAAAAAAAAAAAAAAIExAAAAAAAAAAAAAAAAAAAAAAOF6FK5HIU5AAAAAAAAAAAAAAAAAAAAAAAAAAAAAAAAAAAAAAAAAAAAAAAAAAAAAAAAAAAAAAAAAAAAAAAAAAAAAAAAAAAAAAAAAAAAAAAAAcT0K16NQRkAAAAAAAAAAAAAAAAAAAAAASOF6FK7HOkBSuB6F61EtQOF6FK5HIVRAAAAAAAAAAAA=",
          "dtype": "f8"
         },
         "xaxis": "x",
         "yaxis": "y"
        },
        {
         "bingroup": "x",
         "hovertemplate": "categoria=RAM<br>descuento_%=%{x}<br>count=%{y}<extra></extra>",
         "legendgroup": "RAM",
         "marker": {
          "color": "#636efa",
          "pattern": {
           "shape": ""
          }
         },
         "name": "RAM",
         "orientation": "v",
         "showlegend": true,
         "type": "histogram",
         "x": {
          "bdata": "AAAAAAAAAAAAAAAAAAAAANejcD0K10tAAAAAAAAAAAAAAAAAAAAAAAAAAAAAAAAAAAAAAAAAAADD9Shcj8IeQM3MzMzMzClAAAAAAAAAAAAAAAAAAAAAAJqZmZmZGSFAAAAAAAAAAAAAAAAAAAAAAAAAAAAAAAAAAAAAAAAAAAAAAAAAAAAAAAAAAAAAAAAAAAAAAAAAAAAAAAAAAAAAAAAAAAAAAAAAAAAAAAAAAAAAAAAAAAAAAAAAAAAAAAAAAAAAAAAAAADNzMzMzMwiQAAAAAAAAAAAAAAAAAAAAAAAAAAAAAAAAAAAAAAAACRAAAAAAAAAAAAAAAAAAAAAAAAAAAAAAAAAAAAAAAAAAAAAAAAAAAAAAHsUrkfhejdAzczMzMzMSUAAAAAAAAAAADMzMzMzMxxAAAAAAAAAAAA=",
          "dtype": "f8"
         },
         "xaxis": "x",
         "yaxis": "y"
        },
        {
         "bingroup": "x",
         "hovertemplate": "categoria=Plus bronze<br>descuento_%=%{x}<br>count=%{y}<extra></extra>",
         "legendgroup": "Plus bronze",
         "marker": {
          "color": "#EF553B",
          "pattern": {
           "shape": ""
          }
         },
         "name": "Plus bronze",
         "orientation": "v",
         "showlegend": true,
         "type": "histogram",
         "x": {
          "bdata": "ZmZmZmZmIUAAAAAAAAAAAOxRuB6FayFA4XoUrkcBT0Bcj8L1KFwgQAAAAAAAAAAAH4XrUbheMEAAAAAAAAApQFK4HoXr0SVAj8L1KFwPJEBmZmZmZmYwQPYoXI/CdSlAhetRuB6FJUBxPQrXozAyQK5H4XoUriZASOF6FK7HMUAAAAAAAAAAAAAAAAAAADRAAAAAAAAAAADXo3A9CndCQAAAAAAAAAAAAAAAAAAAAAAAAAAAAAAAAAAAAAAAAAAAAAAAAAAAAADsUbgehas4QAAAAAAAAAAApHA9CtcjL0AAAAAAAAAAAAAAAAAAAAAAAAAAAAAAAAAAAAAAAAAAAAAAAAAAAAAAAAAAAAAAAAAAAAAAAAAAAAAAAAAAAAAAAAAAAAAAAAAAAAAAAAAAAAAAAAAAAAAAAAAAAAAAAAA=",
          "dtype": "f8"
         },
         "xaxis": "x",
         "yaxis": "y"
        },
        {
         "bingroup": "x",
         "hovertemplate": "categoria=Grabadoras<br>descuento_%=%{x}<br>count=%{y}<extra></extra>",
         "legendgroup": "Grabadoras",
         "marker": {
          "color": "#00cc96",
          "pattern": {
           "shape": ""
          }
         },
         "name": "Grabadoras",
         "orientation": "v",
         "showlegend": true,
         "type": "histogram",
         "x": {
          "bdata": "j8L1KFyPHkAAAAAAAAAAAAAAAAAAAAAAj8L1KFyPHkAAAAAAAAAAAAAAAAAAAAAAAAAAAAAAAAAAAAAAAAAAAAAAAAAAAAAAAAAAAAAAAAAAAAAAAAAAAAAAAAAAAAAApHA9CteDREAAAAAAAAAAAAAAAAAAAAAAAAAAAAAAAAAAAAAAAAAAAAAAAAAAAAAAAAAAAAAAAAAAAAAAAAAAAAAAAAAAAAAAAAAAAAAAAAAAAAAAAAAAAMP1KFyPAjRAAAAAAAAAAAAAAAAAAAAAAAAAAAAAAAAAAAAAAAAAAAAAAAAAAAAAAA==",
          "dtype": "f8"
         },
         "xaxis": "x",
         "yaxis": "y"
        },
        {
         "bingroup": "x",
         "hovertemplate": "categoria=Plus titanium<br>descuento_%=%{x}<br>count=%{y}<extra></extra>",
         "legendgroup": "Plus titanium",
         "marker": {
          "color": "#ab63fa",
          "pattern": {
           "shape": ""
          }
         },
         "name": "Plus titanium",
         "orientation": "v",
         "showlegend": true,
         "type": "histogram",
         "x": {
          "bdata": "AAAAAAAAAAAAAAAAAAAAAAAAAAAAAAAAAAAAAAAAAAAAAAAAAAAAAAAAAAAAAAAAAAAAAAAAAAAAAAAAAAAAAAAAAAAAAAAAAAAAAAAAAAAAAAAAAAAAAAAAAAAAAAAAAAAAAAAAAAAAAAAAAAAAAAAAAAAAAAAAAAAAAAAAAAAAAAAAAAAAAAAAAAAAAAAAAAAAAAAAAAAAAAAAAAAAAAAAAAAAAAAA",
          "dtype": "f8"
         },
         "xaxis": "x",
         "yaxis": "y"
        }
       ],
       "layout": {
        "barmode": "relative",
        "legend": {
         "title": {
          "text": "categoria"
         },
         "tracegroupgap": 0
        },
        "template": {
         "data": {
          "bar": [
           {
            "error_x": {
             "color": "#f2f5fa"
            },
            "error_y": {
             "color": "#f2f5fa"
            },
            "marker": {
             "line": {
              "color": "rgb(17,17,17)",
              "width": 0.5
             },
             "pattern": {
              "fillmode": "overlay",
              "size": 10,
              "solidity": 0.2
             }
            },
            "type": "bar"
           }
          ],
          "barpolar": [
           {
            "marker": {
             "line": {
              "color": "rgb(17,17,17)",
              "width": 0.5
             },
             "pattern": {
              "fillmode": "overlay",
              "size": 10,
              "solidity": 0.2
             }
            },
            "type": "barpolar"
           }
          ],
          "carpet": [
           {
            "aaxis": {
             "endlinecolor": "#A2B1C6",
             "gridcolor": "#506784",
             "linecolor": "#506784",
             "minorgridcolor": "#506784",
             "startlinecolor": "#A2B1C6"
            },
            "baxis": {
             "endlinecolor": "#A2B1C6",
             "gridcolor": "#506784",
             "linecolor": "#506784",
             "minorgridcolor": "#506784",
             "startlinecolor": "#A2B1C6"
            },
            "type": "carpet"
           }
          ],
          "choropleth": [
           {
            "colorbar": {
             "outlinewidth": 0,
             "ticks": ""
            },
            "type": "choropleth"
           }
          ],
          "contour": [
           {
            "colorbar": {
             "outlinewidth": 0,
             "ticks": ""
            },
            "colorscale": [
             [
              0,
              "#0d0887"
             ],
             [
              0.1111111111111111,
              "#46039f"
             ],
             [
              0.2222222222222222,
              "#7201a8"
             ],
             [
              0.3333333333333333,
              "#9c179e"
             ],
             [
              0.4444444444444444,
              "#bd3786"
             ],
             [
              0.5555555555555556,
              "#d8576b"
             ],
             [
              0.6666666666666666,
              "#ed7953"
             ],
             [
              0.7777777777777778,
              "#fb9f3a"
             ],
             [
              0.8888888888888888,
              "#fdca26"
             ],
             [
              1,
              "#f0f921"
             ]
            ],
            "type": "contour"
           }
          ],
          "contourcarpet": [
           {
            "colorbar": {
             "outlinewidth": 0,
             "ticks": ""
            },
            "type": "contourcarpet"
           }
          ],
          "heatmap": [
           {
            "colorbar": {
             "outlinewidth": 0,
             "ticks": ""
            },
            "colorscale": [
             [
              0,
              "#0d0887"
             ],
             [
              0.1111111111111111,
              "#46039f"
             ],
             [
              0.2222222222222222,
              "#7201a8"
             ],
             [
              0.3333333333333333,
              "#9c179e"
             ],
             [
              0.4444444444444444,
              "#bd3786"
             ],
             [
              0.5555555555555556,
              "#d8576b"
             ],
             [
              0.6666666666666666,
              "#ed7953"
             ],
             [
              0.7777777777777778,
              "#fb9f3a"
             ],
             [
              0.8888888888888888,
              "#fdca26"
             ],
             [
              1,
              "#f0f921"
             ]
            ],
            "type": "heatmap"
           }
          ],
          "histogram": [
           {
            "marker": {
             "pattern": {
              "fillmode": "overlay",
              "size": 10,
              "solidity": 0.2
             }
            },
            "type": "histogram"
           }
          ],
          "histogram2d": [
           {
            "colorbar": {
             "outlinewidth": 0,
             "ticks": ""
            },
            "colorscale": [
             [
              0,
              "#0d0887"
             ],
             [
              0.1111111111111111,
              "#46039f"
             ],
             [
              0.2222222222222222,
              "#7201a8"
             ],
             [
              0.3333333333333333,
              "#9c179e"
             ],
             [
              0.4444444444444444,
              "#bd3786"
             ],
             [
              0.5555555555555556,
              "#d8576b"
             ],
             [
              0.6666666666666666,
              "#ed7953"
             ],
             [
              0.7777777777777778,
              "#fb9f3a"
             ],
             [
              0.8888888888888888,
              "#fdca26"
             ],
             [
              1,
              "#f0f921"
             ]
            ],
            "type": "histogram2d"
           }
          ],
          "histogram2dcontour": [
           {
            "colorbar": {
             "outlinewidth": 0,
             "ticks": ""
            },
            "colorscale": [
             [
              0,
              "#0d0887"
             ],
             [
              0.1111111111111111,
              "#46039f"
             ],
             [
              0.2222222222222222,
              "#7201a8"
             ],
             [
              0.3333333333333333,
              "#9c179e"
             ],
             [
              0.4444444444444444,
              "#bd3786"
             ],
             [
              0.5555555555555556,
              "#d8576b"
             ],
             [
              0.6666666666666666,
              "#ed7953"
             ],
             [
              0.7777777777777778,
              "#fb9f3a"
             ],
             [
              0.8888888888888888,
              "#fdca26"
             ],
             [
              1,
              "#f0f921"
             ]
            ],
            "type": "histogram2dcontour"
           }
          ],
          "mesh3d": [
           {
            "colorbar": {
             "outlinewidth": 0,
             "ticks": ""
            },
            "type": "mesh3d"
           }
          ],
          "parcoords": [
           {
            "line": {
             "colorbar": {
              "outlinewidth": 0,
              "ticks": ""
             }
            },
            "type": "parcoords"
           }
          ],
          "pie": [
           {
            "automargin": true,
            "type": "pie"
           }
          ],
          "scatter": [
           {
            "marker": {
             "line": {
              "color": "#283442"
             }
            },
            "type": "scatter"
           }
          ],
          "scatter3d": [
           {
            "line": {
             "colorbar": {
              "outlinewidth": 0,
              "ticks": ""
             }
            },
            "marker": {
             "colorbar": {
              "outlinewidth": 0,
              "ticks": ""
             }
            },
            "type": "scatter3d"
           }
          ],
          "scattercarpet": [
           {
            "marker": {
             "colorbar": {
              "outlinewidth": 0,
              "ticks": ""
             }
            },
            "type": "scattercarpet"
           }
          ],
          "scattergeo": [
           {
            "marker": {
             "colorbar": {
              "outlinewidth": 0,
              "ticks": ""
             }
            },
            "type": "scattergeo"
           }
          ],
          "scattergl": [
           {
            "marker": {
             "line": {
              "color": "#283442"
             }
            },
            "type": "scattergl"
           }
          ],
          "scattermap": [
           {
            "marker": {
             "colorbar": {
              "outlinewidth": 0,
              "ticks": ""
             }
            },
            "type": "scattermap"
           }
          ],
          "scattermapbox": [
           {
            "marker": {
             "colorbar": {
              "outlinewidth": 0,
              "ticks": ""
             }
            },
            "type": "scattermapbox"
           }
          ],
          "scatterpolar": [
           {
            "marker": {
             "colorbar": {
              "outlinewidth": 0,
              "ticks": ""
             }
            },
            "type": "scatterpolar"
           }
          ],
          "scatterpolargl": [
           {
            "marker": {
             "colorbar": {
              "outlinewidth": 0,
              "ticks": ""
             }
            },
            "type": "scatterpolargl"
           }
          ],
          "scatterternary": [
           {
            "marker": {
             "colorbar": {
              "outlinewidth": 0,
              "ticks": ""
             }
            },
            "type": "scatterternary"
           }
          ],
          "surface": [
           {
            "colorbar": {
             "outlinewidth": 0,
             "ticks": ""
            },
            "colorscale": [
             [
              0,
              "#0d0887"
             ],
             [
              0.1111111111111111,
              "#46039f"
             ],
             [
              0.2222222222222222,
              "#7201a8"
             ],
             [
              0.3333333333333333,
              "#9c179e"
             ],
             [
              0.4444444444444444,
              "#bd3786"
             ],
             [
              0.5555555555555556,
              "#d8576b"
             ],
             [
              0.6666666666666666,
              "#ed7953"
             ],
             [
              0.7777777777777778,
              "#fb9f3a"
             ],
             [
              0.8888888888888888,
              "#fdca26"
             ],
             [
              1,
              "#f0f921"
             ]
            ],
            "type": "surface"
           }
          ],
          "table": [
           {
            "cells": {
             "fill": {
              "color": "#506784"
             },
             "line": {
              "color": "rgb(17,17,17)"
             }
            },
            "header": {
             "fill": {
              "color": "#2a3f5f"
             },
             "line": {
              "color": "rgb(17,17,17)"
             }
            },
            "type": "table"
           }
          ]
         },
         "layout": {
          "annotationdefaults": {
           "arrowcolor": "#f2f5fa",
           "arrowhead": 0,
           "arrowwidth": 1
          },
          "autotypenumbers": "strict",
          "coloraxis": {
           "colorbar": {
            "outlinewidth": 0,
            "ticks": ""
           }
          },
          "colorscale": {
           "diverging": [
            [
             0,
             "#8e0152"
            ],
            [
             0.1,
             "#c51b7d"
            ],
            [
             0.2,
             "#de77ae"
            ],
            [
             0.3,
             "#f1b6da"
            ],
            [
             0.4,
             "#fde0ef"
            ],
            [
             0.5,
             "#f7f7f7"
            ],
            [
             0.6,
             "#e6f5d0"
            ],
            [
             0.7,
             "#b8e186"
            ],
            [
             0.8,
             "#7fbc41"
            ],
            [
             0.9,
             "#4d9221"
            ],
            [
             1,
             "#276419"
            ]
           ],
           "sequential": [
            [
             0,
             "#0d0887"
            ],
            [
             0.1111111111111111,
             "#46039f"
            ],
            [
             0.2222222222222222,
             "#7201a8"
            ],
            [
             0.3333333333333333,
             "#9c179e"
            ],
            [
             0.4444444444444444,
             "#bd3786"
            ],
            [
             0.5555555555555556,
             "#d8576b"
            ],
            [
             0.6666666666666666,
             "#ed7953"
            ],
            [
             0.7777777777777778,
             "#fb9f3a"
            ],
            [
             0.8888888888888888,
             "#fdca26"
            ],
            [
             1,
             "#f0f921"
            ]
           ],
           "sequentialminus": [
            [
             0,
             "#0d0887"
            ],
            [
             0.1111111111111111,
             "#46039f"
            ],
            [
             0.2222222222222222,
             "#7201a8"
            ],
            [
             0.3333333333333333,
             "#9c179e"
            ],
            [
             0.4444444444444444,
             "#bd3786"
            ],
            [
             0.5555555555555556,
             "#d8576b"
            ],
            [
             0.6666666666666666,
             "#ed7953"
            ],
            [
             0.7777777777777778,
             "#fb9f3a"
            ],
            [
             0.8888888888888888,
             "#fdca26"
            ],
            [
             1,
             "#f0f921"
            ]
           ]
          },
          "colorway": [
           "#636efa",
           "#EF553B",
           "#00cc96",
           "#ab63fa",
           "#FFA15A",
           "#19d3f3",
           "#FF6692",
           "#B6E880",
           "#FF97FF",
           "#FECB52"
          ],
          "font": {
           "color": "#f2f5fa"
          },
          "geo": {
           "bgcolor": "rgb(17,17,17)",
           "lakecolor": "rgb(17,17,17)",
           "landcolor": "rgb(17,17,17)",
           "showlakes": true,
           "showland": true,
           "subunitcolor": "#506784"
          },
          "hoverlabel": {
           "align": "left"
          },
          "hovermode": "closest",
          "mapbox": {
           "style": "dark"
          },
          "paper_bgcolor": "rgb(17,17,17)",
          "plot_bgcolor": "rgb(17,17,17)",
          "polar": {
           "angularaxis": {
            "gridcolor": "#506784",
            "linecolor": "#506784",
            "ticks": ""
           },
           "bgcolor": "rgb(17,17,17)",
           "radialaxis": {
            "gridcolor": "#506784",
            "linecolor": "#506784",
            "ticks": ""
           }
          },
          "scene": {
           "xaxis": {
            "backgroundcolor": "rgb(17,17,17)",
            "gridcolor": "#506784",
            "gridwidth": 2,
            "linecolor": "#506784",
            "showbackground": true,
            "ticks": "",
            "zerolinecolor": "#C8D4E3"
           },
           "yaxis": {
            "backgroundcolor": "rgb(17,17,17)",
            "gridcolor": "#506784",
            "gridwidth": 2,
            "linecolor": "#506784",
            "showbackground": true,
            "ticks": "",
            "zerolinecolor": "#C8D4E3"
           },
           "zaxis": {
            "backgroundcolor": "rgb(17,17,17)",
            "gridcolor": "#506784",
            "gridwidth": 2,
            "linecolor": "#506784",
            "showbackground": true,
            "ticks": "",
            "zerolinecolor": "#C8D4E3"
           }
          },
          "shapedefaults": {
           "line": {
            "color": "#f2f5fa"
           }
          },
          "sliderdefaults": {
           "bgcolor": "#C8D4E3",
           "bordercolor": "rgb(17,17,17)",
           "borderwidth": 1,
           "tickwidth": 0
          },
          "ternary": {
           "aaxis": {
            "gridcolor": "#506784",
            "linecolor": "#506784",
            "ticks": ""
           },
           "baxis": {
            "gridcolor": "#506784",
            "linecolor": "#506784",
            "ticks": ""
           },
           "bgcolor": "rgb(17,17,17)",
           "caxis": {
            "gridcolor": "#506784",
            "linecolor": "#506784",
            "ticks": ""
           }
          },
          "title": {
           "x": 0.05
          },
          "updatemenudefaults": {
           "bgcolor": "#506784",
           "borderwidth": 0
          },
          "xaxis": {
           "automargin": true,
           "gridcolor": "#283442",
           "linecolor": "#506784",
           "ticks": "",
           "title": {
            "standoff": 15
           },
           "zerolinecolor": "#283442",
           "zerolinewidth": 2
          },
          "yaxis": {
           "automargin": true,
           "gridcolor": "#283442",
           "linecolor": "#506784",
           "ticks": "",
           "title": {
            "standoff": 15
           },
           "zerolinecolor": "#283442",
           "zerolinewidth": 2
          }
         }
        },
        "title": {
         "text": "Histograma de Descuento por Categoría"
        },
        "xaxis": {
         "anchor": "y",
         "domain": [
          0,
          1
         ],
         "title": {
          "text": "descuento_%"
         }
        },
        "yaxis": {
         "anchor": "x",
         "domain": [
          0,
          1
         ],
         "title": {
          "text": "count"
         }
        }
       }
      }
     },
     "metadata": {},
     "output_type": "display_data"
    }
   ],
   "source": [
    "px.histogram(data_frame = df_componentes,\n",
    "                x          = \"descuento_%\",\n",
    "                color      = \"categoria\",\n",
    "                title      = \"Histograma de Descuento por Categoría\",\n",
    "                template   = \"plotly_dark\")"
   ]
  },
  {
   "cell_type": "code",
   "execution_count": null,
   "metadata": {},
   "outputs": [],
   "source": []
  }
 ],
 "metadata": {
  "kernelspec": {
   "display_name": "Python 3",
   "language": "python",
   "name": "python3"
  },
  "language_info": {
   "codemirror_mode": {
    "name": "ipython",
    "version": 3
   },
   "file_extension": ".py",
   "mimetype": "text/x-python",
   "name": "python",
   "nbconvert_exporter": "python",
   "pygments_lexer": "ipython3",
   "version": "3.13.0"
  }
 },
 "nbformat": 4,
 "nbformat_minor": 2
}
